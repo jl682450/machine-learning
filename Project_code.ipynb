{
 "cells": [
  {
   "cell_type": "markdown",
   "metadata": {},
   "source": [
    "<h2>Final Project</h2>"
   ]
  },
  {
   "cell_type": "markdown",
   "metadata": {},
   "source": [
    "<h2> Importing Libraries </h2>"
   ]
  },
  {
   "cell_type": "code",
   "execution_count": 129,
   "metadata": {},
   "outputs": [
    {
     "name": "stderr",
     "output_type": "stream",
     "text": [
      "[nltk_data] Downloading package stopwords to /Users/j/nltk_data...\n",
      "[nltk_data]   Package stopwords is already up-to-date!\n"
     ]
    }
   ],
   "source": [
    "import pandas as pd\n",
    "import re\n",
    "import numpy as np\n",
    "import nltk\n",
    "nltk.download('stopwords')\n",
    "from nltk.corpus import stopwords\n",
    "from nltk.stem import WordNetLemmatizer\n",
    "from matplotlib import pyplot\n",
    "import matplotlib.pyplot as plt\n",
    "from wordcloud import WordCloud\n",
    "import chart_studio.plotly as py\n",
    "import plotly.graph_objs as go\n",
    "from plotly.offline import init_notebook_mode, iplot\n",
    "from sklearn.preprocessing import LabelEncoder\n",
    "from sklearn.feature_extraction.text import CountVectorizer\n",
    "from sklearn.feature_extraction.text import TfidfVectorizer\n",
    "from sklearn.neighbors import KNeighborsClassifier\n",
    "from sklearn.naive_bayes import GaussianNB, MultinomialNB, BernoulliNB\n",
    "from sklearn.ensemble import RandomForestClassifier\n",
    "from sklearn.svm import SVC\n",
    "from sklearn.linear_model import LogisticRegression\n",
    "from sklearn import metrics\n",
    "from sklearn.metrics import f1_score, accuracy_score, confusion_matrix, precision_score, recall_score\n",
    "from sklearn.model_selection import train_test_split\n",
    "from sklearn.cluster import KMeans\n",
    "from sklearn.metrics.cluster import homogeneity_score, v_measure_score, completeness_score\n",
    "from sklearn.model_selection import RandomizedSearchCV\n",
    "import seaborn as sn\n",
    "from imblearn.over_sampling import SMOTE\n",
    "import scipy as scp"
   ]
  },
  {
   "cell_type": "markdown",
   "metadata": {},
   "source": [
    "<h2> Reading the dataset </h2>"
   ]
  },
  {
   "cell_type": "code",
   "execution_count": 130,
   "metadata": {},
   "outputs": [
    {
     "data": {
      "text/html": [
       "<div>\n",
       "<style scoped>\n",
       "    .dataframe tbody tr th:only-of-type {\n",
       "        vertical-align: middle;\n",
       "    }\n",
       "\n",
       "    .dataframe tbody tr th {\n",
       "        vertical-align: top;\n",
       "    }\n",
       "\n",
       "    .dataframe thead th {\n",
       "        text-align: right;\n",
       "    }\n",
       "</style>\n",
       "<table border=\"1\" class=\"dataframe\">\n",
       "  <thead>\n",
       "    <tr style=\"text-align: right;\">\n",
       "      <th></th>\n",
       "      <th>Review</th>\n",
       "      <th>Title</th>\n",
       "      <th>Text</th>\n",
       "    </tr>\n",
       "  </thead>\n",
       "  <tbody>\n",
       "    <tr>\n",
       "      <td>0</td>\n",
       "      <td>3</td>\n",
       "      <td>more like funchuck</td>\n",
       "      <td>Gave this to my dad for a gag gift after direc...</td>\n",
       "    </tr>\n",
       "    <tr>\n",
       "      <td>1</td>\n",
       "      <td>5</td>\n",
       "      <td>Inspiring</td>\n",
       "      <td>I hope a lot of people hear this cd. We need m...</td>\n",
       "    </tr>\n",
       "    <tr>\n",
       "      <td>2</td>\n",
       "      <td>5</td>\n",
       "      <td>The best soundtrack ever to anything.</td>\n",
       "      <td>I'm reading a lot of reviews saying that this ...</td>\n",
       "    </tr>\n",
       "    <tr>\n",
       "      <td>3</td>\n",
       "      <td>4</td>\n",
       "      <td>Chrono Cross OST</td>\n",
       "      <td>The music of Yasunori Misuda is without questi...</td>\n",
       "    </tr>\n",
       "    <tr>\n",
       "      <td>4</td>\n",
       "      <td>5</td>\n",
       "      <td>Too good to be true</td>\n",
       "      <td>Probably the greatest soundtrack in history! U...</td>\n",
       "    </tr>\n",
       "  </tbody>\n",
       "</table>\n",
       "</div>"
      ],
      "text/plain": [
       "   Review                                  Title  \\\n",
       "0       3                     more like funchuck   \n",
       "1       5                              Inspiring   \n",
       "2       5  The best soundtrack ever to anything.   \n",
       "3       4                       Chrono Cross OST   \n",
       "4       5                    Too good to be true   \n",
       "\n",
       "                                                Text  \n",
       "0  Gave this to my dad for a gag gift after direc...  \n",
       "1  I hope a lot of people hear this cd. We need m...  \n",
       "2  I'm reading a lot of reviews saying that this ...  \n",
       "3  The music of Yasunori Misuda is without questi...  \n",
       "4  Probably the greatest soundtrack in history! U...  "
      ]
     },
     "execution_count": 130,
     "metadata": {},
     "output_type": "execute_result"
    }
   ],
   "source": [
    "dataset = pd.read_csv(\"train.csv\",names=[\"Review\", \"Title\", \"Text\"], nrows=5000)\n",
    "dataset.head()"
   ]
  },
  {
   "cell_type": "code",
   "execution_count": 131,
   "metadata": {},
   "outputs": [
    {
     "data": {
      "text/plain": [
       "Review    0\n",
       "Title     0\n",
       "Text      0\n",
       "dtype: int64"
      ]
     },
     "execution_count": 131,
     "metadata": {},
     "output_type": "execute_result"
    }
   ],
   "source": [
    "#Checking for null values in the dataset\n",
    "dataset.isnull().sum()"
   ]
  },
  {
   "cell_type": "code",
   "execution_count": 132,
   "metadata": {},
   "outputs": [],
   "source": [
    "#dropping the null values in the dataset\n",
    "dataset = dataset.dropna()"
   ]
  },
  {
   "cell_type": "markdown",
   "metadata": {},
   "source": [
    "<h2> Data Preprocessing </h2>"
   ]
  },
  {
   "cell_type": "markdown",
   "metadata": {},
   "source": [
    "<h3> Data cleaning and De-contraction of words</h3>"
   ]
  },
  {
   "cell_type": "code",
   "execution_count": 133,
   "metadata": {},
   "outputs": [],
   "source": [
    "#Using contraction function to perform data cleaning and decontraction of the word\n",
    "def contraction(text):\n",
    "    list1 = []\n",
    "    for i in text:\n",
    "        text = i.lower()\n",
    "        text = text.replace(\"’\", \"'\")\n",
    "        text = text.replace(\"’\", \"'\")\n",
    "        text = text.replace(\"“\", \"\")\n",
    "        text = text.replace(\"”\", \"\")\n",
    "        text = text.replace(\"ain't\", \"am not\")\n",
    "        text = text.replace(\"aren't\", \"are not\")\n",
    "        text = text.replace(\"can't\", \"can not\")\n",
    "        text = text.replace(\"can't've\", \"can not have\")\n",
    "        text = text.replace(\"'cause\", \"because\")\n",
    "        text = text.replace(\"could've\", \"could have\")\n",
    "        text = text.replace(\"couldn't\", \"could not\")\n",
    "        text = text.replace(\"couldn't've\", \"could not have\")\n",
    "        text = text.replace(\"didn't\", \"did not\")\n",
    "        text = text.replace(\"doesn't\", \"does not\")\n",
    "        text = text.replace(\"don't\", \"do not\")\n",
    "        text = text.replace(\"hadn't\", \"had not\")\n",
    "        text = text.replace(\"hadn't've\", \"had not have\")\n",
    "        text = text.replace(\"hasn't\", \"has not\")\n",
    "        text = text.replace(\"haven't\", \"have not\")\n",
    "        text = text.replace(\"he'd\", \"he had\")\n",
    "        text = text.replace(\"he'd've\", \"he would have\")\n",
    "        text = text.replace(\"he'll\", \"he will\")\n",
    "        text = text.replace(\"he'll've\", \"he will have\")\n",
    "        text = text.replace(\"he's\", \"he has\")\n",
    "        text = text.replace(\"how'd\", \"how did\")\n",
    "        text = text.replace(\"how'd'y\", \"how do you\")\n",
    "        text = text.replace(\"how'll\", \"how will\")\n",
    "        text = text.replace(\"how's\", \"how has\")\n",
    "        text = text.replace(\"i'd\", \"I had\")\n",
    "        text = text.replace(\"i'd've\", \"I would have\")\n",
    "        text = text.replace(\"i'll\", \"I shall\")\n",
    "        text = text.replace(\"i'll've\", \"I shall have\")\n",
    "        text = text.replace(\"i'm\", \"I am\")\n",
    "        text = text.replace(\"im \", \"I am\")\n",
    "        text = text.replace(\"i've\", \"I have\")\n",
    "        text = text.replace(\"isn't\", \"is not\")\n",
    "        text = text.replace(\"it'd\", \"it had\")\n",
    "        text = text.replace(\"it'd've\", \"it would have\")\n",
    "        text = text.replace(\"it'll\", \"it shall\")\n",
    "        text = text.replace(\"it'll've\", \"it shall have\")\n",
    "        text = text.replace(\"it's\", \"it has\")\n",
    "        text = text.replace(\"let's\", \"let us\")\n",
    "        text = text.replace(\"ma'am\", \"madam\")\n",
    "        text = text.replace(\"mayn't\", \"may not\")\n",
    "        text = text.replace(\"might've\", \"might have\")\n",
    "        text = text.replace(\"mightn't\", \"might not\")\n",
    "        text = text.replace(\"mightn't've\", \"might not have\")\n",
    "        text = text.replace(\"must've\", \"must have\")\n",
    "        text = text.replace(\"mustn't\", \"must not\")\n",
    "        text = text.replace(\"mustn't've\", \"must not have\")\n",
    "        text = text.replace(\"needn't\", \"need not\")\n",
    "        text = text.replace(\"needn't've\", \"need not have\")\n",
    "        text = text.replace(\"o'clock\", \"of the clock\")\n",
    "        text = text.replace(\"oughtn't\", \"ought not\")\n",
    "        text = text.replace(\"oughtn't've\", \"ought not have\")\n",
    "        text = text.replace(\"shan't\", \"shall not\")\n",
    "        text = text.replace(\"sha'n't\", \"shall not\")\n",
    "        text = text.replace(\"shan't've\", \"shall not have\")\n",
    "        text = text.replace(\"she'd\", \"she had\")\n",
    "        text = text.replace(\"she'd've\", \"she would have\")\n",
    "        text = text.replace(\"she'll\", \"she shall\")\n",
    "        text = text.replace(\"she'll've\", \"she shall have\")\n",
    "        text = text.replace(\"she's\", \"she has\")\n",
    "        text = text.replace(\"should've\", \"should have\")\n",
    "        text = text.replace(\"shouldn't\", \"should not\")\n",
    "        text = text.replace(\"shouldn't've\", \"should not have\")\n",
    "        text = text.replace(\"so've\", \"so have\")\n",
    "        text = text.replace(\"so's\", \"so as\")\n",
    "        text = text.replace(\"that'd\", \"that would\")\n",
    "        text = text.replace(\"that'd've\", \"that would have\")\n",
    "        text = text.replace(\"that's\", \"that has\")\n",
    "        text = text.replace(\"there'd\", \"there had\")\n",
    "        text = text.replace(\"there'd've\", \"there would have\")\n",
    "        text = text.replace(\"there's\", \"there has\")\n",
    "        text = text.replace(\"they'd\", \"they had\")\n",
    "        text = text.replace(\"they'd've\", \"they would have\")\n",
    "        text = text.replace(\"they'll\", \"they shall\")\n",
    "        text = text.replace(\"they'll've\", \"they shall have\")\n",
    "        text = text.replace(\"they're\", \"they are\")\n",
    "        text = text.replace(\"they've\", \"they have\")\n",
    "        text = text.replace(\"to've\", \"to have\")\n",
    "        text = text.replace(\"wasn't\", \"was not\")\n",
    "        text = text.replace(\"we'd\", \"we had\")\n",
    "        text = text.replace(\"we'd've\", \"we would have\")\n",
    "        text = text.replace(\"we'll\", \"we will\")\n",
    "        text = text.replace(\"we'll've\", \"we will have\")\n",
    "        text = text.replace(\"we're\", \"we are\")\n",
    "        text = text.replace(\"we've\", \"we have\")\n",
    "        text = text.replace(\"weren't\", \"were not\")\n",
    "        text = text.replace(\"what'll\", \"what shall\")\n",
    "        text = text.replace(\"what'll've\", \"what shall have\")\n",
    "        text = text.replace(\"what're\", \"what are\")\n",
    "        text = text.replace(\"what's\", \"what has\")\n",
    "        text = text.replace(\"what've\", \"what have\")\n",
    "        text = text.replace(\"when's\", \"when has\")\n",
    "        text = text.replace(\"when've\", \"when have\")\n",
    "        text = text.replace(\"where'd\", \"where did\")\n",
    "        text = text.replace(\"where's\", \"where has\")\n",
    "        text = text.replace(\"where've\", \"where have\")\n",
    "        text = text.replace(\"who'll\", \"who shall\")\n",
    "        text = text.replace(\"who'll've\", \"who shall have\")\n",
    "        text = text.replace(\"who's\", \"who has\")\n",
    "        text = text.replace(\"who've\", \"who have\")\n",
    "        text = text.replace(\"why's\", \"why has\")\n",
    "        text = text.replace(\"why've\", \"why have\")\n",
    "        text = text.replace(\"will've\", \"will have\")\n",
    "        text = text.replace(\"won't\", \"will not\")\n",
    "        text = text.replace(\"won't've\", \"will not have\")\n",
    "        text = text.replace(\"would've\", \"would have\")\n",
    "        text = text.replace(\"wouldn't\", \"would not\")\n",
    "        text = text.replace(\"wouldn't've\", \"would not have\")\n",
    "        text = text.replace(\"y'all\", \"you all\")\n",
    "        text = text.replace(\"y'all'd\", \"you all would\")\n",
    "        text = text.replace(\"y'all'd've\", \"you all would have\")\n",
    "        text = text.replace(\"y'all're\", \"you all are\")\n",
    "        text = text.replace(\"y'all've\", \"you all have\")\n",
    "        text = text.replace(\"you'd\", \"you had\")\n",
    "        text = text.replace(\"you'd've\", \"you would have\")\n",
    "        text = text.replace(\"you'll\", \"you shall\")\n",
    "        text = text.replace(\"you'll've\", \"you shall have\")\n",
    "        text = text.replace(\"you're\", \"you are\")\n",
    "        text = text.replace(\"you've\", \"you have\")\n",
    "        text = re.sub(r'[^a-zA-Z]+', ' ', text)\n",
    "        text = re.sub(r'(\\s){2,}', ' ', text)\n",
    "        text = re.sub(r'^\\s$', '', text)\n",
    "        text = re.sub(r'[m]{2,}', 'mm', text)\n",
    "        text = text.strip()\n",
    "        list1.append(text)\n",
    "    return list1"
   ]
  },
  {
   "cell_type": "code",
   "execution_count": 134,
   "metadata": {},
   "outputs": [
    {
     "data": {
      "text/html": [
       "<div>\n",
       "<style scoped>\n",
       "    .dataframe tbody tr th:only-of-type {\n",
       "        vertical-align: middle;\n",
       "    }\n",
       "\n",
       "    .dataframe tbody tr th {\n",
       "        vertical-align: top;\n",
       "    }\n",
       "\n",
       "    .dataframe thead th {\n",
       "        text-align: right;\n",
       "    }\n",
       "</style>\n",
       "<table border=\"1\" class=\"dataframe\">\n",
       "  <thead>\n",
       "    <tr style=\"text-align: right;\">\n",
       "      <th></th>\n",
       "      <th>Review</th>\n",
       "      <th>Title</th>\n",
       "      <th>Text</th>\n",
       "      <th>Text_1</th>\n",
       "    </tr>\n",
       "  </thead>\n",
       "  <tbody>\n",
       "    <tr>\n",
       "      <td>0</td>\n",
       "      <td>3</td>\n",
       "      <td>more like funchuck</td>\n",
       "      <td>Gave this to my dad for a gag gift after direc...</td>\n",
       "      <td>gave this to my dad for a gag gift after direc...</td>\n",
       "    </tr>\n",
       "    <tr>\n",
       "      <td>1</td>\n",
       "      <td>5</td>\n",
       "      <td>Inspiring</td>\n",
       "      <td>I hope a lot of people hear this cd. We need m...</td>\n",
       "      <td>i hope a lot of people hear this cd we need mo...</td>\n",
       "    </tr>\n",
       "    <tr>\n",
       "      <td>2</td>\n",
       "      <td>5</td>\n",
       "      <td>The best soundtrack ever to anything.</td>\n",
       "      <td>I'm reading a lot of reviews saying that this ...</td>\n",
       "      <td>I am reading a lot of reviews saying that this...</td>\n",
       "    </tr>\n",
       "    <tr>\n",
       "      <td>3</td>\n",
       "      <td>4</td>\n",
       "      <td>Chrono Cross OST</td>\n",
       "      <td>The music of Yasunori Misuda is without questi...</td>\n",
       "      <td>the music of yasunori misuda is without questi...</td>\n",
       "    </tr>\n",
       "    <tr>\n",
       "      <td>4</td>\n",
       "      <td>5</td>\n",
       "      <td>Too good to be true</td>\n",
       "      <td>Probably the greatest soundtrack in history! U...</td>\n",
       "      <td>probably the greatest soundtrack in history us...</td>\n",
       "    </tr>\n",
       "    <tr>\n",
       "      <td>...</td>\n",
       "      <td>...</td>\n",
       "      <td>...</td>\n",
       "      <td>...</td>\n",
       "      <td>...</td>\n",
       "    </tr>\n",
       "    <tr>\n",
       "      <td>4995</td>\n",
       "      <td>2</td>\n",
       "      <td>Waste oF $MONEY$</td>\n",
       "      <td>Waste Of Time &amp; Money... I found that if you w...</td>\n",
       "      <td>waste of time money i found that if you want t...</td>\n",
       "    </tr>\n",
       "    <tr>\n",
       "      <td>4996</td>\n",
       "      <td>4</td>\n",
       "      <td>trying to win better</td>\n",
       "      <td>This book cuts down the odds with a better cha...</td>\n",
       "      <td>this book cuts down the odds with a better cha...</td>\n",
       "    </tr>\n",
       "    <tr>\n",
       "      <td>4997</td>\n",
       "      <td>2</td>\n",
       "      <td>don\"t waste your money just buy the the lotter...</td>\n",
       "      <td>this book have almost the same information as ...</td>\n",
       "      <td>this book have almost the same information as ...</td>\n",
       "    </tr>\n",
       "    <tr>\n",
       "      <td>4998</td>\n",
       "      <td>2</td>\n",
       "      <td>The odds are against you not for you.</td>\n",
       "      <td>Winning is pure luck. There is no amount of st...</td>\n",
       "      <td>winning is pure luck there is no amount of str...</td>\n",
       "    </tr>\n",
       "    <tr>\n",
       "      <td>4999</td>\n",
       "      <td>1</td>\n",
       "      <td>Incorrect Product Information</td>\n",
       "      <td>The actual model of this meter is the i410, I ...</td>\n",
       "      <td>the actual model of this meter is the i i am u...</td>\n",
       "    </tr>\n",
       "  </tbody>\n",
       "</table>\n",
       "<p>5000 rows × 4 columns</p>\n",
       "</div>"
      ],
      "text/plain": [
       "      Review                                              Title  \\\n",
       "0          3                                 more like funchuck   \n",
       "1          5                                          Inspiring   \n",
       "2          5              The best soundtrack ever to anything.   \n",
       "3          4                                   Chrono Cross OST   \n",
       "4          5                                Too good to be true   \n",
       "...      ...                                                ...   \n",
       "4995       2                                   Waste oF $MONEY$   \n",
       "4996       4                               trying to win better   \n",
       "4997       2  don\"t waste your money just buy the the lotter...   \n",
       "4998       2              The odds are against you not for you.   \n",
       "4999       1                      Incorrect Product Information   \n",
       "\n",
       "                                                   Text  \\\n",
       "0     Gave this to my dad for a gag gift after direc...   \n",
       "1     I hope a lot of people hear this cd. We need m...   \n",
       "2     I'm reading a lot of reviews saying that this ...   \n",
       "3     The music of Yasunori Misuda is without questi...   \n",
       "4     Probably the greatest soundtrack in history! U...   \n",
       "...                                                 ...   \n",
       "4995  Waste Of Time & Money... I found that if you w...   \n",
       "4996  This book cuts down the odds with a better cha...   \n",
       "4997  this book have almost the same information as ...   \n",
       "4998  Winning is pure luck. There is no amount of st...   \n",
       "4999  The actual model of this meter is the i410, I ...   \n",
       "\n",
       "                                                 Text_1  \n",
       "0     gave this to my dad for a gag gift after direc...  \n",
       "1     i hope a lot of people hear this cd we need mo...  \n",
       "2     I am reading a lot of reviews saying that this...  \n",
       "3     the music of yasunori misuda is without questi...  \n",
       "4     probably the greatest soundtrack in history us...  \n",
       "...                                                 ...  \n",
       "4995  waste of time money i found that if you want t...  \n",
       "4996  this book cuts down the odds with a better cha...  \n",
       "4997  this book have almost the same information as ...  \n",
       "4998  winning is pure luck there is no amount of str...  \n",
       "4999  the actual model of this meter is the i i am u...  \n",
       "\n",
       "[5000 rows x 4 columns]"
      ]
     },
     "execution_count": 134,
     "metadata": {},
     "output_type": "execute_result"
    }
   ],
   "source": [
    "#calling the contraction function to perform data cleaning and de-contraction of english words\n",
    "dataset['Text_1'] = contraction(dataset['Text'])\n",
    "dataset"
   ]
  },
  {
   "cell_type": "code",
   "execution_count": 135,
   "metadata": {},
   "outputs": [
    {
     "data": {
      "text/html": [
       "<div>\n",
       "<style scoped>\n",
       "    .dataframe tbody tr th:only-of-type {\n",
       "        vertical-align: middle;\n",
       "    }\n",
       "\n",
       "    .dataframe tbody tr th {\n",
       "        vertical-align: top;\n",
       "    }\n",
       "\n",
       "    .dataframe thead th {\n",
       "        text-align: right;\n",
       "    }\n",
       "</style>\n",
       "<table border=\"1\" class=\"dataframe\">\n",
       "  <thead>\n",
       "    <tr style=\"text-align: right;\">\n",
       "      <th></th>\n",
       "      <th>Review</th>\n",
       "      <th>Title</th>\n",
       "      <th>Text</th>\n",
       "      <th>Text_1</th>\n",
       "    </tr>\n",
       "  </thead>\n",
       "  <tbody>\n",
       "    <tr>\n",
       "      <td>0</td>\n",
       "      <td>3</td>\n",
       "      <td>more like funchuck</td>\n",
       "      <td>Gave this to my dad for a gag gift after direc...</td>\n",
       "      <td>gave this to my dad for a gag gift after direc...</td>\n",
       "    </tr>\n",
       "    <tr>\n",
       "      <td>1</td>\n",
       "      <td>5</td>\n",
       "      <td>Inspiring</td>\n",
       "      <td>I hope a lot of people hear this cd. We need m...</td>\n",
       "      <td>i hope a lot of people hear this cd we need mo...</td>\n",
       "    </tr>\n",
       "    <tr>\n",
       "      <td>2</td>\n",
       "      <td>5</td>\n",
       "      <td>The best soundtrack ever to anything.</td>\n",
       "      <td>I'm reading a lot of reviews saying that this ...</td>\n",
       "      <td>I am reading a lot of reviews saying that this...</td>\n",
       "    </tr>\n",
       "    <tr>\n",
       "      <td>3</td>\n",
       "      <td>4</td>\n",
       "      <td>Chrono Cross OST</td>\n",
       "      <td>The music of Yasunori Misuda is without questi...</td>\n",
       "      <td>the music of yasunori misuda is without questi...</td>\n",
       "    </tr>\n",
       "    <tr>\n",
       "      <td>4</td>\n",
       "      <td>5</td>\n",
       "      <td>Too good to be true</td>\n",
       "      <td>Probably the greatest soundtrack in history! U...</td>\n",
       "      <td>probably the greatest soundtrack in history us...</td>\n",
       "    </tr>\n",
       "    <tr>\n",
       "      <td>...</td>\n",
       "      <td>...</td>\n",
       "      <td>...</td>\n",
       "      <td>...</td>\n",
       "      <td>...</td>\n",
       "    </tr>\n",
       "    <tr>\n",
       "      <td>4994</td>\n",
       "      <td>2</td>\n",
       "      <td>Waste oF $MONEY$</td>\n",
       "      <td>Waste Of Time &amp; Money... I found that if you w...</td>\n",
       "      <td>waste of time money i found that if you want t...</td>\n",
       "    </tr>\n",
       "    <tr>\n",
       "      <td>4995</td>\n",
       "      <td>4</td>\n",
       "      <td>trying to win better</td>\n",
       "      <td>This book cuts down the odds with a better cha...</td>\n",
       "      <td>this book cuts down the odds with a better cha...</td>\n",
       "    </tr>\n",
       "    <tr>\n",
       "      <td>4996</td>\n",
       "      <td>2</td>\n",
       "      <td>don\"t waste your money just buy the the lotter...</td>\n",
       "      <td>this book have almost the same information as ...</td>\n",
       "      <td>this book have almost the same information as ...</td>\n",
       "    </tr>\n",
       "    <tr>\n",
       "      <td>4997</td>\n",
       "      <td>2</td>\n",
       "      <td>The odds are against you not for you.</td>\n",
       "      <td>Winning is pure luck. There is no amount of st...</td>\n",
       "      <td>winning is pure luck there is no amount of str...</td>\n",
       "    </tr>\n",
       "    <tr>\n",
       "      <td>4998</td>\n",
       "      <td>1</td>\n",
       "      <td>Incorrect Product Information</td>\n",
       "      <td>The actual model of this meter is the i410, I ...</td>\n",
       "      <td>the actual model of this meter is the i i am u...</td>\n",
       "    </tr>\n",
       "  </tbody>\n",
       "</table>\n",
       "<p>4999 rows × 4 columns</p>\n",
       "</div>"
      ],
      "text/plain": [
       "      Review                                              Title  \\\n",
       "0          3                                 more like funchuck   \n",
       "1          5                                          Inspiring   \n",
       "2          5              The best soundtrack ever to anything.   \n",
       "3          4                                   Chrono Cross OST   \n",
       "4          5                                Too good to be true   \n",
       "...      ...                                                ...   \n",
       "4994       2                                   Waste oF $MONEY$   \n",
       "4995       4                               trying to win better   \n",
       "4996       2  don\"t waste your money just buy the the lotter...   \n",
       "4997       2              The odds are against you not for you.   \n",
       "4998       1                      Incorrect Product Information   \n",
       "\n",
       "                                                   Text  \\\n",
       "0     Gave this to my dad for a gag gift after direc...   \n",
       "1     I hope a lot of people hear this cd. We need m...   \n",
       "2     I'm reading a lot of reviews saying that this ...   \n",
       "3     The music of Yasunori Misuda is without questi...   \n",
       "4     Probably the greatest soundtrack in history! U...   \n",
       "...                                                 ...   \n",
       "4994  Waste Of Time & Money... I found that if you w...   \n",
       "4995  This book cuts down the odds with a better cha...   \n",
       "4996  this book have almost the same information as ...   \n",
       "4997  Winning is pure luck. There is no amount of st...   \n",
       "4998  The actual model of this meter is the i410, I ...   \n",
       "\n",
       "                                                 Text_1  \n",
       "0     gave this to my dad for a gag gift after direc...  \n",
       "1     i hope a lot of people hear this cd we need mo...  \n",
       "2     I am reading a lot of reviews saying that this...  \n",
       "3     the music of yasunori misuda is without questi...  \n",
       "4     probably the greatest soundtrack in history us...  \n",
       "...                                                 ...  \n",
       "4994  waste of time money i found that if you want t...  \n",
       "4995  this book cuts down the odds with a better cha...  \n",
       "4996  this book have almost the same information as ...  \n",
       "4997  winning is pure luck there is no amount of str...  \n",
       "4998  the actual model of this meter is the i i am u...  \n",
       "\n",
       "[4999 rows x 4 columns]"
      ]
     },
     "execution_count": 135,
     "metadata": {},
     "output_type": "execute_result"
    }
   ],
   "source": [
    "#removing duplicates and dropping the Null values after cleaning the data\n",
    "dataset.drop_duplicates(subset=['Text_1'],inplace=True)\n",
    "dataset.dropna(axis=0,inplace=True)\n",
    "dataset.reset_index(drop=True, inplace=True)\n",
    "dataset"
   ]
  },
  {
   "cell_type": "code",
   "execution_count": 136,
   "metadata": {},
   "outputs": [],
   "source": [
    "#drop the unecessary column and renaming it\n",
    "dataset = dataset.drop(columns=['Text'], axis = 1)\n",
    "dataset = dataset.rename(columns={'Text_1':'Text'})"
   ]
  },
  {
   "cell_type": "code",
   "execution_count": 137,
   "metadata": {},
   "outputs": [
    {
     "data": {
      "text/html": [
       "<div>\n",
       "<style scoped>\n",
       "    .dataframe tbody tr th:only-of-type {\n",
       "        vertical-align: middle;\n",
       "    }\n",
       "\n",
       "    .dataframe tbody tr th {\n",
       "        vertical-align: top;\n",
       "    }\n",
       "\n",
       "    .dataframe thead th {\n",
       "        text-align: right;\n",
       "    }\n",
       "</style>\n",
       "<table border=\"1\" class=\"dataframe\">\n",
       "  <thead>\n",
       "    <tr style=\"text-align: right;\">\n",
       "      <th></th>\n",
       "      <th>Review</th>\n",
       "      <th>Title</th>\n",
       "      <th>Text</th>\n",
       "    </tr>\n",
       "  </thead>\n",
       "  <tbody>\n",
       "    <tr>\n",
       "      <td>0</td>\n",
       "      <td>3</td>\n",
       "      <td>more like funchuck</td>\n",
       "      <td>gave this to my dad for a gag gift after direc...</td>\n",
       "    </tr>\n",
       "    <tr>\n",
       "      <td>1</td>\n",
       "      <td>5</td>\n",
       "      <td>Inspiring</td>\n",
       "      <td>i hope a lot of people hear this cd we need mo...</td>\n",
       "    </tr>\n",
       "    <tr>\n",
       "      <td>2</td>\n",
       "      <td>5</td>\n",
       "      <td>The best soundtrack ever to anything.</td>\n",
       "      <td>I am reading a lot of reviews saying that this...</td>\n",
       "    </tr>\n",
       "    <tr>\n",
       "      <td>3</td>\n",
       "      <td>4</td>\n",
       "      <td>Chrono Cross OST</td>\n",
       "      <td>the music of yasunori misuda is without questi...</td>\n",
       "    </tr>\n",
       "    <tr>\n",
       "      <td>4</td>\n",
       "      <td>5</td>\n",
       "      <td>Too good to be true</td>\n",
       "      <td>probably the greatest soundtrack in history us...</td>\n",
       "    </tr>\n",
       "  </tbody>\n",
       "</table>\n",
       "</div>"
      ],
      "text/plain": [
       "   Review                                  Title  \\\n",
       "0       3                     more like funchuck   \n",
       "1       5                              Inspiring   \n",
       "2       5  The best soundtrack ever to anything.   \n",
       "3       4                       Chrono Cross OST   \n",
       "4       5                    Too good to be true   \n",
       "\n",
       "                                                Text  \n",
       "0  gave this to my dad for a gag gift after direc...  \n",
       "1  i hope a lot of people hear this cd we need mo...  \n",
       "2  I am reading a lot of reviews saying that this...  \n",
       "3  the music of yasunori misuda is without questi...  \n",
       "4  probably the greatest soundtrack in history us...  "
      ]
     },
     "execution_count": 137,
     "metadata": {},
     "output_type": "execute_result"
    }
   ],
   "source": [
    "dataset.head()"
   ]
  },
  {
   "cell_type": "markdown",
   "metadata": {},
   "source": [
    "<h2> Data Visualization </h2>"
   ]
  },
  {
   "cell_type": "markdown",
   "metadata": {},
   "source": [
    "<h3> Calculating the word occurences in the dataset <i>(Before stopwords removal and lemmatization)</i></h3>"
   ]
  },
  {
   "cell_type": "code",
   "execution_count": 138,
   "metadata": {},
   "outputs": [],
   "source": [
    "#Calculating the count of each word occurences - before\n",
    "def word_occurence(df):\n",
    "    words = df['Text'].str.split(expand=True).unstack().value_counts()\n",
    "    return words"
   ]
  },
  {
   "cell_type": "code",
   "execution_count": 139,
   "metadata": {},
   "outputs": [],
   "source": [
    "#calling word_occurence function\n",
    "dataset_count_before = word_occurence(dataset)"
   ]
  },
  {
   "cell_type": "markdown",
   "metadata": {},
   "source": [
    "<h3>Bar Graph</h3>\n",
    "<i><h4>Displaying top 50 words based on word occurences</h4> </i>"
   ]
  },
  {
   "cell_type": "code",
   "execution_count": 140,
   "metadata": {},
   "outputs": [],
   "source": [
    "#function to display the words occurence in a bar graph from highest to lowest\n",
    "#bar graph to represent the most frequent words\n",
    "def freq_word(df):\n",
    "    init_notebook_mode(connected=True)\n",
    "    data = [go.Bar(\n",
    "                x = df.index.values[0:50],\n",
    "                y = df.values[0:50],\n",
    "                marker= dict(colorscale='Viridis',color = df.values[0:100]),text='Word counts')]\n",
    "    layout = go.Layout(title='Frequent occuring words')\n",
    "    fig = go.Figure(data=data, layout=layout)\n",
    "    return fig"
   ]
  },
  {
   "cell_type": "code",
   "execution_count": 141,
   "metadata": {},
   "outputs": [
    {
     "data": {
      "text/html": [
       "        <script type=\"text/javascript\">\n",
       "        window.PlotlyConfig = {MathJaxConfig: 'local'};\n",
       "        if (window.MathJax) {MathJax.Hub.Config({SVG: {font: \"STIX-Web\"}});}\n",
       "        if (typeof require !== 'undefined') {\n",
       "        require.undef(\"plotly\");\n",
       "        requirejs.config({\n",
       "            paths: {\n",
       "                'plotly': ['https://cdn.plot.ly/plotly-latest.min']\n",
       "            }\n",
       "        });\n",
       "        require(['plotly'], function(Plotly) {\n",
       "            window._Plotly = Plotly;\n",
       "        });\n",
       "        }\n",
       "        </script>\n",
       "        "
      ]
     },
     "metadata": {},
     "output_type": "display_data"
    }
   ],
   "source": [
    "#calling freq_word function\n",
    "dataset_count_before_bar = freq_word(dataset_count_before)"
   ]
  },
  {
   "cell_type": "code",
   "execution_count": 142,
   "metadata": {},
   "outputs": [
    {
     "data": {
      "application/vnd.plotly.v1+json": {
       "config": {
        "linkText": "Export to plot.ly",
        "plotlyServerURL": "https://plot.ly",
        "showLink": false
       },
       "data": [
        {
         "marker": {
          "color": [
           20431,
           10420,
           10247,
           9789,
           9550,
           9177,
           7919,
           7071,
           6947,
           5565,
           4920,
           4293,
           4102,
           3866,
           3316,
           3270,
           3037,
           2918,
           2811,
           2751,
           2407,
           2392,
           2304,
           2155,
           1819,
           1764,
           1641,
           1587,
           1558,
           1556,
           1407,
           1405,
           1393,
           1352,
           1341,
           1283,
           1246,
           1240,
           1239,
           1226,
           1222,
           1210,
           1185,
           1129,
           1115,
           1095,
           1083,
           1081,
           1064,
           1047,
           992,
           985,
           982,
           972,
           967,
           963,
           954,
           931,
           917,
           909,
           903,
           888,
           882,
           880,
           862,
           821,
           803,
           782,
           781,
           762,
           758,
           752,
           751,
           729,
           706,
           698,
           695,
           693,
           689,
           684,
           680,
           662,
           639,
           637,
           608,
           602,
           601,
           591,
           573,
           572,
           548,
           534,
           533,
           513,
           512,
           507,
           506,
           504,
           497,
           483
          ],
          "colorscale": [
           [
            0,
            "#440154"
           ],
           [
            0.1111111111111111,
            "#482878"
           ],
           [
            0.2222222222222222,
            "#3e4989"
           ],
           [
            0.3333333333333333,
            "#31688e"
           ],
           [
            0.4444444444444444,
            "#26828e"
           ],
           [
            0.5555555555555556,
            "#1f9e89"
           ],
           [
            0.6666666666666666,
            "#35b779"
           ],
           [
            0.7777777777777778,
            "#6ece58"
           ],
           [
            0.8888888888888888,
            "#b5de2b"
           ],
           [
            1,
            "#fde725"
           ]
          ]
         },
         "text": "Word counts",
         "type": "bar",
         "x": [
          "the",
          "and",
          "i",
          "a",
          "to",
          "it",
          "of",
          "is",
          "this",
          "not",
          "in",
          "that",
          "for",
          "was",
          "you",
          "but",
          "have",
          "with",
          "book",
          "on",
          "has",
          "are",
          "my",
          "as",
          "one",
          "be",
          "s",
          "so",
          "all",
          "if",
          "do",
          "very",
          "like",
          "they",
          "would",
          "at",
          "good",
          "or",
          "read",
          "from",
          "just",
          "had",
          "about",
          "an",
          "me",
          "out",
          "more",
          "will",
          "can",
          "I"
         ],
         "y": [
          20431,
          10420,
          10247,
          9789,
          9550,
          9177,
          7919,
          7071,
          6947,
          5565,
          4920,
          4293,
          4102,
          3866,
          3316,
          3270,
          3037,
          2918,
          2811,
          2751,
          2407,
          2392,
          2304,
          2155,
          1819,
          1764,
          1641,
          1587,
          1558,
          1556,
          1407,
          1405,
          1393,
          1352,
          1341,
          1283,
          1246,
          1240,
          1239,
          1226,
          1222,
          1210,
          1185,
          1129,
          1115,
          1095,
          1083,
          1081,
          1064,
          1047
         ]
        }
       ],
       "layout": {
        "template": {
         "data": {
          "bar": [
           {
            "error_x": {
             "color": "#2a3f5f"
            },
            "error_y": {
             "color": "#2a3f5f"
            },
            "marker": {
             "line": {
              "color": "#E5ECF6",
              "width": 0.5
             }
            },
            "type": "bar"
           }
          ],
          "barpolar": [
           {
            "marker": {
             "line": {
              "color": "#E5ECF6",
              "width": 0.5
             }
            },
            "type": "barpolar"
           }
          ],
          "carpet": [
           {
            "aaxis": {
             "endlinecolor": "#2a3f5f",
             "gridcolor": "white",
             "linecolor": "white",
             "minorgridcolor": "white",
             "startlinecolor": "#2a3f5f"
            },
            "baxis": {
             "endlinecolor": "#2a3f5f",
             "gridcolor": "white",
             "linecolor": "white",
             "minorgridcolor": "white",
             "startlinecolor": "#2a3f5f"
            },
            "type": "carpet"
           }
          ],
          "choropleth": [
           {
            "colorbar": {
             "outlinewidth": 0,
             "ticks": ""
            },
            "type": "choropleth"
           }
          ],
          "contour": [
           {
            "colorbar": {
             "outlinewidth": 0,
             "ticks": ""
            },
            "colorscale": [
             [
              0,
              "#0d0887"
             ],
             [
              0.1111111111111111,
              "#46039f"
             ],
             [
              0.2222222222222222,
              "#7201a8"
             ],
             [
              0.3333333333333333,
              "#9c179e"
             ],
             [
              0.4444444444444444,
              "#bd3786"
             ],
             [
              0.5555555555555556,
              "#d8576b"
             ],
             [
              0.6666666666666666,
              "#ed7953"
             ],
             [
              0.7777777777777778,
              "#fb9f3a"
             ],
             [
              0.8888888888888888,
              "#fdca26"
             ],
             [
              1,
              "#f0f921"
             ]
            ],
            "type": "contour"
           }
          ],
          "contourcarpet": [
           {
            "colorbar": {
             "outlinewidth": 0,
             "ticks": ""
            },
            "type": "contourcarpet"
           }
          ],
          "heatmap": [
           {
            "colorbar": {
             "outlinewidth": 0,
             "ticks": ""
            },
            "colorscale": [
             [
              0,
              "#0d0887"
             ],
             [
              0.1111111111111111,
              "#46039f"
             ],
             [
              0.2222222222222222,
              "#7201a8"
             ],
             [
              0.3333333333333333,
              "#9c179e"
             ],
             [
              0.4444444444444444,
              "#bd3786"
             ],
             [
              0.5555555555555556,
              "#d8576b"
             ],
             [
              0.6666666666666666,
              "#ed7953"
             ],
             [
              0.7777777777777778,
              "#fb9f3a"
             ],
             [
              0.8888888888888888,
              "#fdca26"
             ],
             [
              1,
              "#f0f921"
             ]
            ],
            "type": "heatmap"
           }
          ],
          "heatmapgl": [
           {
            "colorbar": {
             "outlinewidth": 0,
             "ticks": ""
            },
            "colorscale": [
             [
              0,
              "#0d0887"
             ],
             [
              0.1111111111111111,
              "#46039f"
             ],
             [
              0.2222222222222222,
              "#7201a8"
             ],
             [
              0.3333333333333333,
              "#9c179e"
             ],
             [
              0.4444444444444444,
              "#bd3786"
             ],
             [
              0.5555555555555556,
              "#d8576b"
             ],
             [
              0.6666666666666666,
              "#ed7953"
             ],
             [
              0.7777777777777778,
              "#fb9f3a"
             ],
             [
              0.8888888888888888,
              "#fdca26"
             ],
             [
              1,
              "#f0f921"
             ]
            ],
            "type": "heatmapgl"
           }
          ],
          "histogram": [
           {
            "marker": {
             "colorbar": {
              "outlinewidth": 0,
              "ticks": ""
             }
            },
            "type": "histogram"
           }
          ],
          "histogram2d": [
           {
            "colorbar": {
             "outlinewidth": 0,
             "ticks": ""
            },
            "colorscale": [
             [
              0,
              "#0d0887"
             ],
             [
              0.1111111111111111,
              "#46039f"
             ],
             [
              0.2222222222222222,
              "#7201a8"
             ],
             [
              0.3333333333333333,
              "#9c179e"
             ],
             [
              0.4444444444444444,
              "#bd3786"
             ],
             [
              0.5555555555555556,
              "#d8576b"
             ],
             [
              0.6666666666666666,
              "#ed7953"
             ],
             [
              0.7777777777777778,
              "#fb9f3a"
             ],
             [
              0.8888888888888888,
              "#fdca26"
             ],
             [
              1,
              "#f0f921"
             ]
            ],
            "type": "histogram2d"
           }
          ],
          "histogram2dcontour": [
           {
            "colorbar": {
             "outlinewidth": 0,
             "ticks": ""
            },
            "colorscale": [
             [
              0,
              "#0d0887"
             ],
             [
              0.1111111111111111,
              "#46039f"
             ],
             [
              0.2222222222222222,
              "#7201a8"
             ],
             [
              0.3333333333333333,
              "#9c179e"
             ],
             [
              0.4444444444444444,
              "#bd3786"
             ],
             [
              0.5555555555555556,
              "#d8576b"
             ],
             [
              0.6666666666666666,
              "#ed7953"
             ],
             [
              0.7777777777777778,
              "#fb9f3a"
             ],
             [
              0.8888888888888888,
              "#fdca26"
             ],
             [
              1,
              "#f0f921"
             ]
            ],
            "type": "histogram2dcontour"
           }
          ],
          "mesh3d": [
           {
            "colorbar": {
             "outlinewidth": 0,
             "ticks": ""
            },
            "type": "mesh3d"
           }
          ],
          "parcoords": [
           {
            "line": {
             "colorbar": {
              "outlinewidth": 0,
              "ticks": ""
             }
            },
            "type": "parcoords"
           }
          ],
          "pie": [
           {
            "automargin": true,
            "type": "pie"
           }
          ],
          "scatter": [
           {
            "marker": {
             "colorbar": {
              "outlinewidth": 0,
              "ticks": ""
             }
            },
            "type": "scatter"
           }
          ],
          "scatter3d": [
           {
            "line": {
             "colorbar": {
              "outlinewidth": 0,
              "ticks": ""
             }
            },
            "marker": {
             "colorbar": {
              "outlinewidth": 0,
              "ticks": ""
             }
            },
            "type": "scatter3d"
           }
          ],
          "scattercarpet": [
           {
            "marker": {
             "colorbar": {
              "outlinewidth": 0,
              "ticks": ""
             }
            },
            "type": "scattercarpet"
           }
          ],
          "scattergeo": [
           {
            "marker": {
             "colorbar": {
              "outlinewidth": 0,
              "ticks": ""
             }
            },
            "type": "scattergeo"
           }
          ],
          "scattergl": [
           {
            "marker": {
             "colorbar": {
              "outlinewidth": 0,
              "ticks": ""
             }
            },
            "type": "scattergl"
           }
          ],
          "scattermapbox": [
           {
            "marker": {
             "colorbar": {
              "outlinewidth": 0,
              "ticks": ""
             }
            },
            "type": "scattermapbox"
           }
          ],
          "scatterpolar": [
           {
            "marker": {
             "colorbar": {
              "outlinewidth": 0,
              "ticks": ""
             }
            },
            "type": "scatterpolar"
           }
          ],
          "scatterpolargl": [
           {
            "marker": {
             "colorbar": {
              "outlinewidth": 0,
              "ticks": ""
             }
            },
            "type": "scatterpolargl"
           }
          ],
          "scatterternary": [
           {
            "marker": {
             "colorbar": {
              "outlinewidth": 0,
              "ticks": ""
             }
            },
            "type": "scatterternary"
           }
          ],
          "surface": [
           {
            "colorbar": {
             "outlinewidth": 0,
             "ticks": ""
            },
            "colorscale": [
             [
              0,
              "#0d0887"
             ],
             [
              0.1111111111111111,
              "#46039f"
             ],
             [
              0.2222222222222222,
              "#7201a8"
             ],
             [
              0.3333333333333333,
              "#9c179e"
             ],
             [
              0.4444444444444444,
              "#bd3786"
             ],
             [
              0.5555555555555556,
              "#d8576b"
             ],
             [
              0.6666666666666666,
              "#ed7953"
             ],
             [
              0.7777777777777778,
              "#fb9f3a"
             ],
             [
              0.8888888888888888,
              "#fdca26"
             ],
             [
              1,
              "#f0f921"
             ]
            ],
            "type": "surface"
           }
          ],
          "table": [
           {
            "cells": {
             "fill": {
              "color": "#EBF0F8"
             },
             "line": {
              "color": "white"
             }
            },
            "header": {
             "fill": {
              "color": "#C8D4E3"
             },
             "line": {
              "color": "white"
             }
            },
            "type": "table"
           }
          ]
         },
         "layout": {
          "annotationdefaults": {
           "arrowcolor": "#2a3f5f",
           "arrowhead": 0,
           "arrowwidth": 1
          },
          "coloraxis": {
           "colorbar": {
            "outlinewidth": 0,
            "ticks": ""
           }
          },
          "colorscale": {
           "diverging": [
            [
             0,
             "#8e0152"
            ],
            [
             0.1,
             "#c51b7d"
            ],
            [
             0.2,
             "#de77ae"
            ],
            [
             0.3,
             "#f1b6da"
            ],
            [
             0.4,
             "#fde0ef"
            ],
            [
             0.5,
             "#f7f7f7"
            ],
            [
             0.6,
             "#e6f5d0"
            ],
            [
             0.7,
             "#b8e186"
            ],
            [
             0.8,
             "#7fbc41"
            ],
            [
             0.9,
             "#4d9221"
            ],
            [
             1,
             "#276419"
            ]
           ],
           "sequential": [
            [
             0,
             "#0d0887"
            ],
            [
             0.1111111111111111,
             "#46039f"
            ],
            [
             0.2222222222222222,
             "#7201a8"
            ],
            [
             0.3333333333333333,
             "#9c179e"
            ],
            [
             0.4444444444444444,
             "#bd3786"
            ],
            [
             0.5555555555555556,
             "#d8576b"
            ],
            [
             0.6666666666666666,
             "#ed7953"
            ],
            [
             0.7777777777777778,
             "#fb9f3a"
            ],
            [
             0.8888888888888888,
             "#fdca26"
            ],
            [
             1,
             "#f0f921"
            ]
           ],
           "sequentialminus": [
            [
             0,
             "#0d0887"
            ],
            [
             0.1111111111111111,
             "#46039f"
            ],
            [
             0.2222222222222222,
             "#7201a8"
            ],
            [
             0.3333333333333333,
             "#9c179e"
            ],
            [
             0.4444444444444444,
             "#bd3786"
            ],
            [
             0.5555555555555556,
             "#d8576b"
            ],
            [
             0.6666666666666666,
             "#ed7953"
            ],
            [
             0.7777777777777778,
             "#fb9f3a"
            ],
            [
             0.8888888888888888,
             "#fdca26"
            ],
            [
             1,
             "#f0f921"
            ]
           ]
          },
          "colorway": [
           "#636efa",
           "#EF553B",
           "#00cc96",
           "#ab63fa",
           "#FFA15A",
           "#19d3f3",
           "#FF6692",
           "#B6E880",
           "#FF97FF",
           "#FECB52"
          ],
          "font": {
           "color": "#2a3f5f"
          },
          "geo": {
           "bgcolor": "white",
           "lakecolor": "white",
           "landcolor": "#E5ECF6",
           "showlakes": true,
           "showland": true,
           "subunitcolor": "white"
          },
          "hoverlabel": {
           "align": "left"
          },
          "hovermode": "closest",
          "mapbox": {
           "style": "light"
          },
          "paper_bgcolor": "white",
          "plot_bgcolor": "#E5ECF6",
          "polar": {
           "angularaxis": {
            "gridcolor": "white",
            "linecolor": "white",
            "ticks": ""
           },
           "bgcolor": "#E5ECF6",
           "radialaxis": {
            "gridcolor": "white",
            "linecolor": "white",
            "ticks": ""
           }
          },
          "scene": {
           "xaxis": {
            "backgroundcolor": "#E5ECF6",
            "gridcolor": "white",
            "gridwidth": 2,
            "linecolor": "white",
            "showbackground": true,
            "ticks": "",
            "zerolinecolor": "white"
           },
           "yaxis": {
            "backgroundcolor": "#E5ECF6",
            "gridcolor": "white",
            "gridwidth": 2,
            "linecolor": "white",
            "showbackground": true,
            "ticks": "",
            "zerolinecolor": "white"
           },
           "zaxis": {
            "backgroundcolor": "#E5ECF6",
            "gridcolor": "white",
            "gridwidth": 2,
            "linecolor": "white",
            "showbackground": true,
            "ticks": "",
            "zerolinecolor": "white"
           }
          },
          "shapedefaults": {
           "line": {
            "color": "#2a3f5f"
           }
          },
          "ternary": {
           "aaxis": {
            "gridcolor": "white",
            "linecolor": "white",
            "ticks": ""
           },
           "baxis": {
            "gridcolor": "white",
            "linecolor": "white",
            "ticks": ""
           },
           "bgcolor": "#E5ECF6",
           "caxis": {
            "gridcolor": "white",
            "linecolor": "white",
            "ticks": ""
           }
          },
          "title": {
           "x": 0.05
          },
          "xaxis": {
           "automargin": true,
           "gridcolor": "white",
           "linecolor": "white",
           "ticks": "",
           "title": {
            "standoff": 15
           },
           "zerolinecolor": "white",
           "zerolinewidth": 2
          },
          "yaxis": {
           "automargin": true,
           "gridcolor": "white",
           "linecolor": "white",
           "ticks": "",
           "title": {
            "standoff": 15
           },
           "zerolinecolor": "white",
           "zerolinewidth": 2
          }
         }
        },
        "title": {
         "text": "Frequent occuring words"
        }
       }
      },
      "text/html": [
       "<div>\n",
       "        \n",
       "        \n",
       "            <div id=\"a5b7fea7-cbfd-48c9-83a1-8cc633067a66\" class=\"plotly-graph-div\" style=\"height:525px; width:100%;\"></div>\n",
       "            <script type=\"text/javascript\">\n",
       "                require([\"plotly\"], function(Plotly) {\n",
       "                    window.PLOTLYENV=window.PLOTLYENV || {};\n",
       "                    \n",
       "                if (document.getElementById(\"a5b7fea7-cbfd-48c9-83a1-8cc633067a66\")) {\n",
       "                    Plotly.newPlot(\n",
       "                        'a5b7fea7-cbfd-48c9-83a1-8cc633067a66',\n",
       "                        [{\"marker\": {\"color\": [20431, 10420, 10247, 9789, 9550, 9177, 7919, 7071, 6947, 5565, 4920, 4293, 4102, 3866, 3316, 3270, 3037, 2918, 2811, 2751, 2407, 2392, 2304, 2155, 1819, 1764, 1641, 1587, 1558, 1556, 1407, 1405, 1393, 1352, 1341, 1283, 1246, 1240, 1239, 1226, 1222, 1210, 1185, 1129, 1115, 1095, 1083, 1081, 1064, 1047, 992, 985, 982, 972, 967, 963, 954, 931, 917, 909, 903, 888, 882, 880, 862, 821, 803, 782, 781, 762, 758, 752, 751, 729, 706, 698, 695, 693, 689, 684, 680, 662, 639, 637, 608, 602, 601, 591, 573, 572, 548, 534, 533, 513, 512, 507, 506, 504, 497, 483], \"colorscale\": [[0.0, \"#440154\"], [0.1111111111111111, \"#482878\"], [0.2222222222222222, \"#3e4989\"], [0.3333333333333333, \"#31688e\"], [0.4444444444444444, \"#26828e\"], [0.5555555555555556, \"#1f9e89\"], [0.6666666666666666, \"#35b779\"], [0.7777777777777778, \"#6ece58\"], [0.8888888888888888, \"#b5de2b\"], [1.0, \"#fde725\"]]}, \"text\": \"Word counts\", \"type\": \"bar\", \"x\": [\"the\", \"and\", \"i\", \"a\", \"to\", \"it\", \"of\", \"is\", \"this\", \"not\", \"in\", \"that\", \"for\", \"was\", \"you\", \"but\", \"have\", \"with\", \"book\", \"on\", \"has\", \"are\", \"my\", \"as\", \"one\", \"be\", \"s\", \"so\", \"all\", \"if\", \"do\", \"very\", \"like\", \"they\", \"would\", \"at\", \"good\", \"or\", \"read\", \"from\", \"just\", \"had\", \"about\", \"an\", \"me\", \"out\", \"more\", \"will\", \"can\", \"I\"], \"y\": [20431, 10420, 10247, 9789, 9550, 9177, 7919, 7071, 6947, 5565, 4920, 4293, 4102, 3866, 3316, 3270, 3037, 2918, 2811, 2751, 2407, 2392, 2304, 2155, 1819, 1764, 1641, 1587, 1558, 1556, 1407, 1405, 1393, 1352, 1341, 1283, 1246, 1240, 1239, 1226, 1222, 1210, 1185, 1129, 1115, 1095, 1083, 1081, 1064, 1047]}],\n",
       "                        {\"template\": {\"data\": {\"bar\": [{\"error_x\": {\"color\": \"#2a3f5f\"}, \"error_y\": {\"color\": \"#2a3f5f\"}, \"marker\": {\"line\": {\"color\": \"#E5ECF6\", \"width\": 0.5}}, \"type\": \"bar\"}], \"barpolar\": [{\"marker\": {\"line\": {\"color\": \"#E5ECF6\", \"width\": 0.5}}, \"type\": \"barpolar\"}], \"carpet\": [{\"aaxis\": {\"endlinecolor\": \"#2a3f5f\", \"gridcolor\": \"white\", \"linecolor\": \"white\", \"minorgridcolor\": \"white\", \"startlinecolor\": \"#2a3f5f\"}, \"baxis\": {\"endlinecolor\": \"#2a3f5f\", \"gridcolor\": \"white\", \"linecolor\": \"white\", \"minorgridcolor\": \"white\", \"startlinecolor\": \"#2a3f5f\"}, \"type\": \"carpet\"}], \"choropleth\": [{\"colorbar\": {\"outlinewidth\": 0, \"ticks\": \"\"}, \"type\": \"choropleth\"}], \"contour\": [{\"colorbar\": {\"outlinewidth\": 0, \"ticks\": \"\"}, \"colorscale\": [[0.0, \"#0d0887\"], [0.1111111111111111, \"#46039f\"], [0.2222222222222222, \"#7201a8\"], [0.3333333333333333, \"#9c179e\"], [0.4444444444444444, \"#bd3786\"], [0.5555555555555556, \"#d8576b\"], [0.6666666666666666, \"#ed7953\"], [0.7777777777777778, \"#fb9f3a\"], [0.8888888888888888, \"#fdca26\"], [1.0, \"#f0f921\"]], \"type\": \"contour\"}], \"contourcarpet\": [{\"colorbar\": {\"outlinewidth\": 0, \"ticks\": \"\"}, \"type\": \"contourcarpet\"}], \"heatmap\": [{\"colorbar\": {\"outlinewidth\": 0, \"ticks\": \"\"}, \"colorscale\": [[0.0, \"#0d0887\"], [0.1111111111111111, \"#46039f\"], [0.2222222222222222, \"#7201a8\"], [0.3333333333333333, \"#9c179e\"], [0.4444444444444444, \"#bd3786\"], [0.5555555555555556, \"#d8576b\"], [0.6666666666666666, \"#ed7953\"], [0.7777777777777778, \"#fb9f3a\"], [0.8888888888888888, \"#fdca26\"], [1.0, \"#f0f921\"]], \"type\": \"heatmap\"}], \"heatmapgl\": [{\"colorbar\": {\"outlinewidth\": 0, \"ticks\": \"\"}, \"colorscale\": [[0.0, \"#0d0887\"], [0.1111111111111111, \"#46039f\"], [0.2222222222222222, \"#7201a8\"], [0.3333333333333333, \"#9c179e\"], [0.4444444444444444, \"#bd3786\"], [0.5555555555555556, \"#d8576b\"], [0.6666666666666666, \"#ed7953\"], [0.7777777777777778, \"#fb9f3a\"], [0.8888888888888888, \"#fdca26\"], [1.0, \"#f0f921\"]], \"type\": \"heatmapgl\"}], \"histogram\": [{\"marker\": {\"colorbar\": {\"outlinewidth\": 0, \"ticks\": \"\"}}, \"type\": \"histogram\"}], \"histogram2d\": [{\"colorbar\": {\"outlinewidth\": 0, \"ticks\": \"\"}, \"colorscale\": [[0.0, \"#0d0887\"], [0.1111111111111111, \"#46039f\"], [0.2222222222222222, \"#7201a8\"], [0.3333333333333333, \"#9c179e\"], [0.4444444444444444, \"#bd3786\"], [0.5555555555555556, \"#d8576b\"], [0.6666666666666666, \"#ed7953\"], [0.7777777777777778, \"#fb9f3a\"], [0.8888888888888888, \"#fdca26\"], [1.0, \"#f0f921\"]], \"type\": \"histogram2d\"}], \"histogram2dcontour\": [{\"colorbar\": {\"outlinewidth\": 0, \"ticks\": \"\"}, \"colorscale\": [[0.0, \"#0d0887\"], [0.1111111111111111, \"#46039f\"], [0.2222222222222222, \"#7201a8\"], [0.3333333333333333, \"#9c179e\"], [0.4444444444444444, \"#bd3786\"], [0.5555555555555556, \"#d8576b\"], [0.6666666666666666, \"#ed7953\"], [0.7777777777777778, \"#fb9f3a\"], [0.8888888888888888, \"#fdca26\"], [1.0, \"#f0f921\"]], \"type\": \"histogram2dcontour\"}], \"mesh3d\": [{\"colorbar\": {\"outlinewidth\": 0, \"ticks\": \"\"}, \"type\": \"mesh3d\"}], \"parcoords\": [{\"line\": {\"colorbar\": {\"outlinewidth\": 0, \"ticks\": \"\"}}, \"type\": \"parcoords\"}], \"pie\": [{\"automargin\": true, \"type\": \"pie\"}], \"scatter\": [{\"marker\": {\"colorbar\": {\"outlinewidth\": 0, \"ticks\": \"\"}}, \"type\": \"scatter\"}], \"scatter3d\": [{\"line\": {\"colorbar\": {\"outlinewidth\": 0, \"ticks\": \"\"}}, \"marker\": {\"colorbar\": {\"outlinewidth\": 0, \"ticks\": \"\"}}, \"type\": \"scatter3d\"}], \"scattercarpet\": [{\"marker\": {\"colorbar\": {\"outlinewidth\": 0, \"ticks\": \"\"}}, \"type\": \"scattercarpet\"}], \"scattergeo\": [{\"marker\": {\"colorbar\": {\"outlinewidth\": 0, \"ticks\": \"\"}}, \"type\": \"scattergeo\"}], \"scattergl\": [{\"marker\": {\"colorbar\": {\"outlinewidth\": 0, \"ticks\": \"\"}}, \"type\": \"scattergl\"}], \"scattermapbox\": [{\"marker\": {\"colorbar\": {\"outlinewidth\": 0, \"ticks\": \"\"}}, \"type\": \"scattermapbox\"}], \"scatterpolar\": [{\"marker\": {\"colorbar\": {\"outlinewidth\": 0, \"ticks\": \"\"}}, \"type\": \"scatterpolar\"}], \"scatterpolargl\": [{\"marker\": {\"colorbar\": {\"outlinewidth\": 0, \"ticks\": \"\"}}, \"type\": \"scatterpolargl\"}], \"scatterternary\": [{\"marker\": {\"colorbar\": {\"outlinewidth\": 0, \"ticks\": \"\"}}, \"type\": \"scatterternary\"}], \"surface\": [{\"colorbar\": {\"outlinewidth\": 0, \"ticks\": \"\"}, \"colorscale\": [[0.0, \"#0d0887\"], [0.1111111111111111, \"#46039f\"], [0.2222222222222222, \"#7201a8\"], [0.3333333333333333, \"#9c179e\"], [0.4444444444444444, \"#bd3786\"], [0.5555555555555556, \"#d8576b\"], [0.6666666666666666, \"#ed7953\"], [0.7777777777777778, \"#fb9f3a\"], [0.8888888888888888, \"#fdca26\"], [1.0, \"#f0f921\"]], \"type\": \"surface\"}], \"table\": [{\"cells\": {\"fill\": {\"color\": \"#EBF0F8\"}, \"line\": {\"color\": \"white\"}}, \"header\": {\"fill\": {\"color\": \"#C8D4E3\"}, \"line\": {\"color\": \"white\"}}, \"type\": \"table\"}]}, \"layout\": {\"annotationdefaults\": {\"arrowcolor\": \"#2a3f5f\", \"arrowhead\": 0, \"arrowwidth\": 1}, \"coloraxis\": {\"colorbar\": {\"outlinewidth\": 0, \"ticks\": \"\"}}, \"colorscale\": {\"diverging\": [[0, \"#8e0152\"], [0.1, \"#c51b7d\"], [0.2, \"#de77ae\"], [0.3, \"#f1b6da\"], [0.4, \"#fde0ef\"], [0.5, \"#f7f7f7\"], [0.6, \"#e6f5d0\"], [0.7, \"#b8e186\"], [0.8, \"#7fbc41\"], [0.9, \"#4d9221\"], [1, \"#276419\"]], \"sequential\": [[0.0, \"#0d0887\"], [0.1111111111111111, \"#46039f\"], [0.2222222222222222, \"#7201a8\"], [0.3333333333333333, \"#9c179e\"], [0.4444444444444444, \"#bd3786\"], [0.5555555555555556, \"#d8576b\"], [0.6666666666666666, \"#ed7953\"], [0.7777777777777778, \"#fb9f3a\"], [0.8888888888888888, \"#fdca26\"], [1.0, \"#f0f921\"]], \"sequentialminus\": [[0.0, \"#0d0887\"], [0.1111111111111111, \"#46039f\"], [0.2222222222222222, \"#7201a8\"], [0.3333333333333333, \"#9c179e\"], [0.4444444444444444, \"#bd3786\"], [0.5555555555555556, \"#d8576b\"], [0.6666666666666666, \"#ed7953\"], [0.7777777777777778, \"#fb9f3a\"], [0.8888888888888888, \"#fdca26\"], [1.0, \"#f0f921\"]]}, \"colorway\": [\"#636efa\", \"#EF553B\", \"#00cc96\", \"#ab63fa\", \"#FFA15A\", \"#19d3f3\", \"#FF6692\", \"#B6E880\", \"#FF97FF\", \"#FECB52\"], \"font\": {\"color\": \"#2a3f5f\"}, \"geo\": {\"bgcolor\": \"white\", \"lakecolor\": \"white\", \"landcolor\": \"#E5ECF6\", \"showlakes\": true, \"showland\": true, \"subunitcolor\": \"white\"}, \"hoverlabel\": {\"align\": \"left\"}, \"hovermode\": \"closest\", \"mapbox\": {\"style\": \"light\"}, \"paper_bgcolor\": \"white\", \"plot_bgcolor\": \"#E5ECF6\", \"polar\": {\"angularaxis\": {\"gridcolor\": \"white\", \"linecolor\": \"white\", \"ticks\": \"\"}, \"bgcolor\": \"#E5ECF6\", \"radialaxis\": {\"gridcolor\": \"white\", \"linecolor\": \"white\", \"ticks\": \"\"}}, \"scene\": {\"xaxis\": {\"backgroundcolor\": \"#E5ECF6\", \"gridcolor\": \"white\", \"gridwidth\": 2, \"linecolor\": \"white\", \"showbackground\": true, \"ticks\": \"\", \"zerolinecolor\": \"white\"}, \"yaxis\": {\"backgroundcolor\": \"#E5ECF6\", \"gridcolor\": \"white\", \"gridwidth\": 2, \"linecolor\": \"white\", \"showbackground\": true, \"ticks\": \"\", \"zerolinecolor\": \"white\"}, \"zaxis\": {\"backgroundcolor\": \"#E5ECF6\", \"gridcolor\": \"white\", \"gridwidth\": 2, \"linecolor\": \"white\", \"showbackground\": true, \"ticks\": \"\", \"zerolinecolor\": \"white\"}}, \"shapedefaults\": {\"line\": {\"color\": \"#2a3f5f\"}}, \"ternary\": {\"aaxis\": {\"gridcolor\": \"white\", \"linecolor\": \"white\", \"ticks\": \"\"}, \"baxis\": {\"gridcolor\": \"white\", \"linecolor\": \"white\", \"ticks\": \"\"}, \"bgcolor\": \"#E5ECF6\", \"caxis\": {\"gridcolor\": \"white\", \"linecolor\": \"white\", \"ticks\": \"\"}}, \"title\": {\"x\": 0.05}, \"xaxis\": {\"automargin\": true, \"gridcolor\": \"white\", \"linecolor\": \"white\", \"ticks\": \"\", \"title\": {\"standoff\": 15}, \"zerolinecolor\": \"white\", \"zerolinewidth\": 2}, \"yaxis\": {\"automargin\": true, \"gridcolor\": \"white\", \"linecolor\": \"white\", \"ticks\": \"\", \"title\": {\"standoff\": 15}, \"zerolinecolor\": \"white\", \"zerolinewidth\": 2}}}, \"title\": {\"text\": \"Frequent occuring words\"}},\n",
       "                        {\"responsive\": true}\n",
       "                    ).then(function(){\n",
       "                            \n",
       "var gd = document.getElementById('a5b7fea7-cbfd-48c9-83a1-8cc633067a66');\n",
       "var x = new MutationObserver(function (mutations, observer) {{\n",
       "        var display = window.getComputedStyle(gd).display;\n",
       "        if (!display || display === 'none') {{\n",
       "            console.log([gd, 'removed!']);\n",
       "            Plotly.purge(gd);\n",
       "            observer.disconnect();\n",
       "        }}\n",
       "}});\n",
       "\n",
       "// Listen for the removal of the full notebook cells\n",
       "var notebookContainer = gd.closest('#notebook-container');\n",
       "if (notebookContainer) {{\n",
       "    x.observe(notebookContainer, {childList: true});\n",
       "}}\n",
       "\n",
       "// Listen for the clearing of the current output cell\n",
       "var outputEl = gd.closest('.output');\n",
       "if (outputEl) {{\n",
       "    x.observe(outputEl, {childList: true});\n",
       "}}\n",
       "\n",
       "                        })\n",
       "                };\n",
       "                });\n",
       "            </script>\n",
       "        </div>"
      ]
     },
     "metadata": {},
     "output_type": "display_data"
    }
   ],
   "source": [
    "#displaying the bar chart for each files\n",
    "iplot(dataset_count_before_bar, filename='basic-bar')"
   ]
  },
  {
   "cell_type": "markdown",
   "metadata": {},
   "source": [
    "<h3>Word Cloud</h3>\n",
    "<i><h4>Displaying top 50 words based on word occurences</h4> </i>"
   ]
  },
  {
   "cell_type": "code",
   "execution_count": 143,
   "metadata": {},
   "outputs": [],
   "source": [
    "#Word Cloud to represent the most frequent words\n",
    "def wordcloud(df):\n",
    "    wordcloud = WordCloud(background_color='white', max_words = 100).generate_from_frequencies(df)\n",
    "    return wordcloud"
   ]
  },
  {
   "cell_type": "code",
   "execution_count": 144,
   "metadata": {},
   "outputs": [],
   "source": [
    "#calling the wordcloud function\n",
    "dataset_count_before_wordcloud = wordcloud(dataset_count_before)"
   ]
  },
  {
   "cell_type": "code",
   "execution_count": 145,
   "metadata": {},
   "outputs": [
    {
     "data": {
      "image/png": "[encoded data removed]",
      "text/plain": [
       "<Figure size 432x288 with 1 Axes>"
      ]
     },
     "metadata": {
      "needs_background": "light"
     },
     "output_type": "display_data"
    }
   ],
   "source": [
    "#displaying the worldcloud generated for the dataset\n",
    "plt.imshow(dataset_count_before_wordcloud, interpolation='bilinear')\n",
    "plt.axis(\"off\")\n",
    "plt.title('Text')\n",
    "plt.show()"
   ]
  },
  {
   "cell_type": "markdown",
   "metadata": {},
   "source": [
    "<h2> Implementing Data Preprocessing techniques </h2>\n",
    "<h3> Implementing Stopwords Removal and Lemmatization </h3>"
   ]
  },
  {
   "cell_type": "code",
   "execution_count": 146,
   "metadata": {},
   "outputs": [],
   "source": [
    "#obtaining the english stopwords from the stopwords library\n",
    "stopwords_removal = stopwords.words('english')\n",
    "stopwords_removal.remove('not')\n",
    "stopwords_removal.remove('no')"
   ]
  },
  {
   "cell_type": "code",
   "execution_count": 147,
   "metadata": {},
   "outputs": [],
   "source": [
    "#Stopwords removal and Lemmatization of textual data\n",
    "def Lemmatizaton_text(df):\n",
    "    lemmatization = WordNetLemmatizer()\n",
    "    for ind, text in enumerate(df['Text']):\n",
    "        temp = []\n",
    "        for word in str(text).split():\n",
    "            word = word.lower()\n",
    "            word = word.strip()\n",
    "            if word not in stopwords_removal and word.isalpha():\n",
    "                lemmatize_word = lemmatization.lemmatize(word)\n",
    "                temp.append(lemmatize_word)\n",
    "                df.loc[ind,'Text'] = str(\" \".join(temp))\n",
    "    return df"
   ]
  },
  {
   "cell_type": "code",
   "execution_count": 148,
   "metadata": {},
   "outputs": [
    {
     "data": {
      "text/html": [
       "<div>\n",
       "<style scoped>\n",
       "    .dataframe tbody tr th:only-of-type {\n",
       "        vertical-align: middle;\n",
       "    }\n",
       "\n",
       "    .dataframe tbody tr th {\n",
       "        vertical-align: top;\n",
       "    }\n",
       "\n",
       "    .dataframe thead th {\n",
       "        text-align: right;\n",
       "    }\n",
       "</style>\n",
       "<table border=\"1\" class=\"dataframe\">\n",
       "  <thead>\n",
       "    <tr style=\"text-align: right;\">\n",
       "      <th></th>\n",
       "      <th>Review</th>\n",
       "      <th>Title</th>\n",
       "      <th>Text</th>\n",
       "    </tr>\n",
       "  </thead>\n",
       "  <tbody>\n",
       "    <tr>\n",
       "      <td>0</td>\n",
       "      <td>3</td>\n",
       "      <td>more like funchuck</td>\n",
       "      <td>gave dad gag gift directing nunsense got reall...</td>\n",
       "    </tr>\n",
       "    <tr>\n",
       "      <td>1</td>\n",
       "      <td>5</td>\n",
       "      <td>Inspiring</td>\n",
       "      <td>hope lot people hear cd need strong positive v...</td>\n",
       "    </tr>\n",
       "    <tr>\n",
       "      <td>2</td>\n",
       "      <td>5</td>\n",
       "      <td>The best soundtrack ever to anything.</td>\n",
       "      <td>reading lot review saying best game soundtrack...</td>\n",
       "    </tr>\n",
       "    <tr>\n",
       "      <td>3</td>\n",
       "      <td>4</td>\n",
       "      <td>Chrono Cross OST</td>\n",
       "      <td>music yasunori misuda without question close s...</td>\n",
       "    </tr>\n",
       "    <tr>\n",
       "      <td>4</td>\n",
       "      <td>5</td>\n",
       "      <td>Too good to be true</td>\n",
       "      <td>probably greatest soundtrack history usually b...</td>\n",
       "    </tr>\n",
       "    <tr>\n",
       "      <td>...</td>\n",
       "      <td>...</td>\n",
       "      <td>...</td>\n",
       "      <td>...</td>\n",
       "    </tr>\n",
       "    <tr>\n",
       "      <td>4994</td>\n",
       "      <td>2</td>\n",
       "      <td>Waste oF $MONEY$</td>\n",
       "      <td>waste time money found want win big put money ...</td>\n",
       "    </tr>\n",
       "    <tr>\n",
       "      <td>4995</td>\n",
       "      <td>4</td>\n",
       "      <td>trying to win better</td>\n",
       "      <td>book cut odds better chance winning lotto game...</td>\n",
       "    </tr>\n",
       "    <tr>\n",
       "      <td>4996</td>\n",
       "      <td>2</td>\n",
       "      <td>don\"t waste your money just buy the the lotter...</td>\n",
       "      <td>book almost information lottery master guide f...</td>\n",
       "    </tr>\n",
       "    <tr>\n",
       "      <td>4997</td>\n",
       "      <td>2</td>\n",
       "      <td>The odds are against you not for you.</td>\n",
       "      <td>winning pure luck no amount strategy unless al...</td>\n",
       "    </tr>\n",
       "    <tr>\n",
       "      <td>4998</td>\n",
       "      <td>1</td>\n",
       "      <td>Incorrect Product Information</td>\n",
       "      <td>actual model meter unsure number relevant fluk...</td>\n",
       "    </tr>\n",
       "  </tbody>\n",
       "</table>\n",
       "<p>4999 rows × 3 columns</p>\n",
       "</div>"
      ],
      "text/plain": [
       "      Review                                              Title  \\\n",
       "0          3                                 more like funchuck   \n",
       "1          5                                          Inspiring   \n",
       "2          5              The best soundtrack ever to anything.   \n",
       "3          4                                   Chrono Cross OST   \n",
       "4          5                                Too good to be true   \n",
       "...      ...                                                ...   \n",
       "4994       2                                   Waste oF $MONEY$   \n",
       "4995       4                               trying to win better   \n",
       "4996       2  don\"t waste your money just buy the the lotter...   \n",
       "4997       2              The odds are against you not for you.   \n",
       "4998       1                      Incorrect Product Information   \n",
       "\n",
       "                                                   Text  \n",
       "0     gave dad gag gift directing nunsense got reall...  \n",
       "1     hope lot people hear cd need strong positive v...  \n",
       "2     reading lot review saying best game soundtrack...  \n",
       "3     music yasunori misuda without question close s...  \n",
       "4     probably greatest soundtrack history usually b...  \n",
       "...                                                 ...  \n",
       "4994  waste time money found want win big put money ...  \n",
       "4995  book cut odds better chance winning lotto game...  \n",
       "4996  book almost information lottery master guide f...  \n",
       "4997  winning pure luck no amount strategy unless al...  \n",
       "4998  actual model meter unsure number relevant fluk...  \n",
       "\n",
       "[4999 rows x 3 columns]"
      ]
     },
     "execution_count": 148,
     "metadata": {},
     "output_type": "execute_result"
    }
   ],
   "source": [
    "#calling the lemmatization function\n",
    "dataset = Lemmatizaton_text(dataset)\n",
    "dataset"
   ]
  },
  {
   "cell_type": "markdown",
   "metadata": {},
   "source": [
    "<h3> Calculating the word occurences in the dataset <i>(After stopwords removal and lemmatization)</i></h3>"
   ]
  },
  {
   "cell_type": "code",
   "execution_count": 149,
   "metadata": {},
   "outputs": [],
   "source": [
    "#calling word_occurence function\n",
    "dataset_count_after = word_occurence(dataset)"
   ]
  },
  {
   "cell_type": "code",
   "execution_count": 150,
   "metadata": {},
   "outputs": [
    {
     "data": {
      "text/html": [
       "        <script type=\"text/javascript\">\n",
       "        window.PlotlyConfig = {MathJaxConfig: 'local'};\n",
       "        if (window.MathJax) {MathJax.Hub.Config({SVG: {font: \"STIX-Web\"}});}\n",
       "        if (typeof require !== 'undefined') {\n",
       "        require.undef(\"plotly\");\n",
       "        requirejs.config({\n",
       "            paths: {\n",
       "                'plotly': ['https://cdn.plot.ly/plotly-latest.min']\n",
       "            }\n",
       "        });\n",
       "        require(['plotly'], function(Plotly) {\n",
       "            window._Plotly = Plotly;\n",
       "        });\n",
       "        }\n",
       "        </script>\n",
       "        "
      ]
     },
     "metadata": {},
     "output_type": "display_data"
    }
   ],
   "source": [
    "#calling freq_word function\n",
    "dataset_count_after_bar = freq_word(dataset_count_after)"
   ]
  },
  {
   "cell_type": "code",
   "execution_count": 151,
   "metadata": {},
   "outputs": [
    {
     "data": {
      "application/vnd.plotly.v1+json": {
       "config": {
        "linkText": "Export to plot.ly",
        "plotlyServerURL": "https://plot.ly",
        "showLink": false
       },
       "data": [
        {
         "marker": {
          "color": [
           5565,
           3265,
           1915,
           1422,
           1341,
           1272,
           1251,
           1181,
           1139,
           1042,
           988,
           884,
           862,
           790,
           781,
           760,
           706,
           701,
           692,
           662,
           637,
           579,
           575,
           573,
           548,
           534,
           531,
           528,
           512,
           504,
           489,
           487,
           463,
           458,
           458,
           452,
           447,
           438,
           434,
           432,
           430,
           429,
           429,
           428,
           414,
           412,
           410,
           400,
           398,
           392,
           392,
           391,
           389,
           385,
           378,
           378,
           374,
           370,
           367,
           366,
           363,
           350,
           349,
           349,
           349,
           346,
           346,
           341,
           336,
           333,
           332,
           330,
           327,
           316,
           315,
           314,
           310,
           310,
           306,
           305,
           302,
           302,
           299,
           294,
           291,
           288,
           288,
           276,
           274,
           271,
           270,
           270,
           270,
           269,
           268,
           267,
           264,
           263,
           262,
           261
          ],
          "colorscale": [
           [
            0,
            "#440154"
           ],
           [
            0.1111111111111111,
            "#482878"
           ],
           [
            0.2222222222222222,
            "#3e4989"
           ],
           [
            0.3333333333333333,
            "#31688e"
           ],
           [
            0.4444444444444444,
            "#26828e"
           ],
           [
            0.5555555555555556,
            "#1f9e89"
           ],
           [
            0.6666666666666666,
            "#35b779"
           ],
           [
            0.7777777777777778,
            "#6ece58"
           ],
           [
            0.8888888888888888,
            "#b5de2b"
           ],
           [
            1,
            "#fde725"
           ]
          ]
         },
         "text": "Word counts",
         "type": "bar",
         "x": [
          "not",
          "book",
          "one",
          "like",
          "would",
          "read",
          "good",
          "time",
          "movie",
          "get",
          "great",
          "no",
          "really",
          "story",
          "much",
          "well",
          "first",
          "work",
          "make",
          "could",
          "even",
          "year",
          "love",
          "also",
          "better",
          "little",
          "think",
          "product",
          "buy",
          "character",
          "way",
          "thing",
          "know",
          "new",
          "bought",
          "back",
          "many",
          "people",
          "song",
          "cd",
          "album",
          "use",
          "find",
          "still",
          "go",
          "got",
          "two",
          "want",
          "see",
          "best"
         ],
         "y": [
          5565,
          3265,
          1915,
          1422,
          1341,
          1272,
          1251,
          1181,
          1139,
          1042,
          988,
          884,
          862,
          790,
          781,
          760,
          706,
          701,
          692,
          662,
          637,
          579,
          575,
          573,
          548,
          534,
          531,
          528,
          512,
          504,
          489,
          487,
          463,
          458,
          458,
          452,
          447,
          438,
          434,
          432,
          430,
          429,
          429,
          428,
          414,
          412,
          410,
          400,
          398,
          392
         ]
        }
       ],
       "layout": {
        "template": {
         "data": {
          "bar": [
           {
            "error_x": {
             "color": "#2a3f5f"
            },
            "error_y": {
             "color": "#2a3f5f"
            },
            "marker": {
             "line": {
              "color": "#E5ECF6",
              "width": 0.5
             }
            },
            "type": "bar"
           }
          ],
          "barpolar": [
           {
            "marker": {
             "line": {
              "color": "#E5ECF6",
              "width": 0.5
             }
            },
            "type": "barpolar"
           }
          ],
          "carpet": [
           {
            "aaxis": {
             "endlinecolor": "#2a3f5f",
             "gridcolor": "white",
             "linecolor": "white",
             "minorgridcolor": "white",
             "startlinecolor": "#2a3f5f"
            },
            "baxis": {
             "endlinecolor": "#2a3f5f",
             "gridcolor": "white",
             "linecolor": "white",
             "minorgridcolor": "white",
             "startlinecolor": "#2a3f5f"
            },
            "type": "carpet"
           }
          ],
          "choropleth": [
           {
            "colorbar": {
             "outlinewidth": 0,
             "ticks": ""
            },
            "type": "choropleth"
           }
          ],
          "contour": [
           {
            "colorbar": {
             "outlinewidth": 0,
             "ticks": ""
            },
            "colorscale": [
             [
              0,
              "#0d0887"
             ],
             [
              0.1111111111111111,
              "#46039f"
             ],
             [
              0.2222222222222222,
              "#7201a8"
             ],
             [
              0.3333333333333333,
              "#9c179e"
             ],
             [
              0.4444444444444444,
              "#bd3786"
             ],
             [
              0.5555555555555556,
              "#d8576b"
             ],
             [
              0.6666666666666666,
              "#ed7953"
             ],
             [
              0.7777777777777778,
              "#fb9f3a"
             ],
             [
              0.8888888888888888,
              "#fdca26"
             ],
             [
              1,
              "#f0f921"
             ]
            ],
            "type": "contour"
           }
          ],
          "contourcarpet": [
           {
            "colorbar": {
             "outlinewidth": 0,
             "ticks": ""
            },
            "type": "contourcarpet"
           }
          ],
          "heatmap": [
           {
            "colorbar": {
             "outlinewidth": 0,
             "ticks": ""
            },
            "colorscale": [
             [
              0,
              "#0d0887"
             ],
             [
              0.1111111111111111,
              "#46039f"
             ],
             [
              0.2222222222222222,
              "#7201a8"
             ],
             [
              0.3333333333333333,
              "#9c179e"
             ],
             [
              0.4444444444444444,
              "#bd3786"
             ],
             [
              0.5555555555555556,
              "#d8576b"
             ],
             [
              0.6666666666666666,
              "#ed7953"
             ],
             [
              0.7777777777777778,
              "#fb9f3a"
             ],
             [
              0.8888888888888888,
              "#fdca26"
             ],
             [
              1,
              "#f0f921"
             ]
            ],
            "type": "heatmap"
           }
          ],
          "heatmapgl": [
           {
            "colorbar": {
             "outlinewidth": 0,
             "ticks": ""
            },
            "colorscale": [
             [
              0,
              "#0d0887"
             ],
             [
              0.1111111111111111,
              "#46039f"
             ],
             [
              0.2222222222222222,
              "#7201a8"
             ],
             [
              0.3333333333333333,
              "#9c179e"
             ],
             [
              0.4444444444444444,
              "#bd3786"
             ],
             [
              0.5555555555555556,
              "#d8576b"
             ],
             [
              0.6666666666666666,
              "#ed7953"
             ],
             [
              0.7777777777777778,
              "#fb9f3a"
             ],
             [
              0.8888888888888888,
              "#fdca26"
             ],
             [
              1,
              "#f0f921"
             ]
            ],
            "type": "heatmapgl"
           }
          ],
          "histogram": [
           {
            "marker": {
             "colorbar": {
              "outlinewidth": 0,
              "ticks": ""
             }
            },
            "type": "histogram"
           }
          ],
          "histogram2d": [
           {
            "colorbar": {
             "outlinewidth": 0,
             "ticks": ""
            },
            "colorscale": [
             [
              0,
              "#0d0887"
             ],
             [
              0.1111111111111111,
              "#46039f"
             ],
             [
              0.2222222222222222,
              "#7201a8"
             ],
             [
              0.3333333333333333,
              "#9c179e"
             ],
             [
              0.4444444444444444,
              "#bd3786"
             ],
             [
              0.5555555555555556,
              "#d8576b"
             ],
             [
              0.6666666666666666,
              "#ed7953"
             ],
             [
              0.7777777777777778,
              "#fb9f3a"
             ],
             [
              0.8888888888888888,
              "#fdca26"
             ],
             [
              1,
              "#f0f921"
             ]
            ],
            "type": "histogram2d"
           }
          ],
          "histogram2dcontour": [
           {
            "colorbar": {
             "outlinewidth": 0,
             "ticks": ""
            },
            "colorscale": [
             [
              0,
              "#0d0887"
             ],
             [
              0.1111111111111111,
              "#46039f"
             ],
             [
              0.2222222222222222,
              "#7201a8"
             ],
             [
              0.3333333333333333,
              "#9c179e"
             ],
             [
              0.4444444444444444,
              "#bd3786"
             ],
             [
              0.5555555555555556,
              "#d8576b"
             ],
             [
              0.6666666666666666,
              "#ed7953"
             ],
             [
              0.7777777777777778,
              "#fb9f3a"
             ],
             [
              0.8888888888888888,
              "#fdca26"
             ],
             [
              1,
              "#f0f921"
             ]
            ],
            "type": "histogram2dcontour"
           }
          ],
          "mesh3d": [
           {
            "colorbar": {
             "outlinewidth": 0,
             "ticks": ""
            },
            "type": "mesh3d"
           }
          ],
          "parcoords": [
           {
            "line": {
             "colorbar": {
              "outlinewidth": 0,
              "ticks": ""
             }
            },
            "type": "parcoords"
           }
          ],
          "pie": [
           {
            "automargin": true,
            "type": "pie"
           }
          ],
          "scatter": [
           {
            "marker": {
             "colorbar": {
              "outlinewidth": 0,
              "ticks": ""
             }
            },
            "type": "scatter"
           }
          ],
          "scatter3d": [
           {
            "line": {
             "colorbar": {
              "outlinewidth": 0,
              "ticks": ""
             }
            },
            "marker": {
             "colorbar": {
              "outlinewidth": 0,
              "ticks": ""
             }
            },
            "type": "scatter3d"
           }
          ],
          "scattercarpet": [
           {
            "marker": {
             "colorbar": {
              "outlinewidth": 0,
              "ticks": ""
             }
            },
            "type": "scattercarpet"
           }
          ],
          "scattergeo": [
           {
            "marker": {
             "colorbar": {
              "outlinewidth": 0,
              "ticks": ""
             }
            },
            "type": "scattergeo"
           }
          ],
          "scattergl": [
           {
            "marker": {
             "colorbar": {
              "outlinewidth": 0,
              "ticks": ""
             }
            },
            "type": "scattergl"
           }
          ],
          "scattermapbox": [
           {
            "marker": {
             "colorbar": {
              "outlinewidth": 0,
              "ticks": ""
             }
            },
            "type": "scattermapbox"
           }
          ],
          "scatterpolar": [
           {
            "marker": {
             "colorbar": {
              "outlinewidth": 0,
              "ticks": ""
             }
            },
            "type": "scatterpolar"
           }
          ],
          "scatterpolargl": [
           {
            "marker": {
             "colorbar": {
              "outlinewidth": 0,
              "ticks": ""
             }
            },
            "type": "scatterpolargl"
           }
          ],
          "scatterternary": [
           {
            "marker": {
             "colorbar": {
              "outlinewidth": 0,
              "ticks": ""
             }
            },
            "type": "scatterternary"
           }
          ],
          "surface": [
           {
            "colorbar": {
             "outlinewidth": 0,
             "ticks": ""
            },
            "colorscale": [
             [
              0,
              "#0d0887"
             ],
             [
              0.1111111111111111,
              "#46039f"
             ],
             [
              0.2222222222222222,
              "#7201a8"
             ],
             [
              0.3333333333333333,
              "#9c179e"
             ],
             [
              0.4444444444444444,
              "#bd3786"
             ],
             [
              0.5555555555555556,
              "#d8576b"
             ],
             [
              0.6666666666666666,
              "#ed7953"
             ],
             [
              0.7777777777777778,
              "#fb9f3a"
             ],
             [
              0.8888888888888888,
              "#fdca26"
             ],
             [
              1,
              "#f0f921"
             ]
            ],
            "type": "surface"
           }
          ],
          "table": [
           {
            "cells": {
             "fill": {
              "color": "#EBF0F8"
             },
             "line": {
              "color": "white"
             }
            },
            "header": {
             "fill": {
              "color": "#C8D4E3"
             },
             "line": {
              "color": "white"
             }
            },
            "type": "table"
           }
          ]
         },
         "layout": {
          "annotationdefaults": {
           "arrowcolor": "#2a3f5f",
           "arrowhead": 0,
           "arrowwidth": 1
          },
          "coloraxis": {
           "colorbar": {
            "outlinewidth": 0,
            "ticks": ""
           }
          },
          "colorscale": {
           "diverging": [
            [
             0,
             "#8e0152"
            ],
            [
             0.1,
             "#c51b7d"
            ],
            [
             0.2,
             "#de77ae"
            ],
            [
             0.3,
             "#f1b6da"
            ],
            [
             0.4,
             "#fde0ef"
            ],
            [
             0.5,
             "#f7f7f7"
            ],
            [
             0.6,
             "#e6f5d0"
            ],
            [
             0.7,
             "#b8e186"
            ],
            [
             0.8,
             "#7fbc41"
            ],
            [
             0.9,
             "#4d9221"
            ],
            [
             1,
             "#276419"
            ]
           ],
           "sequential": [
            [
             0,
             "#0d0887"
            ],
            [
             0.1111111111111111,
             "#46039f"
            ],
            [
             0.2222222222222222,
             "#7201a8"
            ],
            [
             0.3333333333333333,
             "#9c179e"
            ],
            [
             0.4444444444444444,
             "#bd3786"
            ],
            [
             0.5555555555555556,
             "#d8576b"
            ],
            [
             0.6666666666666666,
             "#ed7953"
            ],
            [
             0.7777777777777778,
             "#fb9f3a"
            ],
            [
             0.8888888888888888,
             "#fdca26"
            ],
            [
             1,
             "#f0f921"
            ]
           ],
           "sequentialminus": [
            [
             0,
             "#0d0887"
            ],
            [
             0.1111111111111111,
             "#46039f"
            ],
            [
             0.2222222222222222,
             "#7201a8"
            ],
            [
             0.3333333333333333,
             "#9c179e"
            ],
            [
             0.4444444444444444,
             "#bd3786"
            ],
            [
             0.5555555555555556,
             "#d8576b"
            ],
            [
             0.6666666666666666,
             "#ed7953"
            ],
            [
             0.7777777777777778,
             "#fb9f3a"
            ],
            [
             0.8888888888888888,
             "#fdca26"
            ],
            [
             1,
             "#f0f921"
            ]
           ]
          },
          "colorway": [
           "#636efa",
           "#EF553B",
           "#00cc96",
           "#ab63fa",
           "#FFA15A",
           "#19d3f3",
           "#FF6692",
           "#B6E880",
           "#FF97FF",
           "#FECB52"
          ],
          "font": {
           "color": "#2a3f5f"
          },
          "geo": {
           "bgcolor": "white",
           "lakecolor": "white",
           "landcolor": "#E5ECF6",
           "showlakes": true,
           "showland": true,
           "subunitcolor": "white"
          },
          "hoverlabel": {
           "align": "left"
          },
          "hovermode": "closest",
          "mapbox": {
           "style": "light"
          },
          "paper_bgcolor": "white",
          "plot_bgcolor": "#E5ECF6",
          "polar": {
           "angularaxis": {
            "gridcolor": "white",
            "linecolor": "white",
            "ticks": ""
           },
           "bgcolor": "#E5ECF6",
           "radialaxis": {
            "gridcolor": "white",
            "linecolor": "white",
            "ticks": ""
           }
          },
          "scene": {
           "xaxis": {
            "backgroundcolor": "#E5ECF6",
            "gridcolor": "white",
            "gridwidth": 2,
            "linecolor": "white",
            "showbackground": true,
            "ticks": "",
            "zerolinecolor": "white"
           },
           "yaxis": {
            "backgroundcolor": "#E5ECF6",
            "gridcolor": "white",
            "gridwidth": 2,
            "linecolor": "white",
            "showbackground": true,
            "ticks": "",
            "zerolinecolor": "white"
           },
           "zaxis": {
            "backgroundcolor": "#E5ECF6",
            "gridcolor": "white",
            "gridwidth": 2,
            "linecolor": "white",
            "showbackground": true,
            "ticks": "",
            "zerolinecolor": "white"
           }
          },
          "shapedefaults": {
           "line": {
            "color": "#2a3f5f"
           }
          },
          "ternary": {
           "aaxis": {
            "gridcolor": "white",
            "linecolor": "white",
            "ticks": ""
           },
           "baxis": {
            "gridcolor": "white",
            "linecolor": "white",
            "ticks": ""
           },
           "bgcolor": "#E5ECF6",
           "caxis": {
            "gridcolor": "white",
            "linecolor": "white",
            "ticks": ""
           }
          },
          "title": {
           "x": 0.05
          },
          "xaxis": {
           "automargin": true,
           "gridcolor": "white",
           "linecolor": "white",
           "ticks": "",
           "title": {
            "standoff": 15
           },
           "zerolinecolor": "white",
           "zerolinewidth": 2
          },
          "yaxis": {
           "automargin": true,
           "gridcolor": "white",
           "linecolor": "white",
           "ticks": "",
           "title": {
            "standoff": 15
           },
           "zerolinecolor": "white",
           "zerolinewidth": 2
          }
         }
        },
        "title": {
         "text": "Frequent occuring words"
        }
       }
      },
      "text/html": [
       "<div>\n",
       "        \n",
       "        \n",
       "            <div id=\"654cd5fd-f17f-4213-8e28-846dad6488b9\" class=\"plotly-graph-div\" style=\"height:525px; width:100%;\"></div>\n",
       "            <script type=\"text/javascript\">\n",
       "                require([\"plotly\"], function(Plotly) {\n",
       "                    window.PLOTLYENV=window.PLOTLYENV || {};\n",
       "                    \n",
       "                if (document.getElementById(\"654cd5fd-f17f-4213-8e28-846dad6488b9\")) {\n",
       "                    Plotly.newPlot(\n",
       "                        '654cd5fd-f17f-4213-8e28-846dad6488b9',\n",
       "                        [{\"marker\": {\"color\": [5565, 3265, 1915, 1422, 1341, 1272, 1251, 1181, 1139, 1042, 988, 884, 862, 790, 781, 760, 706, 701, 692, 662, 637, 579, 575, 573, 548, 534, 531, 528, 512, 504, 489, 487, 463, 458, 458, 452, 447, 438, 434, 432, 430, 429, 429, 428, 414, 412, 410, 400, 398, 392, 392, 391, 389, 385, 378, 378, 374, 370, 367, 366, 363, 350, 349, 349, 349, 346, 346, 341, 336, 333, 332, 330, 327, 316, 315, 314, 310, 310, 306, 305, 302, 302, 299, 294, 291, 288, 288, 276, 274, 271, 270, 270, 270, 269, 268, 267, 264, 263, 262, 261], \"colorscale\": [[0.0, \"#440154\"], [0.1111111111111111, \"#482878\"], [0.2222222222222222, \"#3e4989\"], [0.3333333333333333, \"#31688e\"], [0.4444444444444444, \"#26828e\"], [0.5555555555555556, \"#1f9e89\"], [0.6666666666666666, \"#35b779\"], [0.7777777777777778, \"#6ece58\"], [0.8888888888888888, \"#b5de2b\"], [1.0, \"#fde725\"]]}, \"text\": \"Word counts\", \"type\": \"bar\", \"x\": [\"not\", \"book\", \"one\", \"like\", \"would\", \"read\", \"good\", \"time\", \"movie\", \"get\", \"great\", \"no\", \"really\", \"story\", \"much\", \"well\", \"first\", \"work\", \"make\", \"could\", \"even\", \"year\", \"love\", \"also\", \"better\", \"little\", \"think\", \"product\", \"buy\", \"character\", \"way\", \"thing\", \"know\", \"new\", \"bought\", \"back\", \"many\", \"people\", \"song\", \"cd\", \"album\", \"use\", \"find\", \"still\", \"go\", \"got\", \"two\", \"want\", \"see\", \"best\"], \"y\": [5565, 3265, 1915, 1422, 1341, 1272, 1251, 1181, 1139, 1042, 988, 884, 862, 790, 781, 760, 706, 701, 692, 662, 637, 579, 575, 573, 548, 534, 531, 528, 512, 504, 489, 487, 463, 458, 458, 452, 447, 438, 434, 432, 430, 429, 429, 428, 414, 412, 410, 400, 398, 392]}],\n",
       "                        {\"template\": {\"data\": {\"bar\": [{\"error_x\": {\"color\": \"#2a3f5f\"}, \"error_y\": {\"color\": \"#2a3f5f\"}, \"marker\": {\"line\": {\"color\": \"#E5ECF6\", \"width\": 0.5}}, \"type\": \"bar\"}], \"barpolar\": [{\"marker\": {\"line\": {\"color\": \"#E5ECF6\", \"width\": 0.5}}, \"type\": \"barpolar\"}], \"carpet\": [{\"aaxis\": {\"endlinecolor\": \"#2a3f5f\", \"gridcolor\": \"white\", \"linecolor\": \"white\", \"minorgridcolor\": \"white\", \"startlinecolor\": \"#2a3f5f\"}, \"baxis\": {\"endlinecolor\": \"#2a3f5f\", \"gridcolor\": \"white\", \"linecolor\": \"white\", \"minorgridcolor\": \"white\", \"startlinecolor\": \"#2a3f5f\"}, \"type\": \"carpet\"}], \"choropleth\": [{\"colorbar\": {\"outlinewidth\": 0, \"ticks\": \"\"}, \"type\": \"choropleth\"}], \"contour\": [{\"colorbar\": {\"outlinewidth\": 0, \"ticks\": \"\"}, \"colorscale\": [[0.0, \"#0d0887\"], [0.1111111111111111, \"#46039f\"], [0.2222222222222222, \"#7201a8\"], [0.3333333333333333, \"#9c179e\"], [0.4444444444444444, \"#bd3786\"], [0.5555555555555556, \"#d8576b\"], [0.6666666666666666, \"#ed7953\"], [0.7777777777777778, \"#fb9f3a\"], [0.8888888888888888, \"#fdca26\"], [1.0, \"#f0f921\"]], \"type\": \"contour\"}], \"contourcarpet\": [{\"colorbar\": {\"outlinewidth\": 0, \"ticks\": \"\"}, \"type\": \"contourcarpet\"}], \"heatmap\": [{\"colorbar\": {\"outlinewidth\": 0, \"ticks\": \"\"}, \"colorscale\": [[0.0, \"#0d0887\"], [0.1111111111111111, \"#46039f\"], [0.2222222222222222, \"#7201a8\"], [0.3333333333333333, \"#9c179e\"], [0.4444444444444444, \"#bd3786\"], [0.5555555555555556, \"#d8576b\"], [0.6666666666666666, \"#ed7953\"], [0.7777777777777778, \"#fb9f3a\"], [0.8888888888888888, \"#fdca26\"], [1.0, \"#f0f921\"]], \"type\": \"heatmap\"}], \"heatmapgl\": [{\"colorbar\": {\"outlinewidth\": 0, \"ticks\": \"\"}, \"colorscale\": [[0.0, \"#0d0887\"], [0.1111111111111111, \"#46039f\"], [0.2222222222222222, \"#7201a8\"], [0.3333333333333333, \"#9c179e\"], [0.4444444444444444, \"#bd3786\"], [0.5555555555555556, \"#d8576b\"], [0.6666666666666666, \"#ed7953\"], [0.7777777777777778, \"#fb9f3a\"], [0.8888888888888888, \"#fdca26\"], [1.0, \"#f0f921\"]], \"type\": \"heatmapgl\"}], \"histogram\": [{\"marker\": {\"colorbar\": {\"outlinewidth\": 0, \"ticks\": \"\"}}, \"type\": \"histogram\"}], \"histogram2d\": [{\"colorbar\": {\"outlinewidth\": 0, \"ticks\": \"\"}, \"colorscale\": [[0.0, \"#0d0887\"], [0.1111111111111111, \"#46039f\"], [0.2222222222222222, \"#7201a8\"], [0.3333333333333333, \"#9c179e\"], [0.4444444444444444, \"#bd3786\"], [0.5555555555555556, \"#d8576b\"], [0.6666666666666666, \"#ed7953\"], [0.7777777777777778, \"#fb9f3a\"], [0.8888888888888888, \"#fdca26\"], [1.0, \"#f0f921\"]], \"type\": \"histogram2d\"}], \"histogram2dcontour\": [{\"colorbar\": {\"outlinewidth\": 0, \"ticks\": \"\"}, \"colorscale\": [[0.0, \"#0d0887\"], [0.1111111111111111, \"#46039f\"], [0.2222222222222222, \"#7201a8\"], [0.3333333333333333, \"#9c179e\"], [0.4444444444444444, \"#bd3786\"], [0.5555555555555556, \"#d8576b\"], [0.6666666666666666, \"#ed7953\"], [0.7777777777777778, \"#fb9f3a\"], [0.8888888888888888, \"#fdca26\"], [1.0, \"#f0f921\"]], \"type\": \"histogram2dcontour\"}], \"mesh3d\": [{\"colorbar\": {\"outlinewidth\": 0, \"ticks\": \"\"}, \"type\": \"mesh3d\"}], \"parcoords\": [{\"line\": {\"colorbar\": {\"outlinewidth\": 0, \"ticks\": \"\"}}, \"type\": \"parcoords\"}], \"pie\": [{\"automargin\": true, \"type\": \"pie\"}], \"scatter\": [{\"marker\": {\"colorbar\": {\"outlinewidth\": 0, \"ticks\": \"\"}}, \"type\": \"scatter\"}], \"scatter3d\": [{\"line\": {\"colorbar\": {\"outlinewidth\": 0, \"ticks\": \"\"}}, \"marker\": {\"colorbar\": {\"outlinewidth\": 0, \"ticks\": \"\"}}, \"type\": \"scatter3d\"}], \"scattercarpet\": [{\"marker\": {\"colorbar\": {\"outlinewidth\": 0, \"ticks\": \"\"}}, \"type\": \"scattercarpet\"}], \"scattergeo\": [{\"marker\": {\"colorbar\": {\"outlinewidth\": 0, \"ticks\": \"\"}}, \"type\": \"scattergeo\"}], \"scattergl\": [{\"marker\": {\"colorbar\": {\"outlinewidth\": 0, \"ticks\": \"\"}}, \"type\": \"scattergl\"}], \"scattermapbox\": [{\"marker\": {\"colorbar\": {\"outlinewidth\": 0, \"ticks\": \"\"}}, \"type\": \"scattermapbox\"}], \"scatterpolar\": [{\"marker\": {\"colorbar\": {\"outlinewidth\": 0, \"ticks\": \"\"}}, \"type\": \"scatterpolar\"}], \"scatterpolargl\": [{\"marker\": {\"colorbar\": {\"outlinewidth\": 0, \"ticks\": \"\"}}, \"type\": \"scatterpolargl\"}], \"scatterternary\": [{\"marker\": {\"colorbar\": {\"outlinewidth\": 0, \"ticks\": \"\"}}, \"type\": \"scatterternary\"}], \"surface\": [{\"colorbar\": {\"outlinewidth\": 0, \"ticks\": \"\"}, \"colorscale\": [[0.0, \"#0d0887\"], [0.1111111111111111, \"#46039f\"], [0.2222222222222222, \"#7201a8\"], [0.3333333333333333, \"#9c179e\"], [0.4444444444444444, \"#bd3786\"], [0.5555555555555556, \"#d8576b\"], [0.6666666666666666, \"#ed7953\"], [0.7777777777777778, \"#fb9f3a\"], [0.8888888888888888, \"#fdca26\"], [1.0, \"#f0f921\"]], \"type\": \"surface\"}], \"table\": [{\"cells\": {\"fill\": {\"color\": \"#EBF0F8\"}, \"line\": {\"color\": \"white\"}}, \"header\": {\"fill\": {\"color\": \"#C8D4E3\"}, \"line\": {\"color\": \"white\"}}, \"type\": \"table\"}]}, \"layout\": {\"annotationdefaults\": {\"arrowcolor\": \"#2a3f5f\", \"arrowhead\": 0, \"arrowwidth\": 1}, \"coloraxis\": {\"colorbar\": {\"outlinewidth\": 0, \"ticks\": \"\"}}, \"colorscale\": {\"diverging\": [[0, \"#8e0152\"], [0.1, \"#c51b7d\"], [0.2, \"#de77ae\"], [0.3, \"#f1b6da\"], [0.4, \"#fde0ef\"], [0.5, \"#f7f7f7\"], [0.6, \"#e6f5d0\"], [0.7, \"#b8e186\"], [0.8, \"#7fbc41\"], [0.9, \"#4d9221\"], [1, \"#276419\"]], \"sequential\": [[0.0, \"#0d0887\"], [0.1111111111111111, \"#46039f\"], [0.2222222222222222, \"#7201a8\"], [0.3333333333333333, \"#9c179e\"], [0.4444444444444444, \"#bd3786\"], [0.5555555555555556, \"#d8576b\"], [0.6666666666666666, \"#ed7953\"], [0.7777777777777778, \"#fb9f3a\"], [0.8888888888888888, \"#fdca26\"], [1.0, \"#f0f921\"]], \"sequentialminus\": [[0.0, \"#0d0887\"], [0.1111111111111111, \"#46039f\"], [0.2222222222222222, \"#7201a8\"], [0.3333333333333333, \"#9c179e\"], [0.4444444444444444, \"#bd3786\"], [0.5555555555555556, \"#d8576b\"], [0.6666666666666666, \"#ed7953\"], [0.7777777777777778, \"#fb9f3a\"], [0.8888888888888888, \"#fdca26\"], [1.0, \"#f0f921\"]]}, \"colorway\": [\"#636efa\", \"#EF553B\", \"#00cc96\", \"#ab63fa\", \"#FFA15A\", \"#19d3f3\", \"#FF6692\", \"#B6E880\", \"#FF97FF\", \"#FECB52\"], \"font\": {\"color\": \"#2a3f5f\"}, \"geo\": {\"bgcolor\": \"white\", \"lakecolor\": \"white\", \"landcolor\": \"#E5ECF6\", \"showlakes\": true, \"showland\": true, \"subunitcolor\": \"white\"}, \"hoverlabel\": {\"align\": \"left\"}, \"hovermode\": \"closest\", \"mapbox\": {\"style\": \"light\"}, \"paper_bgcolor\": \"white\", \"plot_bgcolor\": \"#E5ECF6\", \"polar\": {\"angularaxis\": {\"gridcolor\": \"white\", \"linecolor\": \"white\", \"ticks\": \"\"}, \"bgcolor\": \"#E5ECF6\", \"radialaxis\": {\"gridcolor\": \"white\", \"linecolor\": \"white\", \"ticks\": \"\"}}, \"scene\": {\"xaxis\": {\"backgroundcolor\": \"#E5ECF6\", \"gridcolor\": \"white\", \"gridwidth\": 2, \"linecolor\": \"white\", \"showbackground\": true, \"ticks\": \"\", \"zerolinecolor\": \"white\"}, \"yaxis\": {\"backgroundcolor\": \"#E5ECF6\", \"gridcolor\": \"white\", \"gridwidth\": 2, \"linecolor\": \"white\", \"showbackground\": true, \"ticks\": \"\", \"zerolinecolor\": \"white\"}, \"zaxis\": {\"backgroundcolor\": \"#E5ECF6\", \"gridcolor\": \"white\", \"gridwidth\": 2, \"linecolor\": \"white\", \"showbackground\": true, \"ticks\": \"\", \"zerolinecolor\": \"white\"}}, \"shapedefaults\": {\"line\": {\"color\": \"#2a3f5f\"}}, \"ternary\": {\"aaxis\": {\"gridcolor\": \"white\", \"linecolor\": \"white\", \"ticks\": \"\"}, \"baxis\": {\"gridcolor\": \"white\", \"linecolor\": \"white\", \"ticks\": \"\"}, \"bgcolor\": \"#E5ECF6\", \"caxis\": {\"gridcolor\": \"white\", \"linecolor\": \"white\", \"ticks\": \"\"}}, \"title\": {\"x\": 0.05}, \"xaxis\": {\"automargin\": true, \"gridcolor\": \"white\", \"linecolor\": \"white\", \"ticks\": \"\", \"title\": {\"standoff\": 15}, \"zerolinecolor\": \"white\", \"zerolinewidth\": 2}, \"yaxis\": {\"automargin\": true, \"gridcolor\": \"white\", \"linecolor\": \"white\", \"ticks\": \"\", \"title\": {\"standoff\": 15}, \"zerolinecolor\": \"white\", \"zerolinewidth\": 2}}}, \"title\": {\"text\": \"Frequent occuring words\"}},\n",
       "                        {\"responsive\": true}\n",
       "                    ).then(function(){\n",
       "                            \n",
       "var gd = document.getElementById('654cd5fd-f17f-4213-8e28-846dad6488b9');\n",
       "var x = new MutationObserver(function (mutations, observer) {{\n",
       "        var display = window.getComputedStyle(gd).display;\n",
       "        if (!display || display === 'none') {{\n",
       "            console.log([gd, 'removed!']);\n",
       "            Plotly.purge(gd);\n",
       "            observer.disconnect();\n",
       "        }}\n",
       "}});\n",
       "\n",
       "// Listen for the removal of the full notebook cells\n",
       "var notebookContainer = gd.closest('#notebook-container');\n",
       "if (notebookContainer) {{\n",
       "    x.observe(notebookContainer, {childList: true});\n",
       "}}\n",
       "\n",
       "// Listen for the clearing of the current output cell\n",
       "var outputEl = gd.closest('.output');\n",
       "if (outputEl) {{\n",
       "    x.observe(outputEl, {childList: true});\n",
       "}}\n",
       "\n",
       "                        })\n",
       "                };\n",
       "                });\n",
       "            </script>\n",
       "        </div>"
      ]
     },
     "metadata": {},
     "output_type": "display_data"
    }
   ],
   "source": [
    "#displaying the bar chart for the words in the dataset\n",
    "iplot(dataset_count_after_bar, filename='basic-bar')"
   ]
  },
  {
   "cell_type": "code",
   "execution_count": 152,
   "metadata": {},
   "outputs": [],
   "source": [
    "#calling the wordcloud function\n",
    "dataset_count_after_wordcloud = wordcloud(dataset_count_after)\n",
    "# train_title_count_after_wordcloud = wordcloud(train_title_count_after)"
   ]
  },
  {
   "cell_type": "code",
   "execution_count": 153,
   "metadata": {},
   "outputs": [
    {
     "data": {
      "image/png": "[encoded data removed]",
      "text/plain": [
       "<Figure size 432x288 with 1 Axes>"
      ]
     },
     "metadata": {
      "needs_background": "light"
     },
     "output_type": "display_data"
    }
   ],
   "source": [
    "#displaying the worldcloud generated\n",
    "plt.imshow(dataset_count_after_wordcloud, interpolation='bilinear')\n",
    "plt.axis(\"off\")\n",
    "plt.title('Text')\n",
    "plt.show()"
   ]
  },
  {
   "cell_type": "markdown",
   "metadata": {},
   "source": [
    "<h3> Calculating the distribution of words in each review </h3>"
   ]
  },
  {
   "cell_type": "code",
   "execution_count": 154,
   "metadata": {},
   "outputs": [],
   "source": [
    "#function calculating the length of the sentences\n",
    "def count(df):\n",
    "    count = []\n",
    "    for i in df:\n",
    "        count.append(len(i.split(\" \")))\n",
    "    return count"
   ]
  },
  {
   "cell_type": "code",
   "execution_count": 155,
   "metadata": {},
   "outputs": [],
   "source": [
    "#calculate the text word and summary word counts\n",
    "dataset_text_word_count = count(dataset['Text'])"
   ]
  },
  {
   "cell_type": "code",
   "execution_count": 156,
   "metadata": {},
   "outputs": [
    {
     "data": {
      "image/png": "[encoded data removed]",
      "text/plain": [
       "<Figure size 432x288 with 1 Axes>"
      ]
     },
     "metadata": {
      "needs_background": "light"
     },
     "output_type": "display_data"
    }
   ],
   "source": [
    "#combining the length of text and summary as a list and store in a dataframe\n",
    "#display the histogram for the length of words in a sentence\n",
    "length_df = pd.DataFrame({'text':dataset_text_word_count})\n",
    "length_df.hist(bins = 30)\n",
    "plt.show()"
   ]
  },
  {
   "cell_type": "code",
   "execution_count": 157,
   "metadata": {},
   "outputs": [
    {
     "data": {
      "text/html": [
       "<div>\n",
       "<style scoped>\n",
       "    .dataframe tbody tr th:only-of-type {\n",
       "        vertical-align: middle;\n",
       "    }\n",
       "\n",
       "    .dataframe tbody tr th {\n",
       "        vertical-align: top;\n",
       "    }\n",
       "\n",
       "    .dataframe thead th {\n",
       "        text-align: right;\n",
       "    }\n",
       "</style>\n",
       "<table border=\"1\" class=\"dataframe\">\n",
       "  <thead>\n",
       "    <tr style=\"text-align: right;\">\n",
       "      <th></th>\n",
       "      <th>Review</th>\n",
       "      <th>Title</th>\n",
       "      <th>Text</th>\n",
       "    </tr>\n",
       "  </thead>\n",
       "  <tbody>\n",
       "    <tr>\n",
       "      <td>0</td>\n",
       "      <td>3</td>\n",
       "      <td>more like funchuck</td>\n",
       "      <td>gave dad gag gift directing nunsense got reall...</td>\n",
       "    </tr>\n",
       "    <tr>\n",
       "      <td>1</td>\n",
       "      <td>5</td>\n",
       "      <td>Inspiring</td>\n",
       "      <td>hope lot people hear cd need strong positive v...</td>\n",
       "    </tr>\n",
       "    <tr>\n",
       "      <td>2</td>\n",
       "      <td>5</td>\n",
       "      <td>The best soundtrack ever to anything.</td>\n",
       "      <td>reading lot review saying best game soundtrack...</td>\n",
       "    </tr>\n",
       "    <tr>\n",
       "      <td>3</td>\n",
       "      <td>4</td>\n",
       "      <td>Chrono Cross OST</td>\n",
       "      <td>music yasunori misuda without question close s...</td>\n",
       "    </tr>\n",
       "    <tr>\n",
       "      <td>4</td>\n",
       "      <td>5</td>\n",
       "      <td>Too good to be true</td>\n",
       "      <td>probably greatest soundtrack history usually b...</td>\n",
       "    </tr>\n",
       "  </tbody>\n",
       "</table>\n",
       "</div>"
      ],
      "text/plain": [
       "   Review                                  Title  \\\n",
       "0       3                     more like funchuck   \n",
       "1       5                              Inspiring   \n",
       "2       5  The best soundtrack ever to anything.   \n",
       "3       4                       Chrono Cross OST   \n",
       "4       5                    Too good to be true   \n",
       "\n",
       "                                                Text  \n",
       "0  gave dad gag gift directing nunsense got reall...  \n",
       "1  hope lot people hear cd need strong positive v...  \n",
       "2  reading lot review saying best game soundtrack...  \n",
       "3  music yasunori misuda without question close s...  \n",
       "4  probably greatest soundtrack history usually b...  "
      ]
     },
     "execution_count": 157,
     "metadata": {},
     "output_type": "execute_result"
    }
   ],
   "source": [
    "#displaying the sample rows of dataset\n",
    "dataset.head()"
   ]
  },
  {
   "cell_type": "code",
   "execution_count": 158,
   "metadata": {},
   "outputs": [],
   "source": [
    "#splitting the dataset\n",
    "feature = dataset.iloc[:,-1].values"
   ]
  },
  {
   "cell_type": "code",
   "execution_count": 159,
   "metadata": {},
   "outputs": [
    {
     "data": {
      "text/plain": [
       "array(['gave dad gag gift directing nunsense got reall kick',\n",
       "       'hope lot people hear cd need strong positive vibe like great vocal fresh tune cross cultural happiness blue gut pop sound catchy mature',\n",
       "       'reading lot review saying best game soundtrack figured write review disagree bit opinino yasunori mitsuda ultimate masterpiece music timeless listening year beauty simply refuse fade price tag pretty staggering must say going buy cd much money one feel would worth every penny',\n",
       "       ...,\n",
       "       'book almost information lottery master guide first time player pro player master guide best every book waste money',\n",
       "       'winning pure luck no amount strategy unless already rich believe not rich people play buy ticket week cannot reality take one set number win anyway gail conviently leaf one fact winner quick pick rest year number cannot predict powerball book good idea many people using kind random system doubt luck pure simple',\n",
       "       'actual model meter unsure number relevant fluke not identify number suspect component kit defunct therefore reason strange model number vendor list part number also suspect single sourced inventory item lot speculation else supposed one review state inaccuracy amazon rectified not valid excuse keep listing know inaccurate said excellent instrument amazon usually fair inaccuracy come return someone purchased not return maybe amazon not look listing suggest looking current probe visit link review proceed review improper listing'],\n",
       "      dtype=object)"
      ]
     },
     "execution_count": 159,
     "metadata": {},
     "output_type": "execute_result"
    }
   ],
   "source": [
    "feature"
   ]
  },
  {
   "cell_type": "markdown",
   "metadata": {},
   "source": [
    "<h3> Counting the frequent words used in review based on the threshold set </h3>"
   ]
  },
  {
   "cell_type": "code",
   "execution_count": 160,
   "metadata": {},
   "outputs": [
    {
     "name": "stdout",
     "output_type": "stream",
     "text": [
      "The most frequent words in the dataset 5519\n"
     ]
    }
   ],
   "source": [
    "threshold = 3\n",
    "count = 0\n",
    "for i in dataset_count_after:\n",
    "    if i > threshold:\n",
    "        count = count + 1\n",
    "print(\"The most frequent words in the dataset\",count)"
   ]
  },
  {
   "cell_type": "markdown",
   "metadata": {},
   "source": [
    "<h2> Feature Engineering </h2>"
   ]
  },
  {
   "cell_type": "markdown",
   "metadata": {},
   "source": [
    "<h3> Bag of Words </h3>"
   ]
  },
  {
   "cell_type": "code",
   "execution_count": 161,
   "metadata": {},
   "outputs": [],
   "source": [
    "cv_bow = CountVectorizer(max_features=5500)\n",
    "bow = cv_bow.fit_transform(feature).toarray()"
   ]
  },
  {
   "cell_type": "code",
   "execution_count": 162,
   "metadata": {},
   "outputs": [
    {
     "data": {
      "text/plain": [
       "array([[0, 0, 0, ..., 0, 0, 0],\n",
       "       [0, 0, 0, ..., 0, 0, 0],\n",
       "       [0, 0, 0, ..., 0, 0, 0],\n",
       "       ...,\n",
       "       [0, 0, 0, ..., 0, 0, 0],\n",
       "       [0, 0, 0, ..., 0, 0, 0],\n",
       "       [0, 0, 0, ..., 0, 0, 0]])"
      ]
     },
     "execution_count": 162,
     "metadata": {},
     "output_type": "execute_result"
    }
   ],
   "source": [
    "bow"
   ]
  },
  {
   "cell_type": "markdown",
   "metadata": {},
   "source": [
    "<h3> TF-IDF </h3>"
   ]
  },
  {
   "cell_type": "code",
   "execution_count": 163,
   "metadata": {},
   "outputs": [],
   "source": [
    "vectorizer = TfidfVectorizer(use_idf=True, max_features = 5500)\n",
    "tf_Idf = vectorizer.fit_transform(feature)"
   ]
  },
  {
   "cell_type": "code",
   "execution_count": 164,
   "metadata": {},
   "outputs": [],
   "source": [
    "#converting from CSR matrix to numpy array\n",
    "tf_Idf_np =  scp.sparse.csr_matrix.toarray(tf_Idf)"
   ]
  },
  {
   "cell_type": "code",
   "execution_count": 165,
   "metadata": {},
   "outputs": [
    {
     "data": {
      "text/plain": [
       "array([[0., 0., 0., ..., 0., 0., 0.],\n",
       "       [0., 0., 0., ..., 0., 0., 0.],\n",
       "       [0., 0., 0., ..., 0., 0., 0.],\n",
       "       ...,\n",
       "       [0., 0., 0., ..., 0., 0., 0.],\n",
       "       [0., 0., 0., ..., 0., 0., 0.],\n",
       "       [0., 0., 0., ..., 0., 0., 0.]])"
      ]
     },
     "execution_count": 165,
     "metadata": {},
     "output_type": "execute_result"
    }
   ],
   "source": [
    "tf_Idf_np"
   ]
  },
  {
   "cell_type": "markdown",
   "metadata": {},
   "source": [
    "<h3> Word Embedding - Glove </h3>"
   ]
  },
  {
   "cell_type": "code",
   "execution_count": 166,
   "metadata": {},
   "outputs": [],
   "source": [
    "#opening and storing the Glove vectors for each word in an dictionary\n",
    "word_embed_glove = {}\n",
    "f = open('glove.6B.100d.txt', encoding='utf-8')\n",
    "for line in f:\n",
    "    data = line.split()\n",
    "    words = data[0]\n",
    "    coeffs = np.asarray(data[1:], dtype='float32')\n",
    "    word_embed_glove[words] = coeffs\n",
    "f.close()"
   ]
  },
  {
   "cell_type": "code",
   "execution_count": 167,
   "metadata": {},
   "outputs": [],
   "source": [
    "#Using a function to obtain the Glove vectors for a word and taking their mean to understand the vectors for a sentence\n",
    "def features(df):\n",
    "    vectors = []\n",
    "    for i in df:\n",
    "        if len(i) != 0:\n",
    "            y = sum([word_embed_glove.get(w, np.zeros((100,))) for w in i.split()])\n",
    "            x = (len(i.split())+0.001)\n",
    "            v = y/x\n",
    "        else:\n",
    "            v = np.zeros((100,))\n",
    "        vectors.append(v)\n",
    "    return vectors"
   ]
  },
  {
   "cell_type": "code",
   "execution_count": 168,
   "metadata": {},
   "outputs": [],
   "source": [
    "#calling the function feature to perform feature engineering - Glove\n",
    "glove = features(feature)"
   ]
  },
  {
   "cell_type": "code",
   "execution_count": 169,
   "metadata": {},
   "outputs": [],
   "source": [
    "glove_np = np.array(glove)"
   ]
  },
  {
   "cell_type": "markdown",
   "metadata": {},
   "source": [
    "<h1> Clustering </h1>\n",
    "<h3> K-Means Clustering </h3>"
   ]
  },
  {
   "cell_type": "markdown",
   "metadata": {},
   "source": [
    "<h3> To find the optimal number of clusters - Elbow Method - BoW </h3>"
   ]
  },
  {
   "cell_type": "code",
   "execution_count": 170,
   "metadata": {},
   "outputs": [
    {
     "data": {
      "image/png": "[encoded data removed]",
      "text/plain": [
       "<Figure size 432x288 with 1 Axes>"
      ]
     },
     "metadata": {
      "needs_background": "light"
     },
     "output_type": "display_data"
    }
   ],
   "source": [
    "Wcss = []\n",
    "for i in range(1,10):\n",
    "    kmeans = KMeans(n_clusters=i, init='k-means++', random_state = 0)\n",
    "    kmeans.fit(bow)\n",
    "    Wcss.append(kmeans.inertia_)\n",
    "plt.plot(range(1,10),Wcss)\n",
    "plt.xlabel('No. of Clusters')\n",
    "plt.ylabel('Wcss')\n",
    "plt.show()"
   ]
  },
  {
   "cell_type": "markdown",
   "metadata": {},
   "source": [
    "<h3> Final clustering of the dataset, k = 3 </h3>\n",
    "<p> No. of clusters = 3 </p>\n",
    "<h3> Prediction of K-Means clustering </h3>"
   ]
  },
  {
   "cell_type": "code",
   "execution_count": 171,
   "metadata": {},
   "outputs": [
    {
     "data": {
      "text/plain": [
       "array([1, 1, 1, ..., 1, 1, 2], dtype=int32)"
      ]
     },
     "execution_count": 171,
     "metadata": {},
     "output_type": "execute_result"
    }
   ],
   "source": [
    "#applying KMeans clustering on the created dataset with features\n",
    "kmeans1 = KMeans(n_clusters=3, init='k-means++', random_state = 0)\n",
    "ykmeans1 = kmeans1.fit_predict(bow)\n",
    "ykmeans1"
   ]
  },
  {
   "cell_type": "markdown",
   "metadata": {},
   "source": [
    "<h3> Distribution of clusters - BoW </h3>"
   ]
  },
  {
   "cell_type": "code",
   "execution_count": 172,
   "metadata": {},
   "outputs": [
    {
     "data": {
      "image/png": "[encoded data removed]",
      "text/plain": [
       "<Figure size 432x288 with 1 Axes>"
      ]
     },
     "metadata": {
      "needs_background": "light"
     },
     "output_type": "display_data"
    }
   ],
   "source": [
    "plt.scatter(bow[ykmeans1==0,0],bow[ykmeans1==0,1], s=100, c = 'red', label = 'cluster 1')\n",
    "plt.scatter(bow[ykmeans1==1,0],bow[ykmeans1==1,1], s=100, c = 'blue', label = 'cluster 2')\n",
    "plt.scatter(bow[ykmeans1==2,0],bow[ykmeans1==2,1], s=100, c = 'green', label = 'cluster 3')\n",
    "plt.scatter(kmeans1.cluster_centers_[:,0],kmeans1.cluster_centers_[:,1], s = 300, c = 'yellow', label = 'centroids')\n",
    "plt.legend(bbox_to_anchor=(1.3, 0.7))\n",
    "plt.show()"
   ]
  },
  {
   "cell_type": "markdown",
   "metadata": {},
   "source": [
    "<h3> To find the optimal number of clusters - Elbow Method - TF-IDF </h3>"
   ]
  },
  {
   "cell_type": "code",
   "execution_count": 173,
   "metadata": {},
   "outputs": [
    {
     "data": {
      "image/png": "[encoded data removed]",
      "text/plain": [
       "<Figure size 432x288 with 1 Axes>"
      ]
     },
     "metadata": {
      "needs_background": "light"
     },
     "output_type": "display_data"
    }
   ],
   "source": [
    "Wcss = []\n",
    "for i in range(1,10):\n",
    "    kmeans = KMeans(n_clusters=i, init='k-means++', random_state = 0)\n",
    "    kmeans.fit(tf_Idf_np)\n",
    "    Wcss.append(kmeans.inertia_)\n",
    "plt.plot(range(1,10),Wcss)\n",
    "plt.xlabel('No. of Clusters')\n",
    "plt.ylabel('Wcss')\n",
    "plt.show()"
   ]
  },
  {
   "cell_type": "code",
   "execution_count": 174,
   "metadata": {},
   "outputs": [
    {
     "data": {
      "text/plain": [
       "array([0, 0, 0, ..., 2, 0, 0], dtype=int32)"
      ]
     },
     "execution_count": 174,
     "metadata": {},
     "output_type": "execute_result"
    }
   ],
   "source": [
    "#applying KMeans clustering on the created dataset with features\n",
    "kmeans2 = KMeans(n_clusters=3, init='k-means++', random_state = 0)\n",
    "ykmeans2 = kmeans2.fit_predict(tf_Idf_np)\n",
    "ykmeans2"
   ]
  },
  {
   "cell_type": "markdown",
   "metadata": {},
   "source": [
    "<h3> Distribution of clusters - TF-IDF </h3>"
   ]
  },
  {
   "cell_type": "code",
   "execution_count": 175,
   "metadata": {},
   "outputs": [
    {
     "data": {
      "image/png": "[encoded data removed]",
      "text/plain": [
       "<Figure size 432x288 with 1 Axes>"
      ]
     },
     "metadata": {
      "needs_background": "light"
     },
     "output_type": "display_data"
    }
   ],
   "source": [
    "plt.scatter(tf_Idf_np[ykmeans2==0,0],tf_Idf_np[ykmeans2==0,1], s=100, c = 'red', label = 'cluster 1')\n",
    "plt.scatter(tf_Idf_np[ykmeans2==1,0],tf_Idf_np[ykmeans2==1,1], s=100, c = 'blue', label = 'cluster 2')\n",
    "plt.scatter(tf_Idf_np[ykmeans2==2,0],tf_Idf_np[ykmeans2==2,1], s=100, c = 'green', label = 'cluster 3')\n",
    "plt.scatter(kmeans2.cluster_centers_[:,0],kmeans2.cluster_centers_[:,1], s = 300, c = 'yellow', label = 'centroids')\n",
    "plt.legend(bbox_to_anchor=(1.3, 0.7))\n",
    "plt.show()"
   ]
  },
  {
   "cell_type": "markdown",
   "metadata": {},
   "source": [
    "<h3> To find the optimal number of clusters - Elbow Method - Glove </h3>"
   ]
  },
  {
   "cell_type": "code",
   "execution_count": 176,
   "metadata": {},
   "outputs": [
    {
     "data": {
      "image/png": "[encoded data removed]",
      "text/plain": [
       "<Figure size 432x288 with 1 Axes>"
      ]
     },
     "metadata": {
      "needs_background": "light"
     },
     "output_type": "display_data"
    }
   ],
   "source": [
    "Wcss = []\n",
    "for i in range(1,10):\n",
    "    kmeans = KMeans(n_clusters=i, init='k-means++', random_state = 0)\n",
    "    kmeans.fit(glove)\n",
    "    Wcss.append(kmeans.inertia_)\n",
    "plt.plot(range(1,10),Wcss)\n",
    "plt.xlabel('No. of Clusters')\n",
    "plt.ylabel('Wcss')\n",
    "plt.show()"
   ]
  },
  {
   "cell_type": "code",
   "execution_count": 177,
   "metadata": {},
   "outputs": [
    {
     "data": {
      "text/plain": [
       "array([0, 0, 2, ..., 2, 2, 1], dtype=int32)"
      ]
     },
     "execution_count": 177,
     "metadata": {},
     "output_type": "execute_result"
    }
   ],
   "source": [
    "#applying KMeans clustering on the created dataset with features\n",
    "kmeans3 = KMeans(n_clusters=3, init='k-means++', random_state = 0)\n",
    "ykmeans3 = kmeans3.fit_predict(glove)\n",
    "ykmeans3"
   ]
  },
  {
   "cell_type": "markdown",
   "metadata": {},
   "source": [
    "<h3> Distribution of clusters - Glove </h3>"
   ]
  },
  {
   "cell_type": "code",
   "execution_count": 178,
   "metadata": {},
   "outputs": [
    {
     "data": {
      "image/png": "[encoded data removed]",
      "text/plain": [
       "<Figure size 432x288 with 1 Axes>"
      ]
     },
     "metadata": {
      "needs_background": "light"
     },
     "output_type": "display_data"
    }
   ],
   "source": [
    "plt.scatter(glove_np[ykmeans3==0,0],glove_np[ykmeans3==0,1], s=100, c = 'red', label = 'cluster 1')\n",
    "plt.scatter(glove_np[ykmeans3==1,0],glove_np[ykmeans3==1,1], s=100, c = 'blue', label = 'cluster 2')\n",
    "plt.scatter(glove_np[ykmeans3==2,0],glove_np[ykmeans3==2,1], s=100, c = 'green', label = 'cluster 3')\n",
    "plt.scatter(kmeans3.cluster_centers_[:,0],kmeans3.cluster_centers_[:,1], s = 300, c = 'yellow', label = 'centroids', alpha = 0.7)\n",
    "plt.legend(bbox_to_anchor=(1.3, 0.7))\n",
    "plt.show()"
   ]
  },
  {
   "cell_type": "markdown",
   "metadata": {},
   "source": [
    "<h3> Create Target variable based on review ratings </h3>"
   ]
  },
  {
   "cell_type": "code",
   "execution_count": 179,
   "metadata": {},
   "outputs": [],
   "source": [
    "#created a function to create label for positive/negative/neutral\n",
    "def label(df):\n",
    "    Label = [] \n",
    "    for i in range(len(df)):\n",
    "        if df['Review'][i] > 3:\n",
    "            Label.append(\"Positive\")\n",
    "        elif df['Review'][i] < 3: \n",
    "            Label.append(\"Negative\")\n",
    "        else: \n",
    "            Label.append(\"Neutral\")\n",
    "    label_data = pd.DataFrame(Label,columns=['Sentiment'])\n",
    "    df = pd.concat([df, label_data], ignore_index=True, axis = 1)\n",
    "    df = df.rename(columns={0: \"Review\", 1: \"Title\", 2: \"Text\", 3: \"Sentiment\"})\n",
    "    return df"
   ]
  },
  {
   "cell_type": "code",
   "execution_count": 180,
   "metadata": {},
   "outputs": [
    {
     "data": {
      "text/html": [
       "<div>\n",
       "<style scoped>\n",
       "    .dataframe tbody tr th:only-of-type {\n",
       "        vertical-align: middle;\n",
       "    }\n",
       "\n",
       "    .dataframe tbody tr th {\n",
       "        vertical-align: top;\n",
       "    }\n",
       "\n",
       "    .dataframe thead th {\n",
       "        text-align: right;\n",
       "    }\n",
       "</style>\n",
       "<table border=\"1\" class=\"dataframe\">\n",
       "  <thead>\n",
       "    <tr style=\"text-align: right;\">\n",
       "      <th></th>\n",
       "      <th>Review</th>\n",
       "      <th>Title</th>\n",
       "      <th>Text</th>\n",
       "      <th>Sentiment</th>\n",
       "    </tr>\n",
       "  </thead>\n",
       "  <tbody>\n",
       "    <tr>\n",
       "      <td>0</td>\n",
       "      <td>3</td>\n",
       "      <td>more like funchuck</td>\n",
       "      <td>gave dad gag gift directing nunsense got reall...</td>\n",
       "      <td>Neutral</td>\n",
       "    </tr>\n",
       "    <tr>\n",
       "      <td>1</td>\n",
       "      <td>5</td>\n",
       "      <td>Inspiring</td>\n",
       "      <td>hope lot people hear cd need strong positive v...</td>\n",
       "      <td>Positive</td>\n",
       "    </tr>\n",
       "    <tr>\n",
       "      <td>2</td>\n",
       "      <td>5</td>\n",
       "      <td>The best soundtrack ever to anything.</td>\n",
       "      <td>reading lot review saying best game soundtrack...</td>\n",
       "      <td>Positive</td>\n",
       "    </tr>\n",
       "    <tr>\n",
       "      <td>3</td>\n",
       "      <td>4</td>\n",
       "      <td>Chrono Cross OST</td>\n",
       "      <td>music yasunori misuda without question close s...</td>\n",
       "      <td>Positive</td>\n",
       "    </tr>\n",
       "    <tr>\n",
       "      <td>4</td>\n",
       "      <td>5</td>\n",
       "      <td>Too good to be true</td>\n",
       "      <td>probably greatest soundtrack history usually b...</td>\n",
       "      <td>Positive</td>\n",
       "    </tr>\n",
       "    <tr>\n",
       "      <td>...</td>\n",
       "      <td>...</td>\n",
       "      <td>...</td>\n",
       "      <td>...</td>\n",
       "      <td>...</td>\n",
       "    </tr>\n",
       "    <tr>\n",
       "      <td>4994</td>\n",
       "      <td>2</td>\n",
       "      <td>Waste oF $MONEY$</td>\n",
       "      <td>waste time money found want win big put money ...</td>\n",
       "      <td>Negative</td>\n",
       "    </tr>\n",
       "    <tr>\n",
       "      <td>4995</td>\n",
       "      <td>4</td>\n",
       "      <td>trying to win better</td>\n",
       "      <td>book cut odds better chance winning lotto game...</td>\n",
       "      <td>Positive</td>\n",
       "    </tr>\n",
       "    <tr>\n",
       "      <td>4996</td>\n",
       "      <td>2</td>\n",
       "      <td>don\"t waste your money just buy the the lotter...</td>\n",
       "      <td>book almost information lottery master guide f...</td>\n",
       "      <td>Negative</td>\n",
       "    </tr>\n",
       "    <tr>\n",
       "      <td>4997</td>\n",
       "      <td>2</td>\n",
       "      <td>The odds are against you not for you.</td>\n",
       "      <td>winning pure luck no amount strategy unless al...</td>\n",
       "      <td>Negative</td>\n",
       "    </tr>\n",
       "    <tr>\n",
       "      <td>4998</td>\n",
       "      <td>1</td>\n",
       "      <td>Incorrect Product Information</td>\n",
       "      <td>actual model meter unsure number relevant fluk...</td>\n",
       "      <td>Negative</td>\n",
       "    </tr>\n",
       "  </tbody>\n",
       "</table>\n",
       "<p>4999 rows × 4 columns</p>\n",
       "</div>"
      ],
      "text/plain": [
       "      Review                                              Title  \\\n",
       "0          3                                 more like funchuck   \n",
       "1          5                                          Inspiring   \n",
       "2          5              The best soundtrack ever to anything.   \n",
       "3          4                                   Chrono Cross OST   \n",
       "4          5                                Too good to be true   \n",
       "...      ...                                                ...   \n",
       "4994       2                                   Waste oF $MONEY$   \n",
       "4995       4                               trying to win better   \n",
       "4996       2  don\"t waste your money just buy the the lotter...   \n",
       "4997       2              The odds are against you not for you.   \n",
       "4998       1                      Incorrect Product Information   \n",
       "\n",
       "                                                   Text Sentiment  \n",
       "0     gave dad gag gift directing nunsense got reall...   Neutral  \n",
       "1     hope lot people hear cd need strong positive v...  Positive  \n",
       "2     reading lot review saying best game soundtrack...  Positive  \n",
       "3     music yasunori misuda without question close s...  Positive  \n",
       "4     probably greatest soundtrack history usually b...  Positive  \n",
       "...                                                 ...       ...  \n",
       "4994  waste time money found want win big put money ...  Negative  \n",
       "4995  book cut odds better chance winning lotto game...  Positive  \n",
       "4996  book almost information lottery master guide f...  Negative  \n",
       "4997  winning pure luck no amount strategy unless al...  Negative  \n",
       "4998  actual model meter unsure number relevant fluk...  Negative  \n",
       "\n",
       "[4999 rows x 4 columns]"
      ]
     },
     "execution_count": 180,
     "metadata": {},
     "output_type": "execute_result"
    }
   ],
   "source": [
    "#calling the label function to create target class with labels as positive/negative/neutral\n",
    "dataset = label(dataset)\n",
    "dataset"
   ]
  },
  {
   "cell_type": "code",
   "execution_count": 181,
   "metadata": {},
   "outputs": [],
   "source": [
    "Y = dataset.iloc[:,-1].values"
   ]
  },
  {
   "cell_type": "code",
   "execution_count": 182,
   "metadata": {},
   "outputs": [
    {
     "data": {
      "text/plain": [
       "4999"
      ]
     },
     "execution_count": 182,
     "metadata": {},
     "output_type": "execute_result"
    }
   ],
   "source": [
    "len(Y)"
   ]
  },
  {
   "cell_type": "code",
   "execution_count": 183,
   "metadata": {},
   "outputs": [],
   "source": [
    "#labelEncoder\n",
    "le = LabelEncoder()\n",
    "Y = le.fit_transform(Y)"
   ]
  },
  {
   "cell_type": "markdown",
   "metadata": {},
   "source": [
    "<h3> Evaluation of Clusters based on created target variable using review rating </h3>"
   ]
  },
  {
   "cell_type": "markdown",
   "metadata": {},
   "source": [
    "<h3> Cluster Data 1 - BoW </h3>"
   ]
  },
  {
   "cell_type": "code",
   "execution_count": 184,
   "metadata": {},
   "outputs": [
    {
     "name": "stdout",
     "output_type": "stream",
     "text": [
      "0.0\n",
      "0.0177\n",
      "0.0189\n"
     ]
    }
   ],
   "source": [
    "print(\"%.1f\" % homogeneity_score(Y, ykmeans1))\n",
    "print(\"%.4f\" % v_measure_score(Y, ykmeans1))\n",
    "print(\"%.4f\" % completeness_score(Y, ykmeans1))"
   ]
  },
  {
   "cell_type": "markdown",
   "metadata": {},
   "source": [
    "<h3> Cluster Data 2 - TF-IDF </h3>"
   ]
  },
  {
   "cell_type": "code",
   "execution_count": 185,
   "metadata": {},
   "outputs": [
    {
     "name": "stdout",
     "output_type": "stream",
     "text": [
      "0.0\n",
      "0.0032\n",
      "0.0036\n"
     ]
    }
   ],
   "source": [
    "print(\"%.1f\" % homogeneity_score(Y, ykmeans2))\n",
    "print(\"%.4f\" % v_measure_score(Y, ykmeans2))\n",
    "print(\"%.4f\" % completeness_score(Y, ykmeans2))"
   ]
  },
  {
   "cell_type": "markdown",
   "metadata": {},
   "source": [
    "<h3> Cluster Data 3 - Glove </h3>"
   ]
  },
  {
   "cell_type": "code",
   "execution_count": 186,
   "metadata": {},
   "outputs": [
    {
     "name": "stdout",
     "output_type": "stream",
     "text": [
      "0.0\n",
      "0.0099\n",
      "0.0096\n"
     ]
    }
   ],
   "source": [
    "print(\"%.1f\" % homogeneity_score(Y, ykmeans3))\n",
    "print(\"%.4f\" % v_measure_score(Y, ykmeans3))\n",
    "print(\"%.4f\" % completeness_score(Y, ykmeans3))"
   ]
  },
  {
   "cell_type": "markdown",
   "metadata": {},
   "source": [
    "<h3> Distribution of labels in the dataset</h3>"
   ]
  },
  {
   "cell_type": "code",
   "execution_count": 187,
   "metadata": {},
   "outputs": [],
   "source": [
    "#function to calculate the distribution of labels in the dataset\n",
    "def label_count(df):\n",
    "    count_neg = 0\n",
    "    count_pos = 0\n",
    "    count_neu = 0\n",
    "    list1 = []\n",
    "    for i in df['Sentiment']:\n",
    "        if i == 'Positive':\n",
    "            count_pos = count_pos + 1\n",
    "        elif i == 'Negative':\n",
    "            count_neg = count_neg + 1\n",
    "        else:\n",
    "            count_neu = count_neu + 1\n",
    "\n",
    "    list1.append(count_pos)\n",
    "    list1.append(count_neg)\n",
    "    list1.append(count_neu)\n",
    "    return list1"
   ]
  },
  {
   "cell_type": "code",
   "execution_count": 188,
   "metadata": {},
   "outputs": [
    {
     "data": {
      "text/plain": [
       "[1910, 2101, 988]"
      ]
     },
     "execution_count": 188,
     "metadata": {},
     "output_type": "execute_result"
    }
   ],
   "source": [
    "#calling label count function to evaluate the distribution of data\n",
    "dataset_label_count = label_count(dataset)\n",
    "dataset_label_count"
   ]
  },
  {
   "cell_type": "code",
   "execution_count": 189,
   "metadata": {},
   "outputs": [
    {
     "data": {
      "image/png": "[encoded data removed]",
      "text/plain": [
       "<Figure size 432x288 with 1 Axes>"
      ]
     },
     "metadata": {},
     "output_type": "display_data"
    }
   ],
   "source": [
    "fig = plt.figure()\n",
    "Sentiments = ['Positive', 'Negative', 'Neutral']\n",
    "mycolors = [\"g\", \"r\", \"y\"]\n",
    "plt.pie(dataset_label_count,labels=Sentiments,autopct='%1.1f%%', colors = mycolors)\n",
    "plt.title('Distribution of Class')\n",
    "plt.axis('equal')\n",
    "plt.show()"
   ]
  },
  {
   "cell_type": "markdown",
   "metadata": {},
   "source": [
    "<h3> Over Sampling </h3>"
   ]
  },
  {
   "cell_type": "code",
   "execution_count": 191,
   "metadata": {},
   "outputs": [],
   "source": [
    "oversample_bow = SMOTE(sampling_strategy='not majority')\n",
    "X_bow, Y_bow = oversample_bow.fit_resample(bow, Y)"
   ]
  },
  {
   "cell_type": "code",
   "execution_count": 192,
   "metadata": {},
   "outputs": [],
   "source": [
    "oversample_tf_idf = SMOTE(sampling_strategy='not majority')\n",
    "tf_Idf, Y_tf_Idf = oversample_tf_idf.fit_resample(tf_Idf, Y)"
   ]
  },
  {
   "cell_type": "code",
   "execution_count": 193,
   "metadata": {},
   "outputs": [],
   "source": [
    "oversample_glove = SMOTE(sampling_strategy='not majority')\n",
    "glove, Y_glove = oversample_glove.fit_resample(glove, Y)"
   ]
  },
  {
   "cell_type": "markdown",
   "metadata": {},
   "source": [
    "<h3> Distribution of class after oversampling the minority classes </h3>"
   ]
  },
  {
   "cell_type": "code",
   "execution_count": 194,
   "metadata": {},
   "outputs": [],
   "source": [
    "count_neg = 0\n",
    "count_pos = 0\n",
    "count_neu = 0\n",
    "list1 = []\n",
    "for i in Y_bow:\n",
    "    if i == 0:\n",
    "        count_pos = count_pos + 1\n",
    "    elif i == 1:\n",
    "        count_neg = count_neg + 1\n",
    "    else:\n",
    "        count_neu = count_neu + 1\n",
    "\n",
    "list1.append(count_pos)\n",
    "list1.append(count_neg)\n",
    "list1.append(count_neu)"
   ]
  },
  {
   "cell_type": "code",
   "execution_count": 195,
   "metadata": {},
   "outputs": [
    {
     "data": {
      "image/png": "[encoded data removed]",
      "text/plain": [
       "<Figure size 432x288 with 1 Axes>"
      ]
     },
     "metadata": {},
     "output_type": "display_data"
    }
   ],
   "source": [
    "fig = plt.figure()\n",
    "Sentiments = ['Positive', 'Negative', 'Neutral']\n",
    "mycolors = [\"g\", \"r\", \"y\"]\n",
    "plt.pie(list1,labels=Sentiments,autopct='%1.1f%%',colors = mycolors)\n",
    "plt.title('Distribution of Class')\n",
    "plt.axis('equal')\n",
    "plt.show()"
   ]
  },
  {
   "cell_type": "markdown",
   "metadata": {},
   "source": []
  },
  {
   "cell_type": "markdown",
   "metadata": {},
   "source": []
  },
  {
   "cell_type": "markdown",
   "metadata": {},
   "source": [
    "<h3> Splitting of dataset </h3>"
   ]
  },
  {
   "cell_type": "code",
   "execution_count": 196,
   "metadata": {},
   "outputs": [],
   "source": [
    "X_train_bow, X_test_bow, Y_train_bow, Y_test_bow = train_test_split(X_bow,Y_bow, test_size = 0.2, random_state = 1)\n",
    "X_train_tfidf, X_test_tfidf, Y_train_tfidf, Y_test_tfidf = train_test_split(tf_Idf,Y_tf_Idf, test_size = 0.2, random_state = 1)\n",
    "X_train_glove, X_test_glove, Y_train_glove, Y_test_glove = train_test_split(glove,Y_glove, test_size = 0.2, random_state = 1)"
   ]
  },
  {
   "cell_type": "markdown",
   "metadata": {},
   "source": [
    "<h3> Feature Scaling for Glove </h3>"
   ]
  },
  {
   "cell_type": "code",
   "execution_count": 197,
   "metadata": {},
   "outputs": [],
   "source": [
    "from sklearn.preprocessing import StandardScaler\n",
    "sc = StandardScaler()\n",
    "X_train_glove_scale = sc.fit_transform(X_train_glove)\n",
    "X_test_glove_scale = sc.transform(X_test_glove)"
   ]
  },
  {
   "cell_type": "markdown",
   "metadata": {},
   "source": [
    "<h3> Multinominal Naive Bayes with Bag of Words - Baseline Model </h3>"
   ]
  },
  {
   "cell_type": "code",
   "execution_count": 198,
   "metadata": {},
   "outputs": [
    {
     "data": {
      "text/plain": [
       "array([0, 0, 0, ..., 2, 1, 0])"
      ]
     },
     "execution_count": 198,
     "metadata": {},
     "output_type": "execute_result"
    }
   ],
   "source": [
    "classifier_MNB_baseline_bow = MultinomialNB()\n",
    "classifier_MNB_baseline_bow.fit(X_train_bow,Y_train_bow)\n",
    "pred_MNB_baseline_bow = classifier_MNB_baseline_bow.predict(X_test_bow)\n",
    "pred_MNB_baseline_bow"
   ]
  },
  {
   "cell_type": "code",
   "execution_count": 199,
   "metadata": {},
   "outputs": [
    {
     "name": "stdout",
     "output_type": "stream",
     "text": [
      "Accuracy: 0.6153846153846154\n",
      "f1 Score 0.6147080512364211\n",
      "confusion_matrix [[293  77  39]\n",
      " [115 238  75]\n",
      " [ 86  93 245]]\n",
      "precision_score 0.6196339985740367\n",
      "recall_score 0.6167621243757649\n"
     ]
    },
    {
     "data": {
      "text/plain": [
       "<matplotlib.axes._subplots.AxesSubplot at 0x7fec639ecd50>"
      ]
     },
     "execution_count": 199,
     "metadata": {},
     "output_type": "execute_result"
    },
    {
     "data": {
      "image/png": "[encoded data removed]",
      "text/plain": [
       "<Figure size 432x288 with 2 Axes>"
      ]
     },
     "metadata": {
      "needs_background": "light"
     },
     "output_type": "display_data"
    }
   ],
   "source": [
    "#prediction with accuracy and f1 scores for baseline model - NaiveBayes\n",
    "print(\"Accuracy:\",metrics.accuracy_score(Y_test_bow, pred_MNB_baseline_bow))\n",
    "print(\"f1 Score\", f1_score(Y_test_bow, pred_MNB_baseline_bow,average = \"macro\"))\n",
    "print(\"confusion_matrix\", confusion_matrix(Y_test_bow, pred_MNB_baseline_bow))\n",
    "cm = confusion_matrix(Y_test_bow, pred_MNB_baseline_bow)\n",
    "print(\"precision_score\", precision_score(Y_test_bow, pred_MNB_baseline_bow,average = \"macro\"))\n",
    "print(\"recall_score\", recall_score(Y_test_bow, pred_MNB_baseline_bow,average = \"macro\"))\n",
    "sn.heatmap(cm, annot=True, cmap=\"PuBuGn_r\")"
   ]
  },
  {
   "cell_type": "markdown",
   "metadata": {},
   "source": [
    "<h3> Multinominal Naive Bayes with TF-IDF - Baseline Model </h3>"
   ]
  },
  {
   "cell_type": "code",
   "execution_count": 200,
   "metadata": {},
   "outputs": [
    {
     "data": {
      "text/plain": [
       "array([0, 0, 0, ..., 1, 1, 0])"
      ]
     },
     "execution_count": 200,
     "metadata": {},
     "output_type": "execute_result"
    }
   ],
   "source": [
    "classifier_MNB_baseline_tfidf = MultinomialNB()\n",
    "classifier_MNB_baseline_tfidf.fit(X_train_tfidf,Y_train_tfidf)\n",
    "pred_MNB_baseline_tfidf = classifier_MNB_baseline_tfidf.predict(X_test_tfidf)\n",
    "pred_MNB_baseline_tfidf"
   ]
  },
  {
   "cell_type": "code",
   "execution_count": 201,
   "metadata": {},
   "outputs": [
    {
     "name": "stdout",
     "output_type": "stream",
     "text": [
      "Accuracy: 0.675654242664552\n",
      "f1 Score 0.675113606118808\n",
      "confusion_matrix [[280  87  42]\n",
      " [ 65 320  43]\n",
      " [ 66 106 252]]\n",
      "precision_score 0.6842737879793579\n",
      "recall_score 0.675533250353498\n"
     ]
    },
    {
     "data": {
      "text/plain": [
       "<matplotlib.axes._subplots.AxesSubplot at 0x7fec63238490>"
      ]
     },
     "execution_count": 201,
     "metadata": {},
     "output_type": "execute_result"
    },
    {
     "data": {
      "image/png": "[encoded data removed]",
      "text/plain": [
       "<Figure size 432x288 with 2 Axes>"
      ]
     },
     "metadata": {
      "needs_background": "light"
     },
     "output_type": "display_data"
    }
   ],
   "source": [
    "#prediction with accuracy and f1 scores for baseline model - NaiveBayes\n",
    "print(\"Accuracy:\",metrics.accuracy_score(Y_test_tfidf, pred_MNB_baseline_tfidf))\n",
    "print(\"f1 Score\", f1_score(Y_test_tfidf, pred_MNB_baseline_tfidf,average = \"macro\"))\n",
    "print(\"confusion_matrix\", confusion_matrix(Y_test_tfidf, pred_MNB_baseline_tfidf))\n",
    "print(\"precision_score\", precision_score(Y_test_tfidf, pred_MNB_baseline_tfidf,average = \"macro\"))\n",
    "print(\"recall_score\", recall_score(Y_test_tfidf, pred_MNB_baseline_tfidf,average = \"macro\"))\n",
    "cm = confusion_matrix(Y_test_tfidf, pred_MNB_baseline_tfidf)\n",
    "sn.heatmap(cm,annot=True, cmap=\"PuBuGn_r\")"
   ]
  },
  {
   "cell_type": "markdown",
   "metadata": {},
   "source": [
    "<h3> Random Forest with Bag of Words - Baseline Model </h3>"
   ]
  },
  {
   "cell_type": "code",
   "execution_count": 202,
   "metadata": {},
   "outputs": [
    {
     "data": {
      "text/plain": [
       "array([0, 1, 0, ..., 2, 1, 0])"
      ]
     },
     "execution_count": 202,
     "metadata": {},
     "output_type": "execute_result"
    }
   ],
   "source": [
    "classifier_RF_baseline_bow = RandomForestClassifier()\n",
    "classifier_RF_baseline_bow.fit(X_train_bow,Y_train_bow)\n",
    "pred_RF_baseline_bow = classifier_RF_baseline_bow.predict(X_test_bow)\n",
    "pred_RF_baseline_bow"
   ]
  },
  {
   "cell_type": "code",
   "execution_count": 203,
   "metadata": {},
   "outputs": [
    {
     "name": "stdout",
     "output_type": "stream",
     "text": [
      "Accuracy: 0.6502775574940524\n",
      "f1 Score 0.6500319813629539\n",
      "confusion_matrix [[287  64  58]\n",
      " [ 89 281  58]\n",
      " [101  71 252]]\n",
      "precision_score 0.6539801755911272\n",
      "recall_score 0.6508643900529395\n"
     ]
    },
    {
     "data": {
      "text/plain": [
       "<matplotlib.axes._subplots.AxesSubplot at 0x7fecca09ad50>"
      ]
     },
     "execution_count": 203,
     "metadata": {},
     "output_type": "execute_result"
    },
    {
     "data": {
      "image/png": "[encoded data removed]",
      "text/plain": [
       "<Figure size 432x288 with 2 Axes>"
      ]
     },
     "metadata": {
      "needs_background": "light"
     },
     "output_type": "display_data"
    }
   ],
   "source": [
    "#prediction with accuracy and f1 scores for baseline model - Random Forest\n",
    "print(\"Accuracy:\",metrics.accuracy_score(Y_test_bow, pred_RF_baseline_bow))\n",
    "print(\"f1 Score\", f1_score(Y_test_bow, pred_RF_baseline_bow,average = \"macro\"))\n",
    "print(\"confusion_matrix\", confusion_matrix(Y_test_bow, pred_RF_baseline_bow))\n",
    "print(\"precision_score\", precision_score(Y_test_bow, pred_RF_baseline_bow,average = \"macro\"))\n",
    "print(\"recall_score\", recall_score(Y_test_bow, pred_RF_baseline_bow,average = \"macro\"))\n",
    "cm = confusion_matrix(Y_test_bow, pred_RF_baseline_bow)\n",
    "sn.heatmap(cm, annot=True, cmap=\"PuBuGn_r\")"
   ]
  },
  {
   "cell_type": "markdown",
   "metadata": {},
   "source": [
    "<h3> Random Forest with TF-IDF - Baseline Model </h3>"
   ]
  },
  {
   "cell_type": "code",
   "execution_count": 204,
   "metadata": {},
   "outputs": [
    {
     "data": {
      "text/plain": [
       "array([0, 0, 0, ..., 1, 1, 0])"
      ]
     },
     "execution_count": 204,
     "metadata": {},
     "output_type": "execute_result"
    }
   ],
   "source": [
    "classifier_RF_baseline_tfidf = RandomForestClassifier()\n",
    "classifier_RF_baseline_tfidf.fit(X_train_tfidf,Y_train_tfidf)\n",
    "pred_RF_baseline_tfidf = classifier_RF_baseline_tfidf.predict(X_test_tfidf)\n",
    "pred_RF_baseline_tfidf"
   ]
  },
  {
   "cell_type": "code",
   "execution_count": 205,
   "metadata": {},
   "outputs": [
    {
     "name": "stdout",
     "output_type": "stream",
     "text": [
      "Accuracy: 0.725614591593973\n",
      "f1 Score 0.7256526538774194\n",
      "confusion_matrix [[326  29  54]\n",
      " [ 58 315  55]\n",
      " [110  40 274]]\n",
      "precision_score 0.7318787426929948\n",
      "recall_score 0.7264245793918271\n"
     ]
    },
    {
     "data": {
      "text/plain": [
       "<matplotlib.axes._subplots.AxesSubplot at 0x7fece03f6c90>"
      ]
     },
     "execution_count": 205,
     "metadata": {},
     "output_type": "execute_result"
    },
    {
     "data": {
      "image/png": "[encoded data removed]",
      "text/plain": [
       "<Figure size 432x288 with 2 Axes>"
      ]
     },
     "metadata": {
      "needs_background": "light"
     },
     "output_type": "display_data"
    }
   ],
   "source": [
    "#prediction with accuracy and f1 scores for baseline model - Random Forest\n",
    "print(\"Accuracy:\",metrics.accuracy_score(Y_test_tfidf, pred_RF_baseline_tfidf))\n",
    "print(\"f1 Score\", f1_score(Y_test_tfidf, pred_RF_baseline_tfidf,average = \"macro\"))\n",
    "print(\"confusion_matrix\", confusion_matrix(Y_test_tfidf, pred_RF_baseline_tfidf))\n",
    "print(\"precision_score\", precision_score(Y_test_tfidf, pred_RF_baseline_tfidf,average = \"macro\"))\n",
    "print(\"recall_score\", recall_score(Y_test_tfidf, pred_RF_baseline_tfidf,average = \"macro\"))\n",
    "cm = confusion_matrix(Y_test_tfidf, pred_RF_baseline_tfidf)\n",
    "sn.heatmap(cm,annot=True, cmap=\"PuBuGn_r\")"
   ]
  },
  {
   "cell_type": "markdown",
   "metadata": {},
   "source": [
    "<h3> Random Forest with Glove - Baseline Model </h3>"
   ]
  },
  {
   "cell_type": "code",
   "execution_count": 206,
   "metadata": {},
   "outputs": [
    {
     "data": {
      "text/plain": [
       "array([2, 0, 0, ..., 1, 1, 0])"
      ]
     },
     "execution_count": 206,
     "metadata": {},
     "output_type": "execute_result"
    }
   ],
   "source": [
    "classifier_RF_baseline_glove = RandomForestClassifier()\n",
    "classifier_RF_baseline_glove.fit(X_train_glove,Y_train_glove)\n",
    "pred_RF_baseline_glove = classifier_RF_baseline_glove.predict(X_test_glove)\n",
    "pred_RF_baseline_glove"
   ]
  },
  {
   "cell_type": "code",
   "execution_count": 207,
   "metadata": {},
   "outputs": [
    {
     "name": "stdout",
     "output_type": "stream",
     "text": [
      "Accuracy: 0.6708961141950832\n",
      "f1 Score 0.6708032204367834\n",
      "confusion_matrix [[289  45  75]\n",
      " [ 59 305  64]\n",
      " [120  52 252]]\n",
      "precision_score 0.6735763713184793\n",
      "recall_score 0.6711859706880269\n"
     ]
    },
    {
     "data": {
      "text/plain": [
       "<matplotlib.axes._subplots.AxesSubplot at 0x7fece07c1310>"
      ]
     },
     "execution_count": 207,
     "metadata": {},
     "output_type": "execute_result"
    },
    {
     "data": {
      "image/png": "[encoded data removed]",
      "text/plain": [
       "<Figure size 432x288 with 2 Axes>"
      ]
     },
     "metadata": {
      "needs_background": "light"
     },
     "output_type": "display_data"
    }
   ],
   "source": [
    "#prediction with accuracy and f1 scores for baseline model - Random Forest\n",
    "print(\"Accuracy:\",metrics.accuracy_score(Y_test_glove, pred_RF_baseline_glove))\n",
    "print(\"f1 Score\", f1_score(Y_test_glove, pred_RF_baseline_glove,average = \"macro\"))\n",
    "print(\"confusion_matrix\", confusion_matrix(Y_test_glove, pred_RF_baseline_glove))\n",
    "print(\"precision_score\", precision_score(Y_test_glove, pred_RF_baseline_glove,average = \"macro\"))\n",
    "print(\"recall_score\", recall_score(Y_test_glove, pred_RF_baseline_glove,average = \"macro\"))\n",
    "cm = confusion_matrix(Y_test_glove, pred_RF_baseline_glove)\n",
    "sn.heatmap(cm, annot=True, cmap=\"PuBuGn_r\")"
   ]
  },
  {
   "cell_type": "markdown",
   "metadata": {},
   "source": [
    "<h3> SVM with Bag of Words - Baseline Model </h3>"
   ]
  },
  {
   "cell_type": "code",
   "execution_count": 208,
   "metadata": {},
   "outputs": [
    {
     "data": {
      "text/plain": [
       "array([0, 1, 0, ..., 2, 1, 0])"
      ]
     },
     "execution_count": 208,
     "metadata": {},
     "output_type": "execute_result"
    }
   ],
   "source": [
    "classifier_svm_baseline_bow = SVC(kernel ='rbf')\n",
    "classifier_svm_baseline_bow.fit(X_train_bow,Y_train_bow)\n",
    "pred_SVM_baseline_bow = classifier_svm_baseline_bow.predict(X_test_bow)\n",
    "pred_SVM_baseline_bow"
   ]
  },
  {
   "cell_type": "code",
   "execution_count": 209,
   "metadata": {},
   "outputs": [
    {
     "name": "stdout",
     "output_type": "stream",
     "text": [
      "Accuracy: 0.6486915146708961\n",
      "f1 Score 0.6482577046548731\n",
      "confusion_matrix [[299  67  43]\n",
      " [101 269  58]\n",
      " [ 86  88 250]]\n",
      "precision_score 0.653970337321141\n",
      "recall_score 0.6497262197166355\n"
     ]
    },
    {
     "data": {
      "text/plain": [
       "<matplotlib.axes._subplots.AxesSubplot at 0x7fecdf834e90>"
      ]
     },
     "execution_count": 209,
     "metadata": {},
     "output_type": "execute_result"
    },
    {
     "data": {
      "image/png": "[encoded data removed]",
      "text/plain": [
       "<Figure size 432x288 with 2 Axes>"
      ]
     },
     "metadata": {
      "needs_background": "light"
     },
     "output_type": "display_data"
    }
   ],
   "source": [
    "#prediction with accuracy and f1 scores for baseline model - SVM\n",
    "print(\"Accuracy:\",metrics.accuracy_score(Y_test_bow, pred_SVM_baseline_bow))\n",
    "print(\"f1 Score\", f1_score(Y_test_bow, pred_SVM_baseline_bow,average = \"macro\"))\n",
    "print(\"confusion_matrix\", confusion_matrix(Y_test_bow, pred_SVM_baseline_bow))\n",
    "print(\"precision_score\", precision_score(Y_test_bow, pred_SVM_baseline_bow,average = \"macro\"))\n",
    "print(\"recall_score\", recall_score(Y_test_bow, pred_SVM_baseline_bow,average = \"macro\"))\n",
    "cm = confusion_matrix(Y_test_bow, pred_SVM_baseline_bow)\n",
    "sn.heatmap(cm, annot=True, cmap=\"PuBuGn_r\")"
   ]
  },
  {
   "cell_type": "markdown",
   "metadata": {},
   "source": [
    "<h3> SVM with TF-IDF - Baseline Model </h3>"
   ]
  },
  {
   "cell_type": "code",
   "execution_count": 210,
   "metadata": {},
   "outputs": [
    {
     "data": {
      "text/plain": [
       "array([0, 0, 0, ..., 1, 1, 0])"
      ]
     },
     "execution_count": 210,
     "metadata": {},
     "output_type": "execute_result"
    }
   ],
   "source": [
    "classifier_svm_baseline_tfidf = SVC(kernel ='rbf')\n",
    "classifier_svm_baseline_tfidf.fit(X_train_tfidf,Y_train_tfidf)\n",
    "pred_SVM_baseline_tfidf = classifier_svm_baseline_tfidf.predict(X_test_tfidf)\n",
    "pred_SVM_baseline_tfidf"
   ]
  },
  {
   "cell_type": "code",
   "execution_count": 211,
   "metadata": {},
   "outputs": [
    {
     "name": "stdout",
     "output_type": "stream",
     "text": [
      "Accuracy: 0.7660586835844568\n",
      "f1 Score 0.7667261889384123\n",
      "confusion_matrix [[358   3  48]\n",
      " [ 88 286  54]\n",
      " [ 84  18 322]]\n",
      "precision_score 0.7888339171941902\n",
      "recall_score 0.7676546282671515\n"
     ]
    },
    {
     "data": {
      "text/plain": [
       "<matplotlib.axes._subplots.AxesSubplot at 0x7fec458afd10>"
      ]
     },
     "execution_count": 211,
     "metadata": {},
     "output_type": "execute_result"
    },
    {
     "data": {
      "image/png": "[encoded data removed]",
      "text/plain": [
       "<Figure size 432x288 with 2 Axes>"
      ]
     },
     "metadata": {
      "needs_background": "light"
     },
     "output_type": "display_data"
    }
   ],
   "source": [
    "#prediction with accuracy and f1 scores for baseline model - SVM\n",
    "print(\"Accuracy:\",metrics.accuracy_score(Y_test_tfidf, pred_SVM_baseline_tfidf))\n",
    "print(\"f1 Score\", f1_score(Y_test_tfidf, pred_SVM_baseline_tfidf,average='macro'))\n",
    "print(\"confusion_matrix\", confusion_matrix(Y_test_tfidf, pred_SVM_baseline_tfidf))\n",
    "print(\"precision_score\", precision_score(Y_test_tfidf, pred_SVM_baseline_tfidf,average='macro'))\n",
    "print(\"recall_score\", recall_score(Y_test_tfidf, pred_SVM_baseline_tfidf,average='macro'))\n",
    "cm = confusion_matrix(Y_test_tfidf, pred_SVM_baseline_tfidf)\n",
    "sn.heatmap(cm, annot=True, cmap=\"PuBuGn_r\")"
   ]
  },
  {
   "cell_type": "markdown",
   "metadata": {},
   "source": [
    "<h3> SVM with Glove - Baseline Model </h3>"
   ]
  },
  {
   "cell_type": "code",
   "execution_count": 212,
   "metadata": {},
   "outputs": [
    {
     "data": {
      "text/plain": [
       "array([1, 0, 0, ..., 2, 2, 0])"
      ]
     },
     "execution_count": 212,
     "metadata": {},
     "output_type": "execute_result"
    }
   ],
   "source": [
    "classifier_svm_baseline_glove = SVC(kernel ='rbf')\n",
    "classifier_svm_baseline_glove.fit(X_train_glove,Y_train_glove)\n",
    "pred_SVM_baseline_glove = classifier_svm_baseline_glove.predict(X_test_glove)\n",
    "pred_SVM_baseline_glove"
   ]
  },
  {
   "cell_type": "code",
   "execution_count": 213,
   "metadata": {},
   "outputs": [
    {
     "name": "stdout",
     "output_type": "stream",
     "text": [
      "Accuracy: 0.555908009516257\n",
      "f1 Score 0.5569334397583567\n",
      "confusion_matrix [[252 102  55]\n",
      " [100 227 101]\n",
      " [ 70 132 222]]\n",
      "precision_score 0.5589552648388273\n",
      "recall_score 0.5566985522504939\n"
     ]
    },
    {
     "data": {
      "text/plain": [
       "<matplotlib.axes._subplots.AxesSubplot at 0x7fecdbca7990>"
      ]
     },
     "execution_count": 213,
     "metadata": {},
     "output_type": "execute_result"
    },
    {
     "data": {
      "image/png": "[encoded data removed]",
      "text/plain": [
       "<Figure size 432x288 with 2 Axes>"
      ]
     },
     "metadata": {
      "needs_background": "light"
     },
     "output_type": "display_data"
    }
   ],
   "source": [
    "#prediction with accuracy and f1 scores for baseline model - SVM\n",
    "print(\"Accuracy:\",metrics.accuracy_score(Y_test_glove, pred_SVM_baseline_glove))\n",
    "print(\"f1 Score\", f1_score(Y_test_glove, pred_SVM_baseline_glove,average = \"macro\"))\n",
    "print(\"confusion_matrix\", confusion_matrix(Y_test_glove, pred_SVM_baseline_glove))\n",
    "print(\"precision_score\", precision_score(Y_test_glove, pred_SVM_baseline_glove,average = \"macro\"))\n",
    "print(\"recall_score\", recall_score(Y_test_glove, pred_SVM_baseline_glove,average = \"macro\"))\n",
    "cm = confusion_matrix(Y_test_glove, pred_SVM_baseline_glove)\n",
    "sn.heatmap(cm,annot=True, cmap=\"PuBuGn_r\")"
   ]
  },
  {
   "cell_type": "markdown",
   "metadata": {},
   "source": [
    "<h3> Logistic Regression with BoW - Baseline Model </h3>"
   ]
  },
  {
   "cell_type": "code",
   "execution_count": 214,
   "metadata": {},
   "outputs": [
    {
     "name": "stderr",
     "output_type": "stream",
     "text": [
      "/Users/j/opt/anaconda3/lib/python3.7/site-packages/sklearn/linear_model/_logistic.py:764: ConvergenceWarning:\n",
      "\n",
      "lbfgs failed to converge (status=1):\n",
      "STOP: TOTAL NO. of ITERATIONS REACHED LIMIT.\n",
      "\n",
      "Increase the number of iterations (max_iter) or scale the data as shown in:\n",
      "    https://scikit-learn.org/stable/modules/preprocessing.html\n",
      "Please also refer to the documentation for alternative solver options:\n",
      "    https://scikit-learn.org/stable/modules/linear_model.html#logistic-regression\n",
      "\n"
     ]
    },
    {
     "data": {
      "text/plain": [
       "array([0, 1, 0, ..., 2, 1, 0])"
      ]
     },
     "execution_count": 214,
     "metadata": {},
     "output_type": "execute_result"
    }
   ],
   "source": [
    "classifier_log_baseline_bow = LogisticRegression()\n",
    "classifier_log_baseline_bow.fit(X_train_bow,Y_train_bow)\n",
    "pred_Log_baseline_bow = classifier_log_baseline_bow.predict(X_test_bow)\n",
    "pred_Log_baseline_bow"
   ]
  },
  {
   "cell_type": "code",
   "execution_count": 215,
   "metadata": {},
   "outputs": [
    {
     "name": "stdout",
     "output_type": "stream",
     "text": [
      "Accuracy: 0.6558287073750991\n",
      "f1 Score 0.6562865760030901\n",
      "confusion_matrix [[274  87  48]\n",
      " [ 79 291  58]\n",
      " [ 64  98 262]]\n",
      "precision_score 0.6601251333606114\n",
      "recall_score 0.6559192402415699\n"
     ]
    },
    {
     "data": {
      "text/plain": [
       "<matplotlib.axes._subplots.AxesSubplot at 0x7fec45057110>"
      ]
     },
     "execution_count": 215,
     "metadata": {},
     "output_type": "execute_result"
    },
    {
     "data": {
      "image/png": "[encoded data removed]",
      "text/plain": [
       "<Figure size 432x288 with 2 Axes>"
      ]
     },
     "metadata": {
      "needs_background": "light"
     },
     "output_type": "display_data"
    }
   ],
   "source": [
    "#prediction with accuracy and f1 scores for baseline model - SVM\n",
    "print(\"Accuracy:\",metrics.accuracy_score(Y_test_bow, pred_Log_baseline_bow))\n",
    "print(\"f1 Score\", f1_score(Y_test_bow, pred_Log_baseline_bow,average = \"macro\"))\n",
    "print(\"confusion_matrix\", confusion_matrix(Y_test_bow, pred_Log_baseline_bow))\n",
    "print(\"precision_score\", precision_score(Y_test_bow, pred_Log_baseline_bow,average = \"macro\"))\n",
    "print(\"recall_score\", recall_score(Y_test_bow, pred_Log_baseline_bow,average = \"macro\"))\n",
    "cm = confusion_matrix(Y_test_bow, pred_Log_baseline_bow)\n",
    "sn.heatmap(cm,annot=True, cmap=\"PuBuGn_r\")"
   ]
  },
  {
   "cell_type": "markdown",
   "metadata": {},
   "source": [
    "<h3> Logistic Regression with TF-IDF - Baseline Model </h3>"
   ]
  },
  {
   "cell_type": "code",
   "execution_count": 216,
   "metadata": {},
   "outputs": [
    {
     "name": "stderr",
     "output_type": "stream",
     "text": [
      "/Users/j/opt/anaconda3/lib/python3.7/site-packages/sklearn/linear_model/_logistic.py:764: ConvergenceWarning:\n",
      "\n",
      "lbfgs failed to converge (status=1):\n",
      "STOP: TOTAL NO. of ITERATIONS REACHED LIMIT.\n",
      "\n",
      "Increase the number of iterations (max_iter) or scale the data as shown in:\n",
      "    https://scikit-learn.org/stable/modules/preprocessing.html\n",
      "Please also refer to the documentation for alternative solver options:\n",
      "    https://scikit-learn.org/stable/modules/linear_model.html#logistic-regression\n",
      "\n"
     ]
    },
    {
     "data": {
      "text/plain": [
       "array([0, 0, 0, ..., 1, 1, 0])"
      ]
     },
     "execution_count": 216,
     "metadata": {},
     "output_type": "execute_result"
    }
   ],
   "source": [
    "classifier_log_baseline_tfidf = LogisticRegression()\n",
    "classifier_log_baseline_tfidf.fit(X_train_tfidf,Y_train_tfidf)\n",
    "pred_Log_baseline_tfidf = classifier_log_baseline_tfidf.predict(X_test_tfidf)\n",
    "pred_Log_baseline_tfidf"
   ]
  },
  {
   "cell_type": "code",
   "execution_count": 217,
   "metadata": {},
   "outputs": [
    {
     "name": "stdout",
     "output_type": "stream",
     "text": [
      "Accuracy: 0.7129262490087233\n",
      "f1 Score 0.7134721140412693\n",
      "confusion_matrix [[304  67  38]\n",
      " [ 62 303  63]\n",
      " [ 50  82 292]]\n",
      "precision_score 0.7147085858664592\n",
      "recall_score 0.7132998180450819\n"
     ]
    },
    {
     "data": {
      "text/plain": [
       "<matplotlib.axes._subplots.AxesSubplot at 0x7fecd62ab9d0>"
      ]
     },
     "execution_count": 217,
     "metadata": {},
     "output_type": "execute_result"
    },
    {
     "data": {
      "image/png": "[encoded data removed]",
      "text/plain": [
       "<Figure size 432x288 with 2 Axes>"
      ]
     },
     "metadata": {
      "needs_background": "light"
     },
     "output_type": "display_data"
    }
   ],
   "source": [
    "#prediction with accuracy and f1 scores for baseline model - SVM\n",
    "print(\"Accuracy:\",metrics.accuracy_score(Y_test_tfidf, pred_Log_baseline_tfidf))\n",
    "print(\"f1 Score\", f1_score(Y_test_tfidf, pred_Log_baseline_tfidf,average = \"macro\"))\n",
    "print(\"confusion_matrix\", confusion_matrix(Y_test_tfidf, pred_Log_baseline_tfidf))\n",
    "print(\"precision_score\", precision_score(Y_test_tfidf, pred_Log_baseline_tfidf,average = \"macro\"))\n",
    "print(\"recall_score\", recall_score(Y_test_tfidf, pred_Log_baseline_tfidf,average = \"macro\"))\n",
    "cm = confusion_matrix(Y_test_tfidf, pred_Log_baseline_tfidf)\n",
    "sn.heatmap(cm,annot=True, cmap=\"PuBuGn_r\")"
   ]
  },
  {
   "cell_type": "markdown",
   "metadata": {},
   "source": [
    "<h3> Logistic Regression with Glove - Baseline Model </h3>"
   ]
  },
  {
   "cell_type": "code",
   "execution_count": 218,
   "metadata": {},
   "outputs": [
    {
     "name": "stderr",
     "output_type": "stream",
     "text": [
      "/Users/j/opt/anaconda3/lib/python3.7/site-packages/sklearn/linear_model/_logistic.py:764: ConvergenceWarning:\n",
      "\n",
      "lbfgs failed to converge (status=1):\n",
      "STOP: TOTAL NO. of ITERATIONS REACHED LIMIT.\n",
      "\n",
      "Increase the number of iterations (max_iter) or scale the data as shown in:\n",
      "    https://scikit-learn.org/stable/modules/preprocessing.html\n",
      "Please also refer to the documentation for alternative solver options:\n",
      "    https://scikit-learn.org/stable/modules/linear_model.html#logistic-regression\n",
      "\n"
     ]
    },
    {
     "data": {
      "text/plain": [
       "array([2, 0, 0, ..., 2, 2, 0])"
      ]
     },
     "execution_count": 218,
     "metadata": {},
     "output_type": "execute_result"
    }
   ],
   "source": [
    "classifier_log_baseline_glove = LogisticRegression()\n",
    "classifier_log_baseline_glove.fit(X_train_glove,Y_train_glove)\n",
    "pred_Log_baseline_glove = classifier_log_baseline_glove.predict(X_test_glove)\n",
    "pred_Log_baseline_glove"
   ]
  },
  {
   "cell_type": "code",
   "execution_count": 219,
   "metadata": {},
   "outputs": [
    {
     "name": "stdout",
     "output_type": "stream",
     "text": [
      "Accuracy: 0.5503568596352102\n",
      "f1 Score 0.5479680230321\n",
      "confusion_matrix [[265  76  68]\n",
      " [114 188 126]\n",
      " [ 88  95 241]]\n",
      "precision_score 0.5483838962856894\n",
      "recall_score 0.5518567744182968\n"
     ]
    },
    {
     "data": {
      "text/plain": [
       "<matplotlib.axes._subplots.AxesSubplot at 0x7fec446a98d0>"
      ]
     },
     "execution_count": 219,
     "metadata": {},
     "output_type": "execute_result"
    },
    {
     "data": {
      "image/png": "[encoded data removed]",
      "text/plain": [
       "<Figure size 432x288 with 2 Axes>"
      ]
     },
     "metadata": {
      "needs_background": "light"
     },
     "output_type": "display_data"
    }
   ],
   "source": [
    "#prediction with accuracy and f1 scores for baseline model - SVM\n",
    "print(\"Accuracy:\",metrics.accuracy_score(Y_test_glove, pred_Log_baseline_glove))\n",
    "print(\"f1 Score\", f1_score(Y_test_glove, pred_Log_baseline_glove,average = \"macro\"))\n",
    "print(\"confusion_matrix\", confusion_matrix(Y_test_glove, pred_Log_baseline_glove))\n",
    "print(\"precision_score\", precision_score(Y_test_glove, pred_Log_baseline_glove,average = \"macro\"))\n",
    "print(\"recall_score\", recall_score(Y_test_glove, pred_Log_baseline_glove,average = \"macro\"))\n",
    "cm = confusion_matrix(Y_test_glove, pred_Log_baseline_glove)\n",
    "sn.heatmap(cm,annot=True, cmap=\"PuBuGn_r\")"
   ]
  },
  {
   "cell_type": "markdown",
   "metadata": {},
   "source": [
    "<h3> Based on Baseline Model's accuracy </h3> \n",
    "<p> We decided 3 algorithms with TF-IDF features <b>(Random Forest, SVM, Logistic Regression)</b> </p>"
   ]
  },
  {
   "cell_type": "markdown",
   "metadata": {},
   "source": [
    "<h2> Hyperparameter Tuning </h2>"
   ]
  },
  {
   "cell_type": "markdown",
   "metadata": {},
   "source": [
    "<h3> Hyper parameter for RandomForest via RandomizedSearchCV - TF-IDF</h3>"
   ]
  },
  {
   "cell_type": "code",
   "execution_count": 510,
   "metadata": {},
   "outputs": [
    {
     "name": "stdout",
     "output_type": "stream",
     "text": [
      "Fitting 5 folds for each of 1000 candidates, totalling 5000 fits\n"
     ]
    },
    {
     "name": "stderr",
     "output_type": "stream",
     "text": [
      "[Parallel(n_jobs=-1)]: Using backend LokyBackend with 4 concurrent workers.\n",
      "[Parallel(n_jobs=-1)]: Done  42 tasks      | elapsed:   37.3s\n",
      "[Parallel(n_jobs=-1)]: Done 192 tasks      | elapsed:  2.1min\n",
      "[Parallel(n_jobs=-1)]: Done 442 tasks      | elapsed:  4.8min\n",
      "[Parallel(n_jobs=-1)]: Done 792 tasks      | elapsed:  8.8min\n",
      "[Parallel(n_jobs=-1)]: Done 1242 tasks      | elapsed: 13.9min\n",
      "[Parallel(n_jobs=-1)]: Done 1792 tasks      | elapsed: 21.0min\n",
      "[Parallel(n_jobs=-1)]: Done 2442 tasks      | elapsed: 29.5min\n",
      "[Parallel(n_jobs=-1)]: Done 3192 tasks      | elapsed: 37.9min\n",
      "[Parallel(n_jobs=-1)]: Done 4042 tasks      | elapsed: 47.1min\n",
      "[Parallel(n_jobs=-1)]: Done 4992 tasks      | elapsed: 61.5min\n",
      "[Parallel(n_jobs=-1)]: Done 5000 out of 5000 | elapsed: 61.6min finished\n"
     ]
    },
    {
     "name": "stdout",
     "output_type": "stream",
     "text": [
      "0.6541039375776739\n",
      "{'n_estimators': 600, 'min_samples_leaf': 10, 'max_depth': 1560, 'criterion': 'gini'}\n"
     ]
    }
   ],
   "source": [
    "#input range of values for hyperparameter tuning.\n",
    "param_rand = {\"n_estimators\": np.arange(100,1000,10), \"max_depth\": np.arange(10,2000,10), \"min_samples_leaf\": np.arange(10,1000,10), \"criterion\": [\"gini\",\"entropy\"]}\n",
    "\n",
    "# implementation of RandomForestClassifier with RandomizedSearchCV\n",
    "rand_hyper_tfidf = RandomForestClassifier(random_state = 1)\n",
    "RF_hyper_tfidf = RandomizedSearchCV(rand_hyper_tfidf, n_iter = 1000, param_distributions=param_rand, cv=5, n_jobs=-1,verbose=1)\n",
    "\n",
    "#Fit the Random Forest model with X_train and y_train\n",
    "RF_hyper_tfidf = RF_hyper_tfidf.fit(X_train_tfidf,Y_train_tfidf)\n",
    "\n",
    "print(RF_hyper_tfidf.best_score_)\n",
    "print(RF_hyper_tfidf.best_params_)"
   ]
  },
  {
   "cell_type": "code",
   "execution_count": 258,
   "metadata": {},
   "outputs": [],
   "source": [
    "classifier_RF_hyper_tfidf = RandomForestClassifier(n_estimators= 200, min_samples_leaf= 1, max_depth=350, criterion = 'gini')\n",
    "classifier_RF_hyper_tfidf.fit(X_train_tfidf,Y_train_tfidf)\n",
    "pred_RF_hyper_tfidf = classifier_RF_hyper_tfidf.predict(X_test_tfidf)"
   ]
  },
  {
   "cell_type": "code",
   "execution_count": 259,
   "metadata": {},
   "outputs": [
    {
     "name": "stdout",
     "output_type": "stream",
     "text": [
      "Accuracy: 0.7303727200634417\n",
      "f1 Score 0.7307585253237426\n",
      "confusion_matrix [[319  28  62]\n",
      " [ 54 317  57]\n",
      " [ 98  41 285]]\n",
      "precision_score 0.7346571485966127\n",
      "recall_score 0.7309250390575768\n"
     ]
    },
    {
     "data": {
      "text/plain": [
       "<matplotlib.axes._subplots.AxesSubplot at 0x7fece0477a10>"
      ]
     },
     "execution_count": 259,
     "metadata": {},
     "output_type": "execute_result"
    },
    {
     "data": {
      "image/png": "[encoded data removed]",
      "text/plain": [
       "<Figure size 432x288 with 2 Axes>"
      ]
     },
     "metadata": {
      "needs_background": "light"
     },
     "output_type": "display_data"
    }
   ],
   "source": [
    "#prediction with accuracy and f1 scores for baseline model - RandomForest\n",
    "print(\"Accuracy:\",metrics.accuracy_score(Y_test_tfidf, pred_RF_hyper_tfidf))\n",
    "print(\"f1 Score\", f1_score(Y_test_tfidf, pred_RF_hyper_tfidf,average = \"macro\"))\n",
    "print(\"confusion_matrix\", confusion_matrix(Y_test_tfidf, pred_RF_hyper_tfidf))\n",
    "print(\"precision_score\", precision_score(Y_test_tfidf, pred_RF_hyper_tfidf,average = \"macro\"))\n",
    "print(\"recall_score\", recall_score(Y_test_tfidf, pred_RF_hyper_tfidf,average = \"macro\"))\n",
    "cm = confusion_matrix(Y_test_tfidf, pred_RF_hyper_tfidf)\n",
    "sn.heatmap(cm,annot=True, cmap=\"PuBuGn_r\")"
   ]
  },
  {
   "cell_type": "markdown",
   "metadata": {},
   "source": [
    "<h3> Hyper parameter for SVM via RandomizedSearchCV - TF-IDF</h3>"
   ]
  },
  {
   "cell_type": "code",
   "execution_count": 511,
   "metadata": {},
   "outputs": [
    {
     "name": "stdout",
     "output_type": "stream",
     "text": [
      "Fitting 5 folds for each of 80 candidates, totalling 400 fits\n"
     ]
    },
    {
     "name": "stderr",
     "output_type": "stream",
     "text": [
      "/Users/j/opt/anaconda3/lib/python3.7/site-packages/sklearn/model_selection/_search.py:282: UserWarning:\n",
      "\n",
      "The total space of parameters 80 is smaller than n_iter=150. Running 80 iterations. For exhaustive searches, use GridSearchCV.\n",
      "\n",
      "[Parallel(n_jobs=-1)]: Using backend LokyBackend with 4 concurrent workers.\n",
      "[Parallel(n_jobs=-1)]: Done  42 tasks      | elapsed:  2.2min\n",
      "[Parallel(n_jobs=-1)]: Done 192 tasks      | elapsed:  9.5min\n",
      "[Parallel(n_jobs=-1)]: Done 400 out of 400 | elapsed: 19.6min finished\n"
     ]
    },
    {
     "name": "stdout",
     "output_type": "stream",
     "text": [
      "0.761600555319584\n",
      "{'C': 1.4500000000000004}\n"
     ]
    }
   ],
   "source": [
    "#input range of values for hyperparameter tuning.\n",
    "param_rand = {\"C\": np.arange(1,5,0.05)}\n",
    "\n",
    "# implementation of RandomForestClassifier with RandomizedSearchCV\n",
    "svm_hyper_tfidf = SVC()\n",
    "SVM_hyper_tfidf = RandomizedSearchCV(svm_hyper_tfidf, n_iter = 150, param_distributions=param_rand, cv=5, n_jobs=-1,verbose=1)\n",
    "\n",
    "#Fit the Random Forest model with X_train and y_train\n",
    "SVM_hyper_tfidf = SVM_hyper_tfidf.fit(X_train_tfidf,Y_train_tfidf)\n",
    "\n",
    "print(SVM_hyper_tfidf.best_score_)\n",
    "print(SVM_hyper_tfidf.best_params_)"
   ]
  },
  {
   "cell_type": "code",
   "execution_count": 222,
   "metadata": {},
   "outputs": [],
   "source": [
    "classifier_SVM_hyper_tfidf = SVC(C=1.4)\n",
    "classifier_SVM_hyper_tfidf.fit(X_train_tfidf,Y_train_tfidf)\n",
    "pred_SVM_hyper_tfidf = classifier_SVM_hyper_tfidf.predict(X_test_tfidf)"
   ]
  },
  {
   "cell_type": "code",
   "execution_count": 223,
   "metadata": {},
   "outputs": [
    {
     "name": "stdout",
     "output_type": "stream",
     "text": [
      "Accuracy: 0.7850911974623315\n",
      "f1 Score 0.7856692116306849\n",
      "confusion_matrix [[355  10  44]\n",
      " [ 75 312  41]\n",
      " [ 73  28 323]]\n",
      "precision_score 0.7962868818833034\n",
      "recall_score 0.7862450251979034\n"
     ]
    },
    {
     "data": {
      "text/plain": [
       "<matplotlib.axes._subplots.AxesSubplot at 0x7fec44a96810>"
      ]
     },
     "execution_count": 223,
     "metadata": {},
     "output_type": "execute_result"
    },
    {
     "data": {
      "image/png": "[encoded data removed]",
      "text/plain": [
       "<Figure size 432x288 with 2 Axes>"
      ]
     },
     "metadata": {
      "needs_background": "light"
     },
     "output_type": "display_data"
    }
   ],
   "source": [
    "#prediction with accuracy and f1 scores for baseline model - SVM\n",
    "print(\"Accuracy:\",metrics.accuracy_score(Y_test_tfidf, pred_SVM_hyper_tfidf))\n",
    "print(\"f1 Score\", f1_score(Y_test_tfidf, pred_SVM_hyper_tfidf,average = \"macro\"))\n",
    "print(\"confusion_matrix\", confusion_matrix(Y_test_tfidf, pred_SVM_hyper_tfidf))\n",
    "print(\"precision_score\", precision_score(Y_test_tfidf, pred_SVM_hyper_tfidf,average = \"macro\"))\n",
    "print(\"recall_score\", recall_score(Y_test_tfidf, pred_SVM_hyper_tfidf,average = \"macro\"))\n",
    "cm = confusion_matrix(Y_test_tfidf, pred_SVM_hyper_tfidf)\n",
    "sn.heatmap(cm,annot=True, cmap=\"PuBuGn_r\")"
   ]
  },
  {
   "cell_type": "markdown",
   "metadata": {},
   "source": [
    "<h3> Hyper parameter for Logistic Regression via RandomizedSearchCV - TF-IDF</h3>"
   ]
  },
  {
   "cell_type": "code",
   "execution_count": 512,
   "metadata": {},
   "outputs": [
    {
     "name": "stdout",
     "output_type": "stream",
     "text": [
      "Fitting 5 folds for each of 1000 candidates, totalling 5000 fits\n"
     ]
    },
    {
     "name": "stderr",
     "output_type": "stream",
     "text": [
      "[Parallel(n_jobs=-1)]: Using backend LokyBackend with 4 concurrent workers.\n",
      "[Parallel(n_jobs=-1)]: Done  68 tasks      | elapsed:   12.0s\n",
      "[Parallel(n_jobs=-1)]: Done 284 tasks      | elapsed:   53.3s\n",
      "[Parallel(n_jobs=-1)]: Done 630 tasks      | elapsed:  2.4min\n",
      "[Parallel(n_jobs=-1)]: Done 1064 tasks      | elapsed:  3.5min\n",
      "[Parallel(n_jobs=-1)]: Done 1754 tasks      | elapsed:  6.2min\n",
      "[Parallel(n_jobs=-1)]: Done 2440 tasks      | elapsed:  8.9min\n",
      "[Parallel(n_jobs=-1)]: Done 3418 tasks      | elapsed: 11.7min\n",
      "[Parallel(n_jobs=-1)]: Done 4488 tasks      | elapsed: 14.6min\n",
      "[Parallel(n_jobs=-1)]: Done 5000 out of 5000 | elapsed: 16.2min finished\n",
      "/Users/j/opt/anaconda3/lib/python3.7/site-packages/sklearn/linear_model/_logistic.py:764: ConvergenceWarning:\n",
      "\n",
      "lbfgs failed to converge (status=1):\n",
      "STOP: TOTAL NO. of ITERATIONS REACHED LIMIT.\n",
      "\n",
      "Increase the number of iterations (max_iter) or scale the data as shown in:\n",
      "    https://scikit-learn.org/stable/modules/preprocessing.html\n",
      "Please also refer to the documentation for alternative solver options:\n",
      "    https://scikit-learn.org/stable/modules/linear_model.html#logistic-regression\n",
      "\n",
      "/Users/j/opt/anaconda3/lib/python3.7/site-packages/sklearn/linear_model/_logistic.py:764: ConvergenceWarning:\n",
      "\n",
      "lbfgs failed to converge (status=1):\n",
      "STOP: TOTAL NO. of ITERATIONS REACHED LIMIT.\n",
      "\n",
      "Increase the number of iterations (max_iter) or scale the data as shown in:\n",
      "    https://scikit-learn.org/stable/modules/preprocessing.html\n",
      "Please also refer to the documentation for alternative solver options:\n",
      "    https://scikit-learn.org/stable/modules/linear_model.html#logistic-regression\n",
      "\n"
     ]
    },
    {
     "name": "stdout",
     "output_type": "stream",
     "text": [
      "0.7227275945065836\n",
      "{'solver': 'lbfgs', 'penalty': 'l2', 'multi_class': 'ovr', 'C': 9.000000000000007}\n"
     ]
    },
    {
     "name": "stderr",
     "output_type": "stream",
     "text": [
      "/Users/j/opt/anaconda3/lib/python3.7/site-packages/sklearn/linear_model/_logistic.py:764: ConvergenceWarning:\n",
      "\n",
      "lbfgs failed to converge (status=1):\n",
      "STOP: TOTAL NO. of ITERATIONS REACHED LIMIT.\n",
      "\n",
      "Increase the number of iterations (max_iter) or scale the data as shown in:\n",
      "    https://scikit-learn.org/stable/modules/preprocessing.html\n",
      "Please also refer to the documentation for alternative solver options:\n",
      "    https://scikit-learn.org/stable/modules/linear_model.html#logistic-regression\n",
      "\n"
     ]
    }
   ],
   "source": [
    "#input range of values for hyperparameter tuning.\n",
    "param_rand = {\"C\": np.arange(1,10,0.1),\"multi_class\":[\"auto\", \"ovr\", \"multinomial\"], \"solver\": [\"newton-cg\", \"lbfgs\", \"liblinear\", \"sag\", \"saga\"], \"penalty\": [\"l1\", \"l2\", \"elasticnet\", \"none\"]}\n",
    "\n",
    "# implementation of RandomForestClassifier with RandomizedSearchCV\n",
    "svm_hyper_tfidf = LogisticRegression()\n",
    "SVM_hyper_tfidf = RandomizedSearchCV(svm_hyper_tfidf, n_iter = 1000, param_distributions=param_rand, cv=5, n_jobs=-1,verbose=1)\n",
    "\n",
    "#Fit the Random Forest model with X_train and y_train\n",
    "SVM_hyper_tfidf = SVM_hyper_tfidf.fit(X_train_tfidf,Y_train_tfidf)\n",
    "\n",
    "print(SVM_hyper_tfidf.best_score_)\n",
    "print(SVM_hyper_tfidf.best_params_)"
   ]
  },
  {
   "cell_type": "code",
   "execution_count": 220,
   "metadata": {},
   "outputs": [
    {
     "name": "stderr",
     "output_type": "stream",
     "text": [
      "/Users/j/opt/anaconda3/lib/python3.7/site-packages/sklearn/linear_model/_logistic.py:764: ConvergenceWarning:\n",
      "\n",
      "lbfgs failed to converge (status=1):\n",
      "STOP: TOTAL NO. of ITERATIONS REACHED LIMIT.\n",
      "\n",
      "Increase the number of iterations (max_iter) or scale the data as shown in:\n",
      "    https://scikit-learn.org/stable/modules/preprocessing.html\n",
      "Please also refer to the documentation for alternative solver options:\n",
      "    https://scikit-learn.org/stable/modules/linear_model.html#logistic-regression\n",
      "\n",
      "/Users/j/opt/anaconda3/lib/python3.7/site-packages/sklearn/linear_model/_logistic.py:764: ConvergenceWarning:\n",
      "\n",
      "lbfgs failed to converge (status=1):\n",
      "STOP: TOTAL NO. of ITERATIONS REACHED LIMIT.\n",
      "\n",
      "Increase the number of iterations (max_iter) or scale the data as shown in:\n",
      "    https://scikit-learn.org/stable/modules/preprocessing.html\n",
      "Please also refer to the documentation for alternative solver options:\n",
      "    https://scikit-learn.org/stable/modules/linear_model.html#logistic-regression\n",
      "\n",
      "/Users/j/opt/anaconda3/lib/python3.7/site-packages/sklearn/linear_model/_logistic.py:764: ConvergenceWarning:\n",
      "\n",
      "lbfgs failed to converge (status=1):\n",
      "STOP: TOTAL NO. of ITERATIONS REACHED LIMIT.\n",
      "\n",
      "Increase the number of iterations (max_iter) or scale the data as shown in:\n",
      "    https://scikit-learn.org/stable/modules/preprocessing.html\n",
      "Please also refer to the documentation for alternative solver options:\n",
      "    https://scikit-learn.org/stable/modules/linear_model.html#logistic-regression\n",
      "\n"
     ]
    }
   ],
   "source": [
    "classifier_Log_hyper_tfidf = LogisticRegression(multi_class= 'ovr', C= 9)\n",
    "classifier_Log_hyper_tfidf.fit(X_train_tfidf,Y_train_tfidf)\n",
    "pred_LOG_hyper_tfidf = classifier_Log_hyper_tfidf.predict(X_test_tfidf)"
   ]
  },
  {
   "cell_type": "code",
   "execution_count": 221,
   "metadata": {},
   "outputs": [
    {
     "name": "stdout",
     "output_type": "stream",
     "text": [
      "Accuracy: 0.7295796986518636\n",
      "f1 Score 0.7290415935469966\n",
      "confusion_matrix [[292  72  45]\n",
      " [ 43 340  45]\n",
      " [ 58  78 288]]\n",
      "precision_score 0.7329282858181441\n",
      "recall_score 0.7291914122337341\n"
     ]
    },
    {
     "data": {
      "text/plain": [
       "<matplotlib.axes._subplots.AxesSubplot at 0x7fec44e34dd0>"
      ]
     },
     "execution_count": 221,
     "metadata": {},
     "output_type": "execute_result"
    },
    {
     "data": {
      "image/png": "[encoded data removed]",
      "text/plain": [
       "<Figure size 432x288 with 2 Axes>"
      ]
     },
     "metadata": {
      "needs_background": "light"
     },
     "output_type": "display_data"
    }
   ],
   "source": [
    "#prediction with accuracy and f1 scores for baseline model - SVM\n",
    "print(\"Accuracy:\",metrics.accuracy_score(Y_test_tfidf, pred_LOG_hyper_tfidf))\n",
    "print(\"f1 Score\", f1_score(Y_test_tfidf, pred_LOG_hyper_tfidf,average = \"macro\"))\n",
    "print(\"confusion_matrix\", confusion_matrix(Y_test_tfidf, pred_LOG_hyper_tfidf))\n",
    "print(\"precision_score\", precision_score(Y_test_tfidf, pred_LOG_hyper_tfidf,average = \"macro\"))\n",
    "print(\"recall_score\", recall_score(Y_test_tfidf, pred_LOG_hyper_tfidf,average = \"macro\"))\n",
    "cm = confusion_matrix(Y_test_tfidf, pred_LOG_hyper_tfidf)\n",
    "sn.heatmap(cm,annot=True, cmap=\"PuBuGn_r\")"
   ]
  }
 ],
 "metadata": {
  "kernelspec": {
   "display_name": "Python 3",
   "language": "python",
   "name": "python3"
  },
  "language_info": {
   "codemirror_mode": {
    "name": "ipython",
    "version": 3
   },
   "file_extension": ".py",
   "mimetype": "text/x-python",
   "name": "python",
   "nbconvert_exporter": "python",
   "pygments_lexer": "ipython3",
   "version": "3.7.4"
  }
 },
 "nbformat": 4,
 "nbformat_minor": 2
}
