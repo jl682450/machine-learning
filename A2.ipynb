{
 "cells": [
  {
   "cell_type": "markdown",
   "metadata": {},
   "source": [
    "<h1>Assignment 2 of CSCI 6515</h1>\n",
    "\n",
    "<h4> Steps: </h4>\n",
    "<p><b>Step 1:</b> We fetch the first dataset from Google Big-query public dataset <b><i>https://cloud.google.com/bigqueryand</i></b> query => <q>select * from bigquery-public-data.covid19_open_data.covid19_open_data where country_name in ('Canada');</q></p>\n",
    "<p><b>Step 2:</b> Select three twitter user accounts (government leaders or influencer accounts) related to public health. Example, <b><i>@CDCgovor or @GovCanHealth.</i></b></p>\n",
    "\n",
    "<h4> Tasks: </h4>\n",
    "<p> <b>1.</b> Fetch  all  selected  accounts' tweets and use them as yourinput (X) and use any word embedding library such as GloVe (Global Vectors for Word Representation).</p>\n",
    "<p> <b>2.</b> Preprocess the data received from BigQuery and label the tweet messages using the Big-Query data. The label is a categorical label that has three values:\n",
    "    <blockquote>-Increase the spread of COVID192.</blockquote><blockquote>-No change on the spread of COVID193.</blockquote><blockquote>-Decrease the spread of COVID19</blockquote>\n",
    "    \n",
    "<p> <b>3.</b> Use KMeans clustering to find the proper boundaries for labels in a target country or select boundaries based on  reasoning.</p>\n",
    "\n",
    "<p><b>Note:</b> Today's tweet will get a label using the number of new cases in tomorrow day.</p>\n",
    "\n",
    "<p> <b>4.a</b> Build model based on the data from November 1, 2019, to April 1,2020 and apply the data from April 1, 2020, to September 1, 2020, as your model'sdevelopment dataset.</p> \n",
    "\n",
    "<p> <b>4.b</b> Then use the data from September 1, 2020, to October1, 2020, to validate(test) your model. We call this model as <b>Model A</b>.</p>\n",
    "\n",
    "<p><b>Note:</b>Now, you change your labels by the following assumption. A tweet publishedtoday will get a label using the number of new cases in 14 days after the tweetis posted.</p> \n",
    "\n",
    "<p> <b>5.</b> Build the second model using this assumption. Use the same developmentand validation dataset to build and test your model. Call this model <b>Model B</b>.</p>\n",
    "\n",
    "\n",
    "<p> Finally, compare these two models (Model A and Model B) and suggest best model to evaluate a message before publishing by the influencer</p>\n"
   ]
  },
  {
   "cell_type": "markdown",
   "metadata": {},
   "source": [
    "<h2>Importing Libraries:</h2>"
   ]
  },
  {
   "cell_type": "code",
   "execution_count": 95,
   "metadata": {},
   "outputs": [],
   "source": [
    "import warnings\n",
    "import os\n",
    "import re\n",
    "import numpy as np\n",
    "import pandas as pd\n",
    "import matplotlib.pyplot as plt\n",
    "from sklearn import metrics\n",
    "from sklearn.metrics import f1_score, accuracy_score\n",
    "from nltk.stem import WordNetLemmatizer\n",
    "import nltk\n",
    "from sklearn.model_selection import train_test_split"
   ]
  },
  {
   "cell_type": "code",
   "execution_count": 96,
   "metadata": {},
   "outputs": [],
   "source": [
    "#Ignore warnings\n",
    "warnings.filterwarnings('ignore')"
   ]
  },
  {
   "cell_type": "code",
   "execution_count": 97,
   "metadata": {},
   "outputs": [
    {
     "data": {
      "text/plain": [
       "'/Users/j/Desktop/ML-BigData/A2'"
      ]
     },
     "execution_count": 97,
     "metadata": {},
     "output_type": "execute_result"
    }
   ],
   "source": [
    "#detect current dir, optional if the csv is not in current dir\n",
    "os.getcwd()"
   ]
  },
  {
   "cell_type": "markdown",
   "metadata": {},
   "source": [
    "<h2>Data Collection:</h2>\n",
    "<p> 1. We fetch the first dataset from Google Big-query public dataset <b><i>https://cloud.google.com/bigqueryand</i></b> query => <q>select * from bigquery-public-data.covid19_open_data.covid19_open_data where country_name in ('Canada');</q></p>\n",
    "<p> 2. We fetch textual data from three twitter user accounts (government leaders or influencer accounts) related to public health. Example, <b><i>@CDCgovor or @GovCanHealth.</i></b></p>"
   ]
  },
  {
   "cell_type": "code",
   "execution_count": 98,
   "metadata": {},
   "outputs": [],
   "source": [
    "# Reading public covid Data\n",
    "df_public_dataset = pd.read_csv('bq-results-20201014-170317-m72fmwjiyibs.csv', sep=',')\n",
    "\n",
    "# Reading user tweets data\n",
    "user1_tweets = pd.read_csv('@ScottRMcKenna_user_tweets.csv', sep=',')\n",
    "user2_tweets = pd.read_csv('@OpenGovCan_user_tweets.csv', sep=',')\n",
    "user3_tweets = pd.read_csv('@CDCgov_user_tweets.csv', sep=',')"
   ]
  },
  {
   "cell_type": "markdown",
   "metadata": {},
   "source": [
    "<h2>Analysing the Data:</h2>\n",
    "<h4>W.R.T Public Covid dataset</h4>\n",
    "<p> 1. Displaying sample records of the dataset</p>\n",
    "<p> 2. Checking the shape and column names of the dataset</p>\n",
    "<p> 3. Describing the data obtained by calculating its standard deviation, mean, counts, etc.</p>\n",
    "<p> 4. Checking for NULL values</p>"
   ]
  },
  {
   "cell_type": "code",
   "execution_count": 99,
   "metadata": {},
   "outputs": [
    {
     "data": {
      "text/html": [
       "<div>\n",
       "<style scoped>\n",
       "    .dataframe tbody tr th:only-of-type {\n",
       "        vertical-align: middle;\n",
       "    }\n",
       "\n",
       "    .dataframe tbody tr th {\n",
       "        vertical-align: top;\n",
       "    }\n",
       "\n",
       "    .dataframe thead th {\n",
       "        text-align: right;\n",
       "    }\n",
       "</style>\n",
       "<table border=\"1\" class=\"dataframe\">\n",
       "  <thead>\n",
       "    <tr style=\"text-align: right;\">\n",
       "      <th></th>\n",
       "      <th>date</th>\n",
       "      <th>location_key</th>\n",
       "      <th>country_code</th>\n",
       "      <th>country_name</th>\n",
       "      <th>subregion1_code</th>\n",
       "      <th>subregion1_name</th>\n",
       "      <th>subregion2_code</th>\n",
       "      <th>subregion2_name</th>\n",
       "      <th>iso_3166_1_alpha_2</th>\n",
       "      <th>iso_3166_1_alpha_3</th>\n",
       "      <th>...</th>\n",
       "      <th>datacommons_id</th>\n",
       "      <th>openstreetmap_id</th>\n",
       "      <th>latitude</th>\n",
       "      <th>longitude</th>\n",
       "      <th>location_geometry</th>\n",
       "      <th>average_temperature_celsius</th>\n",
       "      <th>minimum_temperature_celsius</th>\n",
       "      <th>maximum_temperature_celsius</th>\n",
       "      <th>rainfall_mm</th>\n",
       "      <th>snowfall_mm</th>\n",
       "    </tr>\n",
       "  </thead>\n",
       "  <tbody>\n",
       "    <tr>\n",
       "      <td>0</td>\n",
       "      <td>1/1/20</td>\n",
       "      <td>CA_AB</td>\n",
       "      <td>CA</td>\n",
       "      <td>Canada</td>\n",
       "      <td>AB</td>\n",
       "      <td>Alberta</td>\n",
       "      <td>NaN</td>\n",
       "      <td>NaN</td>\n",
       "      <td>CA</td>\n",
       "      <td>CAN</td>\n",
       "      <td>...</td>\n",
       "      <td>NaN</td>\n",
       "      <td>391186.0</td>\n",
       "      <td>55.0</td>\n",
       "      <td>-115.0</td>\n",
       "      <td>POINT(-115 55)</td>\n",
       "      <td>-5.088889</td>\n",
       "      <td>-10.105556</td>\n",
       "      <td>2.444444</td>\n",
       "      <td>0.000000</td>\n",
       "      <td>180.34</td>\n",
       "    </tr>\n",
       "    <tr>\n",
       "      <td>1</td>\n",
       "      <td>1/2/20</td>\n",
       "      <td>CA_AB</td>\n",
       "      <td>CA</td>\n",
       "      <td>Canada</td>\n",
       "      <td>AB</td>\n",
       "      <td>Alberta</td>\n",
       "      <td>NaN</td>\n",
       "      <td>NaN</td>\n",
       "      <td>CA</td>\n",
       "      <td>CAN</td>\n",
       "      <td>...</td>\n",
       "      <td>NaN</td>\n",
       "      <td>391186.0</td>\n",
       "      <td>55.0</td>\n",
       "      <td>-115.0</td>\n",
       "      <td>POINT(-115 55)</td>\n",
       "      <td>-3.883333</td>\n",
       "      <td>-10.344444</td>\n",
       "      <td>0.361111</td>\n",
       "      <td>0.225778</td>\n",
       "      <td>190.50</td>\n",
       "    </tr>\n",
       "    <tr>\n",
       "      <td>2</td>\n",
       "      <td>1/3/20</td>\n",
       "      <td>CA_AB</td>\n",
       "      <td>CA</td>\n",
       "      <td>Canada</td>\n",
       "      <td>AB</td>\n",
       "      <td>Alberta</td>\n",
       "      <td>NaN</td>\n",
       "      <td>NaN</td>\n",
       "      <td>CA</td>\n",
       "      <td>CAN</td>\n",
       "      <td>...</td>\n",
       "      <td>NaN</td>\n",
       "      <td>391186.0</td>\n",
       "      <td>55.0</td>\n",
       "      <td>-115.0</td>\n",
       "      <td>POINT(-115 55)</td>\n",
       "      <td>-8.294444</td>\n",
       "      <td>-13.661111</td>\n",
       "      <td>-0.516667</td>\n",
       "      <td>0.112889</td>\n",
       "      <td>180.34</td>\n",
       "    </tr>\n",
       "    <tr>\n",
       "      <td>3</td>\n",
       "      <td>1/4/20</td>\n",
       "      <td>CA_AB</td>\n",
       "      <td>CA</td>\n",
       "      <td>Canada</td>\n",
       "      <td>AB</td>\n",
       "      <td>Alberta</td>\n",
       "      <td>NaN</td>\n",
       "      <td>NaN</td>\n",
       "      <td>CA</td>\n",
       "      <td>CAN</td>\n",
       "      <td>...</td>\n",
       "      <td>NaN</td>\n",
       "      <td>391186.0</td>\n",
       "      <td>55.0</td>\n",
       "      <td>-115.0</td>\n",
       "      <td>POINT(-115 55)</td>\n",
       "      <td>-6.055556</td>\n",
       "      <td>-10.161111</td>\n",
       "      <td>0.944444</td>\n",
       "      <td>0.282222</td>\n",
       "      <td>190.50</td>\n",
       "    </tr>\n",
       "    <tr>\n",
       "      <td>4</td>\n",
       "      <td>1/5/20</td>\n",
       "      <td>CA_AB</td>\n",
       "      <td>CA</td>\n",
       "      <td>Canada</td>\n",
       "      <td>AB</td>\n",
       "      <td>Alberta</td>\n",
       "      <td>NaN</td>\n",
       "      <td>NaN</td>\n",
       "      <td>CA</td>\n",
       "      <td>CAN</td>\n",
       "      <td>...</td>\n",
       "      <td>NaN</td>\n",
       "      <td>391186.0</td>\n",
       "      <td>55.0</td>\n",
       "      <td>-115.0</td>\n",
       "      <td>POINT(-115 55)</td>\n",
       "      <td>-9.005556</td>\n",
       "      <td>-15.538889</td>\n",
       "      <td>0.138889</td>\n",
       "      <td>0.056444</td>\n",
       "      <td>170.18</td>\n",
       "    </tr>\n",
       "  </tbody>\n",
       "</table>\n",
       "<p>5 rows × 45 columns</p>\n",
       "</div>"
      ],
      "text/plain": [
       "     date location_key country_code country_name subregion1_code  \\\n",
       "0  1/1/20        CA_AB           CA       Canada              AB   \n",
       "1  1/2/20        CA_AB           CA       Canada              AB   \n",
       "2  1/3/20        CA_AB           CA       Canada              AB   \n",
       "3  1/4/20        CA_AB           CA       Canada              AB   \n",
       "4  1/5/20        CA_AB           CA       Canada              AB   \n",
       "\n",
       "  subregion1_name  subregion2_code subregion2_name iso_3166_1_alpha_2  \\\n",
       "0         Alberta              NaN             NaN                 CA   \n",
       "1         Alberta              NaN             NaN                 CA   \n",
       "2         Alberta              NaN             NaN                 CA   \n",
       "3         Alberta              NaN             NaN                 CA   \n",
       "4         Alberta              NaN             NaN                 CA   \n",
       "\n",
       "  iso_3166_1_alpha_3  ...  datacommons_id  openstreetmap_id  latitude  \\\n",
       "0                CAN  ...             NaN          391186.0      55.0   \n",
       "1                CAN  ...             NaN          391186.0      55.0   \n",
       "2                CAN  ...             NaN          391186.0      55.0   \n",
       "3                CAN  ...             NaN          391186.0      55.0   \n",
       "4                CAN  ...             NaN          391186.0      55.0   \n",
       "\n",
       "   longitude  location_geometry  average_temperature_celsius  \\\n",
       "0     -115.0     POINT(-115 55)                    -5.088889   \n",
       "1     -115.0     POINT(-115 55)                    -3.883333   \n",
       "2     -115.0     POINT(-115 55)                    -8.294444   \n",
       "3     -115.0     POINT(-115 55)                    -6.055556   \n",
       "4     -115.0     POINT(-115 55)                    -9.005556   \n",
       "\n",
       "   minimum_temperature_celsius  maximum_temperature_celsius  rainfall_mm  \\\n",
       "0                   -10.105556                     2.444444     0.000000   \n",
       "1                   -10.344444                     0.361111     0.225778   \n",
       "2                   -13.661111                    -0.516667     0.112889   \n",
       "3                   -10.161111                     0.944444     0.282222   \n",
       "4                   -15.538889                     0.138889     0.056444   \n",
       "\n",
       "   snowfall_mm  \n",
       "0       180.34  \n",
       "1       190.50  \n",
       "2       180.34  \n",
       "3       190.50  \n",
       "4       170.18  \n",
       "\n",
       "[5 rows x 45 columns]"
      ]
     },
     "execution_count": 99,
     "metadata": {},
     "output_type": "execute_result"
    }
   ],
   "source": [
    "#displaying one sample file - weather data\n",
    "df_public_dataset.head(5)"
   ]
  },
  {
   "cell_type": "code",
   "execution_count": 100,
   "metadata": {},
   "outputs": [
    {
     "name": "stdout",
     "output_type": "stream",
     "text": [
      "(30240, 45)\n",
      "Index(['date', 'location_key', 'country_code', 'country_name',\n",
      "       'subregion1_code', 'subregion1_name', 'subregion2_code',\n",
      "       'subregion2_name', 'iso_3166_1_alpha_2', 'iso_3166_1_alpha_3',\n",
      "       'aggregation_level', 'new_confirmed', 'new_deceased', 'new_recovered',\n",
      "       'new_tested', 'cumulative_confirmed', 'cumulative_deceased',\n",
      "       'cumulative_recovered', 'cumulative_tested',\n",
      "       'new_hospitalized_patients', 'new_intensive_care_patients',\n",
      "       'new_ventilator_patients', 'cumulative_hospitalized_patients',\n",
      "       'cumulative_intensive_care_patients', 'cumulative_ventilator_patients',\n",
      "       'current_hospitalized_patients', 'current_intensive_care_patients',\n",
      "       'current_ventilator_patients', 'mobility_transit_stations',\n",
      "       'mobility_retail_and_recreation', 'mobility_grocery_and_pharmacy',\n",
      "       'mobility_parks', 'mobility_residential', 'mobility_workplaces',\n",
      "       'wikidata_id', 'datacommons_id', 'openstreetmap_id', 'latitude',\n",
      "       'longitude', 'location_geometry', 'average_temperature_celsius',\n",
      "       'minimum_temperature_celsius', 'maximum_temperature_celsius',\n",
      "       'rainfall_mm', 'snowfall_mm'],\n",
      "      dtype='object')\n"
     ]
    }
   ],
   "source": [
    "#Shape of public COVID file\n",
    "print(df_public_dataset.shape)\n",
    "\n",
    "#displaying the column names of public Covid data\n",
    "print(df_public_dataset.columns)\n"
   ]
  },
  {
   "cell_type": "code",
   "execution_count": 101,
   "metadata": {},
   "outputs": [
    {
     "data": {
      "text/html": [
       "<div>\n",
       "<style scoped>\n",
       "    .dataframe tbody tr th:only-of-type {\n",
       "        vertical-align: middle;\n",
       "    }\n",
       "\n",
       "    .dataframe tbody tr th {\n",
       "        vertical-align: top;\n",
       "    }\n",
       "\n",
       "    .dataframe thead th {\n",
       "        text-align: right;\n",
       "    }\n",
       "</style>\n",
       "<table border=\"1\" class=\"dataframe\">\n",
       "  <thead>\n",
       "    <tr style=\"text-align: right;\">\n",
       "      <th></th>\n",
       "      <th>subregion2_code</th>\n",
       "      <th>aggregation_level</th>\n",
       "      <th>new_confirmed</th>\n",
       "      <th>new_deceased</th>\n",
       "      <th>new_recovered</th>\n",
       "      <th>new_tested</th>\n",
       "      <th>cumulative_confirmed</th>\n",
       "      <th>cumulative_deceased</th>\n",
       "      <th>cumulative_recovered</th>\n",
       "      <th>cumulative_tested</th>\n",
       "      <th>...</th>\n",
       "      <th>mobility_workplaces</th>\n",
       "      <th>datacommons_id</th>\n",
       "      <th>openstreetmap_id</th>\n",
       "      <th>latitude</th>\n",
       "      <th>longitude</th>\n",
       "      <th>average_temperature_celsius</th>\n",
       "      <th>minimum_temperature_celsius</th>\n",
       "      <th>maximum_temperature_celsius</th>\n",
       "      <th>rainfall_mm</th>\n",
       "      <th>snowfall_mm</th>\n",
       "    </tr>\n",
       "  </thead>\n",
       "  <tbody>\n",
       "    <tr>\n",
       "      <td>count</td>\n",
       "      <td>26496.000000</td>\n",
       "      <td>30240.00000</td>\n",
       "      <td>27202.000000</td>\n",
       "      <td>23288.000000</td>\n",
       "      <td>2571.000000</td>\n",
       "      <td>2795.000000</td>\n",
       "      <td>27202.000000</td>\n",
       "      <td>23289.000000</td>\n",
       "      <td>2432.000000</td>\n",
       "      <td>2.808000e+03</td>\n",
       "      <td>...</td>\n",
       "      <td>5970.000000</td>\n",
       "      <td>0.0</td>\n",
       "      <td>3744.000000</td>\n",
       "      <td>3744.000000</td>\n",
       "      <td>3744.000000</td>\n",
       "      <td>3654.000000</td>\n",
       "      <td>3654.000000</td>\n",
       "      <td>3654.000000</td>\n",
       "      <td>3653.000000</td>\n",
       "      <td>1645.000000</td>\n",
       "    </tr>\n",
       "    <tr>\n",
       "      <td>mean</td>\n",
       "      <td>3302.913043</td>\n",
       "      <td>1.87619</td>\n",
       "      <td>13.548746</td>\n",
       "      <td>0.828796</td>\n",
       "      <td>59.901206</td>\n",
       "      <td>2926.831127</td>\n",
       "      <td>1462.936291</td>\n",
       "      <td>120.456739</td>\n",
       "      <td>5986.215049</td>\n",
       "      <td>2.353859e+05</td>\n",
       "      <td>...</td>\n",
       "      <td>-28.722781</td>\n",
       "      <td>NaN</td>\n",
       "      <td>316137.538462</td>\n",
       "      <td>54.543912</td>\n",
       "      <td>-91.965633</td>\n",
       "      <td>2.567055</td>\n",
       "      <td>-2.638177</td>\n",
       "      <td>8.379977</td>\n",
       "      <td>1.357547</td>\n",
       "      <td>288.727859</td>\n",
       "    </tr>\n",
       "    <tr>\n",
       "      <td>std</td>\n",
       "      <td>1357.427151</td>\n",
       "      <td>0.32937</td>\n",
       "      <td>64.722684</td>\n",
       "      <td>6.099934</td>\n",
       "      <td>489.905473</td>\n",
       "      <td>6772.050751</td>\n",
       "      <td>6110.655770</td>\n",
       "      <td>568.083738</td>\n",
       "      <td>13290.120904</td>\n",
       "      <td>5.722535e+05</td>\n",
       "      <td>...</td>\n",
       "      <td>20.209036</td>\n",
       "      <td>NaN</td>\n",
       "      <td>136791.334964</td>\n",
       "      <td>7.133740</td>\n",
       "      <td>25.154924</td>\n",
       "      <td>13.736235</td>\n",
       "      <td>13.588922</td>\n",
       "      <td>14.120195</td>\n",
       "      <td>2.806078</td>\n",
       "      <td>173.843192</td>\n",
       "    </tr>\n",
       "    <tr>\n",
       "      <td>min</td>\n",
       "      <td>1011.000000</td>\n",
       "      <td>1.00000</td>\n",
       "      <td>-1.000000</td>\n",
       "      <td>-2.000000</td>\n",
       "      <td>-224.000000</td>\n",
       "      <td>-20682.000000</td>\n",
       "      <td>0.000000</td>\n",
       "      <td>0.000000</td>\n",
       "      <td>0.000000</td>\n",
       "      <td>0.000000e+00</td>\n",
       "      <td>...</td>\n",
       "      <td>-87.000000</td>\n",
       "      <td>NaN</td>\n",
       "      <td>61549.000000</td>\n",
       "      <td>45.000000</td>\n",
       "      <td>-135.053230</td>\n",
       "      <td>-42.923611</td>\n",
       "      <td>-46.243056</td>\n",
       "      <td>-37.972222</td>\n",
       "      <td>0.000000</td>\n",
       "      <td>10.160000</td>\n",
       "    </tr>\n",
       "    <tr>\n",
       "      <td>25%</td>\n",
       "      <td>2407.750000</td>\n",
       "      <td>2.00000</td>\n",
       "      <td>0.000000</td>\n",
       "      <td>0.000000</td>\n",
       "      <td>0.000000</td>\n",
       "      <td>27.000000</td>\n",
       "      <td>4.000000</td>\n",
       "      <td>0.000000</td>\n",
       "      <td>24.000000</td>\n",
       "      <td>3.126000e+03</td>\n",
       "      <td>...</td>\n",
       "      <td>-42.000000</td>\n",
       "      <td>NaN</td>\n",
       "      <td>390558.000000</td>\n",
       "      <td>50.000000</td>\n",
       "      <td>-115.000000</td>\n",
       "      <td>-5.886111</td>\n",
       "      <td>-11.162500</td>\n",
       "      <td>-0.365278</td>\n",
       "      <td>0.025400</td>\n",
       "      <td>175.260000</td>\n",
       "    </tr>\n",
       "    <tr>\n",
       "      <td>50%</td>\n",
       "      <td>3541.500000</td>\n",
       "      <td>2.00000</td>\n",
       "      <td>0.000000</td>\n",
       "      <td>0.000000</td>\n",
       "      <td>0.000000</td>\n",
       "      <td>354.000000</td>\n",
       "      <td>61.000000</td>\n",
       "      <td>2.000000</td>\n",
       "      <td>284.000000</td>\n",
       "      <td>3.591850e+04</td>\n",
       "      <td>...</td>\n",
       "      <td>-32.000000</td>\n",
       "      <td>NaN</td>\n",
       "      <td>390867.000000</td>\n",
       "      <td>54.500000</td>\n",
       "      <td>-90.000000</td>\n",
       "      <td>5.589815</td>\n",
       "      <td>0.329365</td>\n",
       "      <td>11.148148</td>\n",
       "      <td>0.254000</td>\n",
       "      <td>294.640000</td>\n",
       "    </tr>\n",
       "    <tr>\n",
       "      <td>75%</td>\n",
       "      <td>3846.500000</td>\n",
       "      <td>2.00000</td>\n",
       "      <td>3.000000</td>\n",
       "      <td>0.000000</td>\n",
       "      <td>20.000000</td>\n",
       "      <td>1802.500000</td>\n",
       "      <td>444.000000</td>\n",
       "      <td>28.000000</td>\n",
       "      <td>2735.750000</td>\n",
       "      <td>1.424562e+05</td>\n",
       "      <td>...</td>\n",
       "      <td>-11.000000</td>\n",
       "      <td>NaN</td>\n",
       "      <td>391186.000000</td>\n",
       "      <td>55.000000</td>\n",
       "      <td>-66.000000</td>\n",
       "      <td>13.418210</td>\n",
       "      <td>8.105556</td>\n",
       "      <td>19.382407</td>\n",
       "      <td>1.333500</td>\n",
       "      <td>398.054286</td>\n",
       "    </tr>\n",
       "    <tr>\n",
       "      <td>max</td>\n",
       "      <td>6101.000000</td>\n",
       "      <td>2.00000</td>\n",
       "      <td>2209.000000</td>\n",
       "      <td>202.000000</td>\n",
       "      <td>23686.000000</td>\n",
       "      <td>73654.000000</td>\n",
       "      <td>86976.000000</td>\n",
       "      <td>5965.000000</td>\n",
       "      <td>72857.000000</td>\n",
       "      <td>4.250762e+06</td>\n",
       "      <td>...</td>\n",
       "      <td>36.000000</td>\n",
       "      <td>NaN</td>\n",
       "      <td>391455.000000</td>\n",
       "      <td>70.000000</td>\n",
       "      <td>-60.000000</td>\n",
       "      <td>27.366667</td>\n",
       "      <td>22.000000</td>\n",
       "      <td>36.100000</td>\n",
       "      <td>44.450000</td>\n",
       "      <td>871.220000</td>\n",
       "    </tr>\n",
       "  </tbody>\n",
       "</table>\n",
       "<p>8 rows × 34 columns</p>\n",
       "</div>"
      ],
      "text/plain": [
       "       subregion2_code  aggregation_level  new_confirmed  new_deceased  \\\n",
       "count     26496.000000        30240.00000   27202.000000  23288.000000   \n",
       "mean       3302.913043            1.87619      13.548746      0.828796   \n",
       "std        1357.427151            0.32937      64.722684      6.099934   \n",
       "min        1011.000000            1.00000      -1.000000     -2.000000   \n",
       "25%        2407.750000            2.00000       0.000000      0.000000   \n",
       "50%        3541.500000            2.00000       0.000000      0.000000   \n",
       "75%        3846.500000            2.00000       3.000000      0.000000   \n",
       "max        6101.000000            2.00000    2209.000000    202.000000   \n",
       "\n",
       "       new_recovered    new_tested  cumulative_confirmed  cumulative_deceased  \\\n",
       "count    2571.000000   2795.000000          27202.000000         23289.000000   \n",
       "mean       59.901206   2926.831127           1462.936291           120.456739   \n",
       "std       489.905473   6772.050751           6110.655770           568.083738   \n",
       "min      -224.000000 -20682.000000              0.000000             0.000000   \n",
       "25%         0.000000     27.000000              4.000000             0.000000   \n",
       "50%         0.000000    354.000000             61.000000             2.000000   \n",
       "75%        20.000000   1802.500000            444.000000            28.000000   \n",
       "max     23686.000000  73654.000000          86976.000000          5965.000000   \n",
       "\n",
       "       cumulative_recovered  cumulative_tested  ...  mobility_workplaces  \\\n",
       "count           2432.000000       2.808000e+03  ...          5970.000000   \n",
       "mean            5986.215049       2.353859e+05  ...           -28.722781   \n",
       "std            13290.120904       5.722535e+05  ...            20.209036   \n",
       "min                0.000000       0.000000e+00  ...           -87.000000   \n",
       "25%               24.000000       3.126000e+03  ...           -42.000000   \n",
       "50%              284.000000       3.591850e+04  ...           -32.000000   \n",
       "75%             2735.750000       1.424562e+05  ...           -11.000000   \n",
       "max            72857.000000       4.250762e+06  ...            36.000000   \n",
       "\n",
       "       datacommons_id  openstreetmap_id     latitude    longitude  \\\n",
       "count             0.0       3744.000000  3744.000000  3744.000000   \n",
       "mean              NaN     316137.538462    54.543912   -91.965633   \n",
       "std               NaN     136791.334964     7.133740    25.154924   \n",
       "min               NaN      61549.000000    45.000000  -135.053230   \n",
       "25%               NaN     390558.000000    50.000000  -115.000000   \n",
       "50%               NaN     390867.000000    54.500000   -90.000000   \n",
       "75%               NaN     391186.000000    55.000000   -66.000000   \n",
       "max               NaN     391455.000000    70.000000   -60.000000   \n",
       "\n",
       "       average_temperature_celsius  minimum_temperature_celsius  \\\n",
       "count                  3654.000000                  3654.000000   \n",
       "mean                      2.567055                    -2.638177   \n",
       "std                      13.736235                    13.588922   \n",
       "min                     -42.923611                   -46.243056   \n",
       "25%                      -5.886111                   -11.162500   \n",
       "50%                       5.589815                     0.329365   \n",
       "75%                      13.418210                     8.105556   \n",
       "max                      27.366667                    22.000000   \n",
       "\n",
       "       maximum_temperature_celsius  rainfall_mm  snowfall_mm  \n",
       "count                  3654.000000  3653.000000  1645.000000  \n",
       "mean                      8.379977     1.357547   288.727859  \n",
       "std                      14.120195     2.806078   173.843192  \n",
       "min                     -37.972222     0.000000    10.160000  \n",
       "25%                      -0.365278     0.025400   175.260000  \n",
       "50%                      11.148148     0.254000   294.640000  \n",
       "75%                      19.382407     1.333500   398.054286  \n",
       "max                      36.100000    44.450000   871.220000  \n",
       "\n",
       "[8 rows x 34 columns]"
      ]
     },
     "execution_count": 101,
     "metadata": {},
     "output_type": "execute_result"
    }
   ],
   "source": [
    "#displaying the data with values and also their standard deviation,mean,count,etc - public Covid data\n",
    "df_public_dataset.describe()"
   ]
  },
  {
   "cell_type": "code",
   "execution_count": 102,
   "metadata": {},
   "outputs": [
    {
     "data": {
      "text/plain": [
       "date                                      0\n",
       "location_key                              0\n",
       "country_code                              0\n",
       "country_name                              0\n",
       "subregion1_code                           0\n",
       "subregion1_name                           0\n",
       "subregion2_code                        3744\n",
       "subregion2_name                        3744\n",
       "iso_3166_1_alpha_2                        0\n",
       "iso_3166_1_alpha_3                        0\n",
       "aggregation_level                         0\n",
       "new_confirmed                          3038\n",
       "new_deceased                           6952\n",
       "new_recovered                         27669\n",
       "new_tested                            27445\n",
       "cumulative_confirmed                   3038\n",
       "cumulative_deceased                    6951\n",
       "cumulative_recovered                  27808\n",
       "cumulative_tested                     27432\n",
       "new_hospitalized_patients             30240\n",
       "new_intensive_care_patients           30240\n",
       "new_ventilator_patients               30240\n",
       "cumulative_hospitalized_patients      30240\n",
       "cumulative_intensive_care_patients    30240\n",
       "cumulative_ventilator_patients        30240\n",
       "current_hospitalized_patients         30240\n",
       "current_intensive_care_patients       30240\n",
       "current_ventilator_patients           30240\n",
       "mobility_transit_stations             26273\n",
       "mobility_retail_and_recreation        24984\n",
       "mobility_grocery_and_pharmacy         25481\n",
       "mobility_parks                        27465\n",
       "mobility_residential                  25609\n",
       "mobility_workplaces                   24270\n",
       "wikidata_id                           26496\n",
       "datacommons_id                        30240\n",
       "openstreetmap_id                      26496\n",
       "latitude                              26496\n",
       "longitude                             26496\n",
       "location_geometry                     26496\n",
       "average_temperature_celsius           26586\n",
       "minimum_temperature_celsius           26586\n",
       "maximum_temperature_celsius           26586\n",
       "rainfall_mm                           26587\n",
       "snowfall_mm                           28595\n",
       "dtype: int64"
      ]
     },
     "execution_count": 102,
     "metadata": {},
     "output_type": "execute_result"
    }
   ],
   "source": [
    "#check null fields - public Covid data\n",
    "df_public_dataset.isnull().sum()"
   ]
  },
  {
   "cell_type": "code",
   "execution_count": 1,
   "metadata": {},
   "outputs": [
    {
     "name": "stdout",
     "output_type": "stream",
     "text": [
      "3.7.4\n"
     ]
    }
   ],
   "source": [
    "import platform\n",
    "print(platform.python_version())"
   ]
  },
  {
   "cell_type": "markdown",
   "metadata": {},
   "source": [
    "<h3>User tweets datasets</h3>\n",
    "<h4>W.R.T User-1, User-2, User-3 </h4>\n",
    "<p> 1. Displaying sample records of the dataset</p>\n",
    "<p> 2. Checking the shape and column names of the dataset</p>\n",
    "<p> 3. Describing the data obtained by calculating its standard deviation, mean, counts, etc.</p>\n",
    "<p> 4. Checking for NULL values</p>"
   ]
  },
  {
   "cell_type": "code",
   "execution_count": 103,
   "metadata": {},
   "outputs": [
    {
     "data": {
      "text/html": [
       "<div>\n",
       "<style scoped>\n",
       "    .dataframe tbody tr th:only-of-type {\n",
       "        vertical-align: middle;\n",
       "    }\n",
       "\n",
       "    .dataframe tbody tr th {\n",
       "        vertical-align: top;\n",
       "    }\n",
       "\n",
       "    .dataframe thead th {\n",
       "        text-align: right;\n",
       "    }\n",
       "</style>\n",
       "<table border=\"1\" class=\"dataframe\">\n",
       "  <thead>\n",
       "    <tr style=\"text-align: right;\">\n",
       "      <th></th>\n",
       "      <th>Tweet Id</th>\n",
       "      <th>Text</th>\n",
       "      <th>Name</th>\n",
       "      <th>Created At</th>\n",
       "    </tr>\n",
       "  </thead>\n",
       "  <tbody>\n",
       "    <tr>\n",
       "      <td>0</td>\n",
       "      <td>1.316910e+18</td>\n",
       "      <td>@LindaSearson @HC2_SC2 @SofiyaStevens Much tha...</td>\n",
       "      <td>Scott McKenna</td>\n",
       "      <td>Fri Oct 16 01:00:41 +0000 2020</td>\n",
       "    </tr>\n",
       "    <tr>\n",
       "      <td>1</td>\n",
       "      <td>1.316900e+18</td>\n",
       "      <td>RT @griffstergirl : Wearing their #HatsForHope...</td>\n",
       "      <td>Scott McKenna</td>\n",
       "      <td>Fri Oct 16 00:52:28 +0000 2020</td>\n",
       "    </tr>\n",
       "    <tr>\n",
       "      <td>2</td>\n",
       "      <td>1.316900e+18</td>\n",
       "      <td>J'ai reçu mes 5 paquets de cartes de correspon...</td>\n",
       "      <td>Scott McKenna</td>\n",
       "      <td>Fri Oct 16 00:48:40 +0000 2020</td>\n",
       "    </tr>\n",
       "    <tr>\n",
       "      <td>3</td>\n",
       "      <td>1.316900e+18</td>\n",
       "      <td>Received my 5 packages of note cards in suppor...</td>\n",
       "      <td>Scott McKenna</td>\n",
       "      <td>Fri Oct 16 00:43:49 +0000 2020</td>\n",
       "    </tr>\n",
       "    <tr>\n",
       "      <td>4</td>\n",
       "      <td>1.316890e+18</td>\n",
       "      <td>Been a tough week; feeling tired, stress of tr...</td>\n",
       "      <td>Scott McKenna</td>\n",
       "      <td>Fri Oct 16 00:04:50 +0000 2020</td>\n",
       "    </tr>\n",
       "  </tbody>\n",
       "</table>\n",
       "</div>"
      ],
      "text/plain": [
       "       Tweet Id                                               Text  \\\n",
       "0  1.316910e+18  @LindaSearson @HC2_SC2 @SofiyaStevens Much tha...   \n",
       "1  1.316900e+18  RT @griffstergirl : Wearing their #HatsForHope...   \n",
       "2  1.316900e+18  J'ai reçu mes 5 paquets de cartes de correspon...   \n",
       "3  1.316900e+18  Received my 5 packages of note cards in suppor...   \n",
       "4  1.316890e+18  Been a tough week; feeling tired, stress of tr...   \n",
       "\n",
       "            Name                      Created At  \n",
       "0  Scott McKenna  Fri Oct 16 01:00:41 +0000 2020  \n",
       "1  Scott McKenna  Fri Oct 16 00:52:28 +0000 2020  \n",
       "2  Scott McKenna  Fri Oct 16 00:48:40 +0000 2020  \n",
       "3  Scott McKenna  Fri Oct 16 00:43:49 +0000 2020  \n",
       "4  Scott McKenna  Fri Oct 16 00:04:50 +0000 2020  "
      ]
     },
     "execution_count": 103,
     "metadata": {},
     "output_type": "execute_result"
    }
   ],
   "source": [
    "#displaying user 1 file - tweets data\n",
    "user1_tweets.head(5)"
   ]
  },
  {
   "cell_type": "code",
   "execution_count": 104,
   "metadata": {},
   "outputs": [
    {
     "data": {
      "text/html": [
       "<div>\n",
       "<style scoped>\n",
       "    .dataframe tbody tr th:only-of-type {\n",
       "        vertical-align: middle;\n",
       "    }\n",
       "\n",
       "    .dataframe tbody tr th {\n",
       "        vertical-align: top;\n",
       "    }\n",
       "\n",
       "    .dataframe thead th {\n",
       "        text-align: right;\n",
       "    }\n",
       "</style>\n",
       "<table border=\"1\" class=\"dataframe\">\n",
       "  <thead>\n",
       "    <tr style=\"text-align: right;\">\n",
       "      <th></th>\n",
       "      <th>Tweet Id</th>\n",
       "      <th>Text</th>\n",
       "      <th>Name</th>\n",
       "      <th>Created At</th>\n",
       "    </tr>\n",
       "  </thead>\n",
       "  <tbody>\n",
       "    <tr>\n",
       "      <td>0</td>\n",
       "      <td>1.317100e+18</td>\n",
       "      <td>LAST DAY TO PARTICIPATE: Are there themes you’...</td>\n",
       "      <td>Open Government CAN</td>\n",
       "      <td>Fri Oct 16 14:02:55 +0000 2020</td>\n",
       "    </tr>\n",
       "    <tr>\n",
       "      <td>1</td>\n",
       "      <td>1.317090e+18</td>\n",
       "      <td>Congratulations to @OpenDataSociety for launch...</td>\n",
       "      <td>Open Government CAN</td>\n",
       "      <td>Fri Oct 16 13:13:38 +0000 2020</td>\n",
       "    </tr>\n",
       "    <tr>\n",
       "      <td>2</td>\n",
       "      <td>1.316760e+18</td>\n",
       "      <td>In honour of #WomensHistoryMonth, we would lik...</td>\n",
       "      <td>Open Government CAN</td>\n",
       "      <td>Thu Oct 15 15:20:13 +0000 2020</td>\n",
       "    </tr>\n",
       "    <tr>\n",
       "      <td>3</td>\n",
       "      <td>1.316740e+18</td>\n",
       "      <td>#DYK today is Global #Handwashing Day? Learn m...</td>\n",
       "      <td>Open Government CAN</td>\n",
       "      <td>Thu Oct 15 14:15:05 +0000 2020</td>\n",
       "    </tr>\n",
       "    <tr>\n",
       "      <td>4</td>\n",
       "      <td>1.316730e+18</td>\n",
       "      <td>📢Canadians, do you want to have your say in ou...</td>\n",
       "      <td>Open Government CAN</td>\n",
       "      <td>Thu Oct 15 13:01:22 +0000 2020</td>\n",
       "    </tr>\n",
       "  </tbody>\n",
       "</table>\n",
       "</div>"
      ],
      "text/plain": [
       "       Tweet Id                                               Text  \\\n",
       "0  1.317100e+18  LAST DAY TO PARTICIPATE: Are there themes you’...   \n",
       "1  1.317090e+18  Congratulations to @OpenDataSociety for launch...   \n",
       "2  1.316760e+18  In honour of #WomensHistoryMonth, we would lik...   \n",
       "3  1.316740e+18  #DYK today is Global #Handwashing Day? Learn m...   \n",
       "4  1.316730e+18  📢Canadians, do you want to have your say in ou...   \n",
       "\n",
       "                  Name                      Created At  \n",
       "0  Open Government CAN  Fri Oct 16 14:02:55 +0000 2020  \n",
       "1  Open Government CAN  Fri Oct 16 13:13:38 +0000 2020  \n",
       "2  Open Government CAN  Thu Oct 15 15:20:13 +0000 2020  \n",
       "3  Open Government CAN  Thu Oct 15 14:15:05 +0000 2020  \n",
       "4  Open Government CAN  Thu Oct 15 13:01:22 +0000 2020  "
      ]
     },
     "execution_count": 104,
     "metadata": {},
     "output_type": "execute_result"
    }
   ],
   "source": [
    "#displaying user 2 file - tweets data\n",
    "user2_tweets.head(5)"
   ]
  },
  {
   "cell_type": "code",
   "execution_count": 105,
   "metadata": {},
   "outputs": [
    {
     "data": {
      "text/html": [
       "<div>\n",
       "<style scoped>\n",
       "    .dataframe tbody tr th:only-of-type {\n",
       "        vertical-align: middle;\n",
       "    }\n",
       "\n",
       "    .dataframe tbody tr th {\n",
       "        vertical-align: top;\n",
       "    }\n",
       "\n",
       "    .dataframe thead th {\n",
       "        text-align: right;\n",
       "    }\n",
       "</style>\n",
       "<table border=\"1\" class=\"dataframe\">\n",
       "  <thead>\n",
       "    <tr style=\"text-align: right;\">\n",
       "      <th></th>\n",
       "      <th>Tweet Id</th>\n",
       "      <th>Text</th>\n",
       "      <th>Name</th>\n",
       "      <th>Created At</th>\n",
       "    </tr>\n",
       "  </thead>\n",
       "  <tbody>\n",
       "    <tr>\n",
       "      <td>0</td>\n",
       "      <td>1.317140e+18</td>\n",
       "      <td>Do you do these 3 healthy habits? #WearAMask. ...</td>\n",
       "      <td>CDC</td>\n",
       "      <td>Fri Oct 16 16:09:00 +0000 2020</td>\n",
       "    </tr>\n",
       "    <tr>\n",
       "      <td>1</td>\n",
       "      <td>1.317120e+18</td>\n",
       "      <td>New CDC data show non-Hispanic Black persons h...</td>\n",
       "      <td>CDC</td>\n",
       "      <td>Fri Oct 16 15:24:02 +0000 2020</td>\n",
       "    </tr>\n",
       "    <tr>\n",
       "      <td>2</td>\n",
       "      <td>1.317110e+18</td>\n",
       "      <td>RT @CDCDiabetes : The nasal spray flu vaccine ...</td>\n",
       "      <td>CDC</td>\n",
       "      <td>Fri Oct 16 14:08:01 +0000 2020</td>\n",
       "    </tr>\n",
       "    <tr>\n",
       "      <td>3</td>\n",
       "      <td>1.317090e+18</td>\n",
       "      <td>RT @CDC_TB : #HealthcareWorkers: Check out the...</td>\n",
       "      <td>CDC</td>\n",
       "      <td>Fri Oct 16 13:21:01 +0000 2020</td>\n",
       "    </tr>\n",
       "    <tr>\n",
       "      <td>4</td>\n",
       "      <td>1.317090e+18</td>\n",
       "      <td>RT @CDCEnvironment : If your home has flooded ...</td>\n",
       "      <td>CDC</td>\n",
       "      <td>Fri Oct 16 13:08:17 +0000 2020</td>\n",
       "    </tr>\n",
       "  </tbody>\n",
       "</table>\n",
       "</div>"
      ],
      "text/plain": [
       "       Tweet Id                                               Text Name  \\\n",
       "0  1.317140e+18  Do you do these 3 healthy habits? #WearAMask. ...  CDC   \n",
       "1  1.317120e+18  New CDC data show non-Hispanic Black persons h...  CDC   \n",
       "2  1.317110e+18  RT @CDCDiabetes : The nasal spray flu vaccine ...  CDC   \n",
       "3  1.317090e+18  RT @CDC_TB : #HealthcareWorkers: Check out the...  CDC   \n",
       "4  1.317090e+18  RT @CDCEnvironment : If your home has flooded ...  CDC   \n",
       "\n",
       "                       Created At  \n",
       "0  Fri Oct 16 16:09:00 +0000 2020  \n",
       "1  Fri Oct 16 15:24:02 +0000 2020  \n",
       "2  Fri Oct 16 14:08:01 +0000 2020  \n",
       "3  Fri Oct 16 13:21:01 +0000 2020  \n",
       "4  Fri Oct 16 13:08:17 +0000 2020  "
      ]
     },
     "execution_count": 105,
     "metadata": {},
     "output_type": "execute_result"
    }
   ],
   "source": [
    "#displaying user 3 file - tweets data\n",
    "user3_tweets.head(5)"
   ]
  },
  {
   "cell_type": "code",
   "execution_count": 106,
   "metadata": {},
   "outputs": [
    {
     "name": "stdout",
     "output_type": "stream",
     "text": [
      "(1213, 4)\n",
      "Index(['Tweet Id', 'Text', 'Name', 'Created At'], dtype='object')\n",
      "(3101, 4)\n",
      "Index(['Tweet Id', 'Text', 'Name', 'Created At'], dtype='object')\n",
      "(3177, 4)\n",
      "Index(['Tweet Id', 'Text', 'Name', 'Created At'], dtype='object')\n"
     ]
    }
   ],
   "source": [
    "#Shape of user 1 file - tweet data\n",
    "print(user1_tweets.shape)\n",
    "\n",
    "#displaying the column names of user 1 tweet data\n",
    "print(user1_tweets.columns)\n",
    "\n",
    "\n",
    "#Shape of user 2 file - tweet data\n",
    "print(user2_tweets.shape)\n",
    "\n",
    "#displaying the column names of user 2 tweet data\n",
    "print(user2_tweets.columns)\n",
    "\n",
    "\n",
    "#Shape of user 3 file - tweet data\n",
    "print(user3_tweets.shape)\n",
    "\n",
    "#displaying the column names of user 3 tweet data\n",
    "print(user3_tweets.columns)"
   ]
  },
  {
   "cell_type": "code",
   "execution_count": 107,
   "metadata": {},
   "outputs": [
    {
     "data": {
      "text/plain": [
       "Tweet Id      0\n",
       "Text          0\n",
       "Name          0\n",
       "Created At    0\n",
       "dtype: int64"
      ]
     },
     "execution_count": 107,
     "metadata": {},
     "output_type": "execute_result"
    }
   ],
   "source": [
    "#check null fields - user 1 tweet data\n",
    "user1_tweets.isnull().sum()"
   ]
  },
  {
   "cell_type": "code",
   "execution_count": 108,
   "metadata": {},
   "outputs": [
    {
     "data": {
      "text/plain": [
       "Tweet Id      0\n",
       "Text          0\n",
       "Name          0\n",
       "Created At    0\n",
       "dtype: int64"
      ]
     },
     "execution_count": 108,
     "metadata": {},
     "output_type": "execute_result"
    }
   ],
   "source": [
    "#check null fields - user 2 tweet data\n",
    "user2_tweets.isnull().sum()"
   ]
  },
  {
   "cell_type": "code",
   "execution_count": 109,
   "metadata": {},
   "outputs": [
    {
     "data": {
      "text/plain": [
       "Tweet Id      0\n",
       "Text          0\n",
       "Name          0\n",
       "Created At    0\n",
       "dtype: int64"
      ]
     },
     "execution_count": 109,
     "metadata": {},
     "output_type": "execute_result"
    }
   ],
   "source": [
    "#check null fields - user 3 tweet data\n",
    "user3_tweets.isnull().sum()"
   ]
  },
  {
   "cell_type": "markdown",
   "metadata": {},
   "source": [
    "<h2>Data Cleaning:</h2>\n",
    "<h4>W.R.T Public Covid Dataset</h4>\n",
    "<p> 1. Dropped unnecessary columns from the obtained data.</p>\n",
    "<p> 2. Filled the missing values for new_confirmed with zeros.</p>\n",
    "<p> 3. Converted the Date column in the dataset into datetime format.</p>\n",
    "<p> 4. Grouped and indexed the data based on dates.</p>\n",
    "<p> 5. Selected the data between Nov 1st 2019 to Oct 1st 2020.</p>"
   ]
  },
  {
   "cell_type": "code",
   "execution_count": 110,
   "metadata": {},
   "outputs": [],
   "source": [
    "#preprocessing function\n",
    "#removing unnecessary features\n",
    "#fill missing values\n",
    "#change data column format to datetime\n",
    "#group the data based on date column by summing their values in new_confirmed\n",
    "def preprocessing(df):\n",
    "    df = df.drop(['location_key', 'country_code', 'country_name', 'subregion1_code', 'subregion1_name', 'subregion2_code', 'subregion2_name', 'iso_3166_1_alpha_2', 'iso_3166_1_alpha_3', 'aggregation_level', 'new_deceased', 'new_recovered','new_tested', 'cumulative_confirmed', 'cumulative_deceased','cumulative_recovered', 'cumulative_tested','new_hospitalized_patients', 'new_intensive_care_patients','new_ventilator_patients', 'cumulative_hospitalized_patients','cumulative_intensive_care_patients', 'cumulative_ventilator_patients','current_hospitalized_patients', 'current_intensive_care_patients','current_ventilator_patients', 'mobility_transit_stations','mobility_retail_and_recreation', 'mobility_grocery_and_pharmacy','mobility_parks', 'mobility_residential', 'mobility_workplaces','wikidata_id', 'datacommons_id', 'openstreetmap_id', 'latitude','longitude', 'location_geometry', 'average_temperature_celsius','minimum_temperature_celsius', 'maximum_temperature_celsius','rainfall_mm', 'snowfall_mm'], axis=1)\n",
    "    df = df.fillna(0)\n",
    "    df['date'] = pd.to_datetime(df['date'])\n",
    "    df = df.groupby(df['date'], as_index=False).sum()\n",
    "    df = df[~(df['date'] <= '2019-10-31')]\n",
    "    df = df[~(df['date'] > '2020-10-01')]\n",
    "    return df"
   ]
  },
  {
   "cell_type": "code",
   "execution_count": 111,
   "metadata": {},
   "outputs": [
    {
     "data": {
      "text/html": [
       "<div>\n",
       "<style scoped>\n",
       "    .dataframe tbody tr th:only-of-type {\n",
       "        vertical-align: middle;\n",
       "    }\n",
       "\n",
       "    .dataframe tbody tr th {\n",
       "        vertical-align: top;\n",
       "    }\n",
       "\n",
       "    .dataframe thead th {\n",
       "        text-align: right;\n",
       "    }\n",
       "</style>\n",
       "<table border=\"1\" class=\"dataframe\">\n",
       "  <thead>\n",
       "    <tr style=\"text-align: right;\">\n",
       "      <th></th>\n",
       "      <th>date</th>\n",
       "      <th>new_confirmed</th>\n",
       "    </tr>\n",
       "  </thead>\n",
       "  <tbody>\n",
       "    <tr>\n",
       "      <td>0</td>\n",
       "      <td>2020-01-01</td>\n",
       "      <td>0.0</td>\n",
       "    </tr>\n",
       "    <tr>\n",
       "      <td>1</td>\n",
       "      <td>2020-01-02</td>\n",
       "      <td>0.0</td>\n",
       "    </tr>\n",
       "    <tr>\n",
       "      <td>2</td>\n",
       "      <td>2020-01-03</td>\n",
       "      <td>0.0</td>\n",
       "    </tr>\n",
       "    <tr>\n",
       "      <td>3</td>\n",
       "      <td>2020-01-04</td>\n",
       "      <td>0.0</td>\n",
       "    </tr>\n",
       "    <tr>\n",
       "      <td>4</td>\n",
       "      <td>2020-01-05</td>\n",
       "      <td>0.0</td>\n",
       "    </tr>\n",
       "    <tr>\n",
       "      <td>...</td>\n",
       "      <td>...</td>\n",
       "      <td>...</td>\n",
       "    </tr>\n",
       "    <tr>\n",
       "      <td>270</td>\n",
       "      <td>2020-09-27</td>\n",
       "      <td>2865.0</td>\n",
       "    </tr>\n",
       "    <tr>\n",
       "      <td>271</td>\n",
       "      <td>2020-09-28</td>\n",
       "      <td>4418.0</td>\n",
       "    </tr>\n",
       "    <tr>\n",
       "      <td>272</td>\n",
       "      <td>2020-09-29</td>\n",
       "      <td>3329.0</td>\n",
       "    </tr>\n",
       "    <tr>\n",
       "      <td>273</td>\n",
       "      <td>2020-09-30</td>\n",
       "      <td>3613.0</td>\n",
       "    </tr>\n",
       "    <tr>\n",
       "      <td>274</td>\n",
       "      <td>2020-10-01</td>\n",
       "      <td>3597.0</td>\n",
       "    </tr>\n",
       "  </tbody>\n",
       "</table>\n",
       "<p>275 rows × 2 columns</p>\n",
       "</div>"
      ],
      "text/plain": [
       "          date  new_confirmed\n",
       "0   2020-01-01            0.0\n",
       "1   2020-01-02            0.0\n",
       "2   2020-01-03            0.0\n",
       "3   2020-01-04            0.0\n",
       "4   2020-01-05            0.0\n",
       "..         ...            ...\n",
       "270 2020-09-27         2865.0\n",
       "271 2020-09-28         4418.0\n",
       "272 2020-09-29         3329.0\n",
       "273 2020-09-30         3613.0\n",
       "274 2020-10-01         3597.0\n",
       "\n",
       "[275 rows x 2 columns]"
      ]
     },
     "execution_count": 111,
     "metadata": {},
     "output_type": "execute_result"
    }
   ],
   "source": [
    "#calling the resuable function on public COVID dataset\n",
    "df_public_dataset = preprocessing(df_public_dataset)\n",
    "df_public_dataset"
   ]
  },
  {
   "cell_type": "markdown",
   "metadata": {},
   "source": [
    "<h3> Creating Covid public dataset for November and December 2019 </h3>"
   ]
  },
  {
   "cell_type": "code",
   "execution_count": 112,
   "metadata": {},
   "outputs": [
    {
     "data": {
      "text/html": [
       "<div>\n",
       "<style scoped>\n",
       "    .dataframe tbody tr th:only-of-type {\n",
       "        vertical-align: middle;\n",
       "    }\n",
       "\n",
       "    .dataframe tbody tr th {\n",
       "        vertical-align: top;\n",
       "    }\n",
       "\n",
       "    .dataframe thead th {\n",
       "        text-align: right;\n",
       "    }\n",
       "</style>\n",
       "<table border=\"1\" class=\"dataframe\">\n",
       "  <thead>\n",
       "    <tr style=\"text-align: right;\">\n",
       "      <th></th>\n",
       "      <th>date</th>\n",
       "      <th>new_confirmed</th>\n",
       "    </tr>\n",
       "  </thead>\n",
       "  <tbody>\n",
       "    <tr>\n",
       "      <td>0</td>\n",
       "      <td>2019-11-01</td>\n",
       "      <td>0</td>\n",
       "    </tr>\n",
       "    <tr>\n",
       "      <td>1</td>\n",
       "      <td>2019-11-02</td>\n",
       "      <td>0</td>\n",
       "    </tr>\n",
       "    <tr>\n",
       "      <td>2</td>\n",
       "      <td>2019-11-03</td>\n",
       "      <td>0</td>\n",
       "    </tr>\n",
       "    <tr>\n",
       "      <td>3</td>\n",
       "      <td>2019-11-04</td>\n",
       "      <td>0</td>\n",
       "    </tr>\n",
       "    <tr>\n",
       "      <td>4</td>\n",
       "      <td>2019-11-05</td>\n",
       "      <td>0</td>\n",
       "    </tr>\n",
       "    <tr>\n",
       "      <td>...</td>\n",
       "      <td>...</td>\n",
       "      <td>...</td>\n",
       "    </tr>\n",
       "    <tr>\n",
       "      <td>56</td>\n",
       "      <td>2019-12-27</td>\n",
       "      <td>0</td>\n",
       "    </tr>\n",
       "    <tr>\n",
       "      <td>57</td>\n",
       "      <td>2019-12-28</td>\n",
       "      <td>0</td>\n",
       "    </tr>\n",
       "    <tr>\n",
       "      <td>58</td>\n",
       "      <td>2019-12-29</td>\n",
       "      <td>0</td>\n",
       "    </tr>\n",
       "    <tr>\n",
       "      <td>59</td>\n",
       "      <td>2019-12-30</td>\n",
       "      <td>0</td>\n",
       "    </tr>\n",
       "    <tr>\n",
       "      <td>60</td>\n",
       "      <td>2019-12-31</td>\n",
       "      <td>0</td>\n",
       "    </tr>\n",
       "  </tbody>\n",
       "</table>\n",
       "<p>61 rows × 2 columns</p>\n",
       "</div>"
      ],
      "text/plain": [
       "         date  new_confirmed\n",
       "0  2019-11-01              0\n",
       "1  2019-11-02              0\n",
       "2  2019-11-03              0\n",
       "3  2019-11-04              0\n",
       "4  2019-11-05              0\n",
       "..        ...            ...\n",
       "56 2019-12-27              0\n",
       "57 2019-12-28              0\n",
       "58 2019-12-29              0\n",
       "59 2019-12-30              0\n",
       "60 2019-12-31              0\n",
       "\n",
       "[61 rows x 2 columns]"
      ]
     },
     "execution_count": 112,
     "metadata": {},
     "output_type": "execute_result"
    }
   ],
   "source": [
    "#creating a new dataset for confirmed cases between Nov 1 - Dec 31st 2019\n",
    "#grouped and summed by date\n",
    "#resetted the index of the newly created dataset\n",
    "data = {'date':list(pd.date_range('11-01-2019','12-31-2019', freq ='D')), 'new_confirmed': list(0 for i in range(0,61))}\n",
    "df_nov_dec = pd.DataFrame(data, columns = ['date','new_confirmed'])\n",
    "df_nov_dec = df_nov_dec.groupby(df_nov_dec['date']).sum()\n",
    "df_nov_dec = df_nov_dec.reset_index()\n",
    "df_nov_dec"
   ]
  },
  {
   "cell_type": "markdown",
   "metadata": {},
   "source": [
    "<h3> Concatenating of two COVID datasets </h3>\n",
    "<p> 1. The public COVID dataset from 1st Jan 2020 - 14 Oct 2020. </p>\n",
    "<p> 2. Created COVID dataset from 1st Nov - 31st Dec 2019. </p> "
   ]
  },
  {
   "cell_type": "code",
   "execution_count": 113,
   "metadata": {},
   "outputs": [
    {
     "data": {
      "text/html": [
       "<div>\n",
       "<style scoped>\n",
       "    .dataframe tbody tr th:only-of-type {\n",
       "        vertical-align: middle;\n",
       "    }\n",
       "\n",
       "    .dataframe tbody tr th {\n",
       "        vertical-align: top;\n",
       "    }\n",
       "\n",
       "    .dataframe thead th {\n",
       "        text-align: right;\n",
       "    }\n",
       "</style>\n",
       "<table border=\"1\" class=\"dataframe\">\n",
       "  <thead>\n",
       "    <tr style=\"text-align: right;\">\n",
       "      <th></th>\n",
       "      <th>date</th>\n",
       "      <th>new_confirmed</th>\n",
       "    </tr>\n",
       "  </thead>\n",
       "  <tbody>\n",
       "    <tr>\n",
       "      <td>0</td>\n",
       "      <td>2019-11-01</td>\n",
       "      <td>0.0</td>\n",
       "    </tr>\n",
       "    <tr>\n",
       "      <td>1</td>\n",
       "      <td>2019-11-02</td>\n",
       "      <td>0.0</td>\n",
       "    </tr>\n",
       "    <tr>\n",
       "      <td>2</td>\n",
       "      <td>2019-11-03</td>\n",
       "      <td>0.0</td>\n",
       "    </tr>\n",
       "    <tr>\n",
       "      <td>3</td>\n",
       "      <td>2019-11-04</td>\n",
       "      <td>0.0</td>\n",
       "    </tr>\n",
       "    <tr>\n",
       "      <td>4</td>\n",
       "      <td>2019-11-05</td>\n",
       "      <td>0.0</td>\n",
       "    </tr>\n",
       "    <tr>\n",
       "      <td>...</td>\n",
       "      <td>...</td>\n",
       "      <td>...</td>\n",
       "    </tr>\n",
       "    <tr>\n",
       "      <td>331</td>\n",
       "      <td>2020-09-27</td>\n",
       "      <td>2865.0</td>\n",
       "    </tr>\n",
       "    <tr>\n",
       "      <td>332</td>\n",
       "      <td>2020-09-28</td>\n",
       "      <td>4418.0</td>\n",
       "    </tr>\n",
       "    <tr>\n",
       "      <td>333</td>\n",
       "      <td>2020-09-29</td>\n",
       "      <td>3329.0</td>\n",
       "    </tr>\n",
       "    <tr>\n",
       "      <td>334</td>\n",
       "      <td>2020-09-30</td>\n",
       "      <td>3613.0</td>\n",
       "    </tr>\n",
       "    <tr>\n",
       "      <td>335</td>\n",
       "      <td>2020-10-01</td>\n",
       "      <td>3597.0</td>\n",
       "    </tr>\n",
       "  </tbody>\n",
       "</table>\n",
       "<p>336 rows × 2 columns</p>\n",
       "</div>"
      ],
      "text/plain": [
       "          date  new_confirmed\n",
       "0   2019-11-01            0.0\n",
       "1   2019-11-02            0.0\n",
       "2   2019-11-03            0.0\n",
       "3   2019-11-04            0.0\n",
       "4   2019-11-05            0.0\n",
       "..         ...            ...\n",
       "331 2020-09-27         2865.0\n",
       "332 2020-09-28         4418.0\n",
       "333 2020-09-29         3329.0\n",
       "334 2020-09-30         3613.0\n",
       "335 2020-10-01         3597.0\n",
       "\n",
       "[336 rows x 2 columns]"
      ]
     },
     "execution_count": 113,
     "metadata": {},
     "output_type": "execute_result"
    }
   ],
   "source": [
    "#concatenated public COVID dataset and the newly created dataset to form the final COVID dataset\n",
    "#sorted the dataset by date\n",
    "#resetted the index of the final COVID dataset and displaying the sample values\n",
    "df_public_dataset_final = pd.concat([df_public_dataset,df_nov_dec], ignore_index=True)\n",
    "df_public_dataset_final = df_public_dataset_final.sort_values(by=['date'])\n",
    "df_public_dataset_final = df_public_dataset_final.reset_index(drop=True)\n",
    "df_public_dataset_final"
   ]
  },
  {
   "cell_type": "markdown",
   "metadata": {},
   "source": [
    "<h3>Created a function to label the class attribute based on <i>new_confirmed</i> cases (Tomorrow): </h3>"
   ]
  },
  {
   "cell_type": "code",
   "execution_count": 114,
   "metadata": {},
   "outputs": [
    {
     "data": {
      "text/html": [
       "<div>\n",
       "<style scoped>\n",
       "    .dataframe tbody tr th:only-of-type {\n",
       "        vertical-align: middle;\n",
       "    }\n",
       "\n",
       "    .dataframe tbody tr th {\n",
       "        vertical-align: top;\n",
       "    }\n",
       "\n",
       "    .dataframe thead th {\n",
       "        text-align: right;\n",
       "    }\n",
       "</style>\n",
       "<table border=\"1\" class=\"dataframe\">\n",
       "  <thead>\n",
       "    <tr style=\"text-align: right;\">\n",
       "      <th></th>\n",
       "      <th>date</th>\n",
       "      <th>new_confirmed</th>\n",
       "      <th>Label</th>\n",
       "    </tr>\n",
       "  </thead>\n",
       "  <tbody>\n",
       "    <tr>\n",
       "      <td>0</td>\n",
       "      <td>2019-11-01</td>\n",
       "      <td>0.0</td>\n",
       "      <td>No change on the spread of COVID19</td>\n",
       "    </tr>\n",
       "    <tr>\n",
       "      <td>1</td>\n",
       "      <td>2019-11-02</td>\n",
       "      <td>0.0</td>\n",
       "      <td>No change on the spread of COVID19</td>\n",
       "    </tr>\n",
       "    <tr>\n",
       "      <td>2</td>\n",
       "      <td>2019-11-03</td>\n",
       "      <td>0.0</td>\n",
       "      <td>No change on the spread of COVID19</td>\n",
       "    </tr>\n",
       "    <tr>\n",
       "      <td>3</td>\n",
       "      <td>2019-11-04</td>\n",
       "      <td>0.0</td>\n",
       "      <td>No change on the spread of COVID19</td>\n",
       "    </tr>\n",
       "    <tr>\n",
       "      <td>4</td>\n",
       "      <td>2019-11-05</td>\n",
       "      <td>0.0</td>\n",
       "      <td>No change on the spread of COVID19</td>\n",
       "    </tr>\n",
       "    <tr>\n",
       "      <td>...</td>\n",
       "      <td>...</td>\n",
       "      <td>...</td>\n",
       "      <td>...</td>\n",
       "    </tr>\n",
       "    <tr>\n",
       "      <td>331</td>\n",
       "      <td>2020-09-27</td>\n",
       "      <td>2865.0</td>\n",
       "      <td>Increase the spread of COVID19</td>\n",
       "    </tr>\n",
       "    <tr>\n",
       "      <td>332</td>\n",
       "      <td>2020-09-28</td>\n",
       "      <td>4418.0</td>\n",
       "      <td>Decrease the spread of COVID19</td>\n",
       "    </tr>\n",
       "    <tr>\n",
       "      <td>333</td>\n",
       "      <td>2020-09-29</td>\n",
       "      <td>3329.0</td>\n",
       "      <td>Increase the spread of COVID19</td>\n",
       "    </tr>\n",
       "    <tr>\n",
       "      <td>334</td>\n",
       "      <td>2020-09-30</td>\n",
       "      <td>3613.0</td>\n",
       "      <td>Decrease the spread of COVID19</td>\n",
       "    </tr>\n",
       "    <tr>\n",
       "      <td>335</td>\n",
       "      <td>2020-10-01</td>\n",
       "      <td>3597.0</td>\n",
       "      <td>No change on the spread of COVID19</td>\n",
       "    </tr>\n",
       "  </tbody>\n",
       "</table>\n",
       "<p>336 rows × 3 columns</p>\n",
       "</div>"
      ],
      "text/plain": [
       "          date  new_confirmed                               Label\n",
       "0   2019-11-01            0.0  No change on the spread of COVID19\n",
       "1   2019-11-02            0.0  No change on the spread of COVID19\n",
       "2   2019-11-03            0.0  No change on the spread of COVID19\n",
       "3   2019-11-04            0.0  No change on the spread of COVID19\n",
       "4   2019-11-05            0.0  No change on the spread of COVID19\n",
       "..         ...            ...                                 ...\n",
       "331 2020-09-27         2865.0      Increase the spread of COVID19\n",
       "332 2020-09-28         4418.0      Decrease the spread of COVID19\n",
       "333 2020-09-29         3329.0      Increase the spread of COVID19\n",
       "334 2020-09-30         3613.0      Decrease the spread of COVID19\n",
       "335 2020-10-01         3597.0  No change on the spread of COVID19\n",
       "\n",
       "[336 rows x 3 columns]"
      ]
     },
     "execution_count": 114,
     "metadata": {},
     "output_type": "execute_result"
    }
   ],
   "source": [
    "#created a function to create label for the increase/decrease/no change in covid cases\n",
    "Label = [] \n",
    "for i in range(len(df_public_dataset_final)):\n",
    "    if i != len(df_public_dataset_final) - 1:\n",
    "        if df_public_dataset_final.iloc[i, 1] < df_public_dataset_final.iloc[i+1, 1]:\n",
    "            Label.append(\"Increase the spread of COVID19\")\n",
    "            \n",
    "        elif df_public_dataset_final.iloc[i, 1] > df_public_dataset_final.iloc[i+1, 1]: \n",
    "            Label.append(\"Decrease the spread of COVID19\")\n",
    "        else: \n",
    "            Label.append(\"No change on the spread of COVID19\")\n",
    "    else:\n",
    "        Label.append(\"No change on the spread of COVID19\")\n",
    "\n",
    "df_public_dataset_final[\"Label\"] = 0\n",
    "a = 0\n",
    "for j in Label:\n",
    "    df_public_dataset_final[\"Label\"][a] = j\n",
    "    a = a + 1\n",
    "\n",
    "#displaying the final dataset after labelling\n",
    "df_public_dataset_final"
   ]
  },
  {
   "cell_type": "markdown",
   "metadata": {},
   "source": [
    "<h4> Labelling the target class.</h4>"
   ]
  },
  {
   "cell_type": "code",
   "execution_count": 115,
   "metadata": {},
   "outputs": [
    {
     "data": {
      "text/html": [
       "<div>\n",
       "<style scoped>\n",
       "    .dataframe tbody tr th:only-of-type {\n",
       "        vertical-align: middle;\n",
       "    }\n",
       "\n",
       "    .dataframe tbody tr th {\n",
       "        vertical-align: top;\n",
       "    }\n",
       "\n",
       "    .dataframe thead th {\n",
       "        text-align: right;\n",
       "    }\n",
       "</style>\n",
       "<table border=\"1\" class=\"dataframe\">\n",
       "  <thead>\n",
       "    <tr style=\"text-align: right;\">\n",
       "      <th></th>\n",
       "      <th>date</th>\n",
       "      <th>new_confirmed</th>\n",
       "      <th>Label</th>\n",
       "    </tr>\n",
       "  </thead>\n",
       "  <tbody>\n",
       "    <tr>\n",
       "      <td>0</td>\n",
       "      <td>2019-11-01</td>\n",
       "      <td>0.0</td>\n",
       "      <td>2</td>\n",
       "    </tr>\n",
       "    <tr>\n",
       "      <td>1</td>\n",
       "      <td>2019-11-02</td>\n",
       "      <td>0.0</td>\n",
       "      <td>2</td>\n",
       "    </tr>\n",
       "    <tr>\n",
       "      <td>2</td>\n",
       "      <td>2019-11-03</td>\n",
       "      <td>0.0</td>\n",
       "      <td>2</td>\n",
       "    </tr>\n",
       "    <tr>\n",
       "      <td>3</td>\n",
       "      <td>2019-11-04</td>\n",
       "      <td>0.0</td>\n",
       "      <td>2</td>\n",
       "    </tr>\n",
       "    <tr>\n",
       "      <td>4</td>\n",
       "      <td>2019-11-05</td>\n",
       "      <td>0.0</td>\n",
       "      <td>2</td>\n",
       "    </tr>\n",
       "    <tr>\n",
       "      <td>...</td>\n",
       "      <td>...</td>\n",
       "      <td>...</td>\n",
       "      <td>...</td>\n",
       "    </tr>\n",
       "    <tr>\n",
       "      <td>331</td>\n",
       "      <td>2020-09-27</td>\n",
       "      <td>2865.0</td>\n",
       "      <td>1</td>\n",
       "    </tr>\n",
       "    <tr>\n",
       "      <td>332</td>\n",
       "      <td>2020-09-28</td>\n",
       "      <td>4418.0</td>\n",
       "      <td>0</td>\n",
       "    </tr>\n",
       "    <tr>\n",
       "      <td>333</td>\n",
       "      <td>2020-09-29</td>\n",
       "      <td>3329.0</td>\n",
       "      <td>1</td>\n",
       "    </tr>\n",
       "    <tr>\n",
       "      <td>334</td>\n",
       "      <td>2020-09-30</td>\n",
       "      <td>3613.0</td>\n",
       "      <td>0</td>\n",
       "    </tr>\n",
       "    <tr>\n",
       "      <td>335</td>\n",
       "      <td>2020-10-01</td>\n",
       "      <td>3597.0</td>\n",
       "      <td>2</td>\n",
       "    </tr>\n",
       "  </tbody>\n",
       "</table>\n",
       "<p>336 rows × 3 columns</p>\n",
       "</div>"
      ],
      "text/plain": [
       "          date  new_confirmed  Label\n",
       "0   2019-11-01            0.0      2\n",
       "1   2019-11-02            0.0      2\n",
       "2   2019-11-03            0.0      2\n",
       "3   2019-11-04            0.0      2\n",
       "4   2019-11-05            0.0      2\n",
       "..         ...            ...    ...\n",
       "331 2020-09-27         2865.0      1\n",
       "332 2020-09-28         4418.0      0\n",
       "333 2020-09-29         3329.0      1\n",
       "334 2020-09-30         3613.0      0\n",
       "335 2020-10-01         3597.0      2\n",
       "\n",
       "[336 rows x 3 columns]"
      ]
     },
     "execution_count": 115,
     "metadata": {},
     "output_type": "execute_result"
    }
   ],
   "source": [
    "from sklearn.preprocessing import LabelEncoder\n",
    "le = LabelEncoder()\n",
    "df_public_dataset_final.iloc[:,-1] = le.fit_transform(df_public_dataset_final.iloc[:,-1])\n",
    "df_public_dataset_final"
   ]
  },
  {
   "cell_type": "markdown",
   "metadata": {},
   "source": [
    "<h3> Concatenating of three user tweet datasets </h3> "
   ]
  },
  {
   "cell_type": "code",
   "execution_count": 116,
   "metadata": {},
   "outputs": [],
   "source": [
    "#concatenation of three ifferent user tweets\n",
    "df_tweets_final = pd.concat([user1_tweets,user2_tweets,user3_tweets], ignore_index=True)"
   ]
  },
  {
   "cell_type": "markdown",
   "metadata": {},
   "source": [
    "<h4>W.R.T Public tweets Dataset</h4>\n",
    "<p> 1. Renamed the date column and dropped unnecessary columns from the obtained data.</p>\n",
    "<p> 2. Converted the date column into datetime format and renamed it.</p>\n",
    "<p> 3. Sorted and filtered the unnecessary data by removing them with dates</p>\n",
    "<p> 4. Resetted the index of the tweet dataset.</p>"
   ]
  },
  {
   "cell_type": "code",
   "execution_count": 117,
   "metadata": {},
   "outputs": [],
   "source": [
    "#preprocessing function\n",
    "#rename the date column\n",
    "#removing unnecessary features\n",
    "#converted the date column into datetime format and renamed it\n",
    "#filtered the unnecessary data by removing them with dates\n",
    "#resetted the index and sorted the values with dates.\n",
    "\n",
    "def preprocessing2(df):\n",
    "    df = df.rename(columns={\"Created At\": \"date\"})\n",
    "    df = df.drop(['Tweet Id', 'Name'], axis=1)\n",
    "    df['date'] = pd.to_datetime(df['date'])\n",
    "    df['date'] = df['date'].dt.date\n",
    "    df['date'] = df['date'].astype('datetime64[ns]')\n",
    "    df = df.sort_values(by=['date'])\n",
    "    df = df[~(df['date'] <= '2019-10-31')]\n",
    "    df = df[~(df['date'] > '2020-10-01')]\n",
    "    df = df.reset_index(drop=True)\n",
    "    return df"
   ]
  },
  {
   "cell_type": "code",
   "execution_count": 118,
   "metadata": {},
   "outputs": [
    {
     "data": {
      "text/html": [
       "<div>\n",
       "<style scoped>\n",
       "    .dataframe tbody tr th:only-of-type {\n",
       "        vertical-align: middle;\n",
       "    }\n",
       "\n",
       "    .dataframe tbody tr th {\n",
       "        vertical-align: top;\n",
       "    }\n",
       "\n",
       "    .dataframe thead th {\n",
       "        text-align: right;\n",
       "    }\n",
       "</style>\n",
       "<table border=\"1\" class=\"dataframe\">\n",
       "  <thead>\n",
       "    <tr style=\"text-align: right;\">\n",
       "      <th></th>\n",
       "      <th>Text</th>\n",
       "      <th>date</th>\n",
       "    </tr>\n",
       "  </thead>\n",
       "  <tbody>\n",
       "    <tr>\n",
       "      <td>0</td>\n",
       "      <td>YES!!! I can't wait for the Pixelwatch or Goog...</td>\n",
       "      <td>2019-11-01</td>\n",
       "    </tr>\n",
       "    <tr>\n",
       "      <td>1</td>\n",
       "      <td>RT @ACSP_Canada : Saviez-vous que le #vapotage...</td>\n",
       "      <td>2019-11-01</td>\n",
       "    </tr>\n",
       "    <tr>\n",
       "      <td>2</td>\n",
       "      <td>Nothing like a power outage to create an oppor...</td>\n",
       "      <td>2019-11-01</td>\n",
       "    </tr>\n",
       "    <tr>\n",
       "      <td>3</td>\n",
       "      <td>RT @CPHO_Canada : Did you know #vaping nicotin...</td>\n",
       "      <td>2019-11-01</td>\n",
       "    </tr>\n",
       "    <tr>\n",
       "      <td>4</td>\n",
       "      <td>Interested in a specific topic? We probably ha...</td>\n",
       "      <td>2019-11-02</td>\n",
       "    </tr>\n",
       "    <tr>\n",
       "      <td>...</td>\n",
       "      <td>...</td>\n",
       "      <td>...</td>\n",
       "    </tr>\n",
       "    <tr>\n",
       "      <td>4190</td>\n",
       "      <td>School administrators: Use CDC’s new monitorin...</td>\n",
       "      <td>2020-10-01</td>\n",
       "    </tr>\n",
       "    <tr>\n",
       "      <td>4191</td>\n",
       "      <td>A new @CDCMMWR report offers a snapshot of the...</td>\n",
       "      <td>2020-10-01</td>\n",
       "    </tr>\n",
       "    <tr>\n",
       "      <td>4192</td>\n",
       "      <td>RT @ivana_macmillan : The (HC)2 online virtual...</td>\n",
       "      <td>2020-10-01</td>\n",
       "    </tr>\n",
       "    <tr>\n",
       "      <td>4193</td>\n",
       "      <td>RT @Criccicav : Lockdown measures were extreme...</td>\n",
       "      <td>2020-10-01</td>\n",
       "    </tr>\n",
       "    <tr>\n",
       "      <td>4194</td>\n",
       "      <td>@chantalmonte 🤚</td>\n",
       "      <td>2020-10-01</td>\n",
       "    </tr>\n",
       "  </tbody>\n",
       "</table>\n",
       "<p>4195 rows × 2 columns</p>\n",
       "</div>"
      ],
      "text/plain": [
       "                                                   Text       date\n",
       "0     YES!!! I can't wait for the Pixelwatch or Goog... 2019-11-01\n",
       "1     RT @ACSP_Canada : Saviez-vous que le #vapotage... 2019-11-01\n",
       "2     Nothing like a power outage to create an oppor... 2019-11-01\n",
       "3     RT @CPHO_Canada : Did you know #vaping nicotin... 2019-11-01\n",
       "4     Interested in a specific topic? We probably ha... 2019-11-02\n",
       "...                                                 ...        ...\n",
       "4190  School administrators: Use CDC’s new monitorin... 2020-10-01\n",
       "4191  A new @CDCMMWR report offers a snapshot of the... 2020-10-01\n",
       "4192  RT @ivana_macmillan : The (HC)2 online virtual... 2020-10-01\n",
       "4193  RT @Criccicav : Lockdown measures were extreme... 2020-10-01\n",
       "4194                                    @chantalmonte 🤚 2020-10-01\n",
       "\n",
       "[4195 rows x 2 columns]"
      ]
     },
     "execution_count": 118,
     "metadata": {},
     "output_type": "execute_result"
    }
   ],
   "source": [
    "#calling the preprocessing function\n",
    "df_tweets_final = preprocessing2(df_tweets_final)\n",
    "df_tweets_final"
   ]
  },
  {
   "cell_type": "markdown",
   "metadata": {},
   "source": [
    "<h3>Contractions (tweets dataset):</h3>\n",
    "<p> 1. Replacing the contracted words with complete words</p>"
   ]
  },
  {
   "cell_type": "code",
   "execution_count": 119,
   "metadata": {},
   "outputs": [],
   "source": [
    "#converting to lower case\n",
    "#changing the contracted words to complete words by using replace method\n",
    "def contraction(text):\n",
    "    text['Text'] = text['Text'].str.lower()\n",
    "    text['Text'] = text['Text'].replace(to_replace=r'ain\\'t', value='am not', regex=True)\n",
    "    text['Text'] = text['Text'].replace(to_replace=r'aren\\'t', value='are not', regex=True)\n",
    "    text['Text'] = text['Text'].replace(to_replace=r'can\\'t', value='can not', regex=True)\n",
    "    text['Text'] = text['Text'].replace(to_replace=r'can\\'t\\'ve', value='can not have', regex=True)\n",
    "    text['Text'] = text['Text'].replace(to_replace=r'\\'cause', value='because', regex=True)\n",
    "    text['Text'] = text['Text'].replace(to_replace=r'could\\'ve', value='could have', regex=True)\n",
    "    text['Text'] = text['Text'].replace(to_replace=r'couldn\\'t', value='could not', regex=True)\n",
    "    text['Text'] = text['Text'].replace(to_replace=r'couldn\\'t\\'ve', value='could not have', regex=True)\n",
    "    text['Text'] = text['Text'].replace(to_replace=r'didn\\'t', value='did not', regex=True)\n",
    "    text['Text'] = text['Text'].replace(to_replace=r'doesn\\'t', value='does not', regex=True)\n",
    "    text['Text'] = text['Text'].replace(to_replace=r'don\\'t', value='do not', regex=True)\n",
    "    text['Text'] = text['Text'].replace(to_replace=r'hadn\\'t', value='had not', regex=True)\n",
    "    text['Text'] = text['Text'].replace(to_replace=r'hadn\\'t\\'ve', value='had not have', regex=True)\n",
    "    text['Text'] = text['Text'].replace(to_replace=r'hasn\\'t', value='has not', regex=True)\n",
    "    text['Text'] = text['Text'].replace(to_replace=r'haven\\'t', value='have not', regex=True)\n",
    "    text['Text'] = text['Text'].replace(to_replace=r'he\\'d', value='he had', regex=True)\n",
    "    text['Text'] = text['Text'].replace(to_replace=r'he\\'d\\'ve', value='he would have', regex=True)\n",
    "    text['Text'] = text['Text'].replace(to_replace=r'he\\'ll', value='he will', regex=True)\n",
    "    text['Text'] = text['Text'].replace(to_replace=r'he\\'ll\\'ve', value='he will have', regex=True)\n",
    "    text['Text'] = text['Text'].replace(to_replace=r'he\\'s', value='he has', regex=True)\n",
    "    text['Text'] = text['Text'].replace(to_replace=r'how\\'d', value='how did', regex=True)\n",
    "    text['Text'] = text['Text'].replace(to_replace=r'how\\'d\\'y', value='how do you', regex=True)\n",
    "    text['Text'] = text['Text'].replace(to_replace=r'how\\'ll', value='how will', regex=True)\n",
    "    text['Text'] = text['Text'].replace(to_replace=r'how\\'s', value='how has', regex=True)\n",
    "    text['Text'] = text['Text'].replace(to_replace=r'i\\'d', value='I had', regex=True)\n",
    "    text['Text'] = text['Text'].replace(to_replace=r'i\\'d\\'ve', value='I would have', regex=True)\n",
    "    text['Text'] = text['Text'].replace(to_replace=r'i\\'ll', value='I shall', regex=True)\n",
    "    text['Text'] = text['Text'].replace(to_replace=r'i\\'ll\\'ve', value='I shall have', regex=True)\n",
    "    text['Text'] = text['Text'].replace(to_replace=r'i\\'m', value='I am', regex=True)\n",
    "    text['Text'] = text['Text'].replace(to_replace=r'im ', value='I am', regex=True)\n",
    "    text['Text'] = text['Text'].replace(to_replace=r'i\\'ve', value='I have', regex=True)\n",
    "    text['Text'] = text['Text'].replace(to_replace=r'isn\\'t', value='is not', regex=True)\n",
    "    text['Text'] = text['Text'].replace(to_replace=r'it\\'d', value='it had', regex=True)\n",
    "    text['Text'] = text['Text'].replace(to_replace=r'it\\'d\\'ve', value='it would have', regex=True)\n",
    "    text['Text'] = text['Text'].replace(to_replace=r'it\\'ll', value='it shall', regex=True)\n",
    "    text['Text'] = text['Text'].replace(to_replace=r'it\\'ll\\'ve', value='it shall have', regex=True)\n",
    "    text['Text'] = text['Text'].replace(to_replace=r'it\\'s', value='it has', regex=True)\n",
    "    text['Text'] = text['Text'].replace(to_replace=r'let\\'s', value='let us', regex=True)\n",
    "    text['Text'] = text['Text'].replace(to_replace=r'ma\\'am', value='madam', regex=True)\n",
    "    text['Text'] = text['Text'].replace(to_replace=r'mayn\\'t', value='may not', regex=True)\n",
    "    text['Text'] = text['Text'].replace(to_replace=r'might\\'ve', value='might have', regex=True)\n",
    "    text['Text'] = text['Text'].replace(to_replace=r'mightn\\'t', value='might not', regex=True)\n",
    "    text['Text'] = text['Text'].replace(to_replace=r'mightn\\'t\\'ve', value='might not have', regex=True)\n",
    "    text['Text'] = text['Text'].replace(to_replace=r'must\\'ve', value='must have', regex=True)\n",
    "    text['Text'] = text['Text'].replace(to_replace=r'mustn\\'t', value='must not', regex=True)\n",
    "    text['Text'] = text['Text'].replace(to_replace=r'mustn\\'t\\'ve', value='must not have', regex=True)\n",
    "    text['Text'] = text['Text'].replace(to_replace=r'needn\\'t', value='need not', regex=True)\n",
    "    text['Text'] = text['Text'].replace(to_replace=r'needn\\'t\\'ve', value='need not have', regex=True)\n",
    "    text['Text'] = text['Text'].replace(to_replace=r'o\\'clock', value='of the clock', regex=True)\n",
    "    text['Text'] = text['Text'].replace(to_replace=r'oughtn\\'t', value='ought not', regex=True)\n",
    "    text['Text'] = text['Text'].replace(to_replace=r'oughtn\\'t\\'ve', value='ought not have', regex=True)\n",
    "    text['Text'] = text['Text'].replace(to_replace=r'shan\\'t', value='shall not', regex=True)\n",
    "    text['Text'] = text['Text'].replace(to_replace=r'sha\\'n\\'t', value='shall not', regex=True)\n",
    "    text['Text'] = text['Text'].replace(to_replace=r'shan\\'t\\'ve', value='shall not have', regex=True)\n",
    "    text['Text'] = text['Text'].replace(to_replace=r'she\\'d', value='she had', regex=True)\n",
    "    text['Text'] = text['Text'].replace(to_replace=r'she\\'d\\'ve', value='she would have', regex=True)\n",
    "    text['Text'] = text['Text'].replace(to_replace=r'she\\'ll', value='she shall', regex=True)\n",
    "    text['Text'] = text['Text'].replace(to_replace=r'she\\'ll\\'ve', value='she shall have', regex=True)\n",
    "    text['Text'] = text['Text'].replace(to_replace=r'she\\'s', value='she has', regex=True)\n",
    "    text['Text'] = text['Text'].replace(to_replace=r'should\\'ve', value='should have', regex=True)\n",
    "    text['Text'] = text['Text'].replace(to_replace=r'shouldn\\'t', value='should not', regex=True)\n",
    "    text['Text'] = text['Text'].replace(to_replace=r'shouldn\\'t\\'ve', value='should not have', regex=True)\n",
    "    text['Text'] = text['Text'].replace(to_replace=r'so\\'ve', value='so have', regex=True)\n",
    "    text['Text'] = text['Text'].replace(to_replace=r'so\\'s', value='so as', regex=True)\n",
    "    text['Text'] = text['Text'].replace(to_replace=r'that\\'d', value='that would', regex=True)\n",
    "    text['Text'] = text['Text'].replace(to_replace=r'that\\'d\\'ve', value='that would have', regex=True)\n",
    "    text['Text'] = text['Text'].replace(to_replace=r'that\\'s', value='that has', regex=True)\n",
    "    text['Text'] = text['Text'].replace(to_replace=r'there\\'d', value='there had', regex=True)\n",
    "    text['Text'] = text['Text'].replace(to_replace=r'there\\'d\\'ve', value='there would have', regex=True)\n",
    "    text['Text'] = text['Text'].replace(to_replace=r'there\\'s', value='there has', regex=True)\n",
    "    text['Text'] = text['Text'].replace(to_replace=r'they\\'d', value='they had', regex=True)\n",
    "    text['Text'] = text['Text'].replace(to_replace=r'they\\'d\\'ve', value='they would have', regex=True)\n",
    "    text['Text'] = text['Text'].replace(to_replace=r'they\\'ll', value='they shall', regex=True)\n",
    "    text['Text'] = text['Text'].replace(to_replace=r'they\\'ll\\'ve', value='they shall have', regex=True)\n",
    "    text['Text'] = text['Text'].replace(to_replace=r'they\\'re', value='they are', regex=True)\n",
    "    text['Text'] = text['Text'].replace(to_replace=r'they\\'ve', value='they have', regex=True)\n",
    "    text['Text'] = text['Text'].replace(to_replace=r'to\\'ve', value='to have', regex=True)\n",
    "    text['Text'] = text['Text'].replace(to_replace=r'wasn\\'t', value='was not', regex=True)\n",
    "    text['Text'] = text['Text'].replace(to_replace=r'we\\'d', value='we had', regex=True)\n",
    "    text['Text'] = text['Text'].replace(to_replace=r'we\\'d\\'ve', value='we would have', regex=True)\n",
    "    text['Text'] = text['Text'].replace(to_replace=r'we\\'ll', value='we will', regex=True)\n",
    "    text['Text'] = text['Text'].replace(to_replace=r'we\\'ll\\'ve', value='we will have', regex=True)\n",
    "    text['Text'] = text['Text'].replace(to_replace=r'we\\'re', value='we are', regex=True)\n",
    "    text['Text'] = text['Text'].replace(to_replace=r'we\\'ve', value='we have', regex=True)\n",
    "    text['Text'] = text['Text'].replace(to_replace=r'weren\\'t', value='were not', regex=True)\n",
    "    text['Text'] = text['Text'].replace(to_replace=r'what\\'ll', value='what shall', regex=True)\n",
    "    text['Text'] = text['Text'].replace(to_replace=r'what\\'ll\\'ve', value='what shall have', regex=True)\n",
    "    text['Text'] = text['Text'].replace(to_replace=r'what\\'re', value='what are', regex=True)\n",
    "    text['Text'] = text['Text'].replace(to_replace=r'what\\'s', value='what has', regex=True)\n",
    "    text['Text'] = text['Text'].replace(to_replace=r'what\\'ve', value='what have', regex=True)\n",
    "    text['Text'] = text['Text'].replace(to_replace=r'when\\'s', value='when has', regex=True)\n",
    "    text['Text'] = text['Text'].replace(to_replace=r'when\\'ve', value='when have', regex=True)\n",
    "    text['Text'] = text['Text'].replace(to_replace=r'where\\'d', value='where did', regex=True)\n",
    "    text['Text'] = text['Text'].replace(to_replace=r'where\\'s', value='where has', regex=True)\n",
    "    text['Text'] = text['Text'].replace(to_replace=r'where\\'ve', value='where have', regex=True)\n",
    "    text['Text'] = text['Text'].replace(to_replace=r'who\\'ll', value='who shall', regex=True)\n",
    "    text['Text'] = text['Text'].replace(to_replace=r'who\\'ll\\'ve', value='who shall have', regex=True)\n",
    "    text['Text'] = text['Text'].replace(to_replace=r'who\\'s', value='who has', regex=True)\n",
    "    text['Text'] = text['Text'].replace(to_replace=r'who\\'ve', value='who have', regex=True)\n",
    "    text['Text'] = text['Text'].replace(to_replace=r'why\\'s', value='why has', regex=True)\n",
    "    text['Text'] = text['Text'].replace(to_replace=r'why\\'ve', value='why have', regex=True)\n",
    "    text['Text'] = text['Text'].replace(to_replace=r'will\\'ve', value='will have', regex=True)\n",
    "    text['Text'] = text['Text'].replace(to_replace=r'won\\'t', value='will not', regex=True)\n",
    "    text['Text'] = text['Text'].replace(to_replace=r'won\\'t\\'ve', value='will not have', regex=True)\n",
    "    text['Text'] = text['Text'].replace(to_replace=r'would\\'ve', value='would have', regex=True)\n",
    "    text['Text'] = text['Text'].replace(to_replace=r'wouldn\\'t', value='would not', regex=True)\n",
    "    text['Text'] = text['Text'].replace(to_replace=r'wouldn\\'t\\'ve', value='would not have', regex=True)\n",
    "    text['Text'] = text['Text'].replace(to_replace=r'y\\'all', value='you all', regex=True)\n",
    "    text['Text'] = text['Text'].replace(to_replace=r'y\\'all\\'d', value='you all would', regex=True)\n",
    "    text['Text'] = text['Text'].replace(to_replace=r'y\\'all\\'d\\'ve', value='you all would have', regex=True)\n",
    "    text['Text'] = text['Text'].replace(to_replace=r'y\\'all\\'re', value='you all are', regex=True)\n",
    "    text['Text'] = text['Text'].replace(to_replace=r'y\\'all\\'ve', value='you all have', regex=True)\n",
    "    text['Text'] = text['Text'].replace(to_replace=r'you\\'d', value='you had', regex=True)\n",
    "    text['Text'] = text['Text'].replace(to_replace=r'you\\'d\\'ve', value='you would have', regex=True)\n",
    "    text['Text'] = text['Text'].replace(to_replace=r'you\\'ll', value='you shall', regex=True)\n",
    "    text['Text'] = text['Text'].replace(to_replace=r'you\\'ll\\'ve', value='you shall have', regex=True)\n",
    "    text['Text'] = text['Text'].replace(to_replace=r'you\\'re', value='you are', regex=True)\n",
    "    text['Text'] = text['Text'].replace(to_replace=r'you\\'ve', value='you have', regex=True)\n",
    "    return(text)"
   ]
  },
  {
   "cell_type": "code",
   "execution_count": 120,
   "metadata": {},
   "outputs": [
    {
     "data": {
      "text/html": [
       "<div>\n",
       "<style scoped>\n",
       "    .dataframe tbody tr th:only-of-type {\n",
       "        vertical-align: middle;\n",
       "    }\n",
       "\n",
       "    .dataframe tbody tr th {\n",
       "        vertical-align: top;\n",
       "    }\n",
       "\n",
       "    .dataframe thead th {\n",
       "        text-align: right;\n",
       "    }\n",
       "</style>\n",
       "<table border=\"1\" class=\"dataframe\">\n",
       "  <thead>\n",
       "    <tr style=\"text-align: right;\">\n",
       "      <th></th>\n",
       "      <th>Text</th>\n",
       "      <th>date</th>\n",
       "    </tr>\n",
       "  </thead>\n",
       "  <tbody>\n",
       "    <tr>\n",
       "      <td>0</td>\n",
       "      <td>yes!!! i can not wait for the pixelwatch or go...</td>\n",
       "      <td>2019-11-01</td>\n",
       "    </tr>\n",
       "    <tr>\n",
       "      <td>1</td>\n",
       "      <td>rt @acsp_canada : saviez-vous que le #vapotage...</td>\n",
       "      <td>2019-11-01</td>\n",
       "    </tr>\n",
       "    <tr>\n",
       "      <td>2</td>\n",
       "      <td>nothing like a power outage to create an oppor...</td>\n",
       "      <td>2019-11-01</td>\n",
       "    </tr>\n",
       "    <tr>\n",
       "      <td>3</td>\n",
       "      <td>rt @cpho_canada : did you know #vaping nicotin...</td>\n",
       "      <td>2019-11-01</td>\n",
       "    </tr>\n",
       "    <tr>\n",
       "      <td>4</td>\n",
       "      <td>interested in a specific topic? we probably ha...</td>\n",
       "      <td>2019-11-02</td>\n",
       "    </tr>\n",
       "    <tr>\n",
       "      <td>...</td>\n",
       "      <td>...</td>\n",
       "      <td>...</td>\n",
       "    </tr>\n",
       "    <tr>\n",
       "      <td>4190</td>\n",
       "      <td>school administrators: use cdc’s new monitorin...</td>\n",
       "      <td>2020-10-01</td>\n",
       "    </tr>\n",
       "    <tr>\n",
       "      <td>4191</td>\n",
       "      <td>a new @cdcmmwr report offers a snapshot of the...</td>\n",
       "      <td>2020-10-01</td>\n",
       "    </tr>\n",
       "    <tr>\n",
       "      <td>4192</td>\n",
       "      <td>rt @ivana_macmillan : the (hc)2 online virtual...</td>\n",
       "      <td>2020-10-01</td>\n",
       "    </tr>\n",
       "    <tr>\n",
       "      <td>4193</td>\n",
       "      <td>rt @criccicav : lockdown measures were extreme...</td>\n",
       "      <td>2020-10-01</td>\n",
       "    </tr>\n",
       "    <tr>\n",
       "      <td>4194</td>\n",
       "      <td>@chantalmonte 🤚</td>\n",
       "      <td>2020-10-01</td>\n",
       "    </tr>\n",
       "  </tbody>\n",
       "</table>\n",
       "<p>4195 rows × 2 columns</p>\n",
       "</div>"
      ],
      "text/plain": [
       "                                                   Text       date\n",
       "0     yes!!! i can not wait for the pixelwatch or go... 2019-11-01\n",
       "1     rt @acsp_canada : saviez-vous que le #vapotage... 2019-11-01\n",
       "2     nothing like a power outage to create an oppor... 2019-11-01\n",
       "3     rt @cpho_canada : did you know #vaping nicotin... 2019-11-01\n",
       "4     interested in a specific topic? we probably ha... 2019-11-02\n",
       "...                                                 ...        ...\n",
       "4190  school administrators: use cdc’s new monitorin... 2020-10-01\n",
       "4191  a new @cdcmmwr report offers a snapshot of the... 2020-10-01\n",
       "4192  rt @ivana_macmillan : the (hc)2 online virtual... 2020-10-01\n",
       "4193  rt @criccicav : lockdown measures were extreme... 2020-10-01\n",
       "4194                                    @chantalmonte 🤚 2020-10-01\n",
       "\n",
       "[4195 rows x 2 columns]"
      ]
     },
     "execution_count": 120,
     "metadata": {},
     "output_type": "execute_result"
    }
   ],
   "source": [
    "#calling the contractions function and diplaying the sample values from the dataset after performing contractions removal\n",
    "df_tweets_final = contraction(df_tweets_final)\n",
    "df_tweets_final"
   ]
  },
  {
   "cell_type": "code",
   "execution_count": 121,
   "metadata": {},
   "outputs": [],
   "source": [
    "#cleaning function\n",
    "#removing the mentions\n",
    "#removing the hashtags\n",
    "#removing the junk characters and irrelavant alphabets\n",
    "#removing the URLs\n",
    "#selecting only alphabets for the final dataset and removing the rest\n",
    "\n",
    "def cleaning(data):\n",
    "    data['Text'] = data['Text'].str.replace(r'(?<=^|(?<=[^a-zA-Z0-9-_\\.]))@([_A-Za-z]+[A-Za-z0-9_]+)','')  #mentions\n",
    "    data['Text'] = data['Text'].str.replace(r'#(\\w+)','')    #hashtags\n",
    "    data['Text'] = data['Text'].str.replace(r'^(rt[\\s]+\\:)','')   #remove 'RT' in the begining\n",
    "    data['Text'] = data['Text'].str.replace(r'https?:\\/\\/.*[\\r\\n]*', '') #URLs\n",
    "    data['Text'] = data['Text'].str.replace(r'([^A-Za-z]+)', ' ')  #only alphabets selected\n",
    "    data['Text'] = data['Text'].str.replace(r'^[\\s]+$', 'NaN')\n",
    "    data = data[~data.Text.str.contains(\"NaN\")]\n",
    "    data = data.reset_index(drop=True)\n",
    "    return(data)"
   ]
  },
  {
   "cell_type": "code",
   "execution_count": 122,
   "metadata": {},
   "outputs": [
    {
     "data": {
      "text/html": [
       "<div>\n",
       "<style scoped>\n",
       "    .dataframe tbody tr th:only-of-type {\n",
       "        vertical-align: middle;\n",
       "    }\n",
       "\n",
       "    .dataframe tbody tr th {\n",
       "        vertical-align: top;\n",
       "    }\n",
       "\n",
       "    .dataframe thead th {\n",
       "        text-align: right;\n",
       "    }\n",
       "</style>\n",
       "<table border=\"1\" class=\"dataframe\">\n",
       "  <thead>\n",
       "    <tr style=\"text-align: right;\">\n",
       "      <th></th>\n",
       "      <th>Text</th>\n",
       "      <th>date</th>\n",
       "    </tr>\n",
       "  </thead>\n",
       "  <tbody>\n",
       "    <tr>\n",
       "      <td>0</td>\n",
       "      <td>yes i can not wait for the pixelwatch or googl...</td>\n",
       "      <td>2019-11-01</td>\n",
       "    </tr>\n",
       "    <tr>\n",
       "      <td>1</td>\n",
       "      <td>saviez vous que le de nicotine peut mener une...</td>\n",
       "      <td>2019-11-01</td>\n",
       "    </tr>\n",
       "    <tr>\n",
       "      <td>2</td>\n",
       "      <td>nothing like a power outage to create an oppor...</td>\n",
       "      <td>2019-11-01</td>\n",
       "    </tr>\n",
       "    <tr>\n",
       "      <td>3</td>\n",
       "      <td>did you know nicotine can lead to addiction y...</td>\n",
       "      <td>2019-11-01</td>\n",
       "    </tr>\n",
       "    <tr>\n",
       "      <td>4</td>\n",
       "      <td>interested in a specific topic we probably hav...</td>\n",
       "      <td>2019-11-02</td>\n",
       "    </tr>\n",
       "    <tr>\n",
       "      <td>...</td>\n",
       "      <td>...</td>\n",
       "      <td>...</td>\n",
       "    </tr>\n",
       "    <tr>\n",
       "      <td>4166</td>\n",
       "      <td>getting a is more important than ever join s d...</td>\n",
       "      <td>2020-10-01</td>\n",
       "    </tr>\n",
       "    <tr>\n",
       "      <td>4167</td>\n",
       "      <td>school administrators use cdc s new monitoring...</td>\n",
       "      <td>2020-10-01</td>\n",
       "    </tr>\n",
       "    <tr>\n",
       "      <td>4168</td>\n",
       "      <td>a new report offers a snapshot of the partners...</td>\n",
       "      <td>2020-10-01</td>\n",
       "    </tr>\n",
       "    <tr>\n",
       "      <td>4169</td>\n",
       "      <td>the hc online virtual escape room tournament ...</td>\n",
       "      <td>2020-10-01</td>\n",
       "    </tr>\n",
       "    <tr>\n",
       "      <td>4170</td>\n",
       "      <td>lockdown measures were extreme my family live...</td>\n",
       "      <td>2020-10-01</td>\n",
       "    </tr>\n",
       "  </tbody>\n",
       "</table>\n",
       "<p>4171 rows × 2 columns</p>\n",
       "</div>"
      ],
      "text/plain": [
       "                                                   Text       date\n",
       "0     yes i can not wait for the pixelwatch or googl... 2019-11-01\n",
       "1      saviez vous que le de nicotine peut mener une... 2019-11-01\n",
       "2     nothing like a power outage to create an oppor... 2019-11-01\n",
       "3      did you know nicotine can lead to addiction y... 2019-11-01\n",
       "4     interested in a specific topic we probably hav... 2019-11-02\n",
       "...                                                 ...        ...\n",
       "4166  getting a is more important than ever join s d... 2020-10-01\n",
       "4167  school administrators use cdc s new monitoring... 2020-10-01\n",
       "4168  a new report offers a snapshot of the partners... 2020-10-01\n",
       "4169   the hc online virtual escape room tournament ... 2020-10-01\n",
       "4170   lockdown measures were extreme my family live... 2020-10-01\n",
       "\n",
       "[4171 rows x 2 columns]"
      ]
     },
     "execution_count": 122,
     "metadata": {},
     "output_type": "execute_result"
    }
   ],
   "source": [
    "#calling the cleaning function and diplaying the sample values from the dataset after performing data cleaning\n",
    "df_tweets_final = cleaning(df_tweets_final)\n",
    "df_tweets_final"
   ]
  },
  {
   "cell_type": "markdown",
   "metadata": {},
   "source": [
    "<h3> Data Visualization (Before stopwords removal and lemmatization):</h3>"
   ]
  },
  {
   "cell_type": "code",
   "execution_count": 123,
   "metadata": {},
   "outputs": [],
   "source": [
    "#Calculating the count of each word occurences\n",
    "words_list_before = df_tweets_final['Text'].str.split(expand=True).unstack().value_counts()"
   ]
  },
  {
   "cell_type": "code",
   "execution_count": 124,
   "metadata": {},
   "outputs": [
    {
     "data": {
      "text/html": [
       "        <script type=\"text/javascript\">\n",
       "        window.PlotlyConfig = {MathJaxConfig: 'local'};\n",
       "        if (window.MathJax) {MathJax.Hub.Config({SVG: {font: \"STIX-Web\"}});}\n",
       "        if (typeof require !== 'undefined') {\n",
       "        require.undef(\"plotly\");\n",
       "        requirejs.config({\n",
       "            paths: {\n",
       "                'plotly': ['https://cdn.plot.ly/plotly-latest.min']\n",
       "            }\n",
       "        });\n",
       "        require(['plotly'], function(Plotly) {\n",
       "            window._Plotly = Plotly;\n",
       "        });\n",
       "        }\n",
       "        </script>\n",
       "        "
      ]
     },
     "metadata": {},
     "output_type": "display_data"
    },
    {
     "data": {
      "application/vnd.plotly.v1+json": {
       "config": {
        "linkText": "Export to plot.ly",
        "plotlyServerURL": "https://plot.ly",
        "showLink": false
       },
       "data": [
        {
         "marker": {
          "color": [
           4153,
           4039,
           3133,
           2476,
           2184,
           1755,
           1638,
           1613,
           1426,
           1379,
           1052,
           1042,
           1033,
           1031,
           974,
           949,
           917,
           883,
           845,
           839,
           691,
           686,
           663,
           660,
           659,
           638,
           623,
           620,
           574,
           574,
           528,
           513,
           512,
           498,
           482,
           481,
           473,
           464,
           464,
           461,
           404,
           396,
           378,
           334,
           332,
           329,
           319,
           315,
           309,
           307,
           295,
           286,
           284,
           273,
           262,
           261,
           261,
           258,
           256,
           252,
           251,
           247,
           246,
           239,
           238,
           235,
           233,
           228,
           224,
           218,
           213,
           213,
           213,
           211,
           210,
           204,
           203,
           201,
           200,
           200,
           199,
           195,
           192,
           191,
           190,
           187,
           186,
           185,
           184,
           184,
           182,
           179,
           179,
           176,
           176,
           173,
           170,
           170,
           170,
           169
          ],
          "colorscale": [
           [
            0,
            "#440154"
           ],
           [
            0.1111111111111111,
            "#482878"
           ],
           [
            0.2222222222222222,
            "#3e4989"
           ],
           [
            0.3333333333333333,
            "#31688e"
           ],
           [
            0.4444444444444444,
            "#26828e"
           ],
           [
            0.5555555555555556,
            "#1f9e89"
           ],
           [
            0.6666666666666666,
            "#35b779"
           ],
           [
            0.7777777777777778,
            "#6ece58"
           ],
           [
            0.8888888888888888,
            "#b5de2b"
           ],
           [
            1,
            "#fde725"
           ]
          ]
         },
         "text": "Word counts",
         "type": "bar",
         "x": [
          "to",
          "the",
          "and",
          "of",
          "in",
          "a",
          "you",
          "for",
          "your",
          "more",
          "s",
          "on",
          "learn",
          "is",
          "with",
          "are",
          "from",
          "can",
          "amp",
          "or",
          "cdc",
          "at",
          "this",
          "about",
          "health",
          "help",
          "that",
          "have",
          "it",
          "if",
          "be",
          "how",
          "people",
          "new",
          "spread",
          "covid",
          "we",
          "our",
          "by",
          "as",
          "protect",
          "not",
          "out",
          "use",
          "do",
          "during",
          "all",
          "us",
          "get",
          "when"
         ],
         "y": [
          4153,
          4039,
          3133,
          2476,
          2184,
          1755,
          1638,
          1613,
          1426,
          1379,
          1052,
          1042,
          1033,
          1031,
          974,
          949,
          917,
          883,
          845,
          839,
          691,
          686,
          663,
          660,
          659,
          638,
          623,
          620,
          574,
          574,
          528,
          513,
          512,
          498,
          482,
          481,
          473,
          464,
          464,
          461,
          404,
          396,
          378,
          334,
          332,
          329,
          319,
          315,
          309,
          307
         ]
        }
       ],
       "layout": {
        "template": {
         "data": {
          "bar": [
           {
            "error_x": {
             "color": "#2a3f5f"
            },
            "error_y": {
             "color": "#2a3f5f"
            },
            "marker": {
             "line": {
              "color": "#E5ECF6",
              "width": 0.5
             }
            },
            "type": "bar"
           }
          ],
          "barpolar": [
           {
            "marker": {
             "line": {
              "color": "#E5ECF6",
              "width": 0.5
             }
            },
            "type": "barpolar"
           }
          ],
          "carpet": [
           {
            "aaxis": {
             "endlinecolor": "#2a3f5f",
             "gridcolor": "white",
             "linecolor": "white",
             "minorgridcolor": "white",
             "startlinecolor": "#2a3f5f"
            },
            "baxis": {
             "endlinecolor": "#2a3f5f",
             "gridcolor": "white",
             "linecolor": "white",
             "minorgridcolor": "white",
             "startlinecolor": "#2a3f5f"
            },
            "type": "carpet"
           }
          ],
          "choropleth": [
           {
            "colorbar": {
             "outlinewidth": 0,
             "ticks": ""
            },
            "type": "choropleth"
           }
          ],
          "contour": [
           {
            "colorbar": {
             "outlinewidth": 0,
             "ticks": ""
            },
            "colorscale": [
             [
              0,
              "#0d0887"
             ],
             [
              0.1111111111111111,
              "#46039f"
             ],
             [
              0.2222222222222222,
              "#7201a8"
             ],
             [
              0.3333333333333333,
              "#9c179e"
             ],
             [
              0.4444444444444444,
              "#bd3786"
             ],
             [
              0.5555555555555556,
              "#d8576b"
             ],
             [
              0.6666666666666666,
              "#ed7953"
             ],
             [
              0.7777777777777778,
              "#fb9f3a"
             ],
             [
              0.8888888888888888,
              "#fdca26"
             ],
             [
              1,
              "#f0f921"
             ]
            ],
            "type": "contour"
           }
          ],
          "contourcarpet": [
           {
            "colorbar": {
             "outlinewidth": 0,
             "ticks": ""
            },
            "type": "contourcarpet"
           }
          ],
          "heatmap": [
           {
            "colorbar": {
             "outlinewidth": 0,
             "ticks": ""
            },
            "colorscale": [
             [
              0,
              "#0d0887"
             ],
             [
              0.1111111111111111,
              "#46039f"
             ],
             [
              0.2222222222222222,
              "#7201a8"
             ],
             [
              0.3333333333333333,
              "#9c179e"
             ],
             [
              0.4444444444444444,
              "#bd3786"
             ],
             [
              0.5555555555555556,
              "#d8576b"
             ],
             [
              0.6666666666666666,
              "#ed7953"
             ],
             [
              0.7777777777777778,
              "#fb9f3a"
             ],
             [
              0.8888888888888888,
              "#fdca26"
             ],
             [
              1,
              "#f0f921"
             ]
            ],
            "type": "heatmap"
           }
          ],
          "heatmapgl": [
           {
            "colorbar": {
             "outlinewidth": 0,
             "ticks": ""
            },
            "colorscale": [
             [
              0,
              "#0d0887"
             ],
             [
              0.1111111111111111,
              "#46039f"
             ],
             [
              0.2222222222222222,
              "#7201a8"
             ],
             [
              0.3333333333333333,
              "#9c179e"
             ],
             [
              0.4444444444444444,
              "#bd3786"
             ],
             [
              0.5555555555555556,
              "#d8576b"
             ],
             [
              0.6666666666666666,
              "#ed7953"
             ],
             [
              0.7777777777777778,
              "#fb9f3a"
             ],
             [
              0.8888888888888888,
              "#fdca26"
             ],
             [
              1,
              "#f0f921"
             ]
            ],
            "type": "heatmapgl"
           }
          ],
          "histogram": [
           {
            "marker": {
             "colorbar": {
              "outlinewidth": 0,
              "ticks": ""
             }
            },
            "type": "histogram"
           }
          ],
          "histogram2d": [
           {
            "colorbar": {
             "outlinewidth": 0,
             "ticks": ""
            },
            "colorscale": [
             [
              0,
              "#0d0887"
             ],
             [
              0.1111111111111111,
              "#46039f"
             ],
             [
              0.2222222222222222,
              "#7201a8"
             ],
             [
              0.3333333333333333,
              "#9c179e"
             ],
             [
              0.4444444444444444,
              "#bd3786"
             ],
             [
              0.5555555555555556,
              "#d8576b"
             ],
             [
              0.6666666666666666,
              "#ed7953"
             ],
             [
              0.7777777777777778,
              "#fb9f3a"
             ],
             [
              0.8888888888888888,
              "#fdca26"
             ],
             [
              1,
              "#f0f921"
             ]
            ],
            "type": "histogram2d"
           }
          ],
          "histogram2dcontour": [
           {
            "colorbar": {
             "outlinewidth": 0,
             "ticks": ""
            },
            "colorscale": [
             [
              0,
              "#0d0887"
             ],
             [
              0.1111111111111111,
              "#46039f"
             ],
             [
              0.2222222222222222,
              "#7201a8"
             ],
             [
              0.3333333333333333,
              "#9c179e"
             ],
             [
              0.4444444444444444,
              "#bd3786"
             ],
             [
              0.5555555555555556,
              "#d8576b"
             ],
             [
              0.6666666666666666,
              "#ed7953"
             ],
             [
              0.7777777777777778,
              "#fb9f3a"
             ],
             [
              0.8888888888888888,
              "#fdca26"
             ],
             [
              1,
              "#f0f921"
             ]
            ],
            "type": "histogram2dcontour"
           }
          ],
          "mesh3d": [
           {
            "colorbar": {
             "outlinewidth": 0,
             "ticks": ""
            },
            "type": "mesh3d"
           }
          ],
          "parcoords": [
           {
            "line": {
             "colorbar": {
              "outlinewidth": 0,
              "ticks": ""
             }
            },
            "type": "parcoords"
           }
          ],
          "pie": [
           {
            "automargin": true,
            "type": "pie"
           }
          ],
          "scatter": [
           {
            "marker": {
             "colorbar": {
              "outlinewidth": 0,
              "ticks": ""
             }
            },
            "type": "scatter"
           }
          ],
          "scatter3d": [
           {
            "line": {
             "colorbar": {
              "outlinewidth": 0,
              "ticks": ""
             }
            },
            "marker": {
             "colorbar": {
              "outlinewidth": 0,
              "ticks": ""
             }
            },
            "type": "scatter3d"
           }
          ],
          "scattercarpet": [
           {
            "marker": {
             "colorbar": {
              "outlinewidth": 0,
              "ticks": ""
             }
            },
            "type": "scattercarpet"
           }
          ],
          "scattergeo": [
           {
            "marker": {
             "colorbar": {
              "outlinewidth": 0,
              "ticks": ""
             }
            },
            "type": "scattergeo"
           }
          ],
          "scattergl": [
           {
            "marker": {
             "colorbar": {
              "outlinewidth": 0,
              "ticks": ""
             }
            },
            "type": "scattergl"
           }
          ],
          "scattermapbox": [
           {
            "marker": {
             "colorbar": {
              "outlinewidth": 0,
              "ticks": ""
             }
            },
            "type": "scattermapbox"
           }
          ],
          "scatterpolar": [
           {
            "marker": {
             "colorbar": {
              "outlinewidth": 0,
              "ticks": ""
             }
            },
            "type": "scatterpolar"
           }
          ],
          "scatterpolargl": [
           {
            "marker": {
             "colorbar": {
              "outlinewidth": 0,
              "ticks": ""
             }
            },
            "type": "scatterpolargl"
           }
          ],
          "scatterternary": [
           {
            "marker": {
             "colorbar": {
              "outlinewidth": 0,
              "ticks": ""
             }
            },
            "type": "scatterternary"
           }
          ],
          "surface": [
           {
            "colorbar": {
             "outlinewidth": 0,
             "ticks": ""
            },
            "colorscale": [
             [
              0,
              "#0d0887"
             ],
             [
              0.1111111111111111,
              "#46039f"
             ],
             [
              0.2222222222222222,
              "#7201a8"
             ],
             [
              0.3333333333333333,
              "#9c179e"
             ],
             [
              0.4444444444444444,
              "#bd3786"
             ],
             [
              0.5555555555555556,
              "#d8576b"
             ],
             [
              0.6666666666666666,
              "#ed7953"
             ],
             [
              0.7777777777777778,
              "#fb9f3a"
             ],
             [
              0.8888888888888888,
              "#fdca26"
             ],
             [
              1,
              "#f0f921"
             ]
            ],
            "type": "surface"
           }
          ],
          "table": [
           {
            "cells": {
             "fill": {
              "color": "#EBF0F8"
             },
             "line": {
              "color": "white"
             }
            },
            "header": {
             "fill": {
              "color": "#C8D4E3"
             },
             "line": {
              "color": "white"
             }
            },
            "type": "table"
           }
          ]
         },
         "layout": {
          "annotationdefaults": {
           "arrowcolor": "#2a3f5f",
           "arrowhead": 0,
           "arrowwidth": 1
          },
          "coloraxis": {
           "colorbar": {
            "outlinewidth": 0,
            "ticks": ""
           }
          },
          "colorscale": {
           "diverging": [
            [
             0,
             "#8e0152"
            ],
            [
             0.1,
             "#c51b7d"
            ],
            [
             0.2,
             "#de77ae"
            ],
            [
             0.3,
             "#f1b6da"
            ],
            [
             0.4,
             "#fde0ef"
            ],
            [
             0.5,
             "#f7f7f7"
            ],
            [
             0.6,
             "#e6f5d0"
            ],
            [
             0.7,
             "#b8e186"
            ],
            [
             0.8,
             "#7fbc41"
            ],
            [
             0.9,
             "#4d9221"
            ],
            [
             1,
             "#276419"
            ]
           ],
           "sequential": [
            [
             0,
             "#0d0887"
            ],
            [
             0.1111111111111111,
             "#46039f"
            ],
            [
             0.2222222222222222,
             "#7201a8"
            ],
            [
             0.3333333333333333,
             "#9c179e"
            ],
            [
             0.4444444444444444,
             "#bd3786"
            ],
            [
             0.5555555555555556,
             "#d8576b"
            ],
            [
             0.6666666666666666,
             "#ed7953"
            ],
            [
             0.7777777777777778,
             "#fb9f3a"
            ],
            [
             0.8888888888888888,
             "#fdca26"
            ],
            [
             1,
             "#f0f921"
            ]
           ],
           "sequentialminus": [
            [
             0,
             "#0d0887"
            ],
            [
             0.1111111111111111,
             "#46039f"
            ],
            [
             0.2222222222222222,
             "#7201a8"
            ],
            [
             0.3333333333333333,
             "#9c179e"
            ],
            [
             0.4444444444444444,
             "#bd3786"
            ],
            [
             0.5555555555555556,
             "#d8576b"
            ],
            [
             0.6666666666666666,
             "#ed7953"
            ],
            [
             0.7777777777777778,
             "#fb9f3a"
            ],
            [
             0.8888888888888888,
             "#fdca26"
            ],
            [
             1,
             "#f0f921"
            ]
           ]
          },
          "colorway": [
           "#636efa",
           "#EF553B",
           "#00cc96",
           "#ab63fa",
           "#FFA15A",
           "#19d3f3",
           "#FF6692",
           "#B6E880",
           "#FF97FF",
           "#FECB52"
          ],
          "font": {
           "color": "#2a3f5f"
          },
          "geo": {
           "bgcolor": "white",
           "lakecolor": "white",
           "landcolor": "#E5ECF6",
           "showlakes": true,
           "showland": true,
           "subunitcolor": "white"
          },
          "hoverlabel": {
           "align": "left"
          },
          "hovermode": "closest",
          "mapbox": {
           "style": "light"
          },
          "paper_bgcolor": "white",
          "plot_bgcolor": "#E5ECF6",
          "polar": {
           "angularaxis": {
            "gridcolor": "white",
            "linecolor": "white",
            "ticks": ""
           },
           "bgcolor": "#E5ECF6",
           "radialaxis": {
            "gridcolor": "white",
            "linecolor": "white",
            "ticks": ""
           }
          },
          "scene": {
           "xaxis": {
            "backgroundcolor": "#E5ECF6",
            "gridcolor": "white",
            "gridwidth": 2,
            "linecolor": "white",
            "showbackground": true,
            "ticks": "",
            "zerolinecolor": "white"
           },
           "yaxis": {
            "backgroundcolor": "#E5ECF6",
            "gridcolor": "white",
            "gridwidth": 2,
            "linecolor": "white",
            "showbackground": true,
            "ticks": "",
            "zerolinecolor": "white"
           },
           "zaxis": {
            "backgroundcolor": "#E5ECF6",
            "gridcolor": "white",
            "gridwidth": 2,
            "linecolor": "white",
            "showbackground": true,
            "ticks": "",
            "zerolinecolor": "white"
           }
          },
          "shapedefaults": {
           "line": {
            "color": "#2a3f5f"
           }
          },
          "ternary": {
           "aaxis": {
            "gridcolor": "white",
            "linecolor": "white",
            "ticks": ""
           },
           "baxis": {
            "gridcolor": "white",
            "linecolor": "white",
            "ticks": ""
           },
           "bgcolor": "#E5ECF6",
           "caxis": {
            "gridcolor": "white",
            "linecolor": "white",
            "ticks": ""
           }
          },
          "title": {
           "x": 0.05
          },
          "xaxis": {
           "automargin": true,
           "gridcolor": "white",
           "linecolor": "white",
           "ticks": "",
           "title": {
            "standoff": 15
           },
           "zerolinecolor": "white",
           "zerolinewidth": 2
          },
          "yaxis": {
           "automargin": true,
           "gridcolor": "white",
           "linecolor": "white",
           "ticks": "",
           "title": {
            "standoff": 15
           },
           "zerolinecolor": "white",
           "zerolinewidth": 2
          }
         }
        },
        "title": {
         "text": "Before preprocessing frequent Occuring words"
        }
       }
      },
      "text/html": [
       "<div>\n",
       "        \n",
       "        \n",
       "            <div id=\"255e227b-5ee4-4717-b54c-0a1b96c8eac9\" class=\"plotly-graph-div\" style=\"height:525px; width:100%;\"></div>\n",
       "            <script type=\"text/javascript\">\n",
       "                require([\"plotly\"], function(Plotly) {\n",
       "                    window.PLOTLYENV=window.PLOTLYENV || {};\n",
       "                    \n",
       "                if (document.getElementById(\"255e227b-5ee4-4717-b54c-0a1b96c8eac9\")) {\n",
       "                    Plotly.newPlot(\n",
       "                        '255e227b-5ee4-4717-b54c-0a1b96c8eac9',\n",
       "                        [{\"marker\": {\"color\": [4153, 4039, 3133, 2476, 2184, 1755, 1638, 1613, 1426, 1379, 1052, 1042, 1033, 1031, 974, 949, 917, 883, 845, 839, 691, 686, 663, 660, 659, 638, 623, 620, 574, 574, 528, 513, 512, 498, 482, 481, 473, 464, 464, 461, 404, 396, 378, 334, 332, 329, 319, 315, 309, 307, 295, 286, 284, 273, 262, 261, 261, 258, 256, 252, 251, 247, 246, 239, 238, 235, 233, 228, 224, 218, 213, 213, 213, 211, 210, 204, 203, 201, 200, 200, 199, 195, 192, 191, 190, 187, 186, 185, 184, 184, 182, 179, 179, 176, 176, 173, 170, 170, 170, 169], \"colorscale\": [[0.0, \"#440154\"], [0.1111111111111111, \"#482878\"], [0.2222222222222222, \"#3e4989\"], [0.3333333333333333, \"#31688e\"], [0.4444444444444444, \"#26828e\"], [0.5555555555555556, \"#1f9e89\"], [0.6666666666666666, \"#35b779\"], [0.7777777777777778, \"#6ece58\"], [0.8888888888888888, \"#b5de2b\"], [1.0, \"#fde725\"]]}, \"text\": \"Word counts\", \"type\": \"bar\", \"x\": [\"to\", \"the\", \"and\", \"of\", \"in\", \"a\", \"you\", \"for\", \"your\", \"more\", \"s\", \"on\", \"learn\", \"is\", \"with\", \"are\", \"from\", \"can\", \"amp\", \"or\", \"cdc\", \"at\", \"this\", \"about\", \"health\", \"help\", \"that\", \"have\", \"it\", \"if\", \"be\", \"how\", \"people\", \"new\", \"spread\", \"covid\", \"we\", \"our\", \"by\", \"as\", \"protect\", \"not\", \"out\", \"use\", \"do\", \"during\", \"all\", \"us\", \"get\", \"when\"], \"y\": [4153, 4039, 3133, 2476, 2184, 1755, 1638, 1613, 1426, 1379, 1052, 1042, 1033, 1031, 974, 949, 917, 883, 845, 839, 691, 686, 663, 660, 659, 638, 623, 620, 574, 574, 528, 513, 512, 498, 482, 481, 473, 464, 464, 461, 404, 396, 378, 334, 332, 329, 319, 315, 309, 307]}],\n",
       "                        {\"template\": {\"data\": {\"bar\": [{\"error_x\": {\"color\": \"#2a3f5f\"}, \"error_y\": {\"color\": \"#2a3f5f\"}, \"marker\": {\"line\": {\"color\": \"#E5ECF6\", \"width\": 0.5}}, \"type\": \"bar\"}], \"barpolar\": [{\"marker\": {\"line\": {\"color\": \"#E5ECF6\", \"width\": 0.5}}, \"type\": \"barpolar\"}], \"carpet\": [{\"aaxis\": {\"endlinecolor\": \"#2a3f5f\", \"gridcolor\": \"white\", \"linecolor\": \"white\", \"minorgridcolor\": \"white\", \"startlinecolor\": \"#2a3f5f\"}, \"baxis\": {\"endlinecolor\": \"#2a3f5f\", \"gridcolor\": \"white\", \"linecolor\": \"white\", \"minorgridcolor\": \"white\", \"startlinecolor\": \"#2a3f5f\"}, \"type\": \"carpet\"}], \"choropleth\": [{\"colorbar\": {\"outlinewidth\": 0, \"ticks\": \"\"}, \"type\": \"choropleth\"}], \"contour\": [{\"colorbar\": {\"outlinewidth\": 0, \"ticks\": \"\"}, \"colorscale\": [[0.0, \"#0d0887\"], [0.1111111111111111, \"#46039f\"], [0.2222222222222222, \"#7201a8\"], [0.3333333333333333, \"#9c179e\"], [0.4444444444444444, \"#bd3786\"], [0.5555555555555556, \"#d8576b\"], [0.6666666666666666, \"#ed7953\"], [0.7777777777777778, \"#fb9f3a\"], [0.8888888888888888, \"#fdca26\"], [1.0, \"#f0f921\"]], \"type\": \"contour\"}], \"contourcarpet\": [{\"colorbar\": {\"outlinewidth\": 0, \"ticks\": \"\"}, \"type\": \"contourcarpet\"}], \"heatmap\": [{\"colorbar\": {\"outlinewidth\": 0, \"ticks\": \"\"}, \"colorscale\": [[0.0, \"#0d0887\"], [0.1111111111111111, \"#46039f\"], [0.2222222222222222, \"#7201a8\"], [0.3333333333333333, \"#9c179e\"], [0.4444444444444444, \"#bd3786\"], [0.5555555555555556, \"#d8576b\"], [0.6666666666666666, \"#ed7953\"], [0.7777777777777778, \"#fb9f3a\"], [0.8888888888888888, \"#fdca26\"], [1.0, \"#f0f921\"]], \"type\": \"heatmap\"}], \"heatmapgl\": [{\"colorbar\": {\"outlinewidth\": 0, \"ticks\": \"\"}, \"colorscale\": [[0.0, \"#0d0887\"], [0.1111111111111111, \"#46039f\"], [0.2222222222222222, \"#7201a8\"], [0.3333333333333333, \"#9c179e\"], [0.4444444444444444, \"#bd3786\"], [0.5555555555555556, \"#d8576b\"], [0.6666666666666666, \"#ed7953\"], [0.7777777777777778, \"#fb9f3a\"], [0.8888888888888888, \"#fdca26\"], [1.0, \"#f0f921\"]], \"type\": \"heatmapgl\"}], \"histogram\": [{\"marker\": {\"colorbar\": {\"outlinewidth\": 0, \"ticks\": \"\"}}, \"type\": \"histogram\"}], \"histogram2d\": [{\"colorbar\": {\"outlinewidth\": 0, \"ticks\": \"\"}, \"colorscale\": [[0.0, \"#0d0887\"], [0.1111111111111111, \"#46039f\"], [0.2222222222222222, \"#7201a8\"], [0.3333333333333333, \"#9c179e\"], [0.4444444444444444, \"#bd3786\"], [0.5555555555555556, \"#d8576b\"], [0.6666666666666666, \"#ed7953\"], [0.7777777777777778, \"#fb9f3a\"], [0.8888888888888888, \"#fdca26\"], [1.0, \"#f0f921\"]], \"type\": \"histogram2d\"}], \"histogram2dcontour\": [{\"colorbar\": {\"outlinewidth\": 0, \"ticks\": \"\"}, \"colorscale\": [[0.0, \"#0d0887\"], [0.1111111111111111, \"#46039f\"], [0.2222222222222222, \"#7201a8\"], [0.3333333333333333, \"#9c179e\"], [0.4444444444444444, \"#bd3786\"], [0.5555555555555556, \"#d8576b\"], [0.6666666666666666, \"#ed7953\"], [0.7777777777777778, \"#fb9f3a\"], [0.8888888888888888, \"#fdca26\"], [1.0, \"#f0f921\"]], \"type\": \"histogram2dcontour\"}], \"mesh3d\": [{\"colorbar\": {\"outlinewidth\": 0, \"ticks\": \"\"}, \"type\": \"mesh3d\"}], \"parcoords\": [{\"line\": {\"colorbar\": {\"outlinewidth\": 0, \"ticks\": \"\"}}, \"type\": \"parcoords\"}], \"pie\": [{\"automargin\": true, \"type\": \"pie\"}], \"scatter\": [{\"marker\": {\"colorbar\": {\"outlinewidth\": 0, \"ticks\": \"\"}}, \"type\": \"scatter\"}], \"scatter3d\": [{\"line\": {\"colorbar\": {\"outlinewidth\": 0, \"ticks\": \"\"}}, \"marker\": {\"colorbar\": {\"outlinewidth\": 0, \"ticks\": \"\"}}, \"type\": \"scatter3d\"}], \"scattercarpet\": [{\"marker\": {\"colorbar\": {\"outlinewidth\": 0, \"ticks\": \"\"}}, \"type\": \"scattercarpet\"}], \"scattergeo\": [{\"marker\": {\"colorbar\": {\"outlinewidth\": 0, \"ticks\": \"\"}}, \"type\": \"scattergeo\"}], \"scattergl\": [{\"marker\": {\"colorbar\": {\"outlinewidth\": 0, \"ticks\": \"\"}}, \"type\": \"scattergl\"}], \"scattermapbox\": [{\"marker\": {\"colorbar\": {\"outlinewidth\": 0, \"ticks\": \"\"}}, \"type\": \"scattermapbox\"}], \"scatterpolar\": [{\"marker\": {\"colorbar\": {\"outlinewidth\": 0, \"ticks\": \"\"}}, \"type\": \"scatterpolar\"}], \"scatterpolargl\": [{\"marker\": {\"colorbar\": {\"outlinewidth\": 0, \"ticks\": \"\"}}, \"type\": \"scatterpolargl\"}], \"scatterternary\": [{\"marker\": {\"colorbar\": {\"outlinewidth\": 0, \"ticks\": \"\"}}, \"type\": \"scatterternary\"}], \"surface\": [{\"colorbar\": {\"outlinewidth\": 0, \"ticks\": \"\"}, \"colorscale\": [[0.0, \"#0d0887\"], [0.1111111111111111, \"#46039f\"], [0.2222222222222222, \"#7201a8\"], [0.3333333333333333, \"#9c179e\"], [0.4444444444444444, \"#bd3786\"], [0.5555555555555556, \"#d8576b\"], [0.6666666666666666, \"#ed7953\"], [0.7777777777777778, \"#fb9f3a\"], [0.8888888888888888, \"#fdca26\"], [1.0, \"#f0f921\"]], \"type\": \"surface\"}], \"table\": [{\"cells\": {\"fill\": {\"color\": \"#EBF0F8\"}, \"line\": {\"color\": \"white\"}}, \"header\": {\"fill\": {\"color\": \"#C8D4E3\"}, \"line\": {\"color\": \"white\"}}, \"type\": \"table\"}]}, \"layout\": {\"annotationdefaults\": {\"arrowcolor\": \"#2a3f5f\", \"arrowhead\": 0, \"arrowwidth\": 1}, \"coloraxis\": {\"colorbar\": {\"outlinewidth\": 0, \"ticks\": \"\"}}, \"colorscale\": {\"diverging\": [[0, \"#8e0152\"], [0.1, \"#c51b7d\"], [0.2, \"#de77ae\"], [0.3, \"#f1b6da\"], [0.4, \"#fde0ef\"], [0.5, \"#f7f7f7\"], [0.6, \"#e6f5d0\"], [0.7, \"#b8e186\"], [0.8, \"#7fbc41\"], [0.9, \"#4d9221\"], [1, \"#276419\"]], \"sequential\": [[0.0, \"#0d0887\"], [0.1111111111111111, \"#46039f\"], [0.2222222222222222, \"#7201a8\"], [0.3333333333333333, \"#9c179e\"], [0.4444444444444444, \"#bd3786\"], [0.5555555555555556, \"#d8576b\"], [0.6666666666666666, \"#ed7953\"], [0.7777777777777778, \"#fb9f3a\"], [0.8888888888888888, \"#fdca26\"], [1.0, \"#f0f921\"]], \"sequentialminus\": [[0.0, \"#0d0887\"], [0.1111111111111111, \"#46039f\"], [0.2222222222222222, \"#7201a8\"], [0.3333333333333333, \"#9c179e\"], [0.4444444444444444, \"#bd3786\"], [0.5555555555555556, \"#d8576b\"], [0.6666666666666666, \"#ed7953\"], [0.7777777777777778, \"#fb9f3a\"], [0.8888888888888888, \"#fdca26\"], [1.0, \"#f0f921\"]]}, \"colorway\": [\"#636efa\", \"#EF553B\", \"#00cc96\", \"#ab63fa\", \"#FFA15A\", \"#19d3f3\", \"#FF6692\", \"#B6E880\", \"#FF97FF\", \"#FECB52\"], \"font\": {\"color\": \"#2a3f5f\"}, \"geo\": {\"bgcolor\": \"white\", \"lakecolor\": \"white\", \"landcolor\": \"#E5ECF6\", \"showlakes\": true, \"showland\": true, \"subunitcolor\": \"white\"}, \"hoverlabel\": {\"align\": \"left\"}, \"hovermode\": \"closest\", \"mapbox\": {\"style\": \"light\"}, \"paper_bgcolor\": \"white\", \"plot_bgcolor\": \"#E5ECF6\", \"polar\": {\"angularaxis\": {\"gridcolor\": \"white\", \"linecolor\": \"white\", \"ticks\": \"\"}, \"bgcolor\": \"#E5ECF6\", \"radialaxis\": {\"gridcolor\": \"white\", \"linecolor\": \"white\", \"ticks\": \"\"}}, \"scene\": {\"xaxis\": {\"backgroundcolor\": \"#E5ECF6\", \"gridcolor\": \"white\", \"gridwidth\": 2, \"linecolor\": \"white\", \"showbackground\": true, \"ticks\": \"\", \"zerolinecolor\": \"white\"}, \"yaxis\": {\"backgroundcolor\": \"#E5ECF6\", \"gridcolor\": \"white\", \"gridwidth\": 2, \"linecolor\": \"white\", \"showbackground\": true, \"ticks\": \"\", \"zerolinecolor\": \"white\"}, \"zaxis\": {\"backgroundcolor\": \"#E5ECF6\", \"gridcolor\": \"white\", \"gridwidth\": 2, \"linecolor\": \"white\", \"showbackground\": true, \"ticks\": \"\", \"zerolinecolor\": \"white\"}}, \"shapedefaults\": {\"line\": {\"color\": \"#2a3f5f\"}}, \"ternary\": {\"aaxis\": {\"gridcolor\": \"white\", \"linecolor\": \"white\", \"ticks\": \"\"}, \"baxis\": {\"gridcolor\": \"white\", \"linecolor\": \"white\", \"ticks\": \"\"}, \"bgcolor\": \"#E5ECF6\", \"caxis\": {\"gridcolor\": \"white\", \"linecolor\": \"white\", \"ticks\": \"\"}}, \"title\": {\"x\": 0.05}, \"xaxis\": {\"automargin\": true, \"gridcolor\": \"white\", \"linecolor\": \"white\", \"ticks\": \"\", \"title\": {\"standoff\": 15}, \"zerolinecolor\": \"white\", \"zerolinewidth\": 2}, \"yaxis\": {\"automargin\": true, \"gridcolor\": \"white\", \"linecolor\": \"white\", \"ticks\": \"\", \"title\": {\"standoff\": 15}, \"zerolinecolor\": \"white\", \"zerolinewidth\": 2}}}, \"title\": {\"text\": \"Before preprocessing frequent Occuring words\"}},\n",
       "                        {\"responsive\": true}\n",
       "                    ).then(function(){\n",
       "                            \n",
       "var gd = document.getElementById('255e227b-5ee4-4717-b54c-0a1b96c8eac9');\n",
       "var x = new MutationObserver(function (mutations, observer) {{\n",
       "        var display = window.getComputedStyle(gd).display;\n",
       "        if (!display || display === 'none') {{\n",
       "            console.log([gd, 'removed!']);\n",
       "            Plotly.purge(gd);\n",
       "            observer.disconnect();\n",
       "        }}\n",
       "}});\n",
       "\n",
       "// Listen for the removal of the full notebook cells\n",
       "var notebookContainer = gd.closest('#notebook-container');\n",
       "if (notebookContainer) {{\n",
       "    x.observe(notebookContainer, {childList: true});\n",
       "}}\n",
       "\n",
       "// Listen for the clearing of the current output cell\n",
       "var outputEl = gd.closest('.output');\n",
       "if (outputEl) {{\n",
       "    x.observe(outputEl, {childList: true});\n",
       "}}\n",
       "\n",
       "                        })\n",
       "                };\n",
       "                });\n",
       "            </script>\n",
       "        </div>"
      ]
     },
     "metadata": {},
     "output_type": "display_data"
    }
   ],
   "source": [
    "#bar graph to represent the most frequent words\n",
    "import chart_studio.plotly as py\n",
    "import plotly.graph_objs as go\n",
    "from plotly.offline import init_notebook_mode, iplot\n",
    "init_notebook_mode(connected=True)\n",
    "data = [go.Bar(\n",
    "            x = words_list_before.index.values[0:50],\n",
    "            y = words_list_before.values[0:50],\n",
    "            marker= dict(colorscale='Viridis',\n",
    "                         color = words_list_before.values[0:100]\n",
    "                        ),\n",
    "            text='Word counts'\n",
    "    )]\n",
    "\n",
    "layout = go.Layout(\n",
    "    title='Before preprocessing frequent Occuring words'\n",
    ")\n",
    "\n",
    "fig = go.Figure(data=data, layout=layout)\n",
    "\n",
    "iplot(fig, filename='basic-bar')"
   ]
  },
  {
   "cell_type": "code",
   "execution_count": 125,
   "metadata": {},
   "outputs": [
    {
     "data": {
      "image/png": "[encoded data removed]",
      "text/plain": [
       "<Figure size 432x288 with 1 Axes>"
      ]
     },
     "metadata": {
      "needs_background": "light"
     },
     "output_type": "display_data"
    }
   ],
   "source": [
    "#Word Cloud to represent the most frequent words\n",
    "from wordcloud import WordCloud\n",
    "wordcloud = WordCloud(background_color='white', max_words = 100).generate_from_frequencies(words_list_before)\n",
    "plt.imshow(wordcloud, interpolation='bilinear')\n",
    "plt.axis(\"off\")\n",
    "plt.show()"
   ]
  },
  {
   "cell_type": "markdown",
   "metadata": {},
   "source": [
    "<h3> Preprocessing (lemmatization and stopwords removal): </h3>"
   ]
  },
  {
   "cell_type": "markdown",
   "metadata": {},
   "source": [
    "<h3> Stopwords Removal: </h3>"
   ]
  },
  {
   "cell_type": "code",
   "execution_count": 127,
   "metadata": {},
   "outputs": [],
   "source": [
    "#created a list of stopwords to be removed from the textual data\n",
    "stopwords_removal = ['i', 'me', 'my', 'myself', 'we', 'our', 'ours', 'ourselves', 'you', \"you're\", \"you've\", \"you'll\", \"you'd\", 'your', 'yours', 'yourself', 'yourselves', 'he', 'him', 'his', 'himself', 'she', \"she's\", 'her', 'hers', 'herself', 'it', \"it's\", 'its', 'itself', 'they', 'them', 'their', 'theirs', 'themselves', 'what', 'which', 'who', 'whom', 'this', 'that', \"that'll\", 'these', 'those','am', 'is', 'are', 'was', 'were', 'be', 'been', 'being', 'have', 'has', 'had', 'having', 'do', 'does', 'did', 'doing', 'a', 'an', 'the', 'and', 'but', 'if', 'or', 'because', 'as', 'until', 'while', 'of', 'at', 'by', 'for', 'with', 'about', 'against', 'between', 'into', 'through', 'during', 'before', 'after', 'above', 'below', 'to', 'from', 'up', 'down', 'in', 'out', 'on', 'off', 'over', 'under', 'again', 'further', 'then', 'once', 'here', 'there', 'when', 'where', 'why', 'how', 'all', 'any', 'both', 'each', 'few', 'more', 'most', 'other', 'some', 'such', 'only', 'own', 'same', 'so', 'than', 'too', 'very', 's', 't', 'can', 'will', 'just', 'don', \"don't\", 'should', \"should've\", 'now', 'd', 'll', 'm', 'o', 're', 've', 'y', 'ain', 'aren', \"aren't\", 'couldn', \"couldn't\", 'didn', \"didn't\", 'doesn', \"doesn't\", 'hadn', \"hadn't\", 'hasn', \"hasn't\", 'haven', \"haven't\", 'isn', \"isn't\", 'ma', 'mightn', \"mightn't\", 'mustn', \"mustn't\", 'needn', \"needn't\", 'shan', \"shan't\", 'shouldn', \"shouldn't\", 'wasn', \"wasn't\", 'weren', \"weren't\", 'won', \"won't\", 'wouldn', \"wouldn't\", \"u\", \"ourselves\", \"hers\", \"between\", \"yourself\", \"but\", \"again\", \"there\", \"about\", \"once\", \"during\", \"out\", \"very\", \"having\", \"with\", \"they\", \"own\", \"an\", \"be\", \"some\", \"for\", \"do\", \"its\", \"yours\", \"such\", \"into\", \"of\", \"most\", \"itself\", \"other\", \"off\", \"is\", \"s\", \"am\", \"or\", \"who\", \"as\", \"from\", \"him\", \"each\", \"the\", \"themselves\", \"until\", \"below\", \"are\", \"we\", \"these\", \"your\", \"his\", \"through\", \"don\", \"nor\", \"me\", \"were\", \"her\", \"more\", \"himself\", \"this\", \"down\", \"should\", \"our\", \"their\", \"while\", \"above\", \"both\", \"up\", \"to\", \"ours\", \"had\", \"she\", \"all\", \"no\", \"when\", \"at\", \"any\", \"before\", \"them\", \"same\", \"and\", \"been\", \"have\", \"in\", \"will\", \"on\", \"does\", \"yourselves\", \"then\", \"that\", \"because\", \"what\", \"over\", \"why\", \"so\", \"can\", \"did\", \"not\", \"now\", \"under\", \"he\", \"you\", \"herself\", \"has\", \"just\", \"where\", \"too\", \"only\", \"myself\", \"which\", \"those\", \"i\", \"after\", \"few\", \"whom\", \"t\", \"being\", \"if\", \"theirs\", \"my\", \"against\", \"a\", \"by\", \"doing\", \"it\", \"how\", \"further\", \"was\", \"here\", \"than\"]"
   ]
  },
  {
   "cell_type": "markdown",
   "metadata": {},
   "source": [
    "<h3> Lemmatization: </h3>\n",
    "<p> 1. Transforming the words in the Textual data into its root form </p>"
   ]
  },
  {
   "cell_type": "code",
   "execution_count": 128,
   "metadata": {},
   "outputs": [],
   "source": [
    "def Lemmatizaton(df):\n",
    "    word_Lemmatized = WordNetLemmatizer()\n",
    "    for index, text in enumerate(df['Text']):\n",
    "        temp = []\n",
    "        for word in str(text).split():\n",
    "            word = word.strip()\n",
    "            if word not in stopwords_removal and word.isalpha():\n",
    "                lemmatize_word = word_Lemmatized.lemmatize(word)\n",
    "                temp.append(lemmatize_word)\n",
    "        df.loc[index,'Text'] = str(\" \".join(temp))\n",
    "    return df"
   ]
  },
  {
   "cell_type": "code",
   "execution_count": 129,
   "metadata": {},
   "outputs": [
    {
     "data": {
      "text/html": [
       "<div>\n",
       "<style scoped>\n",
       "    .dataframe tbody tr th:only-of-type {\n",
       "        vertical-align: middle;\n",
       "    }\n",
       "\n",
       "    .dataframe tbody tr th {\n",
       "        vertical-align: top;\n",
       "    }\n",
       "\n",
       "    .dataframe thead th {\n",
       "        text-align: right;\n",
       "    }\n",
       "</style>\n",
       "<table border=\"1\" class=\"dataframe\">\n",
       "  <thead>\n",
       "    <tr style=\"text-align: right;\">\n",
       "      <th></th>\n",
       "      <th>Text</th>\n",
       "      <th>date</th>\n",
       "    </tr>\n",
       "  </thead>\n",
       "  <tbody>\n",
       "    <tr>\n",
       "      <td>0</td>\n",
       "      <td>yes wait pixelwatch googlewatch whatever call ...</td>\n",
       "      <td>2019-11-01</td>\n",
       "    </tr>\n",
       "    <tr>\n",
       "      <td>1</td>\n",
       "      <td>saviez vous que le de nicotine peut mener une ...</td>\n",
       "      <td>2019-11-01</td>\n",
       "    </tr>\n",
       "    <tr>\n",
       "      <td>2</td>\n",
       "      <td>nothing like power outage create opportunity j...</td>\n",
       "      <td>2019-11-01</td>\n",
       "    </tr>\n",
       "    <tr>\n",
       "      <td>3</td>\n",
       "      <td>know nicotine lead addiction young people part...</td>\n",
       "      <td>2019-11-01</td>\n",
       "    </tr>\n",
       "    <tr>\n",
       "      <td>4</td>\n",
       "      <td>interested specific topic probably dataset art...</td>\n",
       "      <td>2019-11-02</td>\n",
       "    </tr>\n",
       "    <tr>\n",
       "      <td>...</td>\n",
       "      <td>...</td>\n",
       "      <td>...</td>\n",
       "    </tr>\n",
       "    <tr>\n",
       "      <td>4166</td>\n",
       "      <td>getting important ever join dr dan jernigan ro...</td>\n",
       "      <td>2020-10-01</td>\n",
       "    </tr>\n",
       "    <tr>\n",
       "      <td>4167</td>\n",
       "      <td>school administrator use cdc new monitoring ev...</td>\n",
       "      <td>2020-10-01</td>\n",
       "    </tr>\n",
       "    <tr>\n",
       "      <td>4168</td>\n",
       "      <td>new report offer snapshot partnership cdc stat...</td>\n",
       "      <td>2020-10-01</td>\n",
       "    </tr>\n",
       "    <tr>\n",
       "      <td>4169</td>\n",
       "      <td>hc online virtual escape room tournament begun...</td>\n",
       "      <td>2020-10-01</td>\n",
       "    </tr>\n",
       "    <tr>\n",
       "      <td>4170</td>\n",
       "      <td>lockdown measure extreme family lived north it...</td>\n",
       "      <td>2020-10-01</td>\n",
       "    </tr>\n",
       "  </tbody>\n",
       "</table>\n",
       "<p>4171 rows × 2 columns</p>\n",
       "</div>"
      ],
      "text/plain": [
       "                                                   Text       date\n",
       "0     yes wait pixelwatch googlewatch whatever call ... 2019-11-01\n",
       "1     saviez vous que le de nicotine peut mener une ... 2019-11-01\n",
       "2     nothing like power outage create opportunity j... 2019-11-01\n",
       "3     know nicotine lead addiction young people part... 2019-11-01\n",
       "4     interested specific topic probably dataset art... 2019-11-02\n",
       "...                                                 ...        ...\n",
       "4166  getting important ever join dr dan jernigan ro... 2020-10-01\n",
       "4167  school administrator use cdc new monitoring ev... 2020-10-01\n",
       "4168  new report offer snapshot partnership cdc stat... 2020-10-01\n",
       "4169  hc online virtual escape room tournament begun... 2020-10-01\n",
       "4170  lockdown measure extreme family lived north it... 2020-10-01\n",
       "\n",
       "[4171 rows x 2 columns]"
      ]
     },
     "execution_count": 129,
     "metadata": {},
     "output_type": "execute_result"
    }
   ],
   "source": [
    "#calling lemmatization function and displaying the sample data\n",
    "df_tweets_final_processed = Lemmatizaton(df_tweets_final)\n",
    "df_tweets_final_processed"
   ]
  },
  {
   "cell_type": "code",
   "execution_count": 130,
   "metadata": {},
   "outputs": [],
   "source": [
    "#Calculating the count of each word occurences\n",
    "words_list_after = df_tweets_final_processed['Text'].str.split(expand=True).unstack().value_counts()"
   ]
  },
  {
   "cell_type": "code",
   "execution_count": 131,
   "metadata": {},
   "outputs": [
    {
     "data": {
      "text/html": [
       "        <script type=\"text/javascript\">\n",
       "        window.PlotlyConfig = {MathJaxConfig: 'local'};\n",
       "        if (window.MathJax) {MathJax.Hub.Config({SVG: {font: \"STIX-Web\"}});}\n",
       "        if (typeof require !== 'undefined') {\n",
       "        require.undef(\"plotly\");\n",
       "        requirejs.config({\n",
       "            paths: {\n",
       "                'plotly': ['https://cdn.plot.ly/plotly-latest.min']\n",
       "            }\n",
       "        });\n",
       "        require(['plotly'], function(Plotly) {\n",
       "            window._Plotly = Plotly;\n",
       "        });\n",
       "        }\n",
       "        </script>\n",
       "        "
      ]
     },
     "metadata": {},
     "output_type": "display_data"
    },
    {
     "data": {
      "application/vnd.plotly.v1+json": {
       "config": {
        "linkText": "Export to plot.ly",
        "plotlyServerURL": "https://plot.ly",
        "showLink": false
       },
       "data": [
        {
         "marker": {
          "color": [
           1033,
           845,
           691,
           675,
           659,
           512,
           509,
           498,
           481,
           404,
           334,
           322,
           315,
           312,
           285,
           265,
           264,
           264,
           262,
           261,
           260,
           258,
           252,
           251,
           250,
           246,
           245,
           240,
           240,
           231,
           228,
           228,
           226,
           222,
           220,
           215,
           213,
           213,
           212,
           210,
           198,
           197,
           195,
           193,
           192,
           189,
           187,
           183,
           183,
           180,
           178,
           178,
           176,
           175,
           172,
           170,
           170,
           167,
           166,
           166,
           166,
           163,
           163,
           163,
           162,
           159,
           158,
           157,
           157,
           157,
           156,
           154,
           153,
           150,
           149,
           148,
           146,
           144,
           144,
           143,
           140,
           139,
           138,
           137,
           137,
           136,
           134,
           133,
           132,
           132,
           129,
           128,
           128,
           127,
           126,
           125,
           125,
           124,
           123,
           122
          ],
          "colorscale": [
           [
            0,
            "#440154"
           ],
           [
            0.1111111111111111,
            "#482878"
           ],
           [
            0.2222222222222222,
            "#3e4989"
           ],
           [
            0.3333333333333333,
            "#31688e"
           ],
           [
            0.4444444444444444,
            "#26828e"
           ],
           [
            0.5555555555555556,
            "#1f9e89"
           ],
           [
            0.6666666666666666,
            "#35b779"
           ],
           [
            0.7777777777777778,
            "#6ece58"
           ],
           [
            0.8888888888888888,
            "#b5de2b"
           ],
           [
            1,
            "#fde725"
           ]
          ]
         },
         "text": "Word counts",
         "type": "bar",
         "x": [
          "learn",
          "amp",
          "cdc",
          "help",
          "health",
          "people",
          "spread",
          "new",
          "covid",
          "protect",
          "use",
          "get",
          "u",
          "risk",
          "public",
          "case",
          "state",
          "take",
          "canada",
          "today",
          "report",
          "may",
          "data",
          "see",
          "one",
          "community",
          "hand",
          "stay",
          "child",
          "outbreak",
          "others",
          "time",
          "disease",
          "know",
          "find",
          "face",
          "prevent",
          "flu",
          "family",
          "like",
          "home",
          "make",
          "check",
          "visit",
          "update",
          "need",
          "tip",
          "year",
          "care",
          "keep"
         ],
         "y": [
          1033,
          845,
          691,
          675,
          659,
          512,
          509,
          498,
          481,
          404,
          334,
          322,
          315,
          312,
          285,
          265,
          264,
          264,
          262,
          261,
          260,
          258,
          252,
          251,
          250,
          246,
          245,
          240,
          240,
          231,
          228,
          228,
          226,
          222,
          220,
          215,
          213,
          213,
          212,
          210,
          198,
          197,
          195,
          193,
          192,
          189,
          187,
          183,
          183,
          180
         ]
        }
       ],
       "layout": {
        "template": {
         "data": {
          "bar": [
           {
            "error_x": {
             "color": "#2a3f5f"
            },
            "error_y": {
             "color": "#2a3f5f"
            },
            "marker": {
             "line": {
              "color": "#E5ECF6",
              "width": 0.5
             }
            },
            "type": "bar"
           }
          ],
          "barpolar": [
           {
            "marker": {
             "line": {
              "color": "#E5ECF6",
              "width": 0.5
             }
            },
            "type": "barpolar"
           }
          ],
          "carpet": [
           {
            "aaxis": {
             "endlinecolor": "#2a3f5f",
             "gridcolor": "white",
             "linecolor": "white",
             "minorgridcolor": "white",
             "startlinecolor": "#2a3f5f"
            },
            "baxis": {
             "endlinecolor": "#2a3f5f",
             "gridcolor": "white",
             "linecolor": "white",
             "minorgridcolor": "white",
             "startlinecolor": "#2a3f5f"
            },
            "type": "carpet"
           }
          ],
          "choropleth": [
           {
            "colorbar": {
             "outlinewidth": 0,
             "ticks": ""
            },
            "type": "choropleth"
           }
          ],
          "contour": [
           {
            "colorbar": {
             "outlinewidth": 0,
             "ticks": ""
            },
            "colorscale": [
             [
              0,
              "#0d0887"
             ],
             [
              0.1111111111111111,
              "#46039f"
             ],
             [
              0.2222222222222222,
              "#7201a8"
             ],
             [
              0.3333333333333333,
              "#9c179e"
             ],
             [
              0.4444444444444444,
              "#bd3786"
             ],
             [
              0.5555555555555556,
              "#d8576b"
             ],
             [
              0.6666666666666666,
              "#ed7953"
             ],
             [
              0.7777777777777778,
              "#fb9f3a"
             ],
             [
              0.8888888888888888,
              "#fdca26"
             ],
             [
              1,
              "#f0f921"
             ]
            ],
            "type": "contour"
           }
          ],
          "contourcarpet": [
           {
            "colorbar": {
             "outlinewidth": 0,
             "ticks": ""
            },
            "type": "contourcarpet"
           }
          ],
          "heatmap": [
           {
            "colorbar": {
             "outlinewidth": 0,
             "ticks": ""
            },
            "colorscale": [
             [
              0,
              "#0d0887"
             ],
             [
              0.1111111111111111,
              "#46039f"
             ],
             [
              0.2222222222222222,
              "#7201a8"
             ],
             [
              0.3333333333333333,
              "#9c179e"
             ],
             [
              0.4444444444444444,
              "#bd3786"
             ],
             [
              0.5555555555555556,
              "#d8576b"
             ],
             [
              0.6666666666666666,
              "#ed7953"
             ],
             [
              0.7777777777777778,
              "#fb9f3a"
             ],
             [
              0.8888888888888888,
              "#fdca26"
             ],
             [
              1,
              "#f0f921"
             ]
            ],
            "type": "heatmap"
           }
          ],
          "heatmapgl": [
           {
            "colorbar": {
             "outlinewidth": 0,
             "ticks": ""
            },
            "colorscale": [
             [
              0,
              "#0d0887"
             ],
             [
              0.1111111111111111,
              "#46039f"
             ],
             [
              0.2222222222222222,
              "#7201a8"
             ],
             [
              0.3333333333333333,
              "#9c179e"
             ],
             [
              0.4444444444444444,
              "#bd3786"
             ],
             [
              0.5555555555555556,
              "#d8576b"
             ],
             [
              0.6666666666666666,
              "#ed7953"
             ],
             [
              0.7777777777777778,
              "#fb9f3a"
             ],
             [
              0.8888888888888888,
              "#fdca26"
             ],
             [
              1,
              "#f0f921"
             ]
            ],
            "type": "heatmapgl"
           }
          ],
          "histogram": [
           {
            "marker": {
             "colorbar": {
              "outlinewidth": 0,
              "ticks": ""
             }
            },
            "type": "histogram"
           }
          ],
          "histogram2d": [
           {
            "colorbar": {
             "outlinewidth": 0,
             "ticks": ""
            },
            "colorscale": [
             [
              0,
              "#0d0887"
             ],
             [
              0.1111111111111111,
              "#46039f"
             ],
             [
              0.2222222222222222,
              "#7201a8"
             ],
             [
              0.3333333333333333,
              "#9c179e"
             ],
             [
              0.4444444444444444,
              "#bd3786"
             ],
             [
              0.5555555555555556,
              "#d8576b"
             ],
             [
              0.6666666666666666,
              "#ed7953"
             ],
             [
              0.7777777777777778,
              "#fb9f3a"
             ],
             [
              0.8888888888888888,
              "#fdca26"
             ],
             [
              1,
              "#f0f921"
             ]
            ],
            "type": "histogram2d"
           }
          ],
          "histogram2dcontour": [
           {
            "colorbar": {
             "outlinewidth": 0,
             "ticks": ""
            },
            "colorscale": [
             [
              0,
              "#0d0887"
             ],
             [
              0.1111111111111111,
              "#46039f"
             ],
             [
              0.2222222222222222,
              "#7201a8"
             ],
             [
              0.3333333333333333,
              "#9c179e"
             ],
             [
              0.4444444444444444,
              "#bd3786"
             ],
             [
              0.5555555555555556,
              "#d8576b"
             ],
             [
              0.6666666666666666,
              "#ed7953"
             ],
             [
              0.7777777777777778,
              "#fb9f3a"
             ],
             [
              0.8888888888888888,
              "#fdca26"
             ],
             [
              1,
              "#f0f921"
             ]
            ],
            "type": "histogram2dcontour"
           }
          ],
          "mesh3d": [
           {
            "colorbar": {
             "outlinewidth": 0,
             "ticks": ""
            },
            "type": "mesh3d"
           }
          ],
          "parcoords": [
           {
            "line": {
             "colorbar": {
              "outlinewidth": 0,
              "ticks": ""
             }
            },
            "type": "parcoords"
           }
          ],
          "pie": [
           {
            "automargin": true,
            "type": "pie"
           }
          ],
          "scatter": [
           {
            "marker": {
             "colorbar": {
              "outlinewidth": 0,
              "ticks": ""
             }
            },
            "type": "scatter"
           }
          ],
          "scatter3d": [
           {
            "line": {
             "colorbar": {
              "outlinewidth": 0,
              "ticks": ""
             }
            },
            "marker": {
             "colorbar": {
              "outlinewidth": 0,
              "ticks": ""
             }
            },
            "type": "scatter3d"
           }
          ],
          "scattercarpet": [
           {
            "marker": {
             "colorbar": {
              "outlinewidth": 0,
              "ticks": ""
             }
            },
            "type": "scattercarpet"
           }
          ],
          "scattergeo": [
           {
            "marker": {
             "colorbar": {
              "outlinewidth": 0,
              "ticks": ""
             }
            },
            "type": "scattergeo"
           }
          ],
          "scattergl": [
           {
            "marker": {
             "colorbar": {
              "outlinewidth": 0,
              "ticks": ""
             }
            },
            "type": "scattergl"
           }
          ],
          "scattermapbox": [
           {
            "marker": {
             "colorbar": {
              "outlinewidth": 0,
              "ticks": ""
             }
            },
            "type": "scattermapbox"
           }
          ],
          "scatterpolar": [
           {
            "marker": {
             "colorbar": {
              "outlinewidth": 0,
              "ticks": ""
             }
            },
            "type": "scatterpolar"
           }
          ],
          "scatterpolargl": [
           {
            "marker": {
             "colorbar": {
              "outlinewidth": 0,
              "ticks": ""
             }
            },
            "type": "scatterpolargl"
           }
          ],
          "scatterternary": [
           {
            "marker": {
             "colorbar": {
              "outlinewidth": 0,
              "ticks": ""
             }
            },
            "type": "scatterternary"
           }
          ],
          "surface": [
           {
            "colorbar": {
             "outlinewidth": 0,
             "ticks": ""
            },
            "colorscale": [
             [
              0,
              "#0d0887"
             ],
             [
              0.1111111111111111,
              "#46039f"
             ],
             [
              0.2222222222222222,
              "#7201a8"
             ],
             [
              0.3333333333333333,
              "#9c179e"
             ],
             [
              0.4444444444444444,
              "#bd3786"
             ],
             [
              0.5555555555555556,
              "#d8576b"
             ],
             [
              0.6666666666666666,
              "#ed7953"
             ],
             [
              0.7777777777777778,
              "#fb9f3a"
             ],
             [
              0.8888888888888888,
              "#fdca26"
             ],
             [
              1,
              "#f0f921"
             ]
            ],
            "type": "surface"
           }
          ],
          "table": [
           {
            "cells": {
             "fill": {
              "color": "#EBF0F8"
             },
             "line": {
              "color": "white"
             }
            },
            "header": {
             "fill": {
              "color": "#C8D4E3"
             },
             "line": {
              "color": "white"
             }
            },
            "type": "table"
           }
          ]
         },
         "layout": {
          "annotationdefaults": {
           "arrowcolor": "#2a3f5f",
           "arrowhead": 0,
           "arrowwidth": 1
          },
          "coloraxis": {
           "colorbar": {
            "outlinewidth": 0,
            "ticks": ""
           }
          },
          "colorscale": {
           "diverging": [
            [
             0,
             "#8e0152"
            ],
            [
             0.1,
             "#c51b7d"
            ],
            [
             0.2,
             "#de77ae"
            ],
            [
             0.3,
             "#f1b6da"
            ],
            [
             0.4,
             "#fde0ef"
            ],
            [
             0.5,
             "#f7f7f7"
            ],
            [
             0.6,
             "#e6f5d0"
            ],
            [
             0.7,
             "#b8e186"
            ],
            [
             0.8,
             "#7fbc41"
            ],
            [
             0.9,
             "#4d9221"
            ],
            [
             1,
             "#276419"
            ]
           ],
           "sequential": [
            [
             0,
             "#0d0887"
            ],
            [
             0.1111111111111111,
             "#46039f"
            ],
            [
             0.2222222222222222,
             "#7201a8"
            ],
            [
             0.3333333333333333,
             "#9c179e"
            ],
            [
             0.4444444444444444,
             "#bd3786"
            ],
            [
             0.5555555555555556,
             "#d8576b"
            ],
            [
             0.6666666666666666,
             "#ed7953"
            ],
            [
             0.7777777777777778,
             "#fb9f3a"
            ],
            [
             0.8888888888888888,
             "#fdca26"
            ],
            [
             1,
             "#f0f921"
            ]
           ],
           "sequentialminus": [
            [
             0,
             "#0d0887"
            ],
            [
             0.1111111111111111,
             "#46039f"
            ],
            [
             0.2222222222222222,
             "#7201a8"
            ],
            [
             0.3333333333333333,
             "#9c179e"
            ],
            [
             0.4444444444444444,
             "#bd3786"
            ],
            [
             0.5555555555555556,
             "#d8576b"
            ],
            [
             0.6666666666666666,
             "#ed7953"
            ],
            [
             0.7777777777777778,
             "#fb9f3a"
            ],
            [
             0.8888888888888888,
             "#fdca26"
            ],
            [
             1,
             "#f0f921"
            ]
           ]
          },
          "colorway": [
           "#636efa",
           "#EF553B",
           "#00cc96",
           "#ab63fa",
           "#FFA15A",
           "#19d3f3",
           "#FF6692",
           "#B6E880",
           "#FF97FF",
           "#FECB52"
          ],
          "font": {
           "color": "#2a3f5f"
          },
          "geo": {
           "bgcolor": "white",
           "lakecolor": "white",
           "landcolor": "#E5ECF6",
           "showlakes": true,
           "showland": true,
           "subunitcolor": "white"
          },
          "hoverlabel": {
           "align": "left"
          },
          "hovermode": "closest",
          "mapbox": {
           "style": "light"
          },
          "paper_bgcolor": "white",
          "plot_bgcolor": "#E5ECF6",
          "polar": {
           "angularaxis": {
            "gridcolor": "white",
            "linecolor": "white",
            "ticks": ""
           },
           "bgcolor": "#E5ECF6",
           "radialaxis": {
            "gridcolor": "white",
            "linecolor": "white",
            "ticks": ""
           }
          },
          "scene": {
           "xaxis": {
            "backgroundcolor": "#E5ECF6",
            "gridcolor": "white",
            "gridwidth": 2,
            "linecolor": "white",
            "showbackground": true,
            "ticks": "",
            "zerolinecolor": "white"
           },
           "yaxis": {
            "backgroundcolor": "#E5ECF6",
            "gridcolor": "white",
            "gridwidth": 2,
            "linecolor": "white",
            "showbackground": true,
            "ticks": "",
            "zerolinecolor": "white"
           },
           "zaxis": {
            "backgroundcolor": "#E5ECF6",
            "gridcolor": "white",
            "gridwidth": 2,
            "linecolor": "white",
            "showbackground": true,
            "ticks": "",
            "zerolinecolor": "white"
           }
          },
          "shapedefaults": {
           "line": {
            "color": "#2a3f5f"
           }
          },
          "ternary": {
           "aaxis": {
            "gridcolor": "white",
            "linecolor": "white",
            "ticks": ""
           },
           "baxis": {
            "gridcolor": "white",
            "linecolor": "white",
            "ticks": ""
           },
           "bgcolor": "#E5ECF6",
           "caxis": {
            "gridcolor": "white",
            "linecolor": "white",
            "ticks": ""
           }
          },
          "title": {
           "x": 0.05
          },
          "xaxis": {
           "automargin": true,
           "gridcolor": "white",
           "linecolor": "white",
           "ticks": "",
           "title": {
            "standoff": 15
           },
           "zerolinecolor": "white",
           "zerolinewidth": 2
          },
          "yaxis": {
           "automargin": true,
           "gridcolor": "white",
           "linecolor": "white",
           "ticks": "",
           "title": {
            "standoff": 15
           },
           "zerolinecolor": "white",
           "zerolinewidth": 2
          }
         }
        },
        "title": {
         "text": "After preprocessing frequent Occuring words"
        }
       }
      },
      "text/html": [
       "<div>\n",
       "        \n",
       "        \n",
       "            <div id=\"7d35379a-d514-4287-a390-39d18294c233\" class=\"plotly-graph-div\" style=\"height:525px; width:100%;\"></div>\n",
       "            <script type=\"text/javascript\">\n",
       "                require([\"plotly\"], function(Plotly) {\n",
       "                    window.PLOTLYENV=window.PLOTLYENV || {};\n",
       "                    \n",
       "                if (document.getElementById(\"7d35379a-d514-4287-a390-39d18294c233\")) {\n",
       "                    Plotly.newPlot(\n",
       "                        '7d35379a-d514-4287-a390-39d18294c233',\n",
       "                        [{\"marker\": {\"color\": [1033, 845, 691, 675, 659, 512, 509, 498, 481, 404, 334, 322, 315, 312, 285, 265, 264, 264, 262, 261, 260, 258, 252, 251, 250, 246, 245, 240, 240, 231, 228, 228, 226, 222, 220, 215, 213, 213, 212, 210, 198, 197, 195, 193, 192, 189, 187, 183, 183, 180, 178, 178, 176, 175, 172, 170, 170, 167, 166, 166, 166, 163, 163, 163, 162, 159, 158, 157, 157, 157, 156, 154, 153, 150, 149, 148, 146, 144, 144, 143, 140, 139, 138, 137, 137, 136, 134, 133, 132, 132, 129, 128, 128, 127, 126, 125, 125, 124, 123, 122], \"colorscale\": [[0.0, \"#440154\"], [0.1111111111111111, \"#482878\"], [0.2222222222222222, \"#3e4989\"], [0.3333333333333333, \"#31688e\"], [0.4444444444444444, \"#26828e\"], [0.5555555555555556, \"#1f9e89\"], [0.6666666666666666, \"#35b779\"], [0.7777777777777778, \"#6ece58\"], [0.8888888888888888, \"#b5de2b\"], [1.0, \"#fde725\"]]}, \"text\": \"Word counts\", \"type\": \"bar\", \"x\": [\"learn\", \"amp\", \"cdc\", \"help\", \"health\", \"people\", \"spread\", \"new\", \"covid\", \"protect\", \"use\", \"get\", \"u\", \"risk\", \"public\", \"case\", \"state\", \"take\", \"canada\", \"today\", \"report\", \"may\", \"data\", \"see\", \"one\", \"community\", \"hand\", \"stay\", \"child\", \"outbreak\", \"others\", \"time\", \"disease\", \"know\", \"find\", \"face\", \"prevent\", \"flu\", \"family\", \"like\", \"home\", \"make\", \"check\", \"visit\", \"update\", \"need\", \"tip\", \"year\", \"care\", \"keep\"], \"y\": [1033, 845, 691, 675, 659, 512, 509, 498, 481, 404, 334, 322, 315, 312, 285, 265, 264, 264, 262, 261, 260, 258, 252, 251, 250, 246, 245, 240, 240, 231, 228, 228, 226, 222, 220, 215, 213, 213, 212, 210, 198, 197, 195, 193, 192, 189, 187, 183, 183, 180]}],\n",
       "                        {\"template\": {\"data\": {\"bar\": [{\"error_x\": {\"color\": \"#2a3f5f\"}, \"error_y\": {\"color\": \"#2a3f5f\"}, \"marker\": {\"line\": {\"color\": \"#E5ECF6\", \"width\": 0.5}}, \"type\": \"bar\"}], \"barpolar\": [{\"marker\": {\"line\": {\"color\": \"#E5ECF6\", \"width\": 0.5}}, \"type\": \"barpolar\"}], \"carpet\": [{\"aaxis\": {\"endlinecolor\": \"#2a3f5f\", \"gridcolor\": \"white\", \"linecolor\": \"white\", \"minorgridcolor\": \"white\", \"startlinecolor\": \"#2a3f5f\"}, \"baxis\": {\"endlinecolor\": \"#2a3f5f\", \"gridcolor\": \"white\", \"linecolor\": \"white\", \"minorgridcolor\": \"white\", \"startlinecolor\": \"#2a3f5f\"}, \"type\": \"carpet\"}], \"choropleth\": [{\"colorbar\": {\"outlinewidth\": 0, \"ticks\": \"\"}, \"type\": \"choropleth\"}], \"contour\": [{\"colorbar\": {\"outlinewidth\": 0, \"ticks\": \"\"}, \"colorscale\": [[0.0, \"#0d0887\"], [0.1111111111111111, \"#46039f\"], [0.2222222222222222, \"#7201a8\"], [0.3333333333333333, \"#9c179e\"], [0.4444444444444444, \"#bd3786\"], [0.5555555555555556, \"#d8576b\"], [0.6666666666666666, \"#ed7953\"], [0.7777777777777778, \"#fb9f3a\"], [0.8888888888888888, \"#fdca26\"], [1.0, \"#f0f921\"]], \"type\": \"contour\"}], \"contourcarpet\": [{\"colorbar\": {\"outlinewidth\": 0, \"ticks\": \"\"}, \"type\": \"contourcarpet\"}], \"heatmap\": [{\"colorbar\": {\"outlinewidth\": 0, \"ticks\": \"\"}, \"colorscale\": [[0.0, \"#0d0887\"], [0.1111111111111111, \"#46039f\"], [0.2222222222222222, \"#7201a8\"], [0.3333333333333333, \"#9c179e\"], [0.4444444444444444, \"#bd3786\"], [0.5555555555555556, \"#d8576b\"], [0.6666666666666666, \"#ed7953\"], [0.7777777777777778, \"#fb9f3a\"], [0.8888888888888888, \"#fdca26\"], [1.0, \"#f0f921\"]], \"type\": \"heatmap\"}], \"heatmapgl\": [{\"colorbar\": {\"outlinewidth\": 0, \"ticks\": \"\"}, \"colorscale\": [[0.0, \"#0d0887\"], [0.1111111111111111, \"#46039f\"], [0.2222222222222222, \"#7201a8\"], [0.3333333333333333, \"#9c179e\"], [0.4444444444444444, \"#bd3786\"], [0.5555555555555556, \"#d8576b\"], [0.6666666666666666, \"#ed7953\"], [0.7777777777777778, \"#fb9f3a\"], [0.8888888888888888, \"#fdca26\"], [1.0, \"#f0f921\"]], \"type\": \"heatmapgl\"}], \"histogram\": [{\"marker\": {\"colorbar\": {\"outlinewidth\": 0, \"ticks\": \"\"}}, \"type\": \"histogram\"}], \"histogram2d\": [{\"colorbar\": {\"outlinewidth\": 0, \"ticks\": \"\"}, \"colorscale\": [[0.0, \"#0d0887\"], [0.1111111111111111, \"#46039f\"], [0.2222222222222222, \"#7201a8\"], [0.3333333333333333, \"#9c179e\"], [0.4444444444444444, \"#bd3786\"], [0.5555555555555556, \"#d8576b\"], [0.6666666666666666, \"#ed7953\"], [0.7777777777777778, \"#fb9f3a\"], [0.8888888888888888, \"#fdca26\"], [1.0, \"#f0f921\"]], \"type\": \"histogram2d\"}], \"histogram2dcontour\": [{\"colorbar\": {\"outlinewidth\": 0, \"ticks\": \"\"}, \"colorscale\": [[0.0, \"#0d0887\"], [0.1111111111111111, \"#46039f\"], [0.2222222222222222, \"#7201a8\"], [0.3333333333333333, \"#9c179e\"], [0.4444444444444444, \"#bd3786\"], [0.5555555555555556, \"#d8576b\"], [0.6666666666666666, \"#ed7953\"], [0.7777777777777778, \"#fb9f3a\"], [0.8888888888888888, \"#fdca26\"], [1.0, \"#f0f921\"]], \"type\": \"histogram2dcontour\"}], \"mesh3d\": [{\"colorbar\": {\"outlinewidth\": 0, \"ticks\": \"\"}, \"type\": \"mesh3d\"}], \"parcoords\": [{\"line\": {\"colorbar\": {\"outlinewidth\": 0, \"ticks\": \"\"}}, \"type\": \"parcoords\"}], \"pie\": [{\"automargin\": true, \"type\": \"pie\"}], \"scatter\": [{\"marker\": {\"colorbar\": {\"outlinewidth\": 0, \"ticks\": \"\"}}, \"type\": \"scatter\"}], \"scatter3d\": [{\"line\": {\"colorbar\": {\"outlinewidth\": 0, \"ticks\": \"\"}}, \"marker\": {\"colorbar\": {\"outlinewidth\": 0, \"ticks\": \"\"}}, \"type\": \"scatter3d\"}], \"scattercarpet\": [{\"marker\": {\"colorbar\": {\"outlinewidth\": 0, \"ticks\": \"\"}}, \"type\": \"scattercarpet\"}], \"scattergeo\": [{\"marker\": {\"colorbar\": {\"outlinewidth\": 0, \"ticks\": \"\"}}, \"type\": \"scattergeo\"}], \"scattergl\": [{\"marker\": {\"colorbar\": {\"outlinewidth\": 0, \"ticks\": \"\"}}, \"type\": \"scattergl\"}], \"scattermapbox\": [{\"marker\": {\"colorbar\": {\"outlinewidth\": 0, \"ticks\": \"\"}}, \"type\": \"scattermapbox\"}], \"scatterpolar\": [{\"marker\": {\"colorbar\": {\"outlinewidth\": 0, \"ticks\": \"\"}}, \"type\": \"scatterpolar\"}], \"scatterpolargl\": [{\"marker\": {\"colorbar\": {\"outlinewidth\": 0, \"ticks\": \"\"}}, \"type\": \"scatterpolargl\"}], \"scatterternary\": [{\"marker\": {\"colorbar\": {\"outlinewidth\": 0, \"ticks\": \"\"}}, \"type\": \"scatterternary\"}], \"surface\": [{\"colorbar\": {\"outlinewidth\": 0, \"ticks\": \"\"}, \"colorscale\": [[0.0, \"#0d0887\"], [0.1111111111111111, \"#46039f\"], [0.2222222222222222, \"#7201a8\"], [0.3333333333333333, \"#9c179e\"], [0.4444444444444444, \"#bd3786\"], [0.5555555555555556, \"#d8576b\"], [0.6666666666666666, \"#ed7953\"], [0.7777777777777778, \"#fb9f3a\"], [0.8888888888888888, \"#fdca26\"], [1.0, \"#f0f921\"]], \"type\": \"surface\"}], \"table\": [{\"cells\": {\"fill\": {\"color\": \"#EBF0F8\"}, \"line\": {\"color\": \"white\"}}, \"header\": {\"fill\": {\"color\": \"#C8D4E3\"}, \"line\": {\"color\": \"white\"}}, \"type\": \"table\"}]}, \"layout\": {\"annotationdefaults\": {\"arrowcolor\": \"#2a3f5f\", \"arrowhead\": 0, \"arrowwidth\": 1}, \"coloraxis\": {\"colorbar\": {\"outlinewidth\": 0, \"ticks\": \"\"}}, \"colorscale\": {\"diverging\": [[0, \"#8e0152\"], [0.1, \"#c51b7d\"], [0.2, \"#de77ae\"], [0.3, \"#f1b6da\"], [0.4, \"#fde0ef\"], [0.5, \"#f7f7f7\"], [0.6, \"#e6f5d0\"], [0.7, \"#b8e186\"], [0.8, \"#7fbc41\"], [0.9, \"#4d9221\"], [1, \"#276419\"]], \"sequential\": [[0.0, \"#0d0887\"], [0.1111111111111111, \"#46039f\"], [0.2222222222222222, \"#7201a8\"], [0.3333333333333333, \"#9c179e\"], [0.4444444444444444, \"#bd3786\"], [0.5555555555555556, \"#d8576b\"], [0.6666666666666666, \"#ed7953\"], [0.7777777777777778, \"#fb9f3a\"], [0.8888888888888888, \"#fdca26\"], [1.0, \"#f0f921\"]], \"sequentialminus\": [[0.0, \"#0d0887\"], [0.1111111111111111, \"#46039f\"], [0.2222222222222222, \"#7201a8\"], [0.3333333333333333, \"#9c179e\"], [0.4444444444444444, \"#bd3786\"], [0.5555555555555556, \"#d8576b\"], [0.6666666666666666, \"#ed7953\"], [0.7777777777777778, \"#fb9f3a\"], [0.8888888888888888, \"#fdca26\"], [1.0, \"#f0f921\"]]}, \"colorway\": [\"#636efa\", \"#EF553B\", \"#00cc96\", \"#ab63fa\", \"#FFA15A\", \"#19d3f3\", \"#FF6692\", \"#B6E880\", \"#FF97FF\", \"#FECB52\"], \"font\": {\"color\": \"#2a3f5f\"}, \"geo\": {\"bgcolor\": \"white\", \"lakecolor\": \"white\", \"landcolor\": \"#E5ECF6\", \"showlakes\": true, \"showland\": true, \"subunitcolor\": \"white\"}, \"hoverlabel\": {\"align\": \"left\"}, \"hovermode\": \"closest\", \"mapbox\": {\"style\": \"light\"}, \"paper_bgcolor\": \"white\", \"plot_bgcolor\": \"#E5ECF6\", \"polar\": {\"angularaxis\": {\"gridcolor\": \"white\", \"linecolor\": \"white\", \"ticks\": \"\"}, \"bgcolor\": \"#E5ECF6\", \"radialaxis\": {\"gridcolor\": \"white\", \"linecolor\": \"white\", \"ticks\": \"\"}}, \"scene\": {\"xaxis\": {\"backgroundcolor\": \"#E5ECF6\", \"gridcolor\": \"white\", \"gridwidth\": 2, \"linecolor\": \"white\", \"showbackground\": true, \"ticks\": \"\", \"zerolinecolor\": \"white\"}, \"yaxis\": {\"backgroundcolor\": \"#E5ECF6\", \"gridcolor\": \"white\", \"gridwidth\": 2, \"linecolor\": \"white\", \"showbackground\": true, \"ticks\": \"\", \"zerolinecolor\": \"white\"}, \"zaxis\": {\"backgroundcolor\": \"#E5ECF6\", \"gridcolor\": \"white\", \"gridwidth\": 2, \"linecolor\": \"white\", \"showbackground\": true, \"ticks\": \"\", \"zerolinecolor\": \"white\"}}, \"shapedefaults\": {\"line\": {\"color\": \"#2a3f5f\"}}, \"ternary\": {\"aaxis\": {\"gridcolor\": \"white\", \"linecolor\": \"white\", \"ticks\": \"\"}, \"baxis\": {\"gridcolor\": \"white\", \"linecolor\": \"white\", \"ticks\": \"\"}, \"bgcolor\": \"#E5ECF6\", \"caxis\": {\"gridcolor\": \"white\", \"linecolor\": \"white\", \"ticks\": \"\"}}, \"title\": {\"x\": 0.05}, \"xaxis\": {\"automargin\": true, \"gridcolor\": \"white\", \"linecolor\": \"white\", \"ticks\": \"\", \"title\": {\"standoff\": 15}, \"zerolinecolor\": \"white\", \"zerolinewidth\": 2}, \"yaxis\": {\"automargin\": true, \"gridcolor\": \"white\", \"linecolor\": \"white\", \"ticks\": \"\", \"title\": {\"standoff\": 15}, \"zerolinecolor\": \"white\", \"zerolinewidth\": 2}}}, \"title\": {\"text\": \"After preprocessing frequent Occuring words\"}},\n",
       "                        {\"responsive\": true}\n",
       "                    ).then(function(){\n",
       "                            \n",
       "var gd = document.getElementById('7d35379a-d514-4287-a390-39d18294c233');\n",
       "var x = new MutationObserver(function (mutations, observer) {{\n",
       "        var display = window.getComputedStyle(gd).display;\n",
       "        if (!display || display === 'none') {{\n",
       "            console.log([gd, 'removed!']);\n",
       "            Plotly.purge(gd);\n",
       "            observer.disconnect();\n",
       "        }}\n",
       "}});\n",
       "\n",
       "// Listen for the removal of the full notebook cells\n",
       "var notebookContainer = gd.closest('#notebook-container');\n",
       "if (notebookContainer) {{\n",
       "    x.observe(notebookContainer, {childList: true});\n",
       "}}\n",
       "\n",
       "// Listen for the clearing of the current output cell\n",
       "var outputEl = gd.closest('.output');\n",
       "if (outputEl) {{\n",
       "    x.observe(outputEl, {childList: true});\n",
       "}}\n",
       "\n",
       "                        })\n",
       "                };\n",
       "                });\n",
       "            </script>\n",
       "        </div>"
      ]
     },
     "metadata": {},
     "output_type": "display_data"
    }
   ],
   "source": [
    "#bar graph to represent the most frequent words\n",
    "import chart_studio.plotly as py\n",
    "import plotly.graph_objs as go\n",
    "from plotly.offline import download_plotlyjs, init_notebook_mode, plot, iplot\n",
    "init_notebook_mode(connected=True)\n",
    "data = [go.Bar(\n",
    "            x = words_list_after.index.values[0:50],\n",
    "            y = words_list_after.values[0:50],\n",
    "            marker= dict(colorscale='Viridis',\n",
    "                         color = words_list_after.values[0:100]\n",
    "                        ),\n",
    "            text='Word counts'\n",
    "    )]\n",
    "\n",
    "layout = go.Layout(\n",
    "    title='After preprocessing frequent Occuring words'\n",
    ")\n",
    "\n",
    "fig = go.Figure(data=data, layout=layout)\n",
    "\n",
    "iplot(fig, filename='basic-bar')"
   ]
  },
  {
   "cell_type": "code",
   "execution_count": 132,
   "metadata": {},
   "outputs": [
    {
     "data": {
      "image/png": "[encoded data removed]",
      "text/plain": [
       "<Figure size 432x288 with 1 Axes>"
      ]
     },
     "metadata": {
      "needs_background": "light"
     },
     "output_type": "display_data"
    }
   ],
   "source": [
    "#Word Cloud to represent the most frequent words\n",
    "from wordcloud import WordCloud\n",
    "wordcloud = WordCloud(background_color='white', max_words = 100).generate_from_frequencies(words_list_after)\n",
    "plt.imshow(wordcloud, interpolation='bilinear')\n",
    "plt.axis(\"off\")\n",
    "plt.show()"
   ]
  },
  {
   "cell_type": "markdown",
   "metadata": {},
   "source": [
    "<h4>Concatenation of tweets and COVID public Dataset</h4>\n",
    "<p> 1. Merged the datasets based on date.</p>"
   ]
  },
  {
   "cell_type": "code",
   "execution_count": 133,
   "metadata": {},
   "outputs": [
    {
     "data": {
      "text/html": [
       "<div>\n",
       "<style scoped>\n",
       "    .dataframe tbody tr th:only-of-type {\n",
       "        vertical-align: middle;\n",
       "    }\n",
       "\n",
       "    .dataframe tbody tr th {\n",
       "        vertical-align: top;\n",
       "    }\n",
       "\n",
       "    .dataframe thead th {\n",
       "        text-align: right;\n",
       "    }\n",
       "</style>\n",
       "<table border=\"1\" class=\"dataframe\">\n",
       "  <thead>\n",
       "    <tr style=\"text-align: right;\">\n",
       "      <th></th>\n",
       "      <th>date</th>\n",
       "      <th>Text</th>\n",
       "      <th>Label</th>\n",
       "    </tr>\n",
       "  </thead>\n",
       "  <tbody>\n",
       "    <tr>\n",
       "      <td>0</td>\n",
       "      <td>2019-11-01</td>\n",
       "      <td>yes wait pixelwatch googlewatch whatever call ...</td>\n",
       "      <td>2</td>\n",
       "    </tr>\n",
       "    <tr>\n",
       "      <td>1</td>\n",
       "      <td>2019-11-01</td>\n",
       "      <td>saviez vous que le de nicotine peut mener une ...</td>\n",
       "      <td>2</td>\n",
       "    </tr>\n",
       "    <tr>\n",
       "      <td>2</td>\n",
       "      <td>2019-11-01</td>\n",
       "      <td>nothing like power outage create opportunity j...</td>\n",
       "      <td>2</td>\n",
       "    </tr>\n",
       "    <tr>\n",
       "      <td>3</td>\n",
       "      <td>2019-11-01</td>\n",
       "      <td>know nicotine lead addiction young people part...</td>\n",
       "      <td>2</td>\n",
       "    </tr>\n",
       "    <tr>\n",
       "      <td>4</td>\n",
       "      <td>2019-11-02</td>\n",
       "      <td>interested specific topic probably dataset art...</td>\n",
       "      <td>2</td>\n",
       "    </tr>\n",
       "    <tr>\n",
       "      <td>...</td>\n",
       "      <td>...</td>\n",
       "      <td>...</td>\n",
       "      <td>...</td>\n",
       "    </tr>\n",
       "    <tr>\n",
       "      <td>4166</td>\n",
       "      <td>2020-10-01</td>\n",
       "      <td>getting important ever join dr dan jernigan ro...</td>\n",
       "      <td>2</td>\n",
       "    </tr>\n",
       "    <tr>\n",
       "      <td>4167</td>\n",
       "      <td>2020-10-01</td>\n",
       "      <td>school administrator use cdc new monitoring ev...</td>\n",
       "      <td>2</td>\n",
       "    </tr>\n",
       "    <tr>\n",
       "      <td>4168</td>\n",
       "      <td>2020-10-01</td>\n",
       "      <td>new report offer snapshot partnership cdc stat...</td>\n",
       "      <td>2</td>\n",
       "    </tr>\n",
       "    <tr>\n",
       "      <td>4169</td>\n",
       "      <td>2020-10-01</td>\n",
       "      <td>hc online virtual escape room tournament begun...</td>\n",
       "      <td>2</td>\n",
       "    </tr>\n",
       "    <tr>\n",
       "      <td>4170</td>\n",
       "      <td>2020-10-01</td>\n",
       "      <td>lockdown measure extreme family lived north it...</td>\n",
       "      <td>2</td>\n",
       "    </tr>\n",
       "  </tbody>\n",
       "</table>\n",
       "<p>4171 rows × 3 columns</p>\n",
       "</div>"
      ],
      "text/plain": [
       "           date                                               Text  Label\n",
       "0    2019-11-01  yes wait pixelwatch googlewatch whatever call ...      2\n",
       "1    2019-11-01  saviez vous que le de nicotine peut mener une ...      2\n",
       "2    2019-11-01  nothing like power outage create opportunity j...      2\n",
       "3    2019-11-01  know nicotine lead addiction young people part...      2\n",
       "4    2019-11-02  interested specific topic probably dataset art...      2\n",
       "...         ...                                                ...    ...\n",
       "4166 2020-10-01  getting important ever join dr dan jernigan ro...      2\n",
       "4167 2020-10-01  school administrator use cdc new monitoring ev...      2\n",
       "4168 2020-10-01  new report offer snapshot partnership cdc stat...      2\n",
       "4169 2020-10-01  hc online virtual escape room tournament begun...      2\n",
       "4170 2020-10-01  lockdown measure extreme family lived north it...      2\n",
       "\n",
       "[4171 rows x 3 columns]"
      ]
     },
     "execution_count": 133,
     "metadata": {},
     "output_type": "execute_result"
    }
   ],
   "source": [
    "final_combined = pd.merge(df_tweets_final, df_public_dataset_final, on='date', how='left')\n",
    "final_combined = final_combined[['date', 'Text', 'Label']]\n",
    "final_combined"
   ]
  },
  {
   "cell_type": "markdown",
   "metadata": {},
   "source": [
    "<h3> Splitting the main dataset into train, development and test sets </h3>"
   ]
  },
  {
   "cell_type": "code",
   "execution_count": 134,
   "metadata": {},
   "outputs": [
    {
     "data": {
      "text/html": [
       "<div>\n",
       "<style scoped>\n",
       "    .dataframe tbody tr th:only-of-type {\n",
       "        vertical-align: middle;\n",
       "    }\n",
       "\n",
       "    .dataframe tbody tr th {\n",
       "        vertical-align: top;\n",
       "    }\n",
       "\n",
       "    .dataframe thead th {\n",
       "        text-align: right;\n",
       "    }\n",
       "</style>\n",
       "<table border=\"1\" class=\"dataframe\">\n",
       "  <thead>\n",
       "    <tr style=\"text-align: right;\">\n",
       "      <th></th>\n",
       "      <th>date</th>\n",
       "      <th>Text</th>\n",
       "      <th>Label</th>\n",
       "    </tr>\n",
       "  </thead>\n",
       "  <tbody>\n",
       "    <tr>\n",
       "      <td>0</td>\n",
       "      <td>2019-11-01</td>\n",
       "      <td>yes wait pixelwatch googlewatch whatever call ...</td>\n",
       "      <td>2</td>\n",
       "    </tr>\n",
       "    <tr>\n",
       "      <td>1</td>\n",
       "      <td>2019-11-01</td>\n",
       "      <td>saviez vous que le de nicotine peut mener une ...</td>\n",
       "      <td>2</td>\n",
       "    </tr>\n",
       "    <tr>\n",
       "      <td>2</td>\n",
       "      <td>2019-11-01</td>\n",
       "      <td>nothing like power outage create opportunity j...</td>\n",
       "      <td>2</td>\n",
       "    </tr>\n",
       "    <tr>\n",
       "      <td>3</td>\n",
       "      <td>2019-11-01</td>\n",
       "      <td>know nicotine lead addiction young people part...</td>\n",
       "      <td>2</td>\n",
       "    </tr>\n",
       "    <tr>\n",
       "      <td>4</td>\n",
       "      <td>2019-11-02</td>\n",
       "      <td>interested specific topic probably dataset art...</td>\n",
       "      <td>2</td>\n",
       "    </tr>\n",
       "    <tr>\n",
       "      <td>...</td>\n",
       "      <td>...</td>\n",
       "      <td>...</td>\n",
       "      <td>...</td>\n",
       "    </tr>\n",
       "    <tr>\n",
       "      <td>1572</td>\n",
       "      <td>2020-04-01</td>\n",
       "      <td>difficult cope fear amp anxiety changing daily...</td>\n",
       "      <td>1</td>\n",
       "    </tr>\n",
       "    <tr>\n",
       "      <td>1573</td>\n",
       "      <td>2020-04-01</td>\n",
       "      <td>correctional detention facility administrator ...</td>\n",
       "      <td>1</td>\n",
       "    </tr>\n",
       "    <tr>\n",
       "      <td>1574</td>\n",
       "      <td>2020-04-01</td>\n",
       "      <td>important canadian information action governme...</td>\n",
       "      <td>1</td>\n",
       "    </tr>\n",
       "    <tr>\n",
       "      <td>1575</td>\n",
       "      <td>2020-04-01</td>\n",
       "      <td>social distancing help slow spread affected co...</td>\n",
       "      <td>1</td>\n",
       "    </tr>\n",
       "    <tr>\n",
       "      <td>1576</td>\n",
       "      <td>2020-04-01</td>\n",
       "      <td>april u state u territory report community spr...</td>\n",
       "      <td>1</td>\n",
       "    </tr>\n",
       "  </tbody>\n",
       "</table>\n",
       "<p>1577 rows × 3 columns</p>\n",
       "</div>"
      ],
      "text/plain": [
       "           date                                               Text  Label\n",
       "0    2019-11-01  yes wait pixelwatch googlewatch whatever call ...      2\n",
       "1    2019-11-01  saviez vous que le de nicotine peut mener une ...      2\n",
       "2    2019-11-01  nothing like power outage create opportunity j...      2\n",
       "3    2019-11-01  know nicotine lead addiction young people part...      2\n",
       "4    2019-11-02  interested specific topic probably dataset art...      2\n",
       "...         ...                                                ...    ...\n",
       "1572 2020-04-01  difficult cope fear amp anxiety changing daily...      1\n",
       "1573 2020-04-01  correctional detention facility administrator ...      1\n",
       "1574 2020-04-01  important canadian information action governme...      1\n",
       "1575 2020-04-01  social distancing help slow spread affected co...      1\n",
       "1576 2020-04-01  april u state u territory report community spr...      1\n",
       "\n",
       "[1577 rows x 3 columns]"
      ]
     },
     "execution_count": 134,
     "metadata": {},
     "output_type": "execute_result"
    }
   ],
   "source": [
    "final_combined_train =  final_combined\n",
    "final_combined_train = final_combined_train[~(final_combined_train['date'] < '2019-11-01')]\n",
    "final_combined_train = final_combined_train[~(final_combined_train['date'] > '2020-04-01')]\n",
    "\n",
    "final_combined_dev = final_combined\n",
    "final_combined_dev = final_combined_dev[~(final_combined_dev['date'] < '2020-04-01')]\n",
    "final_combined_dev = final_combined_dev[~(final_combined_dev['date'] > '2020-09-01')]\n",
    "\n",
    "final_combined_test = final_combined\n",
    "final_combined_test = final_combined_test[~(final_combined_test['date'] < '2020-09-01')]\n",
    "final_combined_test = final_combined_test[~(final_combined_test['date'] > '2020-10-01')]\n",
    "final_combined_train"
   ]
  },
  {
   "cell_type": "markdown",
   "metadata": {},
   "source": [
    "<h3> Feature Engineering: </h3>\n",
    "<h3> Word Embedding (GloVe) </h3>"
   ]
  },
  {
   "cell_type": "code",
   "execution_count": 135,
   "metadata": {},
   "outputs": [
    {
     "data": {
      "text/plain": [
       "(1193514, 200)"
      ]
     },
     "execution_count": 135,
     "metadata": {},
     "output_type": "execute_result"
    }
   ],
   "source": [
    "#loading gensim and importing GloVe\n",
    "from gensim.scripts.glove2word2vec import glove2word2vec\n",
    "glove2word2vec(glove_input_file=\"glove.twitter.27B.200d.txt\", word2vec_output_file=\"gensimglove.twitter.27B.200d.txt.word2vec\")"
   ]
  },
  {
   "cell_type": "code",
   "execution_count": 136,
   "metadata": {},
   "outputs": [],
   "source": [
    "# load the Stanford GloVe model\n",
    "from gensim.models.keyedvectors import KeyedVectors\n",
    "glove_model = KeyedVectors.load_word2vec_format(\"gensimglove.twitter.27B.200d.txt.word2vec\", binary=False)"
   ]
  },
  {
   "cell_type": "code",
   "execution_count": 137,
   "metadata": {},
   "outputs": [],
   "source": [
    "#Converting the words into vectors\n",
    "def feature(df):\n",
    "    ab = []\n",
    "    for i in df['Text']:\n",
    "        bc = [] \n",
    "        for j in i.split():\n",
    "            try:\n",
    "                if j in glove_model.wv.vocab:\n",
    "                    x = glove_model[j]\n",
    "                    bc.append(x)\n",
    "                    y = np.array(bc)\n",
    "            except:\n",
    "                pass\n",
    "        ab.append(y.mean())\n",
    "        z = np.array(ab)\n",
    "    return z"
   ]
  },
  {
   "cell_type": "code",
   "execution_count": 138,
   "metadata": {},
   "outputs": [],
   "source": [
    "#calling the features function\n",
    "final_combined_train_vec = feature(final_combined_train)\n",
    "final_combined_dev_vec = feature(final_combined_dev)\n",
    "final_combined_test_vec = feature(final_combined_test)"
   ]
  },
  {
   "cell_type": "code",
   "execution_count": 139,
   "metadata": {},
   "outputs": [
    {
     "data": {
      "text/plain": [
       "array([[-0.00250757],\n",
       "       [-0.01312397],\n",
       "       [ 0.00362843],\n",
       "       ...,\n",
       "       [ 0.01544002],\n",
       "       [ 0.00120712],\n",
       "       [-0.00292283]], dtype=float32)"
      ]
     },
     "execution_count": 139,
     "metadata": {},
     "output_type": "execute_result"
    }
   ],
   "source": [
    "#reshaping the created vectors \n",
    "final_combined_train_vec = final_combined_train_vec.reshape(len(final_combined_train_vec),1)\n",
    "final_combined_dev_vec = final_combined_dev_vec.reshape(len(final_combined_dev_vec),1)\n",
    "final_combined_test_vec = final_combined_test_vec.reshape(len(final_combined_test_vec),1)\n",
    "final_combined_train_vec"
   ]
  },
  {
   "cell_type": "code",
   "execution_count": 141,
   "metadata": {},
   "outputs": [
    {
     "data": {
      "text/plain": [
       "array([1, 1, 1, 1, 1, 1, 1, 1, 1, 1, 1, 1, 1, 1, 1, 1, 1, 1, 1, 1, 1, 1,\n",
       "       1, 1, 1, 1, 1, 1, 1, 1, 1, 1, 1, 1, 1, 1, 1, 1, 1, 1, 1, 1, 1, 1,\n",
       "       1, 1, 1, 1, 1, 1, 1, 1, 1, 1, 1, 1, 1, 1, 1, 1, 1, 1, 1, 1, 1, 1,\n",
       "       1, 1, 1, 1, 0, 0, 0, 0, 0, 0, 0, 0, 0, 0, 0, 0, 0, 0, 0, 0, 0, 0,\n",
       "       0, 0, 0, 1, 1, 1, 1, 1, 0, 0, 1, 1, 1, 0, 0, 0, 0, 0, 0, 0, 0, 0,\n",
       "       0, 0, 0, 0, 0, 0, 0, 0, 0, 0, 0, 0, 0, 0, 0, 0, 1, 1, 1, 1, 1, 1,\n",
       "       1, 1, 1, 1, 1, 1, 1, 1, 1, 1, 1, 1, 1, 1, 1, 1, 1, 1, 1, 1, 1, 1,\n",
       "       1, 1, 1, 1, 1, 1, 1, 1, 1, 1, 0, 0, 0, 0, 0, 0, 0, 0, 0, 0, 0, 0,\n",
       "       0, 0, 0, 0, 0, 0, 0, 0, 0, 1, 1, 1, 1, 1, 1, 1, 1, 1, 1, 1, 0, 0,\n",
       "       0, 0, 0, 0, 0, 0, 0, 0, 0, 0, 0, 0, 0, 0, 0, 0, 1, 1, 1, 1, 1, 1,\n",
       "       1, 1, 1, 1, 1, 1, 1, 1, 1, 1, 1, 1, 1, 1, 1, 1, 1, 1, 1, 1, 1, 1,\n",
       "       1, 1, 1, 1, 1, 1, 1, 0, 0, 0, 0, 0, 0, 0, 0, 0, 0, 0, 0, 0, 0, 0,\n",
       "       0, 0, 0, 0, 0, 0, 0, 0, 0, 0, 0, 0, 0, 0, 0, 0, 0, 0, 1, 1, 1, 1,\n",
       "       0, 0, 0, 0, 0, 0, 0, 0, 0, 0, 0, 0, 0, 0, 0, 0, 0, 0, 0, 0, 0, 0,\n",
       "       0, 0, 0, 0, 0, 0, 0, 0, 0, 1, 1, 1, 1, 1, 1, 1, 1, 1, 1, 1, 1, 1,\n",
       "       1, 1, 1, 1, 1, 1, 1, 1, 0, 0, 0, 0, 0, 0, 0, 0, 0, 0, 0, 0, 0, 1,\n",
       "       1, 1, 1, 1, 1, 1, 1, 1, 1, 1, 1, 1, 1, 0, 0, 0, 0, 0, 0, 0, 0, 0,\n",
       "       0, 0, 0, 0, 0, 0, 0, 0, 1, 1, 1, 1, 1, 1, 1, 1, 1, 1, 1, 1, 0, 0,\n",
       "       0, 0, 0, 0, 0, 0, 0, 0, 0, 0, 0, 0, 0, 0, 0, 0, 0, 0, 0, 0, 0, 2,\n",
       "       2, 2, 2, 2, 2, 2, 2, 2, 2, 2, 2, 2])"
      ]
     },
     "execution_count": 141,
     "metadata": {},
     "output_type": "execute_result"
    }
   ],
   "source": [
    "#converting the target class into an array\n",
    "final_combined_train_new_y = final_combined_train['Label'].to_numpy()\n",
    "final_combined_dev_new_y = final_combined_dev['Label'].to_numpy()\n",
    "final_combined_test_new_y = final_combined_test['Label'].to_numpy()\n",
    "final_combined_test_new_y"
   ]
  },
  {
   "cell_type": "markdown",
   "metadata": {},
   "source": [
    "<h3> Application of Machine Learning Models: </h3>\n",
    "<h3> Baseline Models: </h3>"
   ]
  },
  {
   "cell_type": "markdown",
   "metadata": {},
   "source": [
    "<h3> Naive Bayes </h3>"
   ]
  },
  {
   "cell_type": "code",
   "execution_count": 142,
   "metadata": {},
   "outputs": [
    {
     "data": {
      "text/plain": [
       "array([2, 2, 2, 2, 2, 2, 2, 2, 2, 2, 2, 2, 2, 2, 2, 2, 2, 2, 2, 2, 2, 2,\n",
       "       2, 2, 2, 2, 2, 2, 2, 2, 2, 2, 2, 2, 2, 2, 2, 2, 2, 2, 2, 2, 2, 2,\n",
       "       2, 2, 2, 2, 1, 2, 2, 2, 2, 2, 2, 2, 2, 2, 2, 2, 2, 2, 2, 2, 2, 2,\n",
       "       2, 2, 2, 2, 2, 2, 2, 2, 2, 2, 2, 2, 2, 2, 2, 2, 2, 1, 2, 2, 2, 2,\n",
       "       2, 2, 2, 2, 2, 2, 2, 1, 2, 2, 2, 2, 2, 2, 2, 2, 2, 2, 2, 2, 2, 2,\n",
       "       2, 2, 2, 2, 2, 2, 2, 2, 2, 2, 2, 2, 2, 2, 2, 2, 2, 2, 2, 2, 2, 2,\n",
       "       2, 2, 2, 2, 2, 2, 2, 2, 2, 2, 2, 1, 2, 2, 2, 2, 2, 2, 2, 2, 2, 2,\n",
       "       2, 2, 2, 2, 2, 2, 2, 2, 2, 2, 2, 2, 2, 2, 2, 1, 2, 2, 2, 2, 2, 2,\n",
       "       2, 2, 2, 2, 2, 2, 2, 2, 2, 2, 2, 2, 2, 2, 2, 2, 2, 1, 2, 2, 2, 2,\n",
       "       2, 2, 2, 2, 2, 2, 2, 2, 2, 2, 2, 2, 2, 2, 2, 2, 2, 2, 2, 2, 2, 2,\n",
       "       2, 2, 2, 2, 2, 2, 2, 2, 2, 2, 2, 2, 2, 2, 2, 2, 2, 2, 2, 2, 2, 2,\n",
       "       2, 2, 2, 2, 2, 2, 2, 2, 2, 2, 1, 2, 2, 2, 2, 2, 2, 2, 2, 2, 2, 2,\n",
       "       2, 2, 2, 2, 2, 2, 2, 2, 2, 2, 2, 2, 2, 2, 2, 2, 2, 2, 2, 2, 2, 2,\n",
       "       2, 2, 2, 2, 2, 2, 2, 2, 2, 2, 2, 2, 2, 2, 2, 2, 2, 2, 2, 2, 2, 2,\n",
       "       2, 2, 2, 2, 2, 2, 2, 2, 2, 2, 2, 2, 2, 2, 2, 2, 2, 2, 2, 2, 2, 2,\n",
       "       2, 2, 2, 2, 2, 2, 2, 2, 2, 2, 2, 2, 2, 2, 2, 2, 2, 2, 2, 2, 2, 2,\n",
       "       2, 2, 2, 2, 2, 2, 2, 2, 2, 2, 2, 2, 2, 2, 2, 2, 2, 2, 2, 2, 2, 2,\n",
       "       2, 2, 2, 2, 2, 2, 2, 2, 2, 2, 2, 2, 2, 2, 2, 2, 2, 2, 2, 2, 2, 2,\n",
       "       2, 2, 2, 2, 2, 2, 2, 2, 2, 2, 2, 2, 2, 2, 2, 2, 2, 2, 2, 2, 2, 2,\n",
       "       2, 2, 2, 2, 2, 2, 2, 2, 2, 2, 2, 2])"
      ]
     },
     "execution_count": 142,
     "metadata": {},
     "output_type": "execute_result"
    }
   ],
   "source": [
    "#importing GaussianNB\n",
    "#Train GaussianNB baseline model\n",
    "#prediction on test dataset with GaussianNB baseline model\n",
    "from sklearn.naive_bayes import GaussianNB\n",
    "classifier = GaussianNB()\n",
    "classifier.fit(final_combined_train_vec, final_combined_train_new_y)\n",
    "pred_NB_baseline = classifier.predict(final_combined_test_vec)\n",
    "pred_NB_baseline"
   ]
  },
  {
   "cell_type": "code",
   "execution_count": 143,
   "metadata": {},
   "outputs": [
    {
     "name": "stdout",
     "output_type": "stream",
     "text": [
      "Accuracy: 0.03953488372093023\n",
      "f1 Score 0.03199888796219071\n"
     ]
    }
   ],
   "source": [
    "#prediction with accuracy and f1 scores for baseline model - NaiveBayes\n",
    "print(\"Accuracy:\",metrics.accuracy_score(final_combined_test_new_y, pred_NB_baseline))\n",
    "print(\"f1 Score\", f1_score(final_combined_test_new_y, pred_NB_baseline,average = \"macro\") )"
   ]
  },
  {
   "cell_type": "markdown",
   "metadata": {},
   "source": [
    "<h3>Random Forest</h3>"
   ]
  },
  {
   "cell_type": "code",
   "execution_count": 144,
   "metadata": {},
   "outputs": [
    {
     "data": {
      "text/plain": [
       "array([1, 2, 2, 2, 2, 2, 0, 2, 0, 2, 2, 2, 2, 2, 2, 2, 2, 1, 2, 0, 2, 2,\n",
       "       2, 1, 2, 1, 2, 1, 2, 1, 2, 1, 2, 2, 2, 2, 2, 2, 2, 2, 1, 2, 1, 0,\n",
       "       2, 1, 2, 2, 2, 1, 2, 2, 2, 1, 2, 2, 2, 2, 0, 1, 0, 0, 0, 2, 2, 1,\n",
       "       2, 2, 2, 1, 0, 1, 2, 2, 2, 0, 2, 2, 2, 1, 2, 1, 0, 2, 2, 0, 2, 2,\n",
       "       2, 1, 2, 1, 1, 2, 1, 2, 2, 2, 2, 2, 2, 2, 2, 2, 0, 2, 2, 2, 0, 2,\n",
       "       0, 2, 2, 0, 0, 2, 0, 2, 2, 0, 2, 1, 2, 2, 2, 2, 1, 1, 2, 2, 2, 2,\n",
       "       2, 2, 2, 2, 1, 0, 0, 2, 1, 2, 1, 2, 0, 2, 2, 1, 1, 0, 2, 2, 2, 2,\n",
       "       1, 1, 2, 2, 2, 2, 0, 1, 0, 2, 1, 2, 2, 2, 0, 2, 2, 1, 1, 1, 0, 2,\n",
       "       1, 1, 0, 2, 2, 2, 2, 2, 2, 0, 2, 0, 0, 2, 2, 0, 2, 2, 1, 2, 2, 1,\n",
       "       2, 2, 2, 0, 1, 1, 2, 1, 2, 1, 1, 1, 2, 0, 2, 2, 1, 2, 1, 2, 2, 2,\n",
       "       2, 2, 1, 0, 2, 2, 2, 2, 2, 1, 1, 2, 2, 2, 1, 2, 2, 2, 0, 2, 0, 0,\n",
       "       0, 2, 2, 0, 0, 2, 0, 1, 0, 1, 2, 2, 1, 1, 2, 0, 0, 2, 2, 2, 2, 2,\n",
       "       0, 2, 2, 0, 1, 2, 2, 1, 2, 0, 2, 2, 1, 2, 0, 2, 1, 2, 0, 0, 0, 2,\n",
       "       0, 2, 2, 1, 2, 2, 2, 0, 0, 2, 1, 0, 2, 2, 1, 0, 2, 2, 1, 0, 2, 0,\n",
       "       2, 0, 2, 2, 0, 2, 2, 0, 1, 1, 1, 1, 2, 0, 2, 2, 2, 0, 2, 2, 1, 2,\n",
       "       0, 1, 2, 2, 0, 1, 2, 2, 2, 1, 2, 1, 0, 1, 1, 2, 0, 1, 0, 2, 2, 2,\n",
       "       0, 0, 2, 0, 2, 1, 2, 1, 1, 2, 1, 2, 2, 2, 2, 2, 2, 2, 1, 1, 0, 1,\n",
       "       1, 2, 0, 1, 2, 2, 2, 2, 2, 2, 0, 2, 2, 2, 1, 2, 2, 0, 1, 2, 2, 2,\n",
       "       2, 0, 2, 1, 1, 2, 2, 2, 2, 2, 1, 2, 2, 2, 1, 0, 1, 1, 2, 2, 2, 2,\n",
       "       2, 1, 2, 2, 2, 0, 2, 2, 2, 2, 0, 0])"
      ]
     },
     "execution_count": 144,
     "metadata": {},
     "output_type": "execute_result"
    }
   ],
   "source": [
    "#importing RandomForest\n",
    "#Train RandomForest baseline model\n",
    "#prediction on test dataset with RandomForest baseline model\n",
    "from sklearn.ensemble import RandomForestClassifier\n",
    "RFclassifier = RandomForestClassifier()\n",
    "RFclassifier.fit(final_combined_train_vec, final_combined_train_new_y)\n",
    "pred_RF_baseline = RFclassifier.predict(final_combined_test_vec)\n",
    "pred_RF_baseline"
   ]
  },
  {
   "cell_type": "code",
   "execution_count": 145,
   "metadata": {},
   "outputs": [
    {
     "name": "stdout",
     "output_type": "stream",
     "text": [
      "Accuracy: 0.22325581395348837\n",
      "f1 Score 0.21777076330594958\n"
     ]
    }
   ],
   "source": [
    "#prediction accuracy and f1 scores for model - RandomForest\n",
    "print(\"Accuracy:\",metrics.accuracy_score(final_combined_test_new_y, pred_RF_baseline))\n",
    "print(\"f1 Score\", f1_score(final_combined_test_new_y, pred_RF_baseline,average = \"macro\") )"
   ]
  },
  {
   "cell_type": "markdown",
   "metadata": {},
   "source": [
    "<h3> Hyperparameter Tuning (Development Dataset): </h3>"
   ]
  },
  {
   "cell_type": "markdown",
   "metadata": {},
   "source": [
    "<h4> RandomForest - Hyper parameter Tuning </h4>"
   ]
  },
  {
   "cell_type": "code",
   "execution_count": 154,
   "metadata": {},
   "outputs": [],
   "source": [
    "criterions = [\"gini\",\"entropy\"]\n",
    "a = {}\n",
    "for max_depth in np.arange(1,30,2):\n",
    "    for min_samples_leaf in np.arange(1,30,2):\n",
    "         for criterion in criterions:\n",
    "                for n_estimators in np.arange(1,200,10):\n",
    "                    RFclassifier_hyper = RandomForestClassifier(max_depth = max_depth, min_samples_leaf = min_samples_leaf, criterion = criterion, n_estimators = n_estimators)\n",
    "                    RFclassifier_hyper.fit(final_combined_train_vec, final_combined_train_new_y)\n",
    "                    pred_dev_rand = RFclassifier_hyper.predict(final_combined_dev_vec)\n",
    "                    acc_scores = metrics.accuracy_score(final_combined_dev_new_y, pred_dev_rand)\n",
    "                    a[acc_scores] = [max_depth, min_samples_leaf, criterion , n_estimators]\n",
    "maxi = max(a)\n",
    "value = a[maxi]"
   ]
  },
  {
   "cell_type": "markdown",
   "metadata": {},
   "source": [
    "<h4> Displaying the best values from hyper parameter tuning for RandomForest </h4>"
   ]
  },
  {
   "cell_type": "code",
   "execution_count": 155,
   "metadata": {},
   "outputs": [
    {
     "name": "stdout",
     "output_type": "stream",
     "text": [
      "0.2658514492753623\n",
      "[29, 3, 'gini', 1]\n"
     ]
    }
   ],
   "source": [
    "print(maxi)\n",
    "print(value)"
   ]
  },
  {
   "cell_type": "markdown",
   "metadata": {},
   "source": [
    "<h4> NaiveBayes - Hyper parameter Tuning </h4>"
   ]
  },
  {
   "cell_type": "code",
   "execution_count": 156,
   "metadata": {},
   "outputs": [],
   "source": [
    "a_nb = {}\n",
    "for var_smoothing in np.arange(1,20,0.1):\n",
    "    NBclassifier_hyper = GaussianNB(var_smoothing = var_smoothing)\n",
    "    NBclassifier_hyper.fit(final_combined_train_vec, final_combined_train_new_y)\n",
    "    pred_dev_nb = NBclassifier_hyper.predict(final_combined_dev_vec)\n",
    "    acc_scores = metrics.accuracy_score(final_combined_dev_new_y, pred_dev_nb)\n",
    "    a_nb[acc_scores] = [var_smoothing]\n",
    "maxi_nb = max(a_nb)\n",
    "value_nb = a_nb[maxi_nb]"
   ]
  },
  {
   "cell_type": "markdown",
   "metadata": {},
   "source": [
    "<h4> Displaying the best values from hyper parameter tuning for NaiveBayes </h4>"
   ]
  },
  {
   "cell_type": "code",
   "execution_count": 157,
   "metadata": {},
   "outputs": [
    {
     "name": "stdout",
     "output_type": "stream",
     "text": [
      "0.0004528985507246377\n",
      "[1.0]\n"
     ]
    }
   ],
   "source": [
    "print(maxi_nb)\n",
    "print(value_nb)"
   ]
  },
  {
   "cell_type": "markdown",
   "metadata": {},
   "source": [
    "<h2> Prediction on the final test set - Model A - RandomForest</h2>"
   ]
  },
  {
   "cell_type": "code",
   "execution_count": 158,
   "metadata": {},
   "outputs": [
    {
     "data": {
      "text/plain": [
       "array([0, 2, 2, 2, 2, 1, 0, 2, 2, 1, 2, 1, 2, 2, 2, 2, 2, 2, 2, 2, 2, 2,\n",
       "       1, 1, 2, 2, 2, 2, 2, 2, 2, 2, 2, 2, 2, 1, 2, 2, 2, 2, 2, 2, 2, 1,\n",
       "       2, 1, 2, 2, 2, 0, 2, 1, 2, 1, 2, 2, 0, 2, 0, 1, 2, 0, 2, 2, 2, 1,\n",
       "       2, 2, 2, 1, 2, 2, 2, 2, 2, 0, 1, 0, 1, 1, 2, 1, 0, 2, 2, 2, 1, 2,\n",
       "       2, 2, 2, 2, 2, 2, 2, 2, 2, 1, 2, 2, 2, 2, 2, 2, 2, 2, 1, 2, 1, 1,\n",
       "       0, 2, 2, 2, 0, 2, 0, 2, 2, 0, 1, 1, 2, 2, 2, 2, 1, 2, 2, 2, 2, 0,\n",
       "       2, 2, 2, 2, 1, 0, 2, 2, 1, 2, 1, 2, 2, 2, 2, 1, 2, 0, 2, 2, 2, 2,\n",
       "       1, 1, 1, 2, 2, 0, 2, 1, 2, 2, 2, 2, 2, 1, 0, 2, 1, 1, 1, 1, 2, 2,\n",
       "       2, 2, 2, 2, 2, 2, 2, 2, 2, 0, 2, 0, 1, 2, 2, 0, 2, 2, 1, 2, 2, 0,\n",
       "       2, 2, 2, 2, 2, 2, 2, 2, 2, 2, 1, 2, 2, 2, 2, 1, 1, 0, 1, 2, 0, 2,\n",
       "       2, 1, 1, 2, 2, 2, 2, 2, 2, 2, 2, 2, 1, 2, 1, 2, 2, 2, 1, 1, 2, 2,\n",
       "       0, 1, 2, 2, 0, 2, 0, 0, 2, 2, 2, 2, 2, 1, 2, 0, 2, 2, 2, 1, 1, 2,\n",
       "       2, 2, 2, 0, 1, 2, 2, 1, 2, 1, 2, 2, 2, 2, 2, 2, 0, 2, 2, 0, 2, 2,\n",
       "       2, 0, 2, 2, 2, 1, 2, 0, 2, 2, 1, 2, 2, 2, 2, 1, 2, 2, 0, 2, 0, 1,\n",
       "       1, 0, 2, 2, 2, 2, 2, 2, 2, 2, 2, 2, 2, 2, 1, 1, 2, 2, 2, 2, 0, 2,\n",
       "       2, 2, 2, 1, 2, 0, 2, 2, 2, 1, 2, 2, 0, 2, 2, 2, 0, 1, 0, 2, 1, 2,\n",
       "       1, 2, 2, 2, 1, 2, 2, 2, 1, 2, 2, 2, 2, 2, 2, 2, 2, 2, 1, 1, 0, 2,\n",
       "       2, 2, 2, 2, 2, 2, 2, 0, 2, 2, 2, 2, 1, 1, 2, 2, 2, 2, 2, 1, 2, 0,\n",
       "       2, 0, 2, 1, 1, 2, 2, 2, 2, 2, 1, 1, 2, 2, 0, 2, 2, 2, 1, 2, 2, 2,\n",
       "       1, 1, 2, 1, 2, 2, 2, 2, 2, 2, 0, 2])"
      ]
     },
     "execution_count": 158,
     "metadata": {},
     "output_type": "execute_result"
    }
   ],
   "source": [
    "#importing RandomForest\n",
    "#Train RandomForest baseline model\n",
    "#prediction on test dataset with RandomForest baseline model\n",
    "RFclassifier_modelA_final = RandomForestClassifier(max_depth = 20, min_samples_leaf = 2, criterion = 'gini' , n_estimators = 1)\n",
    "RFclassifier_modelA_final.fit(final_combined_train_vec, final_combined_train_new_y)\n",
    "pred_RF_Final = RFclassifier_modelA_final.predict(final_combined_test_vec)\n",
    "pred_RF_Final"
   ]
  },
  {
   "cell_type": "code",
   "execution_count": 159,
   "metadata": {},
   "outputs": [
    {
     "name": "stdout",
     "output_type": "stream",
     "text": [
      "Accuracy: 0.17906976744186046\n",
      "f1 Score 0.18235176756077076\n"
     ]
    }
   ],
   "source": [
    "#prediction accuracy and f1 scores for model - RandomForest\n",
    "print(\"Accuracy:\",metrics.accuracy_score(final_combined_test_new_y, pred_RF_Final))\n",
    "print(\"f1 Score\", f1_score(final_combined_test_new_y, pred_RF_Final,average = \"macro\") )"
   ]
  },
  {
   "cell_type": "markdown",
   "metadata": {},
   "source": [
    "<h3>Created a function to label the class attribute based on <i>new_confirmed</i> cases (14 days): </h3>"
   ]
  },
  {
   "cell_type": "code",
   "execution_count": 160,
   "metadata": {},
   "outputs": [
    {
     "data": {
      "text/html": [
       "<div>\n",
       "<style scoped>\n",
       "    .dataframe tbody tr th:only-of-type {\n",
       "        vertical-align: middle;\n",
       "    }\n",
       "\n",
       "    .dataframe tbody tr th {\n",
       "        vertical-align: top;\n",
       "    }\n",
       "\n",
       "    .dataframe thead th {\n",
       "        text-align: right;\n",
       "    }\n",
       "</style>\n",
       "<table border=\"1\" class=\"dataframe\">\n",
       "  <thead>\n",
       "    <tr style=\"text-align: right;\">\n",
       "      <th></th>\n",
       "      <th>date</th>\n",
       "      <th>new_confirmed</th>\n",
       "      <th>Label</th>\n",
       "    </tr>\n",
       "  </thead>\n",
       "  <tbody>\n",
       "    <tr>\n",
       "      <td>0</td>\n",
       "      <td>2019-11-01</td>\n",
       "      <td>0.0</td>\n",
       "      <td>No change on the spread of COVID19</td>\n",
       "    </tr>\n",
       "    <tr>\n",
       "      <td>1</td>\n",
       "      <td>2019-11-02</td>\n",
       "      <td>0.0</td>\n",
       "      <td>No change on the spread of COVID19</td>\n",
       "    </tr>\n",
       "    <tr>\n",
       "      <td>2</td>\n",
       "      <td>2019-11-03</td>\n",
       "      <td>0.0</td>\n",
       "      <td>No change on the spread of COVID19</td>\n",
       "    </tr>\n",
       "    <tr>\n",
       "      <td>3</td>\n",
       "      <td>2019-11-04</td>\n",
       "      <td>0.0</td>\n",
       "      <td>No change on the spread of COVID19</td>\n",
       "    </tr>\n",
       "    <tr>\n",
       "      <td>4</td>\n",
       "      <td>2019-11-05</td>\n",
       "      <td>0.0</td>\n",
       "      <td>No change on the spread of COVID19</td>\n",
       "    </tr>\n",
       "    <tr>\n",
       "      <td>...</td>\n",
       "      <td>...</td>\n",
       "      <td>...</td>\n",
       "      <td>...</td>\n",
       "    </tr>\n",
       "    <tr>\n",
       "      <td>331</td>\n",
       "      <td>2020-09-27</td>\n",
       "      <td>2865.0</td>\n",
       "      <td>No change on the spread of COVID19</td>\n",
       "    </tr>\n",
       "    <tr>\n",
       "      <td>332</td>\n",
       "      <td>2020-09-28</td>\n",
       "      <td>4418.0</td>\n",
       "      <td>No change on the spread of COVID19</td>\n",
       "    </tr>\n",
       "    <tr>\n",
       "      <td>333</td>\n",
       "      <td>2020-09-29</td>\n",
       "      <td>3329.0</td>\n",
       "      <td>No change on the spread of COVID19</td>\n",
       "    </tr>\n",
       "    <tr>\n",
       "      <td>334</td>\n",
       "      <td>2020-09-30</td>\n",
       "      <td>3613.0</td>\n",
       "      <td>No change on the spread of COVID19</td>\n",
       "    </tr>\n",
       "    <tr>\n",
       "      <td>335</td>\n",
       "      <td>2020-10-01</td>\n",
       "      <td>3597.0</td>\n",
       "      <td>No change on the spread of COVID19</td>\n",
       "    </tr>\n",
       "  </tbody>\n",
       "</table>\n",
       "<p>336 rows × 3 columns</p>\n",
       "</div>"
      ],
      "text/plain": [
       "          date  new_confirmed                               Label\n",
       "0   2019-11-01            0.0  No change on the spread of COVID19\n",
       "1   2019-11-02            0.0  No change on the spread of COVID19\n",
       "2   2019-11-03            0.0  No change on the spread of COVID19\n",
       "3   2019-11-04            0.0  No change on the spread of COVID19\n",
       "4   2019-11-05            0.0  No change on the spread of COVID19\n",
       "..         ...            ...                                 ...\n",
       "331 2020-09-27         2865.0  No change on the spread of COVID19\n",
       "332 2020-09-28         4418.0  No change on the spread of COVID19\n",
       "333 2020-09-29         3329.0  No change on the spread of COVID19\n",
       "334 2020-09-30         3613.0  No change on the spread of COVID19\n",
       "335 2020-10-01         3597.0  No change on the spread of COVID19\n",
       "\n",
       "[336 rows x 3 columns]"
      ]
     },
     "execution_count": 160,
     "metadata": {},
     "output_type": "execute_result"
    }
   ],
   "source": [
    "#created a function to create label for the increase/decrease/no change in covid cases\n",
    "df_public_dataset_final2 = df_public_dataset_final\n",
    "Label2 = [] \n",
    "for i in range(len(df_public_dataset_final2)):\n",
    "    if i < len(df_public_dataset_final2) - 15:\n",
    "        if df_public_dataset_final2.iloc[i, 1] < df_public_dataset_final2.iloc[i+15, 1]:\n",
    "            Label2.append(\"Increase the spread of COVID19\")\n",
    "        elif df_public_dataset_final2.iloc[i, 1] > df_public_dataset_final2.iloc[i+15, 1]: \n",
    "            Label2.append(\"Decrease the spread of COVID19\")\n",
    "        else: \n",
    "            Label2.append(\"No change on the spread of COVID19\")\n",
    "    else:\n",
    "        Label2.append(\"No change on the spread of COVID19\")\n",
    "\n",
    "df_public_dataset_final2[\"Label\"] = 0\n",
    "b = 0\n",
    "for j in Label2:\n",
    "    df_public_dataset_final2[\"Label\"][b] = j\n",
    "    b = b + 1\n",
    "    \n",
    "#displaying the final dataset after labelling\n",
    "df_public_dataset_final2"
   ]
  },
  {
   "cell_type": "markdown",
   "metadata": {},
   "source": [
    "<h4>Concatenation of tweets and COVID public Dataset(14 Days)</h4>\n",
    "<p> 1. Merged the datasets based on date.</p>"
   ]
  },
  {
   "cell_type": "code",
   "execution_count": 161,
   "metadata": {},
   "outputs": [
    {
     "data": {
      "text/html": [
       "<div>\n",
       "<style scoped>\n",
       "    .dataframe tbody tr th:only-of-type {\n",
       "        vertical-align: middle;\n",
       "    }\n",
       "\n",
       "    .dataframe tbody tr th {\n",
       "        vertical-align: top;\n",
       "    }\n",
       "\n",
       "    .dataframe thead th {\n",
       "        text-align: right;\n",
       "    }\n",
       "</style>\n",
       "<table border=\"1\" class=\"dataframe\">\n",
       "  <thead>\n",
       "    <tr style=\"text-align: right;\">\n",
       "      <th></th>\n",
       "      <th>date</th>\n",
       "      <th>Text</th>\n",
       "      <th>Label</th>\n",
       "    </tr>\n",
       "  </thead>\n",
       "  <tbody>\n",
       "    <tr>\n",
       "      <td>0</td>\n",
       "      <td>2019-11-01</td>\n",
       "      <td>yes wait pixelwatch googlewatch whatever call ...</td>\n",
       "      <td>No change on the spread of COVID19</td>\n",
       "    </tr>\n",
       "    <tr>\n",
       "      <td>1</td>\n",
       "      <td>2019-11-01</td>\n",
       "      <td>saviez vous que le de nicotine peut mener une ...</td>\n",
       "      <td>No change on the spread of COVID19</td>\n",
       "    </tr>\n",
       "    <tr>\n",
       "      <td>2</td>\n",
       "      <td>2019-11-01</td>\n",
       "      <td>nothing like power outage create opportunity j...</td>\n",
       "      <td>No change on the spread of COVID19</td>\n",
       "    </tr>\n",
       "    <tr>\n",
       "      <td>3</td>\n",
       "      <td>2019-11-01</td>\n",
       "      <td>know nicotine lead addiction young people part...</td>\n",
       "      <td>No change on the spread of COVID19</td>\n",
       "    </tr>\n",
       "    <tr>\n",
       "      <td>4</td>\n",
       "      <td>2019-11-02</td>\n",
       "      <td>interested specific topic probably dataset art...</td>\n",
       "      <td>No change on the spread of COVID19</td>\n",
       "    </tr>\n",
       "    <tr>\n",
       "      <td>...</td>\n",
       "      <td>...</td>\n",
       "      <td>...</td>\n",
       "      <td>...</td>\n",
       "    </tr>\n",
       "    <tr>\n",
       "      <td>4166</td>\n",
       "      <td>2020-10-01</td>\n",
       "      <td>getting important ever join dr dan jernigan ro...</td>\n",
       "      <td>No change on the spread of COVID19</td>\n",
       "    </tr>\n",
       "    <tr>\n",
       "      <td>4167</td>\n",
       "      <td>2020-10-01</td>\n",
       "      <td>school administrator use cdc new monitoring ev...</td>\n",
       "      <td>No change on the spread of COVID19</td>\n",
       "    </tr>\n",
       "    <tr>\n",
       "      <td>4168</td>\n",
       "      <td>2020-10-01</td>\n",
       "      <td>new report offer snapshot partnership cdc stat...</td>\n",
       "      <td>No change on the spread of COVID19</td>\n",
       "    </tr>\n",
       "    <tr>\n",
       "      <td>4169</td>\n",
       "      <td>2020-10-01</td>\n",
       "      <td>hc online virtual escape room tournament begun...</td>\n",
       "      <td>No change on the spread of COVID19</td>\n",
       "    </tr>\n",
       "    <tr>\n",
       "      <td>4170</td>\n",
       "      <td>2020-10-01</td>\n",
       "      <td>lockdown measure extreme family lived north it...</td>\n",
       "      <td>No change on the spread of COVID19</td>\n",
       "    </tr>\n",
       "  </tbody>\n",
       "</table>\n",
       "<p>4171 rows × 3 columns</p>\n",
       "</div>"
      ],
      "text/plain": [
       "           date                                               Text  \\\n",
       "0    2019-11-01  yes wait pixelwatch googlewatch whatever call ...   \n",
       "1    2019-11-01  saviez vous que le de nicotine peut mener une ...   \n",
       "2    2019-11-01  nothing like power outage create opportunity j...   \n",
       "3    2019-11-01  know nicotine lead addiction young people part...   \n",
       "4    2019-11-02  interested specific topic probably dataset art...   \n",
       "...         ...                                                ...   \n",
       "4166 2020-10-01  getting important ever join dr dan jernigan ro...   \n",
       "4167 2020-10-01  school administrator use cdc new monitoring ev...   \n",
       "4168 2020-10-01  new report offer snapshot partnership cdc stat...   \n",
       "4169 2020-10-01  hc online virtual escape room tournament begun...   \n",
       "4170 2020-10-01  lockdown measure extreme family lived north it...   \n",
       "\n",
       "                                   Label  \n",
       "0     No change on the spread of COVID19  \n",
       "1     No change on the spread of COVID19  \n",
       "2     No change on the spread of COVID19  \n",
       "3     No change on the spread of COVID19  \n",
       "4     No change on the spread of COVID19  \n",
       "...                                  ...  \n",
       "4166  No change on the spread of COVID19  \n",
       "4167  No change on the spread of COVID19  \n",
       "4168  No change on the spread of COVID19  \n",
       "4169  No change on the spread of COVID19  \n",
       "4170  No change on the spread of COVID19  \n",
       "\n",
       "[4171 rows x 3 columns]"
      ]
     },
     "execution_count": 161,
     "metadata": {},
     "output_type": "execute_result"
    }
   ],
   "source": [
    "final_combined_14 = pd.merge(df_tweets_final, df_public_dataset_final2, on='date', how='left')\n",
    "final_combined_14 = final_combined_14[['date', 'Text', 'Label']]\n",
    "final_combined_14"
   ]
  },
  {
   "cell_type": "markdown",
   "metadata": {},
   "source": [
    "<h3> Label Encoding on COVID spread Label Column</h3>"
   ]
  },
  {
   "cell_type": "code",
   "execution_count": 162,
   "metadata": {},
   "outputs": [
    {
     "data": {
      "text/html": [
       "<div>\n",
       "<style scoped>\n",
       "    .dataframe tbody tr th:only-of-type {\n",
       "        vertical-align: middle;\n",
       "    }\n",
       "\n",
       "    .dataframe tbody tr th {\n",
       "        vertical-align: top;\n",
       "    }\n",
       "\n",
       "    .dataframe thead th {\n",
       "        text-align: right;\n",
       "    }\n",
       "</style>\n",
       "<table border=\"1\" class=\"dataframe\">\n",
       "  <thead>\n",
       "    <tr style=\"text-align: right;\">\n",
       "      <th></th>\n",
       "      <th>date</th>\n",
       "      <th>Text</th>\n",
       "      <th>Label</th>\n",
       "    </tr>\n",
       "  </thead>\n",
       "  <tbody>\n",
       "    <tr>\n",
       "      <td>0</td>\n",
       "      <td>2019-11-01</td>\n",
       "      <td>yes wait pixelwatch googlewatch whatever call ...</td>\n",
       "      <td>2</td>\n",
       "    </tr>\n",
       "    <tr>\n",
       "      <td>1</td>\n",
       "      <td>2019-11-01</td>\n",
       "      <td>saviez vous que le de nicotine peut mener une ...</td>\n",
       "      <td>2</td>\n",
       "    </tr>\n",
       "    <tr>\n",
       "      <td>2</td>\n",
       "      <td>2019-11-01</td>\n",
       "      <td>nothing like power outage create opportunity j...</td>\n",
       "      <td>2</td>\n",
       "    </tr>\n",
       "    <tr>\n",
       "      <td>3</td>\n",
       "      <td>2019-11-01</td>\n",
       "      <td>know nicotine lead addiction young people part...</td>\n",
       "      <td>2</td>\n",
       "    </tr>\n",
       "    <tr>\n",
       "      <td>4</td>\n",
       "      <td>2019-11-02</td>\n",
       "      <td>interested specific topic probably dataset art...</td>\n",
       "      <td>2</td>\n",
       "    </tr>\n",
       "    <tr>\n",
       "      <td>...</td>\n",
       "      <td>...</td>\n",
       "      <td>...</td>\n",
       "      <td>...</td>\n",
       "    </tr>\n",
       "    <tr>\n",
       "      <td>4166</td>\n",
       "      <td>2020-10-01</td>\n",
       "      <td>getting important ever join dr dan jernigan ro...</td>\n",
       "      <td>2</td>\n",
       "    </tr>\n",
       "    <tr>\n",
       "      <td>4167</td>\n",
       "      <td>2020-10-01</td>\n",
       "      <td>school administrator use cdc new monitoring ev...</td>\n",
       "      <td>2</td>\n",
       "    </tr>\n",
       "    <tr>\n",
       "      <td>4168</td>\n",
       "      <td>2020-10-01</td>\n",
       "      <td>new report offer snapshot partnership cdc stat...</td>\n",
       "      <td>2</td>\n",
       "    </tr>\n",
       "    <tr>\n",
       "      <td>4169</td>\n",
       "      <td>2020-10-01</td>\n",
       "      <td>hc online virtual escape room tournament begun...</td>\n",
       "      <td>2</td>\n",
       "    </tr>\n",
       "    <tr>\n",
       "      <td>4170</td>\n",
       "      <td>2020-10-01</td>\n",
       "      <td>lockdown measure extreme family lived north it...</td>\n",
       "      <td>2</td>\n",
       "    </tr>\n",
       "  </tbody>\n",
       "</table>\n",
       "<p>4171 rows × 3 columns</p>\n",
       "</div>"
      ],
      "text/plain": [
       "           date                                               Text  Label\n",
       "0    2019-11-01  yes wait pixelwatch googlewatch whatever call ...      2\n",
       "1    2019-11-01  saviez vous que le de nicotine peut mener une ...      2\n",
       "2    2019-11-01  nothing like power outage create opportunity j...      2\n",
       "3    2019-11-01  know nicotine lead addiction young people part...      2\n",
       "4    2019-11-02  interested specific topic probably dataset art...      2\n",
       "...         ...                                                ...    ...\n",
       "4166 2020-10-01  getting important ever join dr dan jernigan ro...      2\n",
       "4167 2020-10-01  school administrator use cdc new monitoring ev...      2\n",
       "4168 2020-10-01  new report offer snapshot partnership cdc stat...      2\n",
       "4169 2020-10-01  hc online virtual escape room tournament begun...      2\n",
       "4170 2020-10-01  lockdown measure extreme family lived north it...      2\n",
       "\n",
       "[4171 rows x 3 columns]"
      ]
     },
     "execution_count": 162,
     "metadata": {},
     "output_type": "execute_result"
    }
   ],
   "source": [
    "le_14 = LabelEncoder()\n",
    "final_combined_14.iloc[:,-1] = le_14.fit_transform(final_combined_14.iloc[:,-1])\n",
    "final_combined_14"
   ]
  },
  {
   "cell_type": "markdown",
   "metadata": {},
   "source": [
    "<h3> Splitting the main dataset into train, development and test sets (14 days) </h3>"
   ]
  },
  {
   "cell_type": "code",
   "execution_count": 163,
   "metadata": {},
   "outputs": [
    {
     "data": {
      "text/html": [
       "<div>\n",
       "<style scoped>\n",
       "    .dataframe tbody tr th:only-of-type {\n",
       "        vertical-align: middle;\n",
       "    }\n",
       "\n",
       "    .dataframe tbody tr th {\n",
       "        vertical-align: top;\n",
       "    }\n",
       "\n",
       "    .dataframe thead th {\n",
       "        text-align: right;\n",
       "    }\n",
       "</style>\n",
       "<table border=\"1\" class=\"dataframe\">\n",
       "  <thead>\n",
       "    <tr style=\"text-align: right;\">\n",
       "      <th></th>\n",
       "      <th>date</th>\n",
       "      <th>Text</th>\n",
       "      <th>Label</th>\n",
       "    </tr>\n",
       "  </thead>\n",
       "  <tbody>\n",
       "    <tr>\n",
       "      <td>0</td>\n",
       "      <td>2019-11-01</td>\n",
       "      <td>yes wait pixelwatch googlewatch whatever call ...</td>\n",
       "      <td>2</td>\n",
       "    </tr>\n",
       "    <tr>\n",
       "      <td>1</td>\n",
       "      <td>2019-11-01</td>\n",
       "      <td>saviez vous que le de nicotine peut mener une ...</td>\n",
       "      <td>2</td>\n",
       "    </tr>\n",
       "    <tr>\n",
       "      <td>2</td>\n",
       "      <td>2019-11-01</td>\n",
       "      <td>nothing like power outage create opportunity j...</td>\n",
       "      <td>2</td>\n",
       "    </tr>\n",
       "    <tr>\n",
       "      <td>3</td>\n",
       "      <td>2019-11-01</td>\n",
       "      <td>know nicotine lead addiction young people part...</td>\n",
       "      <td>2</td>\n",
       "    </tr>\n",
       "    <tr>\n",
       "      <td>4</td>\n",
       "      <td>2019-11-02</td>\n",
       "      <td>interested specific topic probably dataset art...</td>\n",
       "      <td>2</td>\n",
       "    </tr>\n",
       "    <tr>\n",
       "      <td>...</td>\n",
       "      <td>...</td>\n",
       "      <td>...</td>\n",
       "      <td>...</td>\n",
       "    </tr>\n",
       "    <tr>\n",
       "      <td>1572</td>\n",
       "      <td>2020-04-01</td>\n",
       "      <td>difficult cope fear amp anxiety changing daily...</td>\n",
       "      <td>1</td>\n",
       "    </tr>\n",
       "    <tr>\n",
       "      <td>1573</td>\n",
       "      <td>2020-04-01</td>\n",
       "      <td>correctional detention facility administrator ...</td>\n",
       "      <td>1</td>\n",
       "    </tr>\n",
       "    <tr>\n",
       "      <td>1574</td>\n",
       "      <td>2020-04-01</td>\n",
       "      <td>important canadian information action governme...</td>\n",
       "      <td>1</td>\n",
       "    </tr>\n",
       "    <tr>\n",
       "      <td>1575</td>\n",
       "      <td>2020-04-01</td>\n",
       "      <td>social distancing help slow spread affected co...</td>\n",
       "      <td>1</td>\n",
       "    </tr>\n",
       "    <tr>\n",
       "      <td>1576</td>\n",
       "      <td>2020-04-01</td>\n",
       "      <td>april u state u territory report community spr...</td>\n",
       "      <td>1</td>\n",
       "    </tr>\n",
       "  </tbody>\n",
       "</table>\n",
       "<p>1577 rows × 3 columns</p>\n",
       "</div>"
      ],
      "text/plain": [
       "           date                                               Text  Label\n",
       "0    2019-11-01  yes wait pixelwatch googlewatch whatever call ...      2\n",
       "1    2019-11-01  saviez vous que le de nicotine peut mener une ...      2\n",
       "2    2019-11-01  nothing like power outage create opportunity j...      2\n",
       "3    2019-11-01  know nicotine lead addiction young people part...      2\n",
       "4    2019-11-02  interested specific topic probably dataset art...      2\n",
       "...         ...                                                ...    ...\n",
       "1572 2020-04-01  difficult cope fear amp anxiety changing daily...      1\n",
       "1573 2020-04-01  correctional detention facility administrator ...      1\n",
       "1574 2020-04-01  important canadian information action governme...      1\n",
       "1575 2020-04-01  social distancing help slow spread affected co...      1\n",
       "1576 2020-04-01  april u state u territory report community spr...      1\n",
       "\n",
       "[1577 rows x 3 columns]"
      ]
     },
     "execution_count": 163,
     "metadata": {},
     "output_type": "execute_result"
    }
   ],
   "source": [
    "final_combined_train_14 =  final_combined_14\n",
    "final_combined_train_14 = final_combined_train_14[~(final_combined_train_14['date'] < '2019-11-01')]\n",
    "final_combined_train_14 = final_combined_train_14[~(final_combined_train_14['date'] > '2020-04-01')]\n",
    "\n",
    "final_combined_dev_14 = final_combined_14\n",
    "final_combined_dev_14 = final_combined_dev_14[~(final_combined_dev_14['date'] < '2020-04-01')]\n",
    "final_combined_dev_14 = final_combined_dev_14[~(final_combined_dev_14['date'] > '2020-09-01')]\n",
    "\n",
    "final_combined_test_14 = final_combined_14\n",
    "final_combined_test_14 = final_combined_test_14[~(final_combined_test_14['date'] < '2020-09-01')]\n",
    "final_combined_test_14 = final_combined_test_14[~(final_combined_test_14['date'] > '2020-10-01')]\n",
    "final_combined_train_14"
   ]
  },
  {
   "cell_type": "markdown",
   "metadata": {},
   "source": [
    "<h3>Converting Word to Vector using GloVe </h3>"
   ]
  },
  {
   "cell_type": "code",
   "execution_count": 164,
   "metadata": {},
   "outputs": [],
   "source": [
    "final_combined_train_vec_14 = feature(final_combined_train_14)\n",
    "final_combined_dev_vec_14 = feature(final_combined_dev_14)\n",
    "final_combined_test_vec_14 = feature(final_combined_test_14)"
   ]
  },
  {
   "cell_type": "code",
   "execution_count": 165,
   "metadata": {},
   "outputs": [
    {
     "data": {
      "text/plain": [
       "array([[-0.00250757],\n",
       "       [-0.01312397],\n",
       "       [ 0.00362843],\n",
       "       ...,\n",
       "       [ 0.01544002],\n",
       "       [ 0.00120712],\n",
       "       [-0.00292283]], dtype=float32)"
      ]
     },
     "execution_count": 165,
     "metadata": {},
     "output_type": "execute_result"
    }
   ],
   "source": [
    "final_combined_train_vec_14 = final_combined_train_vec_14.reshape(len(final_combined_train_vec_14),1)\n",
    "final_combined_dev_vec_14 = final_combined_dev_vec_14.reshape(len(final_combined_dev_vec_14),1)\n",
    "final_combined_test_vec_14 = final_combined_test_vec_14.reshape(len(final_combined_test_vec_14),1)\n",
    "final_combined_train_vec_14"
   ]
  },
  {
   "cell_type": "code",
   "execution_count": 166,
   "metadata": {},
   "outputs": [
    {
     "data": {
      "text/plain": [
       "array([1, 1, 1, 1, 1, 1, 1, 1, 1, 1, 1, 1, 1, 1, 1, 1, 1, 1, 1, 1, 1, 1,\n",
       "       1, 1, 1, 1, 1, 1, 1, 1, 1, 1, 1, 1, 1, 1, 1, 1, 1, 1, 1, 1, 1, 1,\n",
       "       1, 1, 1, 1, 1, 1, 1, 1, 1, 1, 1, 1, 1, 1, 1, 1, 1, 1, 1, 1, 1, 1,\n",
       "       1, 1, 1, 1, 1, 1, 1, 1, 1, 1, 1, 1, 1, 1, 1, 1, 1, 1, 1, 1, 1, 1,\n",
       "       1, 1, 1, 1, 1, 1, 1, 1, 1, 1, 1, 1, 1, 0, 0, 0, 0, 0, 0, 0, 0, 0,\n",
       "       0, 0, 0, 0, 0, 0, 0, 0, 0, 0, 0, 0, 0, 0, 0, 0, 1, 1, 1, 1, 1, 1,\n",
       "       1, 1, 1, 1, 1, 1, 1, 1, 1, 1, 1, 1, 1, 1, 1, 1, 1, 1, 1, 1, 1, 1,\n",
       "       1, 1, 1, 1, 1, 1, 1, 1, 1, 1, 1, 1, 1, 1, 1, 1, 1, 1, 1, 1, 1, 1,\n",
       "       1, 1, 1, 1, 1, 1, 1, 1, 1, 1, 1, 1, 1, 1, 1, 1, 1, 1, 1, 1, 1, 1,\n",
       "       1, 1, 1, 1, 1, 1, 1, 1, 1, 1, 1, 1, 1, 1, 1, 1, 1, 1, 1, 1, 1, 1,\n",
       "       1, 1, 1, 1, 1, 1, 1, 1, 1, 1, 1, 1, 1, 1, 1, 1, 1, 1, 1, 1, 1, 1,\n",
       "       1, 1, 1, 1, 1, 1, 1, 2, 2, 2, 2, 2, 2, 2, 2, 2, 2, 2, 2, 2, 2, 2,\n",
       "       2, 2, 2, 2, 2, 2, 2, 2, 2, 2, 2, 2, 2, 2, 2, 2, 2, 2, 2, 2, 2, 2,\n",
       "       2, 2, 2, 2, 2, 2, 2, 2, 2, 2, 2, 2, 2, 2, 2, 2, 2, 2, 2, 2, 2, 2,\n",
       "       2, 2, 2, 2, 2, 2, 2, 2, 2, 2, 2, 2, 2, 2, 2, 2, 2, 2, 2, 2, 2, 2,\n",
       "       2, 2, 2, 2, 2, 2, 2, 2, 2, 2, 2, 2, 2, 2, 2, 2, 2, 2, 2, 2, 2, 2,\n",
       "       2, 2, 2, 2, 2, 2, 2, 2, 2, 2, 2, 2, 2, 2, 2, 2, 2, 2, 2, 2, 2, 2,\n",
       "       2, 2, 2, 2, 2, 2, 2, 2, 2, 2, 2, 2, 2, 2, 2, 2, 2, 2, 2, 2, 2, 2,\n",
       "       2, 2, 2, 2, 2, 2, 2, 2, 2, 2, 2, 2, 2, 2, 2, 2, 2, 2, 2, 2, 2, 2,\n",
       "       2, 2, 2, 2, 2, 2, 2, 2, 2, 2, 2, 2])"
      ]
     },
     "execution_count": 166,
     "metadata": {},
     "output_type": "execute_result"
    }
   ],
   "source": [
    "final_combined_train_new_y_14 = final_combined_train_14['Label'].to_numpy()\n",
    "final_combined_dev_new_y_14 = final_combined_dev_14['Label'].to_numpy()\n",
    "final_combined_test_new_y_14 = final_combined_test_14['Label'].to_numpy()\n",
    "final_combined_test_new_y_14"
   ]
  },
  {
   "cell_type": "markdown",
   "metadata": {},
   "source": [
    "<h3> Application of Machine Learning Models (14 days): </h3>\n",
    "<h3> Baseline Models: </h3>"
   ]
  },
  {
   "cell_type": "markdown",
   "metadata": {},
   "source": [
    "<h3> Naive Bayes </h3>"
   ]
  },
  {
   "cell_type": "code",
   "execution_count": 178,
   "metadata": {},
   "outputs": [
    {
     "data": {
      "text/plain": [
       "array([1, 1, 1, 2, 2, 1, 2, 2, 2, 1, 2, 1, 2, 2, 1, 2, 2, 1, 2, 2, 1, 1,\n",
       "       2, 1, 2, 1, 2, 2, 2, 2, 2, 1, 2, 2, 2, 1, 2, 1, 2, 2, 2, 1, 2, 2,\n",
       "       2, 1, 1, 2, 1, 1, 1, 1, 2, 1, 2, 1, 1, 1, 1, 2, 1, 2, 2, 1, 2, 1,\n",
       "       2, 2, 2, 2, 1, 2, 1, 1, 2, 2, 1, 2, 1, 1, 2, 1, 1, 1, 2, 1, 1, 2,\n",
       "       2, 2, 1, 2, 1, 1, 1, 1, 2, 1, 1, 2, 1, 2, 2, 2, 2, 2, 1, 1, 2, 2,\n",
       "       1, 2, 2, 2, 1, 1, 2, 1, 2, 1, 2, 2, 1, 1, 2, 1, 1, 2, 2, 2, 2, 1,\n",
       "       2, 2, 2, 1, 1, 1, 2, 2, 2, 2, 2, 1, 2, 2, 1, 1, 2, 1, 2, 2, 2, 1,\n",
       "       1, 2, 1, 2, 1, 1, 2, 2, 2, 2, 1, 2, 2, 2, 1, 1, 1, 2, 1, 2, 1, 1,\n",
       "       1, 1, 2, 2, 2, 2, 2, 2, 2, 1, 1, 1, 1, 2, 2, 2, 2, 1, 1, 1, 2, 2,\n",
       "       2, 2, 2, 2, 2, 1, 1, 2, 1, 2, 1, 1, 2, 1, 2, 2, 1, 2, 2, 1, 1, 2,\n",
       "       1, 1, 2, 2, 1, 1, 1, 2, 1, 2, 2, 2, 2, 2, 1, 2, 2, 2, 1, 2, 1, 2,\n",
       "       1, 2, 2, 2, 1, 2, 2, 1, 2, 2, 1, 2, 2, 2, 1, 1, 2, 2, 2, 2, 2, 2,\n",
       "       2, 2, 1, 1, 2, 1, 2, 2, 1, 2, 2, 2, 2, 2, 2, 2, 1, 1, 2, 1, 2, 1,\n",
       "       2, 2, 1, 2, 1, 1, 2, 1, 2, 1, 2, 2, 2, 2, 2, 1, 1, 2, 2, 1, 1, 1,\n",
       "       2, 1, 2, 1, 2, 2, 1, 1, 2, 1, 1, 2, 2, 2, 2, 2, 2, 2, 2, 1, 1, 2,\n",
       "       2, 2, 2, 2, 2, 2, 1, 2, 2, 1, 1, 2, 1, 2, 2, 2, 2, 1, 1, 2, 1, 2,\n",
       "       2, 2, 1, 2, 1, 1, 2, 2, 1, 2, 1, 2, 1, 1, 2, 2, 1, 2, 1, 2, 1, 2,\n",
       "       2, 2, 2, 2, 1, 1, 1, 1, 1, 1, 2, 2, 1, 1, 2, 2, 2, 1, 2, 1, 1, 1,\n",
       "       1, 1, 2, 1, 1, 1, 2, 2, 1, 2, 2, 2, 2, 2, 1, 1, 2, 2, 2, 2, 2, 1,\n",
       "       1, 2, 1, 2, 2, 1, 1, 1, 1, 2, 1, 2])"
      ]
     },
     "execution_count": 178,
     "metadata": {},
     "output_type": "execute_result"
    }
   ],
   "source": [
    "#importing GaussianNB\n",
    "#Train GaussianNB baseline model\n",
    "#prediction on test dataset with GaussianNB baseline model\n",
    "from sklearn.naive_bayes import GaussianNB\n",
    "classifier = GaussianNB()\n",
    "classifier.fit(final_combined_train_vec_14, final_combined_train_new_y_14)\n",
    "pred_NB_baseline_14 = classifier.predict(final_combined_test_vec_14)\n",
    "pred_NB_baseline_14"
   ]
  },
  {
   "cell_type": "code",
   "execution_count": 211,
   "metadata": {},
   "outputs": [
    {
     "name": "stdout",
     "output_type": "stream",
     "text": [
      "Accuracy: 0.47674418604651164\n",
      "f1 Score 0.327260412361666\n"
     ]
    }
   ],
   "source": [
    "#prediction with accuracy and f1 scores for baseline model - NaiveBayes\n",
    "print(\"Accuracy:\",metrics.accuracy_score(final_combined_test_new_y_14, pred_NB_baseline_14))\n",
    "print(\"f1 Score\", f1_score(final_combined_test_new_y_14, pred_NB_baseline_14,average = \"macro\") )"
   ]
  },
  {
   "cell_type": "markdown",
   "metadata": {},
   "source": [
    "<h3>Random Forest</h3>"
   ]
  },
  {
   "cell_type": "code",
   "execution_count": 212,
   "metadata": {},
   "outputs": [
    {
     "data": {
      "text/plain": [
       "array([1, 1, 2, 2, 2, 2, 1, 2, 1, 2, 2, 1, 1, 2, 2, 2, 2, 1, 2, 1, 2, 2,\n",
       "       2, 1, 2, 1, 2, 1, 2, 1, 2, 1, 2, 2, 2, 2, 2, 2, 2, 2, 1, 2, 1, 1,\n",
       "       1, 1, 2, 2, 2, 1, 2, 2, 1, 1, 2, 1, 2, 2, 1, 2, 1, 1, 1, 2, 2, 1,\n",
       "       2, 1, 2, 1, 1, 1, 2, 2, 2, 1, 2, 2, 2, 1, 2, 1, 0, 2, 2, 1, 2, 2,\n",
       "       2, 1, 2, 1, 1, 2, 1, 2, 2, 2, 1, 2, 2, 2, 2, 1, 1, 2, 2, 2, 1, 1,\n",
       "       1, 2, 2, 1, 0, 2, 1, 2, 2, 1, 2, 1, 2, 2, 2, 2, 1, 1, 2, 2, 1, 1,\n",
       "       2, 1, 1, 2, 1, 1, 1, 2, 1, 2, 1, 2, 1, 1, 2, 1, 1, 1, 2, 1, 2, 2,\n",
       "       0, 1, 2, 2, 2, 2, 0, 1, 1, 2, 1, 2, 1, 1, 1, 2, 1, 1, 1, 1, 0, 2,\n",
       "       2, 1, 0, 2, 2, 2, 2, 2, 1, 1, 2, 0, 1, 2, 2, 1, 2, 2, 1, 2, 2, 1,\n",
       "       2, 1, 2, 0, 1, 1, 2, 1, 2, 1, 1, 1, 1, 0, 2, 2, 1, 2, 2, 2, 2, 2,\n",
       "       1, 2, 1, 1, 2, 1, 1, 2, 2, 2, 1, 1, 2, 2, 1, 2, 2, 2, 1, 2, 0, 1,\n",
       "       0, 2, 2, 1, 1, 2, 1, 1, 1, 1, 2, 1, 1, 1, 2, 1, 1, 2, 2, 1, 2, 2,\n",
       "       1, 2, 2, 0, 1, 1, 2, 1, 2, 0, 2, 2, 1, 2, 0, 2, 1, 2, 0, 1, 1, 2,\n",
       "       1, 2, 2, 1, 2, 1, 1, 1, 1, 2, 1, 1, 2, 2, 1, 0, 2, 2, 1, 1, 2, 0,\n",
       "       2, 0, 2, 2, 1, 1, 2, 0, 1, 1, 1, 1, 2, 1, 2, 2, 1, 0, 2, 2, 1, 2,\n",
       "       0, 1, 2, 1, 1, 2, 2, 2, 2, 1, 2, 1, 1, 1, 1, 1, 1, 1, 1, 2, 2, 2,\n",
       "       0, 1, 2, 0, 2, 1, 2, 1, 1, 1, 1, 2, 2, 2, 1, 2, 2, 2, 1, 1, 0, 1,\n",
       "       1, 2, 1, 1, 2, 2, 2, 2, 2, 2, 1, 2, 2, 2, 1, 2, 2, 0, 1, 2, 1, 1,\n",
       "       2, 1, 1, 1, 1, 2, 2, 2, 2, 1, 2, 2, 2, 1, 1, 1, 1, 1, 2, 2, 1, 2,\n",
       "       1, 1, 1, 2, 2, 0, 1, 1, 1, 2, 1, 1])"
      ]
     },
     "execution_count": 212,
     "metadata": {},
     "output_type": "execute_result"
    }
   ],
   "source": [
    "#importing RandomForest\n",
    "#Train RandomForest baseline model\n",
    "#prediction on test dataset with RandomForest baseline model\n",
    "RFclassifier_14 = RandomForestClassifier()\n",
    "RFclassifier_14.fit(final_combined_train_vec_14, final_combined_train_new_y_14)\n",
    "pred_RF_baseline_14 = RFclassifier_14.predict(final_combined_test_vec_14)\n",
    "pred_RF_baseline_14"
   ]
  },
  {
   "cell_type": "code",
   "execution_count": 213,
   "metadata": {},
   "outputs": [
    {
     "name": "stdout",
     "output_type": "stream",
     "text": [
      "Accuracy: 0.413953488372093\n",
      "f1 Score 0.3042288406848353\n"
     ]
    }
   ],
   "source": [
    "#prediction accuracy and f1 scores for model - RandomForest\n",
    "print(\"Accuracy:\",metrics.accuracy_score(final_combined_test_new_y_14, pred_RF_baseline_14))\n",
    "print(\"f1 Score\", f1_score(final_combined_test_new_y_14, pred_RF_baseline_14,average = \"macro\") )"
   ]
  },
  {
   "cell_type": "markdown",
   "metadata": {},
   "source": [
    "<h3> Hyperparameter Tuning - 14 days (Development Dataset): </h3>"
   ]
  },
  {
   "cell_type": "markdown",
   "metadata": {},
   "source": [
    "<h4> RandomForest - Hyper parameter Tuning </h4>"
   ]
  },
  {
   "cell_type": "code",
   "execution_count": 183,
   "metadata": {},
   "outputs": [],
   "source": [
    "criterions = [\"gini\",\"entropy\"]\n",
    "a_14 = {}\n",
    "for max_depth in np.arange(28,30,1):\n",
    "    for min_samples_leaf in np.arange(1,5,1):\n",
    "         for criterion in criterions:\n",
    "                for n_estimators in np.arange(1,10,10):\n",
    "                    RFclassifier_hyper = RandomForestClassifier(max_depth = max_depth, min_samples_leaf = min_samples_leaf, criterion = criterion, n_estimators = n_estimators, class_weight = \"balanced\")\n",
    "                    RFclassifier_hyper.fit(final_combined_train_vec, final_combined_train_new_y)\n",
    "                    pred_dev_rand = RFclassifier_hyper.predict(final_combined_dev_vec)\n",
    "                    acc_scores = metrics.accuracy_score(final_combined_dev_new_y, pred_dev_rand)\n",
    "                    a_14[acc_scores] = [max_depth, min_samples_leaf, criterion , n_estimators]\n",
    "maxi_14 = max(a_14)\n",
    "value_14 = a_14[maxi_14]"
   ]
  },
  {
   "cell_type": "markdown",
   "metadata": {},
   "source": [
    "<h4> Displaying the best values from hyper parameter tuning for RandomForest </h4>"
   ]
  },
  {
   "cell_type": "code",
   "execution_count": 190,
   "metadata": {},
   "outputs": [
    {
     "name": "stdout",
     "output_type": "stream",
     "text": [
      "0.3319746376811594\n",
      "[28, 2, 'entropy', 1]\n"
     ]
    }
   ],
   "source": [
    "print(maxi_14)\n",
    "print(value_14)"
   ]
  },
  {
   "cell_type": "markdown",
   "metadata": {},
   "source": [
    "<h4> NaiveBayes - Hyper parameter Tuning </h4>"
   ]
  },
  {
   "cell_type": "code",
   "execution_count": 198,
   "metadata": {},
   "outputs": [],
   "source": [
    "a_nb_14 = {}\n",
    "for var_smoothing in np.arange(1,30,0.1):\n",
    "    NBclassifier_hyper_14 = GaussianNB(var_smoothing = var_smoothing)\n",
    "    NBclassifier_hyper_14.fit(final_combined_train_vec_14, final_combined_train_new_y_14)\n",
    "    pred_dev_nb_14 = NBclassifier_hyper_14.predict(final_combined_dev_vec_14)\n",
    "    acc_scores = metrics.accuracy_score(final_combined_dev_new_y_14, pred_dev_nb_14)\n",
    "    a_nb_14[acc_scores] = [var_smoothing]\n",
    "maxi_nb_14 = max(a_nb_14)\n",
    "value_nb_14 = a_nb[maxi_nb_14]"
   ]
  },
  {
   "cell_type": "markdown",
   "metadata": {},
   "source": [
    "<h4> Displaying the best values from hyper parameter tuning for NaiveBayes </h4>"
   ]
  },
  {
   "cell_type": "code",
   "execution_count": 199,
   "metadata": {},
   "outputs": [
    {
     "name": "stdout",
     "output_type": "stream",
     "text": [
      "0.4320652173913043\n",
      "[19.900000000000016]\n"
     ]
    }
   ],
   "source": [
    "print(maxi_nb_14)\n",
    "print(value_nb_14)"
   ]
  },
  {
   "cell_type": "markdown",
   "metadata": {},
   "source": [
    "<h2> Prediction on the final test set - Model B - RandomForest</h2>"
   ]
  },
  {
   "cell_type": "code",
   "execution_count": 214,
   "metadata": {},
   "outputs": [
    {
     "data": {
      "text/plain": [
       "array([1, 2, 2, 2, 1, 1, 1, 2, 1, 0, 2, 1, 1, 2, 1, 0, 1, 1, 2, 1, 2, 2,\n",
       "       1, 1, 2, 1, 2, 1, 2, 1, 2, 2, 2, 2, 2, 2, 2, 1, 2, 1, 1, 2, 1, 1,\n",
       "       1, 2, 1, 2, 2, 1, 2, 1, 1, 1, 2, 1, 0, 2, 1, 1, 1, 1, 2, 2, 2, 1,\n",
       "       2, 1, 2, 1, 1, 1, 1, 2, 2, 1, 1, 2, 2, 1, 0, 1, 2, 2, 2, 1, 1, 2,\n",
       "       1, 1, 2, 1, 1, 2, 2, 2, 2, 1, 2, 2, 2, 2, 2, 1, 1, 2, 1, 2, 1, 1,\n",
       "       1, 1, 2, 1, 1, 1, 1, 1, 0, 1, 1, 1, 2, 1, 2, 1, 1, 1, 2, 2, 1, 2,\n",
       "       2, 2, 1, 1, 1, 1, 1, 2, 2, 2, 1, 2, 1, 2, 2, 2, 1, 1, 1, 1, 2, 2,\n",
       "       1, 1, 1, 2, 2, 1, 2, 1, 1, 1, 1, 2, 2, 1, 1, 2, 1, 1, 1, 1, 0, 2,\n",
       "       2, 1, 2, 2, 2, 2, 2, 2, 1, 2, 2, 1, 2, 2, 2, 1, 2, 2, 1, 2, 2, 1,\n",
       "       1, 1, 2, 0, 2, 2, 1, 1, 2, 1, 1, 1, 2, 1, 2, 2, 2, 2, 1, 2, 2, 2,\n",
       "       2, 2, 1, 1, 2, 0, 1, 2, 0, 1, 1, 2, 1, 2, 0, 2, 1, 2, 1, 2, 2, 1,\n",
       "       1, 1, 2, 1, 1, 2, 1, 1, 1, 1, 2, 1, 2, 1, 2, 1, 2, 0, 2, 1, 2, 2,\n",
       "       1, 2, 2, 2, 2, 0, 2, 1, 1, 0, 2, 2, 1, 1, 2, 2, 1, 2, 0, 1, 1, 2,\n",
       "       2, 2, 1, 1, 2, 1, 2, 1, 2, 1, 1, 2, 2, 2, 2, 2, 2, 2, 1, 1, 0, 2,\n",
       "       1, 2, 2, 2, 1, 1, 1, 2, 1, 1, 1, 1, 2, 1, 1, 1, 1, 2, 2, 1, 0, 2,\n",
       "       2, 2, 2, 1, 1, 2, 2, 1, 2, 1, 2, 2, 1, 1, 1, 2, 1, 0, 1, 2, 1, 2,\n",
       "       0, 1, 1, 0, 2, 1, 1, 2, 1, 1, 2, 2, 2, 2, 2, 2, 2, 2, 1, 1, 2, 1,\n",
       "       2, 2, 1, 1, 2, 2, 2, 2, 2, 1, 1, 2, 1, 1, 0, 1, 2, 1, 1, 2, 2, 1,\n",
       "       1, 1, 2, 1, 1, 2, 2, 2, 2, 1, 2, 1, 2, 1, 1, 2, 1, 1, 2, 2, 1, 2,\n",
       "       1, 2, 2, 1, 1, 2, 2, 2, 1, 1, 1, 2])"
      ]
     },
     "execution_count": 214,
     "metadata": {},
     "output_type": "execute_result"
    }
   ],
   "source": [
    "#importing RandomForest\n",
    "#Train RandomForest model\n",
    "#prediction on test dataset with RandomForest model\n",
    "RFclassifier_modelA_final_14 = RandomForestClassifier(max_depth = 28, min_samples_leaf = 2, criterion = 'entropy' , n_estimators = 1)\n",
    "RFclassifier_modelA_final_14.fit(final_combined_train_vec_14, final_combined_train_new_y_14)\n",
    "pred_RF_Final_14 = RFclassifier_modelA_final_14.predict(final_combined_test_vec_14)\n",
    "pred_RF_Final_14"
   ]
  },
  {
   "cell_type": "code",
   "execution_count": 216,
   "metadata": {},
   "outputs": [
    {
     "name": "stdout",
     "output_type": "stream",
     "text": [
      "Accuracy: 0.4558139534883721\n",
      "f1 Score 0.33325227832999854\n"
     ]
    }
   ],
   "source": [
    "#prediction accuracy and f1 scores for model - RandomForest\n",
    "print(\"Accuracy:\",metrics.accuracy_score(final_combined_test_new_y_14, pred_RF_Final_14))\n",
    "print(\"f1 Score\", f1_score(final_combined_test_new_y_14, pred_RF_Final_14,average = \"macro\") )"
   ]
  },
  {
   "cell_type": "markdown",
   "metadata": {},
   "source": [
    "<h2> Prediction on the final test set - Model B - Naive Bayes</h2>"
   ]
  },
  {
   "cell_type": "code",
   "execution_count": 217,
   "metadata": {},
   "outputs": [
    {
     "data": {
      "text/plain": [
       "array([1, 1, 1, 1, 1, 1, 1, 1, 1, 1, 1, 1, 1, 1, 1, 1, 1, 1, 1, 1, 1, 1,\n",
       "       1, 1, 1, 1, 1, 1, 1, 1, 1, 1, 1, 1, 1, 1, 1, 1, 1, 1, 1, 1, 1, 1,\n",
       "       1, 1, 1, 1, 1, 1, 1, 1, 1, 1, 1, 1, 1, 1, 1, 1, 1, 1, 1, 1, 1, 1,\n",
       "       1, 1, 1, 1, 1, 1, 1, 1, 1, 1, 1, 1, 1, 1, 1, 1, 1, 1, 1, 1, 1, 1,\n",
       "       1, 1, 1, 1, 1, 1, 1, 1, 1, 1, 1, 1, 1, 1, 1, 1, 1, 1, 1, 1, 1, 1,\n",
       "       1, 1, 1, 1, 1, 1, 1, 1, 1, 1, 1, 1, 1, 1, 1, 1, 1, 1, 1, 1, 1, 1,\n",
       "       1, 1, 1, 1, 1, 1, 1, 1, 1, 1, 1, 1, 1, 1, 1, 1, 1, 1, 1, 1, 1, 1,\n",
       "       1, 1, 1, 1, 1, 1, 1, 1, 1, 1, 1, 1, 1, 1, 1, 1, 1, 1, 1, 1, 1, 1,\n",
       "       1, 1, 1, 1, 1, 1, 1, 1, 1, 1, 1, 1, 1, 1, 1, 1, 1, 1, 1, 1, 1, 1,\n",
       "       1, 1, 1, 1, 1, 1, 1, 1, 1, 1, 1, 1, 1, 1, 1, 1, 1, 1, 1, 1, 1, 1,\n",
       "       1, 1, 1, 1, 1, 1, 1, 1, 1, 1, 1, 1, 1, 1, 1, 1, 1, 1, 1, 1, 1, 1,\n",
       "       1, 1, 1, 1, 1, 1, 1, 1, 1, 1, 1, 1, 1, 1, 1, 1, 1, 1, 1, 1, 1, 1,\n",
       "       1, 1, 1, 1, 1, 1, 1, 1, 1, 1, 1, 1, 1, 1, 1, 1, 1, 1, 1, 1, 1, 1,\n",
       "       1, 1, 1, 1, 1, 1, 1, 1, 1, 1, 1, 1, 1, 1, 1, 1, 1, 1, 1, 1, 1, 1,\n",
       "       1, 1, 1, 1, 1, 1, 1, 1, 1, 1, 1, 1, 1, 1, 1, 1, 1, 1, 1, 1, 1, 1,\n",
       "       1, 1, 1, 1, 1, 1, 1, 1, 1, 1, 1, 1, 1, 1, 1, 1, 1, 1, 1, 1, 1, 1,\n",
       "       1, 1, 1, 1, 1, 1, 1, 1, 1, 1, 1, 1, 1, 1, 1, 1, 1, 1, 1, 1, 1, 1,\n",
       "       1, 1, 1, 1, 1, 1, 1, 1, 1, 1, 1, 1, 1, 1, 1, 1, 1, 1, 1, 1, 1, 1,\n",
       "       1, 1, 1, 1, 1, 1, 1, 1, 1, 1, 1, 1, 1, 1, 1, 1, 1, 1, 1, 1, 1, 1,\n",
       "       1, 1, 1, 1, 1, 1, 1, 1, 1, 1, 1, 1])"
      ]
     },
     "execution_count": 217,
     "metadata": {},
     "output_type": "execute_result"
    }
   ],
   "source": [
    "#importing NaiveBayes\n",
    "#Train RandomForest model\n",
    "#prediction on test dataset with NaiveBayes model\n",
    "NBclassifier_modelA_final_14 = GaussianNB(var_smoothing = 19.9)\n",
    "NBclassifier_modelA_final_14.fit(final_combined_train_vec_14, final_combined_train_new_y_14)\n",
    "pred_NF_Final_14 = NBclassifier_modelA_final_14.predict(final_combined_test_vec_14)\n",
    "pred_NF_Final_14"
   ]
  },
  {
   "cell_type": "code",
   "execution_count": 219,
   "metadata": {},
   "outputs": [
    {
     "name": "stdout",
     "output_type": "stream",
     "text": [
      "Accuracy: 0.5209302325581395\n",
      "f1 Score 0.22083981337480563\n"
     ]
    }
   ],
   "source": [
    "#prediction accuracy and f1 scores for model - NaiveBayes\n",
    "print(\"Accuracy:\",metrics.accuracy_score(final_combined_test_new_y_14, pred_NF_Final_14))\n",
    "print(\"f1 Score\", f1_score(final_combined_test_new_y, pred_NF_Final_14,average = \"macro\") )"
   ]
  }
 ],
 "metadata": {
  "kernelspec": {
   "display_name": "Python 3",
   "language": "python",
   "name": "python3"
  },
  "language_info": {
   "codemirror_mode": {
    "name": "ipython",
    "version": 3
   },
   "file_extension": ".py",
   "mimetype": "text/x-python",
   "name": "python",
   "nbconvert_exporter": "python",
   "pygments_lexer": "ipython3",
   "version": "3.7.4"
  }
 },
 "nbformat": 4,
 "nbformat_minor": 2
}
